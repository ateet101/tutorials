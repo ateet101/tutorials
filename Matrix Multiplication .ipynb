{
 "cells": [
  {
   "cell_type": "code",
   "execution_count": 14,
   "metadata": {
    "collapsed": true
   },
   "outputs": [],
   "source": [
    "from sympy import *\n",
    "import matplotlib.pyplot as plt"
   ]
  },
  {
   "cell_type": "markdown",
   "metadata": {},
   "source": [
    "## Matrix Multiplication"
   ]
  },
  {
   "cell_type": "markdown",
   "metadata": {},
   "source": [
    "Let's take 2 vectors $\\bar u$ $\\bar v$ and place it on a x, y coordinate system\n",
    "\n",
    "\\begin{matrix}\n",
    "\\textrm{Original Coordinates}\n",
    "\\begin{bmatrix}\n",
    "i&j\n",
    "\\end{bmatrix}\n",
    "=\n",
    "\\begin{bmatrix}\n",
    "1&0\\\\\n",
    "0&1\n",
    "\\end{bmatrix}\n",
    "\\end{matrix}\n",
    "\n",
    "A shear matrix is a addition of a multiple of one row or one column to another\n",
    "\\begin{matrix}\n",
    "\\textrm{Shear Coordinates}\n",
    "\\begin{bmatrix}\n",
    "i&j\n",
    "\\end{bmatrix}\n",
    "=\n",
    "\\begin{bmatrix}\n",
    "1&1\\\\\n",
    "0&1\n",
    "\\end{bmatrix}\n",
    "\\end{matrix}\n",
    "\n",
    "A 90 degree rotation matrix rotates the $\\bar j$ vector from coordinates [1,0] to [-1,0]\n",
    "\\begin{matrix}\n",
    "\\textrm{Rotation Matrix}\n",
    "\\begin{bmatrix}\n",
    "i&j\n",
    "\\end{bmatrix}\n",
    "=\n",
    "\\begin{bmatrix}\n",
    "0&-1\\\\\n",
    "1&0\n",
    "\\end{bmatrix}\n",
    "\\end{matrix}"
   ]
  },
  {
   "cell_type": "code",
   "execution_count": 60,
   "metadata": {
    "collapsed": false
   },
   "outputs": [
    {
     "data": {
      "image/png": "[encoded data removed]",
      "text/plain": [
       "<matplotlib.figure.Figure at 0xa376390>"
      ]
     },
     "metadata": {},
     "output_type": "display_data"
    }
   ],
   "source": [
    "o_matrix = Matrix(([1,0],[0,1]))\n",
    "shear_matrix = Matrix(([1,1],[0,1]))\n",
    "rot_matrix = Matrix(([-1,0],[0,1]))\n",
    "fig = plt.figure()\n",
    "\n",
    "ax1 = fig.add_subplot(221)\n",
    "ax1.plot([0,o_matrix[0,0]], [0,o_matrix[1,0]], 'r-')\n",
    "ax1.plot([0,o_matrix[0,1]], [0,o_matrix[1,1]], 'b-')\n",
    "ax1.set_xlim(-3,3)\n",
    "ax1.set_ylim(-3,3)\n",
    "ax1.set_title('Original Matrix')\n",
    "\n",
    "ax2 = fig.add_subplot(222)\n",
    "ax2.plot([0,shear_matrix[0,0]], [0,shear_matrix[1,0]], 'r-')\n",
    "ax2.plot([0,shear_matrix[0,1]], [0,shear_matrix[1,1]], 'b-')\n",
    "ax2.set_xlim(-3,3)\n",
    "ax2.set_ylim(-3,3)\n",
    "ax2.set_title('Shear Matrix')\n",
    "\n",
    "ax3 = fig.add_subplot(223)\n",
    "ax3.plot([0,rot_matrix[0,0]], [0,rot_matrix[1,0]], 'r-')\n",
    "ax3.plot([0,rot_matrix[0,1]], [0,rot_matrix[1,1]], 'b-')\n",
    "ax3.set_xlim(-3,3)\n",
    "ax3.set_ylim(-3,3)\n",
    "ax3.set_title('Rotation Matrix')\n",
    "\n",
    "ax4 = fig.add_subplot(224)\n",
    "#ax4.plot([1,2,3,4], [0,0,1,1], 'g-')\n",
    "\n",
    "\n",
    "plt.tight_layout()\n",
    "fig = plt.gcf()\n",
    "plt.show()"
   ]
  },
  {
   "cell_type": "markdown",
   "metadata": {},
   "source": [
    "Composition Matrix of a rotation and a shear matrix is both multiplied together\n",
    "\\begin{matrix}\n",
    "\\begin{bmatrix}\n",
    "1 & 1\\\\\n",
    "0&1\n",
    "\\end{bmatrix}\n",
    "\\begin{bmatrix}\n",
    "0&-1\\\\\n",
    "1&0\n",
    "\\end{bmatrix}\n",
    "=\n",
    "\\begin{bmatrix}\n",
    "1&-1\\\\\n",
    "1&0\n",
    "\\end{bmatrix}\n",
    "\\end{matrix}\n",
    "\n",
    "\\begin{matrix}\n",
    "\\begin{bmatrix}\n",
    "a&b\\\\\n",
    "c&d\n",
    "\\end{bmatrix}\n",
    "\\begin{bmatrix}\n",
    "e&f\\\\\n",
    "g&h\n",
    "\\end{bmatrix}\n",
    "=\n",
    "\\begin{bmatrix}\n",
    "a*e + b*g & a*f + b*h\\\\\n",
    "c*e + d*g & c*f + d*h\n",
    "\\end{bmatrix}\n",
    "\\end{matrix}"
   ]
  },
  {
   "cell_type": "markdown",
   "metadata": {},
   "source": [
    "The coordinates of a new vector (x,y) can be computed by multiplying the basis vectors i, j in Matrix form to the new vector\n",
    "\n",
    "\\begin{matrix}\n",
    "\\textrm{Original Coordinates}\n",
    "\\begin{bmatrix}\n",
    "i&j\n",
    "\\end{bmatrix}\n",
    "=\n",
    "\\begin{bmatrix}\n",
    "1&0\\\\\n",
    "0&1\n",
    "\\end{bmatrix}\n",
    "\\begin{bmatrix}\n",
    "x\\\\\n",
    "y\n",
    "\\end{bmatrix}\n",
    "=\n",
    "\\begin{bmatrix}\n",
    "1x+0y\\\\\n",
    "0x+1y\n",
    "\\end{bmatrix}\n",
    "\\end{matrix}\n",
    "\n",
    "Any vector (x,y) can be transformed into a new matrix by multiplying the vector by the rotation matrixx, the shear matrix, or both.  The following matrix means that the rotation matrix is being applied first and the shear matrix is being applied seconde\n",
    "\\begin{matrix}\n",
    "\\begin{bmatrix}\n",
    "1 & 1\\\\\n",
    "0&1\n",
    "\\end{bmatrix}\n",
    "\\begin{pmatrix}\n",
    "\\begin{bmatrix}\n",
    "0&-1\\\\\n",
    "1&0\n",
    "\\end{bmatrix}\n",
    "\\begin{bmatrix}\n",
    "x\\\\\n",
    "y\n",
    "\\end{bmatrix}\n",
    "\\end{pmatrix}\n",
    "=\n",
    "\\begin{bmatrix}\n",
    "1&-1\\\\\n",
    "1&0\n",
    "\\end{bmatrix}\n",
    "\\begin{bmatrix}\n",
    "x\\\\\n",
    "y\n",
    "\\end{bmatrix}\n",
    "\\end{matrix}\n",
    "\n",
    "\n"
   ]
  },
  {
   "cell_type": "code",
   "execution_count": 61,
   "metadata": {
    "collapsed": false
   },
   "outputs": [
    {
     "data": {
      "image/png": "[encoded data removed]",
      "text/plain": [
       "<matplotlib.figure.Figure at 0xa065240>"
      ]
     },
     "metadata": {},
     "output_type": "display_data"
    },
    {
     "name": "stdout",
     "output_type": "stream",
     "text": [
      "Original Matrix\n",
      " Matrix([[1, 0], [0, 1]]) \n",
      "Shear Matrix\n",
      " Matrix([[1, 1], [0, 1]]) \n",
      "Rotation Matrix\n",
      " Matrix([[-1, 0], [0, 1]]) \n",
      "Composition Matrix\n",
      " Matrix([[-1, 1], [0, 1]])\n",
      "Original Vector\n",
      " Matrix([[2], [3]]) \n",
      "Vector after Shear Transformation\n",
      " Matrix([[5], [3]]) \n",
      "Vector after Rotation Transformation\n",
      " Matrix([[-2], [3]]) \n",
      "Vector after Shear and Rotation Transformation\n",
      " Matrix([[1], [3]])\n"
     ]
    }
   ],
   "source": [
    "orig_matrix = Matrix(([1,0],[0,1]))\n",
    "shear_matrix = Matrix(([1,1],[0,1]))\n",
    "rot_matrix = Matrix(([-1,0],[0,1]))\n",
    "com_matrix = shear_matrix *(rot_matrix)#Matrix(([1,-1],[1,0]))\n",
    "vector = Matrix(([2,3]))\n",
    "\n",
    "rot_vector = rot_matrix*(vector)#rot_vector = rot_matrix.dot(vector)\n",
    "shear_vector = shear_matrix*(vector) #shear_vector = shear_matrix.dot(vector)\n",
    "shear_rot_vector = shear_matrix*(rot_matrix*vector)#shear_rot_vector = shear_matrix.dot(rot_matrix.dot(vector))\n",
    "com_vector = com_matrix*(vector)#com_vector = com_matrix.dot(vector)\n",
    "\n",
    "fig = plt.figure()\n",
    "\n",
    "ax1 = fig.add_subplot(221)\n",
    "ax1.plot([0,orig_matrix[0,0]], [0,orig_matrix[1,0]], 'r-')\n",
    "ax1.plot([0,orig_matrix[0,1]], [0,orig_matrix[1,1]], 'b-')\n",
    "ax1.plot([0,vector[0]], [0,vector[1]], 'g-')\n",
    "ax1.set_xlim(-3,3)\n",
    "ax1.set_ylim(-3,3)\n",
    "ax1.set_title('Original Matrix')\n",
    "\n",
    "ax2 = fig.add_subplot(222)\n",
    "ax2.plot([0,shear_matrix[0,0]], [0,shear_matrix[1,0]], 'r-')\n",
    "ax2.plot([0,shear_matrix[0,1]], [0,shear_matrix[1,1]], 'b-')\n",
    "ax2.plot([0,shear_vector[0]], [0,shear_vector[1]], 'g-')\n",
    "ax2.set_xlim(-3,3)\n",
    "ax2.set_ylim(-3,3)\n",
    "ax2.set_title('Shear Matrix')\n",
    "\n",
    "ax3 = fig.add_subplot(223)\n",
    "ax3.plot([0,rot_matrix[0,0]], [0,rot_matrix[1,0]], 'r-')\n",
    "ax3.plot([0,rot_matrix[0,1]], [0,rot_matrix[1,1]], 'b-')\n",
    "ax3.plot([0,rot_vector[0]], [0,rot_vector[1]], 'g-')\n",
    "ax3.set_xlim(-3,3)\n",
    "ax3.set_ylim(-3,3)\n",
    "ax3.set_title('Rotation Matrix')\n",
    "\n",
    "ax4 = fig.add_subplot(224)\n",
    "ax4.plot([0,com_matrix[0,0]], [0,com_matrix[1,0]], 'r-')\n",
    "ax4.plot([0,com_matrix[0,1]], [0,com_matrix[1,1]], 'b-')\n",
    "ax4.plot([0,com_vector[0]], [0,com_vector[1]], 'g-')\n",
    "ax4.plot([0,shear_rot_vector[0]], [0,shear_rot_vector[1]], 'g-')\n",
    "\n",
    "ax4.set_xlim(-3,3)\n",
    "ax4.set_ylim(-3,3)\n",
    "ax4.set_title('Composition Matrix')\n",
    "\n",
    "\n",
    "plt.tight_layout()\n",
    "fig = plt.gcf()\n",
    "plt.show()\n",
    "print('Original Matrix\\n', orig_matrix, '\\nShear Matrix\\n', shear_matrix, '\\nRotation Matrix\\n', rot_matrix\n",
    "        ,'\\nComposition Matrix\\n', com_matrix)\n",
    "print('Original Vector\\n', vector, '\\nVector after Shear Transformation\\n', shear_vector, '\\nVector after Rotation Transformation\\n', rot_vector\n",
    "        ,'\\nVector after Shear and Rotation Transformation\\n', com_vector)"
   ]
  },
  {
   "cell_type": "code",
   "execution_count": null,
   "metadata": {
    "collapsed": true
   },
   "outputs": [],
   "source": []
  }
 ],
 "metadata": {
  "kernelspec": {
   "display_name": "Python 3",
   "language": "python",
   "name": "python3"
  },
  "language_info": {
   "codemirror_mode": {
    "name": "ipython",
    "version": 3
   },
   "file_extension": ".py",
   "mimetype": "text/x-python",
   "name": "python",
   "nbconvert_exporter": "python",
   "pygments_lexer": "ipython3",
   "version": "3.6.0"
  }
 },
 "nbformat": 4,
 "nbformat_minor": 2
}
