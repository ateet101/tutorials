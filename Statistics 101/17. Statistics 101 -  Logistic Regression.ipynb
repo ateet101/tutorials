{
 "cells": [
  {
   "cell_type": "code",
   "execution_count": 31,
   "metadata": {},
   "outputs": [],
   "source": [
    "import pandas as pd\n",
    "import seaborn as sns\n",
    "import numpy as np\n",
    "import math\n",
    "import matplotlib.pyplot as plt\n",
    "import random\n",
    "import scipy.stats as ss\n",
    "import scipy.special as sp\n",
    "from sklearn.linear_model import LinearRegression\n",
    "from sklearn.linear_model import LogisticRegression\n",
    "#from scipy.stats import norm, kurtosis, skew\n",
    "import itertools as itt\n",
    "sns.set(rc={'figure.figsize':(11.7,8.27)})\n",
    "import plots\n",
    "import importlib\n",
    "#from pandas_datareader import data, wb\n",
    "import datetime\n",
    "import anovastats\n",
    "#importlib.reload(plots)\n",
    "import statsmodels.api as sm\n",
    "import statsmodels.formula.api as smf\n",
    "import statsmodels.stats.anova as anov"
   ]
  },
  {
   "cell_type": "code",
   "execution_count": 3,
   "metadata": {},
   "outputs": [],
   "source": [
    "credit = pd.read_csv('credit.data',delimiter=',',header=None)\n",
    "credit = credit[[10,15]]\n",
    "credit.columns = [['Fico','Approved']]\n",
    "#credit['Approved'] = credit['Approved'].apply(lambda x: 1 if x == '+' else 0)"
   ]
  },
  {
   "cell_type": "code",
   "execution_count": 4,
   "metadata": {},
   "outputs": [],
   "source": [
    "def approval1(col):\n",
    "    approved = []\n",
    "    for i in col:\n",
    "        if (i>750):\n",
    "            if (random.random() > .1):\n",
    "                approved.append(1)\n",
    "            else:\n",
    "                approved.append(0)\n",
    "        elif (i>700) & (i<751):\n",
    "            if (random.random() > .25):\n",
    "                approved.append(1)\n",
    "            else:\n",
    "                approved.append(0)\n",
    "        elif (i>650) & (i<701):\n",
    "            if (random.random() > .35):\n",
    "                approved.append(1)\n",
    "            else:\n",
    "                approved.append(0)\n",
    "        elif (i>600) & (i<651):\n",
    "            if (random.random() > .4):\n",
    "                approved.append(1)\n",
    "            else:\n",
    "                approved.append(0)\n",
    "        elif (i>500) & (i<601):\n",
    "            if (random.random() > .5):\n",
    "                approved.append(1)\n",
    "            else:\n",
    "                approved.append(0)\n",
    "        else:\n",
    "            approved.append(0)\n",
    "    return approved\n",
    "\n",
    "def approval(i):\n",
    "    approved = []\n",
    "    if (i>750):\n",
    "        if (random.random() > .05):\n",
    "            approved = 1\n",
    "        else:\n",
    "            approved = 0\n",
    "    elif (i>700) & (i<751):\n",
    "        if (random.random() > .15):\n",
    "            approved = 1\n",
    "        else:\n",
    "            approved = 0\n",
    "    elif (i>650) & (i<701):\n",
    "        if (random.random() > .35):\n",
    "            approved = 1\n",
    "        else:\n",
    "            approved = 0\n",
    "    elif (i>600) & (i<651):\n",
    "        if (random.random() > .4):\n",
    "            approved = 1\n",
    "        else:\n",
    "            approved = 0\n",
    "    elif (i>500) & (i<601):\n",
    "        if (random.random() > .5):\n",
    "            approved = 1\n",
    "        else:\n",
    "            approved = 0\n",
    "    else:\n",
    "        approved = 0\n",
    "    return approved"
   ]
  },
  {
   "cell_type": "markdown",
   "metadata": {},
   "source": [
    "# An Introduction\n",
    "## Example: First-Time Home Buyer\n",
    "As a first-time home buyer you are busy organizing your financial records so you can apply for a home mortgage. As part of this process you order a copy of your credit report to chekc for errors and gauge your credit score which can range from 300 to 850. Lenders will factor in your credit score when deciding to approve or not approve you for a mortgage. Turns out your score is 720\n",
    "\n",
    "While doing research you find some raw data online showing 1000 applicant credit scores and whether or not the application was approved\n",
    "\n",
    "Using the data you found, you would like to do the following:\n",
    "1. Develop a model that will provide the probability and the odds of being approved for any given credit score.\n",
    "2. Discover approximately what credit score is associated with a probability of 50% for being approved\n",
    "3. Input your score of 720 into the model to determine the probability and odds of you being approved for a mortgage.\n",
    "4. Determine how improving your credit score from 720 to 750 would effect your probability and odds for being approved for the mortgage"
   ]
  },
  {
   "cell_type": "code",
   "execution_count": 5,
   "metadata": {},
   "outputs": [
    {
     "data": {
      "text/plain": [
       "Text(0.5,1,'Approved vs FICOscore')"
      ]
     },
     "execution_count": 5,
     "metadata": {},
     "output_type": "execute_result"
    },
    {
     "data": {
      "image/png": "[encoded data removed]",
      "text/plain": [
       "<Figure size 504x504 with 1 Axes>"
      ]
     },
     "metadata": {},
     "output_type": "display_data"
    }
   ],
   "source": [
    "creditScore = []\n",
    "for i in range(0,1000):\n",
    "    creditScore.append(random.randrange(350,850))\n",
    "    \n",
    "fico_df = pd.DataFrame({'creditScore': creditScore})\n",
    "fico_df['Approved'] = fico_df['creditScore'].apply(approval)\n",
    "ax = sns.pairplot(x_vars = 'creditScore', y_vars = 'Approved', data = fico_df, size=7)\n",
    "plt.title('Approved vs FICOscore')"
   ]
  },
  {
   "cell_type": "markdown",
   "metadata": {},
   "source": [
    "## What is Logistic Regression\n",
    "- MODEL the probability of an event occurring depending on the values of the independent variables, which can be categorical or numerical\n",
    "- ESTIMATE the probability that an event occurs for a randomly selected observation versus the probability that the event does not occur\n",
    "- PREDICT the effect of a series of variables on a binary response variable\n",
    "- CLASSIFY observations by estimating the probability that an observation is in particular category (such as approved or not being approved)\n",
    "\n",
    "## Why not other regression methods\n",
    "- Simple linear regression is one quantitative variable predicting another\n",
    "- Multiple regression is simple linear regression with more independent variables\n",
    "- Nonlinear regression is still two quantitative variables, but the data is curvlinear\n",
    "\n",
    "Running a typical linear regression in the same way has major problems:\n",
    "- Binary data does not have a normal distribution, which is a condition needed for most other types of regression\n",
    "- Predicted values of the DV can be beyond 0 and 1 which violates the definition of probability\n",
    "- Probabilities are often not linear such as \"U\" shapes where probability is very low or very high at the extremes of x-values (Ex probability of getting the flu is higher if you're very young or very old)"
   ]
  },
  {
   "cell_type": "markdown",
   "metadata": {},
   "source": [
    "# Probability Odd, and Odds Ratiol\n",
    "## Probability Review\n",
    "\\begin{equation}\n",
    "P = \\frac{Outcomes Of Interest}{all Possible Outcomes}\n",
    "\\end{equation}\n",
    "\n",
    "Fair Coin Flip\n",
    "- P(heads) = $\\frac{1}{2} = 0.5$\n",
    "\n",
    "Fair Die Roll\n",
    "- P(1 or 2) = $\\frac{2}{6} = 0.333$\n",
    "\n",
    "Deck of Playing Carde\n",
    "- P(diamond) = $\\frac{13}{52} = 0.25$\n",
    "\n",
    "## What are Odds\n",
    "\\begin{equation}\n",
    "odds = \\frac{P(Occuring)}{P(notOccuring} \\\\\n",
    "odds = \\frac{p}{1-p}\n",
    "\\end{equation}\n",
    "\n",
    "Fair Coin Flip\n",
    "- odds(heads) = $\\frac{0.5}{0.5} = 1$\n",
    "\n",
    "Fair Die Roll\n",
    "- odds(1 or 2) = $\\frac{0.333}{0.666} = \\frac{1}{2} =$ 0.5 or 1:2\n",
    "\n",
    "Deck of Playing Carde\n",
    "- odds(diamond) = $\\frac{0.25}{0.75} = \\frac{1}{3} =$ 0.333 or 1:3\n",
    "\n",
    "## Odds Ration\n",
    "\n",
    "Fair Coin Flip\n",
    "- P(heads) = $\\frac{1}{2} = 0.5$\n",
    "- odds(heads) = $\\frac{0.5}{0.5} = 1$\n",
    "\n",
    "Loaded Coin Flip\n",
    "- P(heads) = $\\frac{7}{10} = 0.7$\n",
    "- odds(heads) = $\\frac{0.7}{0.3} = 2.333$\n",
    "\n",
    "\\begin{equation}\n",
    "oddsRatio = \\frac{odds_1}{odds_0} \\\\\n",
    "oddsRatio = \\frac{\\frac{p_1}{1-p_1}}{\\frac{p_0}{1-p_0}} \\\\\n",
    "oddsRatio = \\frac{\\frac{.7}{.3}}{\\frac{.5}{.5}} = \\frac{.7}{.3}*\\frac{.5}{.5}=\\frac{.35}{.15} = 2.333\n",
    "\\end{equation}\n",
    "\n",
    "The odds of getting \"heads\" on the loaded coin are 2.333x greater than the fair coin\n",
    "\n",
    "## Odds Ratio in Logistic Regression\n",
    "- The odds ratio for a variable in logistic regression represents how the odds change with a 1 unit increase in that variable holding all other variables constant\n",
    "\n",
    "#### Example\n",
    "- Body weight and sleep apnea (two categories: apnea/ no apnea)\n",
    "- Weight variable had an odds ratio of 1.07\n",
    "- This means a one pound increase in weight increases the odds of having sleep apna by 1.07\n",
    "- A ten pound increase in weight increases the odds to 1.98 or almost doubles a persons odds of having sleep apnea and a 20 pound inrease raises the odds to 3.87 or almost 4x greater\n",
    "- This holds true at any point in the weight spectrum\n",
    "\n",
    "## A Warning\n",
    "- It is very important to seperate probability and odds\n",
    "- In the previous example a person gaining 20 pounds increases their odds of sleep apnea by almost a factor of 4 regardless of their starting weight\n",
    "- However the probability of having apnea is lower in people with a lower body weight to begin with\n",
    "- So while the odds are 4x greater, the probability may still be low\n",
    "- Basically what this means is that the odds can have a large magnitude even if the underlying probabilities are low\n",
    "\n",
    "# Logit and Regression Equation\n",
    "## Bringing back Bernoulli\n",
    "- The dependent variable in logistic regression follows the Bernoulli distribution having an unknown probability, p \n",
    "- Remember that the Bernoulli distribution is just a special case of the Binomial distribution where n = 1\n",
    "- Success is \"1\" and failure is \"0\"\n",
    "- So the probability of success is p and failure is q = 1 - p\n",
    "- In logistic regression we are estimating an unknown p for any given linear combination of the independent variables\n",
    "- Therefore we need to link together variables to essentially the Bernoulli distribution; that link is called the logit\n",
    "\n",
    "## What is the Logit\n",
    "\n",
    "In logistic regression we do not know p like we do in Binomial (Bernoulli) distribution problems. The goal of logistic regression is to estimate p for a linear combination of the independent variables. Estimate of p is p-hat $\\hat p$\n",
    "\n",
    "To tie together our linear combination of variables and in essence the Bernoulli distribution we need a function that links them together, or maps the linear combination of variables that could result in any value onto the Bernoulli probability distribution with a domain of 0 to 1. The natural log of the odds ratio, the logit, is that link function\n",
    "\n",
    "$ln(odds) -> ln(\\frac{p}{1-p})$ is the logit(p) OR $ln(p)-ln(1-p)=logit(p)$\n",
    "\n",
    "Reminder: $log_e(x) - ln(x)$"
   ]
  },
  {
   "cell_type": "markdown",
   "metadata": {},
   "source": [
    "## $ln(\\frac{p}{1-p})$ is the logit(p)"
   ]
  },
  {
   "cell_type": "code",
   "execution_count": 6,
   "metadata": {},
   "outputs": [
    {
     "data": {
      "text/plain": [
       "[<matplotlib.lines.Line2D at 0x7f9380b81438>]"
      ]
     },
     "execution_count": 6,
     "metadata": {},
     "output_type": "execute_result"
    },
    {
     "data": {
      "image/png": "[encoded data removed]",
      "text/plain": [
       "<Figure size 432x288 with 1 Axes>"
      ]
     },
     "metadata": {},
     "output_type": "display_data"
    }
   ],
   "source": [
    "x = np.linspace(0,2, 500)\n",
    "y = sp.logit(x)\n",
    "plt.plot(x,y)"
   ]
  },
  {
   "cell_type": "markdown",
   "metadata": {},
   "source": [
    "## What is the Inverse Logit\n",
    "In our logit link function graph, 0 to 1 ran along the x-axis but we want the probabilities to be on the y-axis. We can achieve that by taking the inverse of the logit function\n",
    "\n",
    "\\begin{equation}\n",
    "logit(p) = ln(\\frac{p}{1-p})\n",
    "\\end{equation}\n",
    "\n",
    "where p is between 0 and 1\n",
    "\n",
    "\\begin{equation}\n",
    "logit^{-1}(\\alpha) = \\frac{1}{1+e^{-\\alpha}} = \\frac{e^{\\alpha}}{1+e^{\\alpha}}\n",
    "\\end{equation}\n",
    "where $\\alpha$ = some number\n",
    "\n",
    "In our case, some number will be the linear combination of variables and their coefficients. The inverse-logit will return the probability of being a \"1\" or in the \"event occurs\" group\n",
    "\n",
    "Mean Function:\n",
    "\\begin{equation}\n",
    "\\mu_{y|x} = \\frac{1}{1+e^{-\\alpha}} = \\frac{e^{\\alpha}}{1+e^{\\alpha}}\n",
    "\\end{equation}"
   ]
  },
  {
   "cell_type": "code",
   "execution_count": 7,
   "metadata": {},
   "outputs": [
    {
     "data": {
      "text/plain": [
       "[<matplotlib.lines.Line2D at 0x7f9380ae2908>]"
      ]
     },
     "execution_count": 7,
     "metadata": {},
     "output_type": "execute_result"
    },
    {
     "data": {
      "image/png": "[encoded data removed]",
      "text/plain": [
       "<Figure size 432x288 with 1 Axes>"
      ]
     },
     "metadata": {},
     "output_type": "display_data"
    }
   ],
   "source": [
    "x = np.linspace(0,1, 500)\n",
    "y = sp.logit(x)\n",
    "plt.plot(y,x)"
   ]
  },
  {
   "cell_type": "markdown",
   "metadata": {},
   "source": [
    "## Estimated Regression Equation\n",
    "The natural logarithm of the odds ratio is equivalent to a linear function of the independent variables. The antilog of the logit function allows us to find the estimated regression equation\n",
    "\n",
    "\\begin{equation}\n",
    "logit(p) = ln(\\frac{p}{1-p}) = \\beta_0 + \\beta_1x_1 \\\\\n",
    "\\end{equation}\n",
    "antilog ->\n",
    "\\begin{equation}\n",
    "\\frac{p}{1-p} = e^{\\beta_0 + \\beta_1x_1} \\\\\n",
    "p = e^{\\beta_0 + \\beta_1x_1}(1-p) \\\\\n",
    "p + e^{\\beta_0 + \\beta_1x_1} - e^{\\beta_0 + \\beta_1x_1} *p \\\\\n",
    "p(1 + e^{\\beta_0 + \\beta_1x_1}) = e^{\\beta_0 + \\beta_1x_1} \\\\\n",
    "\\hat p = \\frac{e^{\\beta_0 + \\beta_1x_1}}{1+e^{\\beta_0 + \\beta_1x_1}}\n",
    "\\end{equation}"
   ]
  },
  {
   "cell_type": "markdown",
   "metadata": {},
   "source": [
    "# Estimating the Probability"
   ]
  },
  {
   "cell_type": "code",
   "execution_count": 51,
   "metadata": {},
   "outputs": [
    {
     "name": "stdout",
     "output_type": "stream",
     "text": [
      "Intercept     -0.942751\n",
      "creditScore    0.002435\n",
      "dtype: float64\n"
     ]
    },
    {
     "name": "stderr",
     "output_type": "stream",
     "text": [
      "/usr/lib/python3.6/site-packages/scipy/stats/_distn_infrastructure.py:879: RuntimeWarning: invalid value encountered in greater\n",
      "  return (self.a < x) & (x < self.b)\n",
      "/usr/lib/python3.6/site-packages/scipy/stats/_distn_infrastructure.py:879: RuntimeWarning: invalid value encountered in less\n",
      "  return (self.a < x) & (x < self.b)\n",
      "/usr/lib/python3.6/site-packages/scipy/stats/_distn_infrastructure.py:1821: RuntimeWarning: invalid value encountered in less_equal\n",
      "  cond2 = cond0 & (x <= self.a)\n"
     ]
    }
   ],
   "source": [
    "fico_df.groupby('Approved').count()\n",
    "ss.linregress(fico_df)\n",
    "model = smf.ols('Approved ~ creditScore',data=fico_df).fit()\n",
    "params = model.params\n",
    "slope = params[1]\n",
    "intercept = params[0]\n",
    "print(params)\n",
    "anov.anova_lm(model)\n",
    "a = fico_df['creditScore'] > 0\n",
    "b = fico_df['Approved'] > 0\n",
    "cross = fico_df.groupby([a,b]).count()\n",
    "cr = ss.fisher_exact(cross) # Odds Ratio\n",
    "#sp.expit(cr)"
   ]
  },
  {
   "cell_type": "markdown",
   "metadata": {},
   "source": [
    "\\begin{equation}\n",
    "\\hat p = \\frac{e^{-9.38584 + 0.002361x_1}}{1+e^{-9.38584 + 0.002361x_1}}\n",
    "\\end{equation}\n",
    "\n",
    "$\\hat p$ is the estimated probability of being approved and $x_1$ is a credit score"
   ]
  },
  {
   "cell_type": "code",
   "execution_count": 70,
   "metadata": {},
   "outputs": [
    {
     "name": "stdout",
     "output_type": "stream",
     "text": [
      "p hat (720 Fico Score) = 0.6921558988907615\n",
      " odds (720 Fico Score) = 2.2483974726062717\n",
      "p hat (721 Fico Score) = 0.6926744280045924\n",
      " odds (721 Fico Score) = 2.253878268271614\n",
      "Odds Ratio 1.0024376453594699\n"
     ]
    }
   ],
   "source": [
    "def est_reg_equa(intercept, slope, score):\n",
    "    x = score\n",
    "    p_hat = math.exp(intercept + slope*x)/(1 + math.exp(intercept + slope*x))\n",
    "    odds = p_hat / (1 - p_hat)\n",
    "    return p_hat, odds\n",
    "\n",
    "p_hat_720, odds_720 = est_reg_equa(intercept, slope, 720)\n",
    "p_hat_721, odds_721 = est_reg_equa(intercept, slope, 721)\n",
    "\n",
    "print('p hat (720 Fico Score) = {}\\n odds (720 Fico Score) = {}'.format(p_hat_720, odds_720))\n",
    "print('p hat (721 Fico Score) = {}\\n odds (721 Fico Score) = {}'.format(p_hat_721, odds_721))\n",
    "Odds_Ratio = odds_721/odds_720\n",
    "print('Odds Ratio {}'.format(Odds_Ratio))"
   ]
  },
  {
   "cell_type": "markdown",
   "metadata": {},
   "source": [
    "#### Odds ratio for a 1 point increase in FICO score: $\\frac{2.2484}{2.2539} = 1.002$"
   ]
  },
  {
   "cell_type": "code",
   "execution_count": 53,
   "metadata": {},
   "outputs": [
    {
     "name": "stdout",
     "output_type": "stream",
     "text": [
      "                            OLS Regression Results                            \n",
      "==============================================================================\n",
      "Dep. Variable:               Approved   R-squared:                       0.505\n",
      "Model:                            OLS   Adj. R-squared:                  0.505\n",
      "Method:                 Least Squares   F-statistic:                     1019.\n",
      "Date:                Tue, 15 May 2018   Prob (F-statistic):          1.15e-154\n",
      "Time:                        17:09:40   Log-Likelihood:                -373.96\n",
      "No. Observations:                1000   AIC:                             751.9\n",
      "Df Residuals:                     998   BIC:                             761.7\n",
      "Df Model:                           1                                         \n",
      "Covariance Type:            nonrobust                                         \n",
      "===============================================================================\n",
      "                  coef    std err          t      P>|t|      [0.025      0.975]\n",
      "-------------------------------------------------------------------------------\n",
      "const          -0.9428      0.047    -20.268      0.000      -1.034      -0.851\n",
      "creditScore     0.0024   7.63e-05     31.923      0.000       0.002       0.003\n",
      "==============================================================================\n",
      "Omnibus:                        5.958   Durbin-Watson:                   1.967\n",
      "Prob(Omnibus):                  0.051   Jarque-Bera (JB):                5.891\n",
      "Skew:                          -0.187   Prob(JB):                       0.0526\n",
      "Kurtosis:                       3.046   Cond. No.                     2.55e+03\n",
      "==============================================================================\n",
      "\n",
      "Warnings:\n",
      "[1] Standard Errors assume that the covariance matrix of the errors is correctly specified.\n",
      "[2] The condition number is large, 2.55e+03. This might indicate that there are\n",
      "strong multicollinearity or other numerical problems.\n"
     ]
    }
   ],
   "source": [
    "a = sp.expit(fico_df)\n",
    "import statsmodels.api as sm # import statsmodels \n",
    "\n",
    "X = fico_df[\"creditScore\"] ## X usually means our input variables (or independent variables)\n",
    "y = fico_df[\"Approved\"] ## Y usually means our output/dependent variable\n",
    "\n",
    "model = sm.OLS(y, X).fit() ## sm.OLS(output, input)\n",
    "(model.summary())\n",
    "\n",
    "X = sm.add_constant(X) ## let's add an intercept (beta_0) to our model\n",
    "\n",
    "# Note the difference in argument order\n",
    "model = sm.OLS(y, X).fit() ## sm.OLS(output, input)\n",
    "predictions = model.predict(X)\n",
    "\n",
    "# Print out the statistics\n",
    "print(model.summary())"
   ]
  },
  {
   "cell_type": "code",
   "execution_count": 54,
   "metadata": {},
   "outputs": [
    {
     "name": "stdout",
     "output_type": "stream",
     "text": [
      "R Squared = 0.5052239701893465\n",
      "y-intercept = -0.9427512393961827\n",
      "Slope = 0.0024346791214665017\n"
     ]
    }
   ],
   "source": [
    "lm = LinearRegression()\n",
    "lm.fit(X,y)\n",
    "predictions = lm.predict(X)\n",
    "#print(predictions)[0:5]\n",
    "print(\"R Squared = {}\".format(lm.score(X,y))) # This is the R² score of our model. As you probably remember, this the percentage of explained variance of the predictions.\n",
    "print(\"y-intercept = {}\".format(lm.intercept_))\n",
    "print(\"Slope = {}\".format(lm.coef_[1]))"
   ]
  },
  {
   "cell_type": "code",
   "execution_count": 69,
   "metadata": {},
   "outputs": [
    {
     "name": "stdout",
     "output_type": "stream",
     "text": [
      "R Squared = 0.802\n",
      "y-intercept = [-4.05487095]\n",
      "Slope = 0.013769518547993428\n"
     ]
    }
   ],
   "source": [
    "lma = LogisticRegression()\n",
    "#lma = LogisticRegression()\n",
    "X1 = fico_df[['creditScore']]\n",
    "#X = X.reshape(1,-1)\n",
    "y1 = (fico_df['Approved'])\n",
    "lma.fit(X,y)\n",
    "print(\"R Squared = {}\".format(lma.score(X,y))) # This is the R² score of our model. As you probably remember, this the percentage of explained variance of the predictions.\n",
    "print(\"y-intercept = {}\".format(lma.intercept_))\n",
    "print(\"Slope = {}\".format(lma.coef_[0][1]))\n"
   ]
  },
  {
   "cell_type": "code",
   "execution_count": 56,
   "metadata": {},
   "outputs": [
    {
     "data": {
      "text/plain": [
       "<matplotlib.axes._subplots.AxesSubplot at 0x7f9380a024e0>"
      ]
     },
     "execution_count": 56,
     "metadata": {},
     "output_type": "execute_result"
    },
    {
     "data": {
      "image/png": "[encoded data removed]",
      "text/plain": [
       "<Figure size 842.4x595.44 with 1 Axes>"
      ]
     },
     "metadata": {},
     "output_type": "display_data"
    }
   ],
   "source": [
    "sns.regplot(x='creditScore', y = 'Approved', data=fico_df, logistic=True)"
   ]
  },
  {
   "cell_type": "markdown",
   "metadata": {},
   "source": [
    "# Odds Ratio for any Interval"
   ]
  },
  {
   "cell_type": "code",
   "execution_count": 238,
   "metadata": {},
   "outputs": [
    {
     "name": "stderr",
     "output_type": "stream",
     "text": [
      "/usr/lib/python3.6/site-packages/ipykernel_launcher.py:18: UserWarning: Boolean Series key will be reindexed to match DataFrame index.\n"
     ]
    },
    {
     "data": {
      "text/html": [
       "<div>\n",
       "<style scoped>\n",
       "    .dataframe tbody tr th:only-of-type {\n",
       "        vertical-align: middle;\n",
       "    }\n",
       "\n",
       "    .dataframe tbody tr th {\n",
       "        vertical-align: top;\n",
       "    }\n",
       "\n",
       "    .dataframe thead th {\n",
       "        text-align: right;\n",
       "    }\n",
       "</style>\n",
       "<table border=\"1\" class=\"dataframe\">\n",
       "  <thead>\n",
       "    <tr style=\"text-align: right;\">\n",
       "      <th></th>\n",
       "      <th>creditScore</th>\n",
       "      <th>Approved</th>\n",
       "      <th>p_hat</th>\n",
       "      <th>1 - p_hat</th>\n",
       "      <th>odds</th>\n",
       "    </tr>\n",
       "  </thead>\n",
       "  <tbody>\n",
       "    <tr>\n",
       "      <th>79</th>\n",
       "      <td>600</td>\n",
       "      <td>0</td>\n",
       "      <td>0.362253</td>\n",
       "      <td>0.637747</td>\n",
       "      <td>0.568019</td>\n",
       "    </tr>\n",
       "    <tr>\n",
       "      <th>15</th>\n",
       "      <td>610</td>\n",
       "      <td>1</td>\n",
       "      <td>0.396694</td>\n",
       "      <td>0.603306</td>\n",
       "      <td>0.657533</td>\n",
       "    </tr>\n",
       "    <tr>\n",
       "      <th>23</th>\n",
       "      <td>620</td>\n",
       "      <td>0</td>\n",
       "      <td>0.432190</td>\n",
       "      <td>0.567810</td>\n",
       "      <td>0.761154</td>\n",
       "    </tr>\n",
       "    <tr>\n",
       "      <th>511</th>\n",
       "      <td>630</td>\n",
       "      <td>0</td>\n",
       "      <td>0.468397</td>\n",
       "      <td>0.531603</td>\n",
       "      <td>0.881104</td>\n",
       "    </tr>\n",
       "    <tr>\n",
       "      <th>600</th>\n",
       "      <td>640</td>\n",
       "      <td>1</td>\n",
       "      <td>0.504940</td>\n",
       "      <td>0.495060</td>\n",
       "      <td>1.019957</td>\n",
       "    </tr>\n",
       "    <tr>\n",
       "      <th>457</th>\n",
       "      <td>650</td>\n",
       "      <td>1</td>\n",
       "      <td>0.541430</td>\n",
       "      <td>0.458570</td>\n",
       "      <td>1.180691</td>\n",
       "    </tr>\n",
       "    <tr>\n",
       "      <th>896</th>\n",
       "      <td>660</td>\n",
       "      <td>1</td>\n",
       "      <td>0.577481</td>\n",
       "      <td>0.422519</td>\n",
       "      <td>1.366756</td>\n",
       "    </tr>\n",
       "    <tr>\n",
       "      <th>129</th>\n",
       "      <td>680</td>\n",
       "      <td>0</td>\n",
       "      <td>0.646827</td>\n",
       "      <td>0.353173</td>\n",
       "      <td>1.831472</td>\n",
       "    </tr>\n",
       "    <tr>\n",
       "      <th>904</th>\n",
       "      <td>690</td>\n",
       "      <td>1</td>\n",
       "      <td>0.679497</td>\n",
       "      <td>0.320503</td>\n",
       "      <td>2.120093</td>\n",
       "    </tr>\n",
       "    <tr>\n",
       "      <th>130</th>\n",
       "      <td>700</td>\n",
       "      <td>0</td>\n",
       "      <td>0.710497</td>\n",
       "      <td>0.289503</td>\n",
       "      <td>2.454198</td>\n",
       "    </tr>\n",
       "  </tbody>\n",
       "</table>\n",
       "</div>"
      ],
      "text/plain": [
       "     creditScore  Approved     p_hat  1 - p_hat      odds\n",
       "79           600         0  0.362253   0.637747  0.568019\n",
       "15           610         1  0.396694   0.603306  0.657533\n",
       "23           620         0  0.432190   0.567810  0.761154\n",
       "511          630         0  0.468397   0.531603  0.881104\n",
       "600          640         1  0.504940   0.495060  1.019957\n",
       "457          650         1  0.541430   0.458570  1.180691\n",
       "896          660         1  0.577481   0.422519  1.366756\n",
       "129          680         0  0.646827   0.353173  1.831472\n",
       "904          690         1  0.679497   0.320503  2.120093\n",
       "130          700         0  0.710497   0.289503  2.454198"
      ]
     },
     "execution_count": 238,
     "metadata": {},
     "output_type": "execute_result"
    }
   ],
   "source": [
    "slope = 0.014634\n",
    "intercept = -9.346\n",
    "def est_reg_equa(score, intercept, slope):\n",
    "    x = score\n",
    "    p_hat = math.exp(intercept + slope*score)/(1 + math.exp(intercept + slope*score))\n",
    "    odds = p_hat / (1 - p_hat)\n",
    "    return p_hat, odds\n",
    "\n",
    "fico_df1 = fico_df.sort_values(by=\"creditScore\")\n",
    "x = fico_df1['creditScore'].apply(est_reg_equa, args = (intercept,slope))\n",
    "phats = [x[0] for x in x.values]\n",
    "odds = [x[1] for x in x.values]\n",
    "\n",
    "fico_df1['p_hat'] = phats\n",
    "fico_df1['1 - p_hat'] = 1 - fico_df1['p_hat']\n",
    "fico_df1['odds'] = odds\n",
    "scors = np.arange(600,710,10)\n",
    "fic = fico_df1[fico_df['creditScore'].isin(scors)].drop_duplicates(subset='creditScore')\n",
    "fic"
   ]
  },
  {
   "cell_type": "markdown",
   "metadata": {},
   "source": [
    "\\begin{equation}\n",
    "\\hat p = \\frac{e^{\\beta_0 + \\beta_1x_1}}{1+e^{\\beta_0 + \\beta_1x_1}} \\\\\n",
    "\\hat p = \\frac{e^{-9.346 + 0.014634(655}}{1+e^{-9.346 + 0.014634(655)}} = 0.5595 \\\\\n",
    "\\hat p = \\frac{e^{-9.346 + 0.014634(745}}{1+e^{-9.346 + 0.014634(745)}} = 0.8258 \\\\\n",
    "\\end{equation}\n",
    "\n",
    "The Probability of getting approved is 55.9% if FICO score is 655 and 82.58% if FICO score is 745\n",
    "\n",
    "## What are Odds if you increase your FICO score from 655 to 745\n",
    "\\begin{equation}\n",
    "odds = \\frac{odds(FICO of 745)}{odds(FICO of 655)} \\\\\n",
    "odds = \\frac{\\frac{.825}{1-.825}}{\\frac{.559}{1 - .559}} = 3.73\n",
    "\\end{equation}\n",
    "\n",
    "The odds increase by 3.73\n",
    "\n",
    "## What are Odds if you increase your FICO score from 600 to 690\n",
    "\\begin{equation}\n",
    "odds = \\frac{odds(FICO of 690)}{odds(FICO of 600)} = 3.73 \\\\\n",
    "\\end{equation}\n",
    "\n",
    "\n",
    "### A characteristic of Logistical Regression is when you comparing the odds ratio for two scores the same distance apart, the odds ratio will be the same"
   ]
  },
  {
   "cell_type": "code",
   "execution_count": 268,
   "metadata": {},
   "outputs": [
    {
     "data": {
      "text/html": [
       "<div>\n",
       "<style scoped>\n",
       "    .dataframe tbody tr th:only-of-type {\n",
       "        vertical-align: middle;\n",
       "    }\n",
       "\n",
       "    .dataframe tbody tr th {\n",
       "        vertical-align: top;\n",
       "    }\n",
       "\n",
       "    .dataframe thead th {\n",
       "        text-align: right;\n",
       "    }\n",
       "</style>\n",
       "<table border=\"1\" class=\"dataframe\">\n",
       "  <thead>\n",
       "    <tr style=\"text-align: right;\">\n",
       "      <th></th>\n",
       "      <th>Increase</th>\n",
       "      <th>Odds</th>\n",
       "      <th>Odds Ratio</th>\n",
       "      <th>% Increase</th>\n",
       "    </tr>\n",
       "  </thead>\n",
       "  <tbody>\n",
       "    <tr>\n",
       "      <th>0</th>\n",
       "      <td>0</td>\n",
       "      <td>0.000087</td>\n",
       "      <td>1.000000</td>\n",
       "      <td>0.000000</td>\n",
       "    </tr>\n",
       "    <tr>\n",
       "      <th>1</th>\n",
       "      <td>10</td>\n",
       "      <td>0.000101</td>\n",
       "      <td>1.157590</td>\n",
       "      <td>15.758970</td>\n",
       "    </tr>\n",
       "    <tr>\n",
       "      <th>2</th>\n",
       "      <td>20</td>\n",
       "      <td>0.000117</td>\n",
       "      <td>1.340014</td>\n",
       "      <td>34.001392</td>\n",
       "    </tr>\n",
       "    <tr>\n",
       "      <th>3</th>\n",
       "      <td>30</td>\n",
       "      <td>0.000135</td>\n",
       "      <td>1.551186</td>\n",
       "      <td>55.118631</td>\n",
       "    </tr>\n",
       "    <tr>\n",
       "      <th>4</th>\n",
       "      <td>40</td>\n",
       "      <td>0.000157</td>\n",
       "      <td>1.795637</td>\n",
       "      <td>79.563730</td>\n",
       "    </tr>\n",
       "    <tr>\n",
       "      <th>5</th>\n",
       "      <td>50</td>\n",
       "      <td>0.000181</td>\n",
       "      <td>2.078611</td>\n",
       "      <td>107.861124</td>\n",
       "    </tr>\n",
       "    <tr>\n",
       "      <th>6</th>\n",
       "      <td>60</td>\n",
       "      <td>0.000210</td>\n",
       "      <td>2.406179</td>\n",
       "      <td>140.617897</td>\n",
       "    </tr>\n",
       "    <tr>\n",
       "      <th>7</th>\n",
       "      <td>70</td>\n",
       "      <td>0.000243</td>\n",
       "      <td>2.785368</td>\n",
       "      <td>178.536800</td>\n",
       "    </tr>\n",
       "    <tr>\n",
       "      <th>8</th>\n",
       "      <td>80</td>\n",
       "      <td>0.000282</td>\n",
       "      <td>3.224313</td>\n",
       "      <td>222.431331</td>\n",
       "    </tr>\n",
       "    <tr>\n",
       "      <th>9</th>\n",
       "      <td>90</td>\n",
       "      <td>0.000326</td>\n",
       "      <td>3.732432</td>\n",
       "      <td>273.243188</td>\n",
       "    </tr>\n",
       "    <tr>\n",
       "      <th>10</th>\n",
       "      <td>100</td>\n",
       "      <td>0.000377</td>\n",
       "      <td>4.320625</td>\n",
       "      <td>332.062471</td>\n",
       "    </tr>\n",
       "  </tbody>\n",
       "</table>\n",
       "</div>"
      ],
      "text/plain": [
       "    Increase      Odds  Odds Ratio  % Increase\n",
       "0          0  0.000087    1.000000    0.000000\n",
       "1         10  0.000101    1.157590   15.758970\n",
       "2         20  0.000117    1.340014   34.001392\n",
       "3         30  0.000135    1.551186   55.118631\n",
       "4         40  0.000157    1.795637   79.563730\n",
       "5         50  0.000181    2.078611  107.861124\n",
       "6         60  0.000210    2.406179  140.617897\n",
       "7         70  0.000243    2.785368  178.536800\n",
       "8         80  0.000282    3.224313  222.431331\n",
       "9         90  0.000326    3.732432  273.243188\n",
       "10       100  0.000377    4.320625  332.062471"
      ]
     },
     "execution_count": 268,
     "metadata": {},
     "output_type": "execute_result"
    }
   ],
   "source": [
    "def odds(score, intercept, slope):\n",
    "    x = score\n",
    "    p_hat = math.exp(intercept + slope*score)/(1 + math.exp(intercept + slope*score))\n",
    "    odds = p_hat / (1 - p_hat)\n",
    "    return odds\n",
    "\n",
    "odds_r = pd.DataFrame({'Increase': np.arange(0,110,10)})\n",
    "\n",
    "odds_r['Odds'] = odds_r['Increase'].apply(odds, args = (intercept,slope))\n",
    "odds_r['Odds Ratio'] = odds_r['Odds'] / odds_r.loc[0,'Odds']\n",
    "odds_r['% Increase'] = (odds_r['Odds Ratio'] - odds_r.loc[0, 'Odds Ratio'])  / odds_r.loc[0, 'Odds Ratio'] *100\n",
    "odds_r"
   ]
  },
  {
   "cell_type": "code",
   "execution_count": 276,
   "metadata": {},
   "outputs": [
    {
     "data": {
      "text/plain": [
       "<seaborn.axisgrid.FacetGrid at 0x7f937fde5cf8>"
      ]
     },
     "execution_count": 276,
     "metadata": {},
     "output_type": "execute_result"
    },
    {
     "data": {
      "image/png": "[encoded data removed]",
      "text/plain": [
       "<Figure size 360x360 with 1 Axes>"
      ]
     },
     "metadata": {},
     "output_type": "display_data"
    }
   ],
   "source": [
    "sns.lmplot(x = 'Increase', y = 'Odds Ratio', order=2, data = odds_r, size = 5)"
   ]
  },
  {
   "cell_type": "markdown",
   "metadata": {},
   "source": [
    "### $y = e^{\\beta_1 \\Delta} = e^{0.0146 \\Delta}$\n",
    "### $\\hat p = \\frac{e^{-9.346 + 0.014634(x_1}}{1+e^{-9.346 + 0.014634(x_1)}} = 0.8258$\n",
    "\n",
    "## Solve for Credit Score\n",
    "\\begin{equation}\n",
    "ln(\\frac{p}{1-p}) = \\beta_0 + \\beta_1x_1 \\\\\n",
    "ln(\\frac{.5}{.5}) = -9.346 + 0.014634x_1 \\\\\n",
    "ln(1) = -9.346 + 0.014634x_1 \\\\\n",
    "0 = = -9.346 + 0.014634x_1 \\\\\n",
    "-9.346 = 0.014634x_1 \\\\\n",
    "x_1 = 638.65\n",
    "\\end{equation}\n",
    "\n",
    "You would need a score of 638.65 to have a 50/50 chance"
   ]
  },
  {
   "cell_type": "code",
   "execution_count": null,
   "metadata": {},
   "outputs": [],
   "source": [
    "lma = LogisticRegression()\n",
    "#lma = LogisticRegression()\n",
    "X1 = fico_df[['creditScore']]\n",
    "#X = X.reshape(1,-1)\n",
    "y1 = (fico_df['Approved'])\n",
    "lma.fit(X,y)\n",
    "print(\"R Squared = {}\".format(lma.score(X,y))) # This is the R² score of our model. As you probably remember, this the percentage of explained variance of the predictions.\n",
    "print(\"y-intercept = {}\".format(lma.intercept_))\n",
    "print(\"Slope = {}\".format(lma.coef_[0][1]))"
   ]
  }
 ],
 "metadata": {
  "kernelspec": {
   "display_name": "Python 3",
   "language": "python",
   "name": "python3"
  },
  "language_info": {
   "codemirror_mode": {
    "name": "ipython",
    "version": 3
   },
   "file_extension": ".py",
   "mimetype": "text/x-python",
   "name": "python",
   "nbconvert_exporter": "python",
   "pygments_lexer": "ipython3",
   "version": "3.6.5"
  }
 },
 "nbformat": 4,
 "nbformat_minor": 2
}
