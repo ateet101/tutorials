{
 "cells": [
  {
   "cell_type": "code",
   "execution_count": 1,
   "metadata": {},
   "outputs": [],
   "source": [
    "import pandas as pd\n",
    "import seaborn as sns\n",
    "import numpy as np\n",
    "import math\n",
    "import matplotlib.pyplot as plt\n",
    "from random import randint\n",
    "import scipy.stats as ss\n",
    "#from scipy.stats import norm, kurtosis, skew\n",
    "import itertools as itt\n",
    "sns.set(rc={'figure.figsize':(11.7,8.27)})\n",
    "import plots\n",
    "import importlib\n",
    "from pandas_datareader import data, wb\n",
    "import datetime\n",
    "import anovastats\n",
    "#importlib.reload(plots)"
   ]
  },
  {
   "cell_type": "markdown",
   "metadata": {},
   "source": [
    "# An Introductiony\n",
    "\n",
    "## Example: Tips for Service\n",
    "Let's assume that you are a small restaurant owner or a very business minded server at a nice restaurant. Here in the U.S. \"tips\" are a very important part of a waiter's pay. Most of the time the dollar amount of the tip is related to the dollar amount of the total bill.\n",
    "\n",
    "As the waiter or owner, you would like to develop a model that will allow you to make a prediction about what amount of tip to expect for any given bill amount. Therefore one evening, you collect data for six meals.\n",
    "\n",
    "Unfortunatly when you begin to look at your data, you realize you only collected data for the tip amount and not the meal amount also\n",
    "\n",
    "How might you predict the tip amount for future meals using only this data?"
   ]
  },
  {
   "cell_type": "code",
   "execution_count": 6,
   "metadata": {},
   "outputs": [
    {
     "data": {
      "text/html": [
       "<div>\n",
       "<style scoped>\n",
       "    .dataframe tbody tr th:only-of-type {\n",
       "        vertical-align: middle;\n",
       "    }\n",
       "\n",
       "    .dataframe tbody tr th {\n",
       "        vertical-align: top;\n",
       "    }\n",
       "\n",
       "    .dataframe thead th {\n",
       "        text-align: right;\n",
       "    }\n",
       "</style>\n",
       "<table border=\"1\" class=\"dataframe\">\n",
       "  <thead>\n",
       "    <tr style=\"text-align: right;\">\n",
       "      <th></th>\n",
       "      <th>Meal #</th>\n",
       "      <th>Tip amount ($)</th>\n",
       "    </tr>\n",
       "  </thead>\n",
       "  <tbody>\n",
       "    <tr>\n",
       "      <th>0</th>\n",
       "      <td>1</td>\n",
       "      <td>5.0</td>\n",
       "    </tr>\n",
       "    <tr>\n",
       "      <th>1</th>\n",
       "      <td>2</td>\n",
       "      <td>17.0</td>\n",
       "    </tr>\n",
       "    <tr>\n",
       "      <th>2</th>\n",
       "      <td>3</td>\n",
       "      <td>11.0</td>\n",
       "    </tr>\n",
       "    <tr>\n",
       "      <th>3</th>\n",
       "      <td>4</td>\n",
       "      <td>8.0</td>\n",
       "    </tr>\n",
       "    <tr>\n",
       "      <th>4</th>\n",
       "      <td>5</td>\n",
       "      <td>14.0</td>\n",
       "    </tr>\n",
       "    <tr>\n",
       "      <th>5</th>\n",
       "      <td>6</td>\n",
       "      <td>5.0</td>\n",
       "    </tr>\n",
       "  </tbody>\n",
       "</table>\n",
       "</div>"
      ],
      "text/plain": [
       "   Meal #  Tip amount ($)\n",
       "0       1             5.0\n",
       "1       2            17.0\n",
       "2       3            11.0\n",
       "3       4             8.0\n",
       "4       5            14.0\n",
       "5       6             5.0"
      ]
     },
     "execution_count": 6,
     "metadata": {},
     "output_type": "execute_result"
    }
   ],
   "source": [
    "tips_df = pd.DataFrame({'Tip amount ($)': [5.00,17.00,11.00,8.00,14.00,5.00], 'Meal #': [1,2,3,4,5,6]})\n",
    "tips_df"
   ]
  },
  {
   "cell_type": "code",
   "execution_count": 15,
   "metadata": {},
   "outputs": [
    {
     "data": {
      "text/plain": [
       "(0, 18)"
      ]
     },
     "execution_count": 15,
     "metadata": {},
     "output_type": "execute_result"
    },
    {
     "data": {
      "image/png": "[encoded data removed]",
      "text/plain": [
       "<Figure size 432x288 with 1 Axes>"
      ]
     },
     "metadata": {},
     "output_type": "display_data"
    }
   ],
   "source": [
    "plt.plot(tips_df['Meal #'], tips_df['Tip amount ($)'])\n",
    "plt.xlabel('Meal #')\n",
    "plt.ylabel('Tips($)')\n",
    "plt.ylim(0,18)"
   ]
  },
  {
   "cell_type": "markdown",
   "metadata": {},
   "source": [
    "The best estimate for the next meal using only one variable is the mean"
   ]
  },
  {
   "cell_type": "code",
   "execution_count": 8,
   "metadata": {},
   "outputs": [],
   "source": [
    "tips_mean = tips_df['Tip amount ($)'].mean()"
   ]
  },
  {
   "cell_type": "code",
   "execution_count": 23,
   "metadata": {},
   "outputs": [
    {
     "data": {
      "text/plain": [
       "Text(4,11,'best-fit line   $\\\\bar y = \\\\$10$')"
      ]
     },
     "execution_count": 23,
     "metadata": {},
     "output_type": "execute_result"
    },
    {
     "data": {
      "image/png": "[encoded data removed]",
      "text/plain": [
       "<Figure size 432x288 with 1 Axes>"
      ]
     },
     "metadata": {},
     "output_type": "display_data"
    }
   ],
   "source": [
    "plt.scatter(tips_df['Meal #'], tips_df['Tip amount ($)'])\n",
    "plt.xlabel('Meal #')\n",
    "plt.ylabel('Tips($)')\n",
    "plt.ylim(0,18)\n",
    "plt.axhline(y=tips_mean, color='r', linestyle='--')\n",
    "plt.text(4,11,'best-fit line   ' + r'$\\bar y = \\$10$')"
   ]
  },
  {
   "cell_type": "markdown",
   "metadata": {},
   "source": [
    "With only one variable, and no other information, the best prediction for the next measurement is the mean of the sample itself. The variability in the tip amounts can only be explained by the tips themselves"
   ]
  },
  {
   "cell_type": "markdown",
   "metadata": {},
   "source": [
    "## \"Goodness of Fit\" for the tips"
   ]
  },
  {
   "cell_type": "code",
   "execution_count": 28,
   "metadata": {},
   "outputs": [
    {
     "data": {
      "text/plain": [
       "14.0"
      ]
     },
     "execution_count": 28,
     "metadata": {},
     "output_type": "execute_result"
    }
   ],
   "source": [
    "tips_df.loc[4, 'Tip amount ($)']"
   ]
  },
  {
   "cell_type": "code",
   "execution_count": 55,
   "metadata": {},
   "outputs": [
    {
     "name": "stdout",
     "output_type": "stream",
     "text": [
      "The Residuals - the distance between the best fit line($10) and the observed values\n"
     ]
    },
    {
     "data": {
      "text/plain": [
       "Text(2.5,5,'RESIDUALS (ERROR)')"
      ]
     },
     "execution_count": 55,
     "metadata": {},
     "output_type": "execute_result"
    },
    {
     "data": {
      "image/png": "[encoded data removed]",
      "text/plain": [
       "<Figure size 432x288 with 1 Axes>"
      ]
     },
     "metadata": {},
     "output_type": "display_data"
    }
   ],
   "source": [
    "plt.scatter(tips_df['Meal #'], tips_df['Tip amount ($)'])\n",
    "plt.xlabel('Meal #')\n",
    "plt.ylabel('Tips($)')\n",
    "plt.ylim(0,20)\n",
    "plt.axhline(y=tips_mean, color='r', linestyle='--')\n",
    "for i in range(0,6):\n",
    "    normalized = tips_df.loc[i, 'Tip amount ($)']/(20-0)\n",
    "    distance = tips_df.loc[i, 'Tip amount ($)'] - 10\n",
    "    plt.axvline(i+1,.5,normalized)\n",
    "    plt.text(i+1.2,tips_df.loc[i, 'Tip amount ($)'],distance)\n",
    "    \n",
    "print(\"The Residuals - the distance between the best fit line($10) and the observed values\")\n",
    "plt.text(2.5, 5,'RESIDUALS (ERROR)')"
   ]
  },
  {
   "cell_type": "markdown",
   "metadata": {},
   "source": [
    "## Squaring the Residuals\n",
    "#### Why square the residuals?\n",
    "- makes them positive\n",
    "- emphasizes larger deviations"
   ]
  },
  {
   "cell_type": "code",
   "execution_count": 62,
   "metadata": {},
   "outputs": [
    {
     "data": {
      "text/html": [
       "<div>\n",
       "<style scoped>\n",
       "    .dataframe tbody tr th:only-of-type {\n",
       "        vertical-align: middle;\n",
       "    }\n",
       "\n",
       "    .dataframe tbody tr th {\n",
       "        vertical-align: top;\n",
       "    }\n",
       "\n",
       "    .dataframe thead th {\n",
       "        text-align: right;\n",
       "    }\n",
       "</style>\n",
       "<table border=\"1\" class=\"dataframe\">\n",
       "  <thead>\n",
       "    <tr style=\"text-align: right;\">\n",
       "      <th></th>\n",
       "      <th>Meal #</th>\n",
       "      <th>Residual</th>\n",
       "      <th>Residuals^2</th>\n",
       "    </tr>\n",
       "  </thead>\n",
       "  <tbody>\n",
       "    <tr>\n",
       "      <th>0</th>\n",
       "      <td>1</td>\n",
       "      <td>-5.0</td>\n",
       "      <td>25.0</td>\n",
       "    </tr>\n",
       "    <tr>\n",
       "      <th>1</th>\n",
       "      <td>2</td>\n",
       "      <td>7.0</td>\n",
       "      <td>49.0</td>\n",
       "    </tr>\n",
       "    <tr>\n",
       "      <th>2</th>\n",
       "      <td>3</td>\n",
       "      <td>1.0</td>\n",
       "      <td>1.0</td>\n",
       "    </tr>\n",
       "    <tr>\n",
       "      <th>3</th>\n",
       "      <td>4</td>\n",
       "      <td>-2.0</td>\n",
       "      <td>4.0</td>\n",
       "    </tr>\n",
       "    <tr>\n",
       "      <th>4</th>\n",
       "      <td>5</td>\n",
       "      <td>4.0</td>\n",
       "      <td>16.0</td>\n",
       "    </tr>\n",
       "    <tr>\n",
       "      <th>5</th>\n",
       "      <td>6</td>\n",
       "      <td>-5.0</td>\n",
       "      <td>25.0</td>\n",
       "    </tr>\n",
       "  </tbody>\n",
       "</table>\n",
       "</div>"
      ],
      "text/plain": [
       "   Meal #  Residual  Residuals^2\n",
       "0       1      -5.0         25.0\n",
       "1       2       7.0         49.0\n",
       "2       3       1.0          1.0\n",
       "3       4      -2.0          4.0\n",
       "4       5       4.0         16.0\n",
       "5       6      -5.0         25.0"
      ]
     },
     "execution_count": 62,
     "metadata": {},
     "output_type": "execute_result"
    }
   ],
   "source": [
    "tips_error = pd.DataFrame({'Meal #': range(1,7), 'Residual': tips_df['Tip amount ($)'] - 10, 'Residuals^2': (tips_df['Tip amount ($)'] - 10)**2})\n",
    "tips_error"
   ]
  },
  {
   "cell_type": "markdown",
   "metadata": {},
   "source": [
    "Sum of squared errors (SSE) = 120"
   ]
  },
  {
   "cell_type": "code",
   "execution_count": 65,
   "metadata": {},
   "outputs": [
    {
     "name": "stdout",
     "output_type": "stream",
     "text": [
      "The SSE is 120.0\n"
     ]
    }
   ],
   "source": [
    "print('The SSE is ' + str(tips_error['Residuals^2'].sum()))"
   ]
  },
  {
   "cell_type": "markdown",
   "metadata": {},
   "source": [
    "## Sum of Squares\n",
    "The goal of simple linear regression is to create a linear model that minimizes the sum of squares of the residuals / error (SSE)\n",
    "\n",
    "If our regression model is significant, it will \"eat up\" much of the raw SSE we had when we assumed that the independent variable did not even exist. The regression line will/should literally fit the data better. It will minimize the residuals\n",
    "\n",
    "When conducting simple linear regression with two variables, we will determine how good that line \"fits\" the data by comparing it to this type; where we pretend the second variable does not exist.\n",
    "\n",
    "If a two-variable regression model looks like this example, what does the other variable do to help explain the dependent variable? NOTHING\n",
    "\n",
    "## Description\n",
    "Simple linear regression is really a comparison of two models\n",
    "- One is where the independent variable does not even exist\n",
    "- And the other uses the best fit regression line\n",
    "\n",
    "If there is only one variable, the best prediction for other values is the mean of the \"dependent\" variable\n",
    "\n",
    "The difference between the best-fit line and the observed value is called the residual (or error)\n",
    "\n",
    "The residuals are squared and then added together to generate sum of squares residuals / error, SSE\n",
    "\n",
    "Simple linear regression is designed to find the best fitting line through the data that minimizes the SSE"
   ]
  },
  {
   "cell_type": "markdown",
   "metadata": {},
   "source": [
    "# Linear Regression and Linear Algebra\n",
    "- The value of one variable, is a function of the other variable\n",
    "- The value of y, is a function of x; y = f(x)\n",
    "- The value of the dependent variable, x, is a function of the independent variable, x\n",
    "\n",
    "## Algebra Review: Lines\n",
    "- slope - intercept form of a line\n",
    "\\begin{equation}\n",
    "y = mx+b\n",
    "\\end{equation}\n",
    "\n",
    "x = random variable\n",
    "\n",
    "m = slope of the line $\\frac{rise}{run}$\n",
    "\n",
    "b = y-intercept (crosses y-axis)\n",
    "\n",
    "y-intercept - where x = 0 (Coordinate of (0,y))\n",
    "\n",
    "Example:\n",
    "- y = 2x + 3\n",
    "- m = slope = $\\frac{2}{1}$\n",
    "- y = 2(0) + 3\n",
    "- y = 3\n",
    "- (0,3)\n"
   ]
  },
  {
   "cell_type": "code",
   "execution_count": 72,
   "metadata": {},
   "outputs": [
    {
     "data": {
      "image/png": "[encoded data removed]",
      "text/plain": [
       "<Figure size 432x288 with 1 Axes>"
      ]
     },
     "metadata": {},
     "output_type": "display_data"
    }
   ],
   "source": [
    "x = np.array(range(0,6))\n",
    "y = 2*x + 3\n",
    "plt.scatter(x, y)\n",
    "for i in x:\n",
    "    plt.text(i +.2, y[i], '(' + str(i) + ',' + str(y[i]) + ')')"
   ]
  },
  {
   "cell_type": "markdown",
   "metadata": {},
   "source": [
    "# Simple Linear Regression Model\n",
    "y = mx + b -->\n",
    "\\begin{equation}\n",
    "y = \\beta_0 + \\beta_1x + \\epsilon\n",
    "\\end{equation}\n",
    "\n",
    "$\\beta_0$ = y-intercept population parameter\n",
    "\n",
    "$\\beta_1$ = slope population parameter\n",
    "\n",
    "$\\epsilon$ = error term, unexplained variation in y\n",
    "\n",
    "#### Simple Linear Regression Equation\n",
    "\\begin{equation}\n",
    "E(y) = \\beta_0 + \\beta_1x\n",
    "\\end{equation}\n",
    "\n",
    "E(y) is the mean or expected value for y, for a given value of x\n",
    "\n",
    "## Distribution of y-values"
   ]
  },
  {
   "cell_type": "code",
   "execution_count": 106,
   "metadata": {},
   "outputs": [
    {
     "data": {
      "text/plain": [
       "Text(0.5,7,'E(y) can be in this range of distributions')"
      ]
     },
     "execution_count": 106,
     "metadata": {},
     "output_type": "execute_result"
    },
    {
     "data": {
      "image/png": "[encoded data removed]",
      "text/plain": [
       "<Figure size 432x288 with 1 Axes>"
      ]
     },
     "metadata": {},
     "output_type": "display_data"
    }
   ],
   "source": [
    "plt.scatter(0,0)\n",
    "plt.ylim(0,10)\n",
    "plt.xlim(0,10)\n",
    "plt.axvline(5,0,.45)\n",
    "plt.axhline(5,0,.45)\n",
    "plt.axhline(6,0,.45, linestyle = '--', color = 'g')\n",
    "plt.axhline(4,0,.45, linestyle = '--', color = 'g')\n",
    "plt.axhline(8,0,.45, linestyle = '--', color = 'r')\n",
    "plt.axhline(2,0,.45, linestyle = '--', color = 'r')\n",
    "plt.ylabel('E(y)')\n",
    "plt.axhline(5,.45,.6, linestyle = ':', linewidth = 20, color = 'b')\n",
    "plt.text(.5,9,\"E(y) can be in this range of distributions\", color = 'r')\n",
    "plt.text(.5,7,\"E(y) can be in this range of distributions\", color = 'g')"
   ]
  },
  {
   "cell_type": "code",
   "execution_count": 107,
   "metadata": {},
   "outputs": [
    {
     "data": {
      "text/plain": [
       "Text(0.5,1,'General Regression Lines')"
      ]
     },
     "execution_count": 107,
     "metadata": {},
     "output_type": "execute_result"
    },
    {
     "data": {
      "image/png": "[encoded data removed]",
      "text/plain": [
       "<Figure size 432x288 with 1 Axes>"
      ]
     },
     "metadata": {},
     "output_type": "display_data"
    }
   ],
   "source": [
    "bo = 5\n",
    "Ey = []\n",
    "Ey.append(bo + 0*x)\n",
    "Ey.append(bo + 2*x)\n",
    "Ey.append(bo + (-2*x))\n",
    "for i in Ey:\n",
    "    plt.plot(x , i)\n",
    "    \n",
    "plt.ylim(0,10)\n",
    "plt.xlim(0,2.5)\n",
    "plt.ylabel(r'$\\beta_0$')\n",
    "plt.text(.5, 8, r'$\\beta_1$' + ' is positive', color = 'g', rotation = 25)\n",
    "plt.text(.75, 5.5, r'$\\beta_1$' + ' is zero', color = 'b', rotation = 0)\n",
    "plt.text(.5, 3, r'$\\beta_1$' + ' is negative', color = 'r', rotation = -25)\n",
    "plt.title(\"General Regression Lines\")"
   ]
  },
  {
   "cell_type": "markdown",
   "metadata": {},
   "source": [
    "If we actually knew the population parameters, $\\beta_0$ and $\\beta_1$, we could use the Simple Linear Regression Equation\n",
    "\\begin{equation}\n",
    "E(y) = \\beta_0 + \\beta_1x\n",
    "\\end{equation}\n",
    "\n",
    "In reality we almost never have the population parameters. Therefore we will estimate them using sample data. When using sample data, we have to change our equation\n",
    "\n",
    "\\begin{equation}\n",
    "\\hat{y} = b_0 + b_1x\n",
    "\\end{equation}\n",
    "\n",
    "$\\hat y$ is the point estimator of E(y)\n",
    "\n",
    "$\\hat y$, is the mean value of y for a given value of x"
   ]
  },
  {
   "cell_type": "markdown",
   "metadata": {},
   "source": [
    "### When the Slope, $\\beta_1 = 0$\n",
    "When conducting simple linear regression with two variables, we will determine how good that line \"fits\" the data by comparing it to this type; where we pretend the second variable does not exist; the slope, $\\beta_1 = 0$\n",
    "\n",
    "In this situation, the value of $\\hat y$ is 10 for every value of x\n",
    "\\begin{equation}\n",
    "\\hat{y} = b_0 + b_1x \\\\\n",
    "\\hat{y} = b_0 + 0x \\\\\n",
    "\\hat{y} = b_0 \\\\\n",
    "b_0 = 10 \\\\\n",
    "\\hat{y} = 10\n",
    "\\end{equation}\n"
   ]
  },
  {
   "cell_type": "code",
   "execution_count": 109,
   "metadata": {},
   "outputs": [
    {
     "name": "stdout",
     "output_type": "stream",
     "text": [
      "The Residuals - the distance between the best fit line($10) and the observed values\n"
     ]
    },
    {
     "data": {
      "text/plain": [
       "Text(2.5,5,'RESIDUALS (ERROR)')"
      ]
     },
     "execution_count": 109,
     "metadata": {},
     "output_type": "execute_result"
    },
    {
     "data": {
      "image/png": "[encoded data removed]",
      "text/plain": [
       "<Figure size 432x288 with 1 Axes>"
      ]
     },
     "metadata": {},
     "output_type": "display_data"
    }
   ],
   "source": [
    "plt.scatter(tips_df['Meal #'], tips_df['Tip amount ($)'])\n",
    "plt.xlabel('Meal #')\n",
    "plt.ylabel('Tips($)')\n",
    "plt.ylim(0,20)\n",
    "plt.axhline(y=tips_mean, color='r', linestyle='--')\n",
    "for i in range(0,6):\n",
    "    normalized = tips_df.loc[i, 'Tip amount ($)']/(20-0)\n",
    "    distance = tips_df.loc[i, 'Tip amount ($)'] - 10\n",
    "    plt.axvline(i+1,.5,normalized)\n",
    "    plt.text(i+1.2,tips_df.loc[i, 'Tip amount ($)'],distance)\n",
    "    \n",
    "print(\"The Residuals - the distance between the best fit line($10) and the observed values\")\n",
    "plt.text(2.5, 5,'RESIDUALS (ERROR)')"
   ]
  },
  {
   "cell_type": "code",
   "execution_count": 144,
   "metadata": {},
   "outputs": [
    {
     "data": {
      "text/html": [
       "<div>\n",
       "<style scoped>\n",
       "    .dataframe tbody tr th:only-of-type {\n",
       "        vertical-align: middle;\n",
       "    }\n",
       "\n",
       "    .dataframe tbody tr th {\n",
       "        vertical-align: top;\n",
       "    }\n",
       "\n",
       "    .dataframe thead th {\n",
       "        text-align: right;\n",
       "    }\n",
       "</style>\n",
       "<table border=\"1\" class=\"dataframe\">\n",
       "  <thead>\n",
       "    <tr style=\"text-align: right;\">\n",
       "      <th></th>\n",
       "      <th>Bill($)</th>\n",
       "      <th>Tip($)</th>\n",
       "    </tr>\n",
       "  </thead>\n",
       "  <tbody>\n",
       "    <tr>\n",
       "      <th>0</th>\n",
       "      <td>34.0</td>\n",
       "      <td>5.0</td>\n",
       "    </tr>\n",
       "    <tr>\n",
       "      <th>1</th>\n",
       "      <td>108.0</td>\n",
       "      <td>17.0</td>\n",
       "    </tr>\n",
       "    <tr>\n",
       "      <th>2</th>\n",
       "      <td>64.0</td>\n",
       "      <td>11.0</td>\n",
       "    </tr>\n",
       "    <tr>\n",
       "      <th>3</th>\n",
       "      <td>88.0</td>\n",
       "      <td>8.0</td>\n",
       "    </tr>\n",
       "    <tr>\n",
       "      <th>4</th>\n",
       "      <td>99.0</td>\n",
       "      <td>14.0</td>\n",
       "    </tr>\n",
       "    <tr>\n",
       "      <th>5</th>\n",
       "      <td>51.0</td>\n",
       "      <td>5.0</td>\n",
       "    </tr>\n",
       "  </tbody>\n",
       "</table>\n",
       "</div>"
      ],
      "text/plain": [
       "   Bill($)  Tip($)\n",
       "0     34.0     5.0\n",
       "1    108.0    17.0\n",
       "2     64.0    11.0\n",
       "3     88.0     8.0\n",
       "4     99.0    14.0\n",
       "5     51.0     5.0"
      ]
     },
     "execution_count": 144,
     "metadata": {},
     "output_type": "execute_result"
    }
   ],
   "source": [
    "## Getting Ready for Least Squares\n",
    "tips_df = pd.DataFrame({'Bill($)': [34.00,108.00,64.00,88.00,99.00,51.00],'Tip($)': [5.00,17.00,11.00,8.00,14.00,5.00]})\n",
    "tips_df"
   ]
  },
  {
   "cell_type": "code",
   "execution_count": 114,
   "metadata": {},
   "outputs": [
    {
     "data": {
      "text/plain": [
       "(0, 18)"
      ]
     },
     "execution_count": 114,
     "metadata": {},
     "output_type": "execute_result"
    },
    {
     "data": {
      "image/png": "[encoded data removed]",
      "text/plain": [
       "<Figure size 432x288 with 1 Axes>"
      ]
     },
     "metadata": {},
     "output_type": "display_data"
    }
   ],
   "source": [
    "plt.scatter(tips_df['Bill($)'], tips_df['Tip($)'])\n",
    "plt.xlabel('Bill amount ($)')\n",
    "plt.ylabel('Tip amount ($)')\n",
    "plt.title('Meal bill vs Tip amount ($)')\n",
    "plt.ylim(0,18)"
   ]
  },
  {
   "cell_type": "markdown",
   "metadata": {},
   "source": [
    "# Least Squares Method\n",
    "\n",
    "## Example: Tips for Service\n",
    "Let's assume that you are a small restaurant owner or a very business minded server at a nice restaurant. Here in the U.S. \"tips\" are a very important part of a waiter's pay. Most of the time the dollar amount of the tip is related to the dollar amount of the total bill.\n",
    "\n",
    "As the waiter or owner, you would like to develop a model that will allow you to make a prediction about what amount of tip to expect for any given bill amount. Therefore one evening, you collect data for six meals.\n",
    "\n",
    "You want to know to what degree the tip amount can be predicted by the bill. So the tip is the dependent variable; bill is the independent variable"
   ]
  },
  {
   "cell_type": "code",
   "execution_count": 115,
   "metadata": {},
   "outputs": [
    {
     "data": {
      "text/html": [
       "<div>\n",
       "<style scoped>\n",
       "    .dataframe tbody tr th:only-of-type {\n",
       "        vertical-align: middle;\n",
       "    }\n",
       "\n",
       "    .dataframe tbody tr th {\n",
       "        vertical-align: top;\n",
       "    }\n",
       "\n",
       "    .dataframe thead th {\n",
       "        text-align: right;\n",
       "    }\n",
       "</style>\n",
       "<table border=\"1\" class=\"dataframe\">\n",
       "  <thead>\n",
       "    <tr style=\"text-align: right;\">\n",
       "      <th></th>\n",
       "      <th>Bill($)</th>\n",
       "      <th>Tip($)</th>\n",
       "    </tr>\n",
       "  </thead>\n",
       "  <tbody>\n",
       "    <tr>\n",
       "      <th>0</th>\n",
       "      <td>34.0</td>\n",
       "      <td>5.0</td>\n",
       "    </tr>\n",
       "    <tr>\n",
       "      <th>1</th>\n",
       "      <td>108.0</td>\n",
       "      <td>17.0</td>\n",
       "    </tr>\n",
       "    <tr>\n",
       "      <th>2</th>\n",
       "      <td>64.0</td>\n",
       "      <td>11.0</td>\n",
       "    </tr>\n",
       "    <tr>\n",
       "      <th>3</th>\n",
       "      <td>88.0</td>\n",
       "      <td>8.0</td>\n",
       "    </tr>\n",
       "    <tr>\n",
       "      <th>4</th>\n",
       "      <td>99.0</td>\n",
       "      <td>14.0</td>\n",
       "    </tr>\n",
       "    <tr>\n",
       "      <th>5</th>\n",
       "      <td>51.0</td>\n",
       "      <td>5.0</td>\n",
       "    </tr>\n",
       "  </tbody>\n",
       "</table>\n",
       "</div>"
      ],
      "text/plain": [
       "   Bill($)  Tip($)\n",
       "0     34.0     5.0\n",
       "1    108.0    17.0\n",
       "2     64.0    11.0\n",
       "3     88.0     8.0\n",
       "4     99.0    14.0\n",
       "5     51.0     5.0"
      ]
     },
     "execution_count": 115,
     "metadata": {},
     "output_type": "execute_result"
    }
   ],
   "source": [
    "tips_df"
   ]
  },
  {
   "cell_type": "markdown",
   "metadata": {},
   "source": [
    "## Least Squares Criterion\n",
    "\\begin{equation}\n",
    "min \\sum (y_i - \\hat y_i)^2\n",
    "\\end{equation}\n",
    "\n",
    "$y_i$ = observed value of dependent variable (tip amount)\n",
    "\n",
    "$\\hat y_i$ = estimated (predicted) value of dependent variable (predicted tip amount)\n",
    "\n",
    "The goal is to minimize the sum of the squared differences between the observed value for the dependent variable ($y_i$) and the estimated/predicted value of the dependent variable ($\\hat y_i$) that is provided by the regression line. Sum of the squared residuals\n",
    "\n",
    "Not only that, but the sum of the squared residuals should be much smaller than when we just used the dependent variable alone; $\\beta_1 = 0$, $\\hat y = 10$ for all values of x. That sum of squared residuals was 120"
   ]
  },
  {
   "cell_type": "markdown",
   "metadata": {},
   "source": [
    "## Step 1: Scatter Plot"
   ]
  },
  {
   "cell_type": "code",
   "execution_count": 117,
   "metadata": {},
   "outputs": [
    {
     "data": {
      "text/plain": [
       "(0, 18)"
      ]
     },
     "execution_count": 117,
     "metadata": {},
     "output_type": "execute_result"
    },
    {
     "data": {
      "image/png": "[encoded data removed]",
      "text/plain": [
       "<Figure size 432x288 with 1 Axes>"
      ]
     },
     "metadata": {},
     "output_type": "display_data"
    }
   ],
   "source": [
    "plt.scatter(tips_df['Bill($)'], tips_df['Tip($)'])\n",
    "plt.xlabel('Bill amount ($)')\n",
    "plt.ylabel('Tip amount ($)')\n",
    "plt.title('Meal bill vs Tip amount ($)')\n",
    "plt.ylim(0,18)"
   ]
  },
  {
   "cell_type": "markdown",
   "metadata": {},
   "source": [
    "## Step 2: Look for a visual line\n",
    "Does the data seem to fall along a line?\n",
    "\n",
    "YES! PROCEED\n",
    "\n",
    "If it doesn't, STOP"
   ]
  },
  {
   "cell_type": "code",
   "execution_count": 118,
   "metadata": {},
   "outputs": [
    {
     "data": {
      "image/png": "[encoded data removed]",
      "text/plain": [
       "<Figure size 432x288 with 1 Axes>"
      ]
     },
     "metadata": {},
     "output_type": "display_data"
    }
   ],
   "source": [
    "ax = sns.regplot(x=\"Bill($)\", y=\"Tip($)\", data=tips_df)"
   ]
  },
  {
   "cell_type": "markdown",
   "metadata": {},
   "source": [
    "## Step 3: Correlation\n",
    "What is the correlation coefficient, r?\n",
    "\n",
    "r = 0.866\n",
    "\n",
    "The relationship is strong"
   ]
  },
  {
   "cell_type": "code",
   "execution_count": 125,
   "metadata": {},
   "outputs": [
    {
     "name": "stdout",
     "output_type": "stream",
     "text": [
      "The Pearson Coefficient, r = 0.8656649996294481\n"
     ]
    }
   ],
   "source": [
    "r = ss.pearsonr(tips_df['Bill($)'],tips_df['Tip($)'])\n",
    "print('The Pearson Coefficient, r = ' + str(r[0]))"
   ]
  },
  {
   "cell_type": "markdown",
   "metadata": {},
   "source": [
    "## Step 4:Descriptive Statistics/ Centroid\n",
    "Find the mean of each column"
   ]
  },
  {
   "cell_type": "code",
   "execution_count": 145,
   "metadata": {},
   "outputs": [
    {
     "data": {
      "text/plain": [
       "Bill($)    74.0\n",
       "Tip($)     10.0\n",
       "dtype: float64"
      ]
     },
     "execution_count": 145,
     "metadata": {},
     "output_type": "execute_result"
    }
   ],
   "source": [
    "means = tips_df.mean()\n",
    "means"
   ]
  },
  {
   "cell_type": "code",
   "execution_count": 133,
   "metadata": {},
   "outputs": [
    {
     "data": {
      "text/plain": [
       "Text(76,10,' (74,10) CENTROID')"
      ]
     },
     "execution_count": 133,
     "metadata": {},
     "output_type": "execute_result"
    },
    {
     "data": {
      "image/png": "[encoded data removed]",
      "text/plain": [
       "<Figure size 432x288 with 1 Axes>"
      ]
     },
     "metadata": {},
     "output_type": "display_data"
    }
   ],
   "source": [
    "plt.scatter(tips_df['Bill($)'], tips_df['Tip($)'])\n",
    "plt.xlabel('Bill amount ($)')\n",
    "plt.ylabel('Tip amount ($)')\n",
    "plt.title('Meal bill vs Tip amount ($)')\n",
    "plt.scatter(tips_df.mean()[0], tips_df.mean()[1])\n",
    "plt.ylim(0,18)\n",
    "plt.text(76,10,\" (74,10) CENTROID\")"
   ]
  },
  {
   "cell_type": "markdown",
   "metadata": {},
   "source": [
    "# Step 5: Calculations\n",
    "\\begin{equation}\n",
    "\\hat y_i = b_0 + b_1x_i \\\\\n",
    "\\end{equation}\n",
    "Slope\n",
    "\\begin{equation}\n",
    "b_1 = \\frac{\\sum (x_i - \\bar x)(y_i - \\bar y)}{\\sum(x_i - \\bar x)^2}\n",
    "\\end{equation}\n",
    "\n",
    "- $\\bar x$ = mean of the independent variable\n",
    "- $\\bar y$ = mean of the dependent variable \n",
    "- $x_i$ = value of independent variable\n",
    "- $y_i$ = value of the dependent variable\n",
    "\n",
    "Intercept\n",
    "\\begin{equation}\n",
    "b_0 = \\bar y - b_1 \\bar x\n",
    "\\end{equation}"
   ]
  },
  {
   "cell_type": "code",
   "execution_count": 141,
   "metadata": {},
   "outputs": [
    {
     "data": {
      "text/html": [
       "<div>\n",
       "<style scoped>\n",
       "    .dataframe tbody tr th:only-of-type {\n",
       "        vertical-align: middle;\n",
       "    }\n",
       "\n",
       "    .dataframe tbody tr th {\n",
       "        vertical-align: top;\n",
       "    }\n",
       "\n",
       "    .dataframe thead th {\n",
       "        text-align: right;\n",
       "    }\n",
       "</style>\n",
       "<table border=\"1\" class=\"dataframe\">\n",
       "  <thead>\n",
       "    <tr style=\"text-align: right;\">\n",
       "      <th></th>\n",
       "      <th>Total bill($)</th>\n",
       "      <th>Tip amount($)</th>\n",
       "      <th>Bill deviation</th>\n",
       "      <th>Tip Deviation</th>\n",
       "      <th>Deviation Products</th>\n",
       "      <th>Bill Deviations Squared</th>\n",
       "    </tr>\n",
       "  </thead>\n",
       "  <tbody>\n",
       "    <tr>\n",
       "      <th>0</th>\n",
       "      <td>$x$</td>\n",
       "      <td>$y$</td>\n",
       "      <td>$x_i-\\bar x$</td>\n",
       "      <td>$y_i-\\bar y$</td>\n",
       "      <td>$(x_i-\\bar x)(y_i-\\bar y)$</td>\n",
       "      <td>$(x_i-\\bar x)^2$</td>\n",
       "    </tr>\n",
       "  </tbody>\n",
       "</table>\n",
       "</div>"
      ],
      "text/plain": [
       "  Total bill($) Tip amount($) Bill deviation Tip Deviation  \\\n",
       "0           $x$           $y$   $x_i-\\bar x$  $y_i-\\bar y$   \n",
       "\n",
       "           Deviation Products Bill Deviations Squared  \n",
       "0  $(x_i-\\bar x)(y_i-\\bar y)$        $(x_i-\\bar x)^2$  "
      ]
     },
     "execution_count": 141,
     "metadata": {},
     "output_type": "execute_result"
    }
   ],
   "source": [
    "tips_df1 = pd.DataFrame({'Total bill($)': [r'$x$'],'Tip amount($)': [r'$y$'], 'Bill deviation': [r'$x_i-\\bar x$'], 'Tip Deviation': [r'$y_i-\\bar y$'], 'Deviation Products': [r'$(x_i-\\bar x)(y_i-\\bar y)$'], 'Bill Deviations Squared': [r'$(x_i-\\bar x)^2$']})\n",
    "tips_df1[['Total bill($)','Tip amount($)', 'Bill deviation','Tip Deviation', 'Deviation Products', 'Bill Deviations Squared']]"
   ]
  },
  {
   "cell_type": "code",
   "execution_count": 163,
   "metadata": {},
   "outputs": [
    {
     "data": {
      "text/html": [
       "<div>\n",
       "<style scoped>\n",
       "    .dataframe tbody tr th:only-of-type {\n",
       "        vertical-align: middle;\n",
       "    }\n",
       "\n",
       "    .dataframe tbody tr th {\n",
       "        vertical-align: top;\n",
       "    }\n",
       "\n",
       "    .dataframe thead th {\n",
       "        text-align: right;\n",
       "    }\n",
       "</style>\n",
       "<table border=\"1\" class=\"dataframe\">\n",
       "  <thead>\n",
       "    <tr style=\"text-align: right;\">\n",
       "      <th></th>\n",
       "      <th>Tip amount($)</th>\n",
       "      <th>Total bill($)</th>\n",
       "      <th>Bill deviation</th>\n",
       "      <th>Tip deviation</th>\n",
       "      <th>Deviation Products</th>\n",
       "      <th>Bill Deviations Squared</th>\n",
       "    </tr>\n",
       "  </thead>\n",
       "  <tbody>\n",
       "    <tr>\n",
       "      <th>0</th>\n",
       "      <td>5</td>\n",
       "      <td>34</td>\n",
       "      <td>-40</td>\n",
       "      <td>-5</td>\n",
       "      <td>200</td>\n",
       "      <td>1600</td>\n",
       "    </tr>\n",
       "    <tr>\n",
       "      <th>1</th>\n",
       "      <td>17</td>\n",
       "      <td>108</td>\n",
       "      <td>34</td>\n",
       "      <td>7</td>\n",
       "      <td>238</td>\n",
       "      <td>1156</td>\n",
       "    </tr>\n",
       "    <tr>\n",
       "      <th>2</th>\n",
       "      <td>11</td>\n",
       "      <td>64</td>\n",
       "      <td>-10</td>\n",
       "      <td>1</td>\n",
       "      <td>-10</td>\n",
       "      <td>100</td>\n",
       "    </tr>\n",
       "    <tr>\n",
       "      <th>3</th>\n",
       "      <td>8</td>\n",
       "      <td>88</td>\n",
       "      <td>14</td>\n",
       "      <td>-2</td>\n",
       "      <td>-28</td>\n",
       "      <td>196</td>\n",
       "    </tr>\n",
       "    <tr>\n",
       "      <th>4</th>\n",
       "      <td>14</td>\n",
       "      <td>99</td>\n",
       "      <td>25</td>\n",
       "      <td>4</td>\n",
       "      <td>100</td>\n",
       "      <td>625</td>\n",
       "    </tr>\n",
       "    <tr>\n",
       "      <th>5</th>\n",
       "      <td>$\\bar y = $ 10.0</td>\n",
       "      <td>$\\bar x = $ 74.0</td>\n",
       "      <td>-</td>\n",
       "      <td>-</td>\n",
       "      <td>$\\sum = $ 615.0</td>\n",
       "      <td>$\\sum = $ 4206.0</td>\n",
       "    </tr>\n",
       "  </tbody>\n",
       "</table>\n",
       "</div>"
      ],
      "text/plain": [
       "      Tip amount($)     Total bill($) Bill deviation Tip deviation  \\\n",
       "0                 5                34            -40            -5   \n",
       "1                17               108             34             7   \n",
       "2                11                64            -10             1   \n",
       "3                 8                88             14            -2   \n",
       "4                14                99             25             4   \n",
       "5  $\\bar y = $ 10.0  $\\bar x = $ 74.0              -             -   \n",
       "\n",
       "  Deviation Products Bill Deviations Squared  \n",
       "0                200                    1600  \n",
       "1                238                    1156  \n",
       "2                -10                     100  \n",
       "3                -28                     196  \n",
       "4                100                     625  \n",
       "5    $\\sum = $ 615.0        $\\sum = $ 4206.0  "
      ]
     },
     "execution_count": 163,
     "metadata": {},
     "output_type": "execute_result"
    }
   ],
   "source": [
    "tips_df = pd.DataFrame({'Total bill($)': [34.00,108.00,64.00,88.00,99.00,51.00],'Tip amount($)': [5.00,17.00,11.00,8.00,14.00,5.00]})\n",
    "tips_df['Bill deviation'] = tips_df['Total bill($)'] - means[0]\n",
    "tips_df['Tip deviation'] = tips_df['Tip amount($)'] - means[1]\n",
    "tips_df['Deviation Products'] = tips_df['Bill deviation'] * tips_df['Tip deviation']\n",
    "tips_df['Bill Deviations Squared'] = tips_df['Bill deviation']**2\n",
    "tips_df[['Total bill($)','Tip amount($)', 'Bill deviation','Tip deviation', 'Deviation Products', 'Bill Deviations Squared']]\n",
    "tips_df.iloc[5] = [r'$\\bar y = $ ' + str(means[1]), r'$\\bar x = $ ' + str(means[0]),'-','-',r'$\\sum = $ ' + str(tips_df['Deviation Products'].sum()),r'$\\sum = $ ' + str(tips_df['Bill Deviations Squared'].sum())]\n",
    "tips_df"
   ]
  },
  {
   "cell_type": "markdown",
   "metadata": {},
   "source": [
    "## Calculations (Slope)"
   ]
  },
  {
   "cell_type": "code",
   "execution_count": 164,
   "metadata": {},
   "outputs": [
    {
     "data": {
      "text/html": [
       "<div>\n",
       "<style scoped>\n",
       "    .dataframe tbody tr th:only-of-type {\n",
       "        vertical-align: middle;\n",
       "    }\n",
       "\n",
       "    .dataframe tbody tr th {\n",
       "        vertical-align: top;\n",
       "    }\n",
       "\n",
       "    .dataframe thead th {\n",
       "        text-align: right;\n",
       "    }\n",
       "</style>\n",
       "<table border=\"1\" class=\"dataframe\">\n",
       "  <thead>\n",
       "    <tr style=\"text-align: right;\">\n",
       "      <th></th>\n",
       "      <th>Deviation Products</th>\n",
       "      <th>Bill Deviations Squared</th>\n",
       "    </tr>\n",
       "  </thead>\n",
       "  <tbody>\n",
       "    <tr>\n",
       "      <th>0</th>\n",
       "      <td>200</td>\n",
       "      <td>1600</td>\n",
       "    </tr>\n",
       "    <tr>\n",
       "      <th>1</th>\n",
       "      <td>238</td>\n",
       "      <td>1156</td>\n",
       "    </tr>\n",
       "    <tr>\n",
       "      <th>2</th>\n",
       "      <td>-10</td>\n",
       "      <td>100</td>\n",
       "    </tr>\n",
       "    <tr>\n",
       "      <th>3</th>\n",
       "      <td>-28</td>\n",
       "      <td>196</td>\n",
       "    </tr>\n",
       "    <tr>\n",
       "      <th>4</th>\n",
       "      <td>100</td>\n",
       "      <td>625</td>\n",
       "    </tr>\n",
       "    <tr>\n",
       "      <th>5</th>\n",
       "      <td>$\\sum = $ 615.0</td>\n",
       "      <td>$\\sum = $ 4206.0</td>\n",
       "    </tr>\n",
       "  </tbody>\n",
       "</table>\n",
       "</div>"
      ],
      "text/plain": [
       "  Deviation Products Bill Deviations Squared\n",
       "0                200                    1600\n",
       "1                238                    1156\n",
       "2                -10                     100\n",
       "3                -28                     196\n",
       "4                100                     625\n",
       "5    $\\sum = $ 615.0        $\\sum = $ 4206.0"
      ]
     },
     "execution_count": 164,
     "metadata": {},
     "output_type": "execute_result"
    }
   ],
   "source": [
    "tips_df[['Deviation Products', 'Bill Deviations Squared']]"
   ]
  },
  {
   "cell_type": "markdown",
   "metadata": {},
   "source": [
    "\\begin{equation}\n",
    "b_1 = \\frac{\\sum (x_i - \\bar x)(y_i - \\bar y)}{\\sum(x_i - \\bar x)^2} \\\\\n",
    "b_1 = \\frac{615}{4206} \\\\\n",
    "b_1 = 0.1462\n",
    "\\end{equation}"
   ]
  },
  {
   "cell_type": "markdown",
   "metadata": {},
   "source": [
    "## $b_0$ Calculations (Y-Intercept)"
   ]
  },
  {
   "cell_type": "code",
   "execution_count": 165,
   "metadata": {},
   "outputs": [
    {
     "data": {
      "text/html": [
       "<div>\n",
       "<style scoped>\n",
       "    .dataframe tbody tr th:only-of-type {\n",
       "        vertical-align: middle;\n",
       "    }\n",
       "\n",
       "    .dataframe tbody tr th {\n",
       "        vertical-align: top;\n",
       "    }\n",
       "\n",
       "    .dataframe thead th {\n",
       "        text-align: right;\n",
       "    }\n",
       "</style>\n",
       "<table border=\"1\" class=\"dataframe\">\n",
       "  <thead>\n",
       "    <tr style=\"text-align: right;\">\n",
       "      <th></th>\n",
       "      <th>Total bill($)</th>\n",
       "      <th>Tip amount($)</th>\n",
       "    </tr>\n",
       "  </thead>\n",
       "  <tbody>\n",
       "    <tr>\n",
       "      <th>0</th>\n",
       "      <td>34</td>\n",
       "      <td>5</td>\n",
       "    </tr>\n",
       "    <tr>\n",
       "      <th>1</th>\n",
       "      <td>108</td>\n",
       "      <td>17</td>\n",
       "    </tr>\n",
       "    <tr>\n",
       "      <th>2</th>\n",
       "      <td>64</td>\n",
       "      <td>11</td>\n",
       "    </tr>\n",
       "    <tr>\n",
       "      <th>3</th>\n",
       "      <td>88</td>\n",
       "      <td>8</td>\n",
       "    </tr>\n",
       "    <tr>\n",
       "      <th>4</th>\n",
       "      <td>99</td>\n",
       "      <td>14</td>\n",
       "    </tr>\n",
       "    <tr>\n",
       "      <th>5</th>\n",
       "      <td>$\\bar x = $ 74.0</td>\n",
       "      <td>$\\bar y = $ 10.0</td>\n",
       "    </tr>\n",
       "  </tbody>\n",
       "</table>\n",
       "</div>"
      ],
      "text/plain": [
       "      Total bill($)     Tip amount($)\n",
       "0                34                 5\n",
       "1               108                17\n",
       "2                64                11\n",
       "3                88                 8\n",
       "4                99                14\n",
       "5  $\\bar x = $ 74.0  $\\bar y = $ 10.0"
      ]
     },
     "execution_count": 165,
     "metadata": {},
     "output_type": "execute_result"
    }
   ],
   "source": [
    "tips_df[['Total bill($)', 'Tip amount($)']]"
   ]
  },
  {
   "cell_type": "markdown",
   "metadata": {},
   "source": [
    "\\begin{equation}\n",
    "b_0 = \\bar y - b_1 \\bar x \\\\\n",
    "b_0 = 10 - (0.1462)74 \\\\\n",
    "b_0 = -0.8188\n",
    "\\end{equation}\n",
    "\n",
    "## Regression Line\n",
    "\\begin{equation}\n",
    "\\hat y_i = b_0 + b_1x_i \\\\\n",
    "b_0 = -0.8188 \\\\\n",
    "b_0 = 0.1462 \\\\\n",
    "\\hat y_i = 0.1462x - 0.8188\n",
    "\\end{equation}"
   ]
  },
  {
   "cell_type": "code",
   "execution_count": 179,
   "metadata": {},
   "outputs": [
    {
     "data": {
      "text/plain": [
       "[<matplotlib.lines.Line2D at 0x7f4ca460e5f8>]"
      ]
     },
     "execution_count": 179,
     "metadata": {},
     "output_type": "execute_result"
    },
    {
     "data": {
      "image/png": "[encoded data removed]",
      "text/plain": [
       "<Figure size 432x288 with 1 Axes>"
      ]
     },
     "metadata": {},
     "output_type": "display_data"
    }
   ],
   "source": [
    "tips_df = pd.DataFrame({'Bill($)': [34.00,108.00,64.00,88.00,99.00,51.00],'Tip($)': [5.00,17.00,11.00,8.00,14.00,5.00]})\n",
    "plt.scatter(tips_df['Bill($)'], tips_df['Tip($)'])\n",
    "plt.xlabel('Bill amount ($)')\n",
    "plt.ylabel('Tip amount ($)')\n",
    "plt.title('Meal bill vs Tip amount ($)')\n",
    "plt.scatter(tips_df.mean()[0], tips_df.mean()[1])\n",
    "plt.ylim(0,18)\n",
    "plt.text(76,10,\" (74,10) CENTROID\")\n",
    "plt.text(76,16, r'$y=0.1462x - 0.8188$')\n",
    "x1 = np.linspace(35,110,6)\n",
    "y1 = 0.1462*x1 - 0.8188\n",
    "plt.plot(x1,y1)"
   ]
  },
  {
   "cell_type": "markdown",
   "metadata": {},
   "source": [
    "For every $1 dollar amount (x) increases, we would expect the tip amount to increase by $0.1462 or about 15 cents\n",
    "\n",
    "If the bill amount (x) is zero, then the expected/predicted tip amount is $-0.8188 or negative 82 cents! Does this make sense? NO. The intercept may or may not make sense in the \"real world.\""
   ]
  },
  {
   "cell_type": "markdown",
   "metadata": {},
   "source": [
    "# Fit and the Coefficient of Determination"
   ]
  },
  {
   "cell_type": "code",
   "execution_count": 186,
   "metadata": {},
   "outputs": [
    {
     "name": "stdout",
     "output_type": "stream",
     "text": [
      "The Residuals - the distance between the best fit line($10) and the observed values\n"
     ]
    },
    {
     "data": {
      "text/plain": [
       "Text(0.5,1,'Tip amount($)')"
      ]
     },
     "execution_count": 186,
     "metadata": {},
     "output_type": "execute_result"
    },
    {
     "data": {
      "image/png": "[encoded data removed]",
      "text/plain": [
       "<Figure size 1440x720 with 2 Axes>"
      ]
     },
     "metadata": {},
     "output_type": "display_data"
    }
   ],
   "source": [
    "tips_df = pd.DataFrame({'Bill($)': [34.00,108.00,64.00,88.00,99.00,51.00],'Tip($)': [5.00,17.00,11.00,8.00,14.00,5.00]})\n",
    "fig = plt.figure(figsize=(20,10))\n",
    "ax1 = fig.add_subplot(1,2,1)\n",
    "ax1.scatter(tips_df['Bill($)'], tips_df['Tip($)'])\n",
    "ax1.set_xlabel('Bill amount ($)')\n",
    "ax1.set_ylabel('Tip amount ($)')\n",
    "ax1.set_title('Meal bill vs Tip amount ($)')\n",
    "ax1.scatter(tips_df.mean()[0], tips_df.mean()[1])\n",
    "ax1.set_ylim(0,18)\n",
    "ax1.text(76,10,\" (74,10) CENTROID\")\n",
    "ax1.text(76,16, r'$y=0.1462x - 0.8188$')\n",
    "x1 = np.linspace(35,110,6)\n",
    "y1 = 0.1462*x1 - 0.8188\n",
    "ax1.plot(x1,y1)\n",
    "\n",
    "ax2 = fig.add_subplot(1,2,2)\n",
    "ax2.scatter([1,2,3,4,5,6], tips_df['Tip($)'])\n",
    "ax2.set_xlabel('Meal #')\n",
    "ax2.set_ylabel('Tips($)')\n",
    "ax2.set_ylim(0,20)\n",
    "ax2.axhline(y=tips_mean, color='r', linestyle='--')\n",
    "for i in range(0,6):\n",
    "    normalized = tips_df.loc[i, 'Tip($)']/(20-0)\n",
    "    distance = tips_df.loc[i, 'Tip($)'] - 10\n",
    "    ax2.axvline(i+1,.5,normalized)\n",
    "    ax2.text(i+1.2,tips_df.loc[i, 'Tip($)'],distance)\n",
    "    \n",
    "print(\"The Residuals - the distance between the best fit line($10) and the observed values\")\n",
    "ax2.text(2.5, 5,'RESIDUALS (ERROR)')\n",
    "ax2.set_title('Tip amount($)')"
   ]
  },
  {
   "cell_type": "markdown",
   "metadata": {},
   "source": [
    "With only the depandent variable, the only sum of squares is due to error. Therefore it is also the total, and MAXIMUM sum of squares for the data under analysis.\n",
    "- SSE = 120\n",
    "- SSE = SST\n",
    "- SST = 120\n",
    "\n",
    "With both IV and DV, the total sum of squares remains the same. But (ideally) the error sum of squares will be reduced significantly. The difference between SST and SSE is due to regression, SSR\n",
    "- SST = 120\n",
    "- SSE = ?\n",
    "- SST - SSE = SSR"
   ]
  },
  {
   "cell_type": "code",
   "execution_count": 197,
   "metadata": {},
   "outputs": [
    {
     "data": {
      "text/html": [
       "<div>\n",
       "<style scoped>\n",
       "    .dataframe tbody tr th:only-of-type {\n",
       "        vertical-align: middle;\n",
       "    }\n",
       "\n",
       "    .dataframe tbody tr th {\n",
       "        vertical-align: top;\n",
       "    }\n",
       "\n",
       "    .dataframe thead th {\n",
       "        text-align: right;\n",
       "    }\n",
       "</style>\n",
       "<table border=\"1\" class=\"dataframe\">\n",
       "  <thead>\n",
       "    <tr style=\"text-align: right;\">\n",
       "      <th></th>\n",
       "      <th>Tip amount($)</th>\n",
       "      <th>Total bill($)</th>\n",
       "      <th>y hat Calc</th>\n",
       "      <th>$\\hat y_i$(predicted tip amount)</th>\n",
       "    </tr>\n",
       "  </thead>\n",
       "  <tbody>\n",
       "    <tr>\n",
       "      <th>0</th>\n",
       "      <td>5.0</td>\n",
       "      <td>34.0</td>\n",
       "      <td>y = 0.1462(34) - 0.8188</td>\n",
       "      <td>4.1520</td>\n",
       "    </tr>\n",
       "    <tr>\n",
       "      <th>1</th>\n",
       "      <td>17.0</td>\n",
       "      <td>108.0</td>\n",
       "      <td>y = 0.1462(108) - 0.8188</td>\n",
       "      <td>14.9708</td>\n",
       "    </tr>\n",
       "    <tr>\n",
       "      <th>2</th>\n",
       "      <td>11.0</td>\n",
       "      <td>64.0</td>\n",
       "      <td>y = 0.1462(64) - 0.8188</td>\n",
       "      <td>8.5380</td>\n",
       "    </tr>\n",
       "    <tr>\n",
       "      <th>3</th>\n",
       "      <td>8.0</td>\n",
       "      <td>88.0</td>\n",
       "      <td>y = 0.1462(88) - 0.8188</td>\n",
       "      <td>12.0468</td>\n",
       "    </tr>\n",
       "    <tr>\n",
       "      <th>4</th>\n",
       "      <td>14.0</td>\n",
       "      <td>99.0</td>\n",
       "      <td>y = 0.1462(99) - 0.8188</td>\n",
       "      <td>13.6550</td>\n",
       "    </tr>\n",
       "    <tr>\n",
       "      <th>5</th>\n",
       "      <td>5.0</td>\n",
       "      <td>51.0</td>\n",
       "      <td>y = 0.1462(51) - 0.8188</td>\n",
       "      <td>6.6374</td>\n",
       "    </tr>\n",
       "  </tbody>\n",
       "</table>\n",
       "</div>"
      ],
      "text/plain": [
       "   Tip amount($)  Total bill($)                y hat Calc  \\\n",
       "0            5.0           34.0   y = 0.1462(34) - 0.8188   \n",
       "1           17.0          108.0  y = 0.1462(108) - 0.8188   \n",
       "2           11.0           64.0   y = 0.1462(64) - 0.8188   \n",
       "3            8.0           88.0   y = 0.1462(88) - 0.8188   \n",
       "4           14.0           99.0   y = 0.1462(99) - 0.8188   \n",
       "5            5.0           51.0   y = 0.1462(51) - 0.8188   \n",
       "\n",
       "   $\\hat y_i$(predicted tip amount)  \n",
       "0                            4.1520  \n",
       "1                           14.9708  \n",
       "2                            8.5380  \n",
       "3                           12.0468  \n",
       "4                           13.6550  \n",
       "5                            6.6374  "
      ]
     },
     "execution_count": 197,
     "metadata": {},
     "output_type": "execute_result"
    }
   ],
   "source": [
    "est_df = pd.DataFrame({'Total bill($)': [34.00,108.00,64.00,88.00,99.00,51.00],'Tip amount($)': [5.00,17.00,11.00,8.00,14.00,5.00]})\n",
    "est_df['y hat Calc'] = ['y = 0.1462(34) - 0.8188','y = 0.1462(108) - 0.8188','y = 0.1462(64) - 0.8188','y = 0.1462(88) - 0.8188','y = 0.1462(99) - 0.8188','y = 0.1462(51) - 0.8188']\n",
    "est_df[r'$\\hat y_i$' + '(predicted tip amount)'] = est_df['Total bill($)'].apply(lambda x: 0.1462*x - 0.8188) \n",
    "est_df"
   ]
  },
  {
   "cell_type": "code",
   "execution_count": 220,
   "metadata": {},
   "outputs": [
    {
     "data": {
      "text/plain": [
       "<matplotlib.collections.PathCollection at 0x7f4ca4875e48>"
      ]
     },
     "execution_count": 220,
     "metadata": {},
     "output_type": "execute_result"
    },
    {
     "data": {
      "image/png": "[encoded data removed]",
      "text/plain": [
       "<Figure size 432x288 with 1 Axes>"
      ]
     },
     "metadata": {},
     "output_type": "display_data"
    }
   ],
   "source": [
    "plt.scatter(np.sort(est_df['Total bill($)']), np.sort(est_df[r'$\\hat y_i$' + '(predicted tip amount)']))\n",
    "sorted_value = np.sort(est_df[r'$\\hat y_i$' + '(predicted tip amount)'])\n",
    "sorted_index = np.sort(est_df['Total bill($)'])\n",
    "j = 0\n",
    "for i in sorted_index:\n",
    "    plt.text(i+1.2,sorted_value[j], sorted_value[j])\n",
    "    j = j+1\n",
    "plt.plot(np.sort(est_df['Total bill($)']), np.sort(est_df[r'$\\hat y_i$' + '(predicted tip amount)']))\n",
    "plt.scatter(tips_df['Bill($)'], tips_df['Tip($)'])\n"
   ]
  },
  {
   "cell_type": "code",
   "execution_count": 218,
   "metadata": {},
   "outputs": [
    {
     "name": "stdout",
     "output_type": "stream",
     "text": [
      "SSE = 30.074894640000007\n"
     ]
    },
    {
     "data": {
      "text/html": [
       "<div>\n",
       "<style scoped>\n",
       "    .dataframe tbody tr th:only-of-type {\n",
       "        vertical-align: middle;\n",
       "    }\n",
       "\n",
       "    .dataframe tbody tr th {\n",
       "        vertical-align: top;\n",
       "    }\n",
       "\n",
       "    .dataframe thead th {\n",
       "        text-align: right;\n",
       "    }\n",
       "</style>\n",
       "<table border=\"1\" class=\"dataframe\">\n",
       "  <thead>\n",
       "    <tr style=\"text-align: right;\">\n",
       "      <th></th>\n",
       "      <th>Total bill($)</th>\n",
       "      <th>Tip amount($)</th>\n",
       "      <th>$\\hat y_i$(predicted tip amount)</th>\n",
       "      <th>Error(observed - predicted)</th>\n",
       "      <th>Squared Error</th>\n",
       "    </tr>\n",
       "  </thead>\n",
       "  <tbody>\n",
       "    <tr>\n",
       "      <th>0</th>\n",
       "      <td>34.0</td>\n",
       "      <td>5.0</td>\n",
       "      <td>4.1520</td>\n",
       "      <td>0.8480</td>\n",
       "      <td>0.719104</td>\n",
       "    </tr>\n",
       "    <tr>\n",
       "      <th>1</th>\n",
       "      <td>108.0</td>\n",
       "      <td>17.0</td>\n",
       "      <td>14.9708</td>\n",
       "      <td>2.0292</td>\n",
       "      <td>4.117653</td>\n",
       "    </tr>\n",
       "    <tr>\n",
       "      <th>2</th>\n",
       "      <td>64.0</td>\n",
       "      <td>11.0</td>\n",
       "      <td>8.5380</td>\n",
       "      <td>2.4620</td>\n",
       "      <td>6.061444</td>\n",
       "    </tr>\n",
       "    <tr>\n",
       "      <th>3</th>\n",
       "      <td>88.0</td>\n",
       "      <td>8.0</td>\n",
       "      <td>12.0468</td>\n",
       "      <td>-4.0468</td>\n",
       "      <td>16.376590</td>\n",
       "    </tr>\n",
       "    <tr>\n",
       "      <th>4</th>\n",
       "      <td>99.0</td>\n",
       "      <td>14.0</td>\n",
       "      <td>13.6550</td>\n",
       "      <td>0.3450</td>\n",
       "      <td>0.119025</td>\n",
       "    </tr>\n",
       "    <tr>\n",
       "      <th>5</th>\n",
       "      <td>51.0</td>\n",
       "      <td>5.0</td>\n",
       "      <td>6.6374</td>\n",
       "      <td>-1.6374</td>\n",
       "      <td>2.681079</td>\n",
       "    </tr>\n",
       "  </tbody>\n",
       "</table>\n",
       "</div>"
      ],
      "text/plain": [
       "   Total bill($)  Tip amount($)  $\\hat y_i$(predicted tip amount)  \\\n",
       "0           34.0            5.0                            4.1520   \n",
       "1          108.0           17.0                           14.9708   \n",
       "2           64.0           11.0                            8.5380   \n",
       "3           88.0            8.0                           12.0468   \n",
       "4           99.0           14.0                           13.6550   \n",
       "5           51.0            5.0                            6.6374   \n",
       "\n",
       "   Error(observed - predicted)  Squared Error  \n",
       "0                       0.8480       0.719104  \n",
       "1                       2.0292       4.117653  \n",
       "2                       2.4620       6.061444  \n",
       "3                      -4.0468      16.376590  \n",
       "4                       0.3450       0.119025  \n",
       "5                      -1.6374       2.681079  "
      ]
     },
     "execution_count": 218,
     "metadata": {},
     "output_type": "execute_result"
    }
   ],
   "source": [
    "est_df['Error(observed - predicted)'] = est_df['Tip amount($)'] - est_df[r'$\\hat y_i$' + '(predicted tip amount)']\n",
    "est_df['Squared Error'] = est_df['Error(observed - predicted)']**2\n",
    "print('SSE = ' + str(est_df['Squared Error'].sum()))\n",
    "est_df[['Total bill($)','Tip amount($)', r'$\\hat y_i$' + '(predicted tip amount)', 'Error(observed - predicted)','Squared Error']]\n"
   ]
  },
  {
   "cell_type": "markdown",
   "metadata": {},
   "source": [
    "D.V. and I.V (Tip amount as a function of meal amount) has a SSE = 30.075\n",
    "\n",
    "D.V (Tip amount) ONLY has a SSE = 120\n",
    "\n",
    "So when we conducted the regression, the SSE decreased from 120 to 30.075. That is, 30.075 of the sum of squares was explained or allocated to ERROR.\n",
    "\n",
    "Where did the other 89.925 go? The 89.925 is the sum of squares due to REGRESSION\n",
    "\n",
    "SST = SSR + SSE\n",
    "\n",
    "120 = 89.925 + 30.075"
   ]
  },
  {
   "cell_type": "markdown",
   "metadata": {},
   "source": [
    "## Coefficient of Determination\n",
    "How well does the estimated regression equation fit our data?\n",
    "\n",
    "This is where regression begins to look a lot like ANOVA; the total sum of squares is partitioned or allocated to SSE and SSR\n",
    "\n",
    "If SSR is large, it uses up more of SST and therefore SSE is smaller relative to SST. The coefficient of determination quantifies this ratio as a percentage.\n",
    "\n",
    "Coefficient of Determination =\n",
    "\\begin{equation}\n",
    "r^2 = \\frac{SSR}{SST}\n",
    "\\end{equation}\n",
    "\n",
    "Coefficient of Determination =\n",
    "\\begin{equation}\n",
    "r^2 = \\frac{SSR}{SST} \\\\\n",
    "r^2 = \\frac{89.925}{120} \\\\\n",
    "r^2 = 0.7493 or 74.92\\%\n",
    "\\end{equation}\n",
    "\n",
    "We can conclude that 74.93% of the total sum of squares can be explained by using the estimated regression equation to predict the tip amount. The remainder is error.\n",
    "\n",
    "$\\hat y_i$ = 0.1462x - 0.8188\n",
    "\n",
    "where x is the dollar amount of the bill"
   ]
  },
  {
   "cell_type": "code",
   "execution_count": 258,
   "metadata": {},
   "outputs": [
    {
     "data": {
      "text/plain": [
       "Text(100,8,'$SST = \\\\sum (y_i - \\\\bar y_i)^2$')"
      ]
     },
     "execution_count": 258,
     "metadata": {},
     "output_type": "execute_result"
    },
    {
     "data": {
      "image/png": "[encoded data removed]",
      "text/plain": [
       "<Figure size 432x288 with 1 Axes>"
      ]
     },
     "metadata": {},
     "output_type": "display_data"
    }
   ],
   "source": [
    "plt.scatter(np.sort(est_df['Total bill($)']), np.sort(est_df[r'$\\hat y_i$' + '(predicted tip amount)']))\n",
    "sorted_value = np.sort(est_df[r'$\\hat y_i$' + '(predicted tip amount)'])\n",
    "sorted_index = np.sort(est_df['Total bill($)'])\n",
    "j = 0\n",
    "for i in sorted_index:\n",
    "    plt.text(i+1.2,sorted_value[j], sorted_value[j])\n",
    "    j = j+1\n",
    "plt.plot(np.sort(est_df['Total bill($)']), np.sort(est_df[r'$\\hat y_i$' + '(predicted tip amount)']))\n",
    "plt.scatter(tips_df['Bill($)'], tips_df['Tip($)'])\n",
    "plt.axhline(10,0,1, linestyle='--', color ='black')\n",
    "plt.axvline(88, .3, .45, color = 'g', linewidth =4)\n",
    "plt.axvline(88, .45, .6, color = 'b', linewidth =4)\n",
    "plt.axvline(108, .8, .95, color = 'r', linewidth =4)\n",
    "plt.text(50, 14, r'$SSE = \\sum (y_i - \\hat y_i)^2$', color = 'r', fontsize=14)\n",
    "plt.text(70, 4, r'$SSR = \\sum (\\hat y_i - \\bar y_i)^2$', color = 'b', fontsize=14)\n",
    "plt.text(100, 8, r'$SST = \\sum (y_i - \\bar y_i)^2$', color = 'g', fontsize=14)"
   ]
  },
  {
   "cell_type": "code",
   "execution_count": null,
   "metadata": {},
   "outputs": [],
   "source": []
  }
 ],
 "metadata": {
  "kernelspec": {
   "display_name": "Python 3",
   "language": "python",
   "name": "python3"
  },
  "language_info": {
   "codemirror_mode": {
    "name": "ipython",
    "version": 3
   },
   "file_extension": ".py",
   "mimetype": "text/x-python",
   "name": "python",
   "nbconvert_exporter": "python",
   "pygments_lexer": "ipython3",
   "version": "3.6.5"
  }
 },
 "nbformat": 4,
 "nbformat_minor": 2
}
