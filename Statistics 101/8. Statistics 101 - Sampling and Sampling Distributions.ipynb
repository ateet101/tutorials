{
 "cells": [
  {
   "cell_type": "code",
   "execution_count": 1,
   "metadata": {},
   "outputs": [],
   "source": [
    "import pandas as pd\n",
    "import seaborn as sns\n",
    "import numpy as np\n",
    "import math\n",
    "import matplotlib.pyplot as plt\n",
    "from random import randint\n",
    "import scipy.stats as ss\n",
    "#from scipy.stats import norm, kurtosis, skew\n",
    "import itertools as itt\n",
    "import lxml\n",
    "sns.set(rc={'figure.figsize':(11.7,8.27)})"
   ]
  },
  {
   "cell_type": "markdown",
   "metadata": {},
   "source": [
    "# Point Estimators\n",
    "\n",
    "The ability to estimate population parameters using sample data\n",
    "## Problem Statistical Quality Control\n",
    "High Way Paving, Inc is a company specializing in residential road surfacing. Many of its clients seek out its specialized product; low noise pavement. Recycled rubber can be added to asphalt mixtures to reduce road noise which appeals to environmentally-conscious clients.\n",
    "\n",
    "However the viscosity (resistance to flow) must be maintained within very tight limits otherwise it may be too thick or too \"watery.\" The goal of viscosity of 3200.\n",
    "\n",
    "During the manufacture of each batch of asphalt, the quality control specialist takes 15 samples of the material and tests the viscosity. This also ensures the batch has uniform viscosity.\n",
    "\n",
    "Points of Note:\n",
    "- There is no way to test every ounce of asphalt (population). Therefore the comapny must take samples.\n",
    "- From those samples HWP must then make inferences about the entire batch.\n",
    "- The inferences made using sample are by definition incomplete; therefore the sample characteristics will always have some error built in."
   ]
  },
  {
   "cell_type": "code",
   "execution_count": 7,
   "metadata": {},
   "outputs": [
    {
     "data": {
      "text/html": [
       "<div>\n",
       "<style scoped>\n",
       "    .dataframe tbody tr th:only-of-type {\n",
       "        vertical-align: middle;\n",
       "    }\n",
       "\n",
       "    .dataframe tbody tr th {\n",
       "        vertical-align: top;\n",
       "    }\n",
       "\n",
       "    .dataframe thead th {\n",
       "        text-align: right;\n",
       "    }\n",
       "</style>\n",
       "<table border=\"1\" class=\"dataframe\">\n",
       "  <thead>\n",
       "    <tr style=\"text-align: right;\">\n",
       "      <th></th>\n",
       "      <th>Specimen</th>\n",
       "      <th>Viscosity</th>\n",
       "    </tr>\n",
       "  </thead>\n",
       "  <tbody>\n",
       "    <tr>\n",
       "      <th>0</th>\n",
       "      <td>1</td>\n",
       "      <td>3193</td>\n",
       "    </tr>\n",
       "    <tr>\n",
       "      <th>1</th>\n",
       "      <td>2</td>\n",
       "      <td>3124</td>\n",
       "    </tr>\n",
       "    <tr>\n",
       "      <th>2</th>\n",
       "      <td>3</td>\n",
       "      <td>3153</td>\n",
       "    </tr>\n",
       "    <tr>\n",
       "      <th>3</th>\n",
       "      <td>4</td>\n",
       "      <td>3145</td>\n",
       "    </tr>\n",
       "    <tr>\n",
       "      <th>4</th>\n",
       "      <td>5</td>\n",
       "      <td>3093</td>\n",
       "    </tr>\n",
       "    <tr>\n",
       "      <th>5</th>\n",
       "      <td>6</td>\n",
       "      <td>3466</td>\n",
       "    </tr>\n",
       "    <tr>\n",
       "      <th>6</th>\n",
       "      <td>7</td>\n",
       "      <td>3355</td>\n",
       "    </tr>\n",
       "    <tr>\n",
       "      <th>7</th>\n",
       "      <td>8</td>\n",
       "      <td>2979</td>\n",
       "    </tr>\n",
       "    <tr>\n",
       "      <th>8</th>\n",
       "      <td>9</td>\n",
       "      <td>3182</td>\n",
       "    </tr>\n",
       "    <tr>\n",
       "      <th>9</th>\n",
       "      <td>10</td>\n",
       "      <td>3227</td>\n",
       "    </tr>\n",
       "    <tr>\n",
       "      <th>10</th>\n",
       "      <td>11</td>\n",
       "      <td>3256</td>\n",
       "    </tr>\n",
       "    <tr>\n",
       "      <th>11</th>\n",
       "      <td>12</td>\n",
       "      <td>3332</td>\n",
       "    </tr>\n",
       "    <tr>\n",
       "      <th>12</th>\n",
       "      <td>13</td>\n",
       "      <td>3204</td>\n",
       "    </tr>\n",
       "    <tr>\n",
       "      <th>13</th>\n",
       "      <td>14</td>\n",
       "      <td>3282</td>\n",
       "    </tr>\n",
       "    <tr>\n",
       "      <th>14</th>\n",
       "      <td>15</td>\n",
       "      <td>3170</td>\n",
       "    </tr>\n",
       "  </tbody>\n",
       "</table>\n",
       "</div>"
      ],
      "text/plain": [
       "    Specimen  Viscosity\n",
       "0          1       3193\n",
       "1          2       3124\n",
       "2          3       3153\n",
       "3          4       3145\n",
       "4          5       3093\n",
       "5          6       3466\n",
       "6          7       3355\n",
       "7          8       2979\n",
       "8          9       3182\n",
       "9         10       3227\n",
       "10        11       3256\n",
       "11        12       3332\n",
       "12        13       3204\n",
       "13        14       3282\n",
       "14        15       3170"
      ]
     },
     "execution_count": 7,
     "metadata": {},
     "output_type": "execute_result"
    }
   ],
   "source": [
    "qc_df = pd.DataFrame({'Specimen': range(1,16), 'Viscosity': [3193,3124,3153,3145,3093,3466,3355,2979,3182,3227,3256,3332,3204,3282,3170]})\n",
    "qc_df"
   ]
  },
  {
   "cell_type": "markdown",
   "metadata": {},
   "source": [
    "Sample mean\n",
    "\n",
    "$\\bar x = 3210.73$\n",
    "\n",
    "Sample Standard Deviation\n",
    "\n",
    "$s = 117.61$"
   ]
  },
  {
   "cell_type": "markdown",
   "metadata": {},
   "source": [
    "Since this is a sample mean we do not expect it to be exactly 3200. But is 3210.72 close enough to our goal to be acceptable?\n",
    "\n",
    "Does this sample accurately reflect the viscosity parameter of the overall batch (population)\n",
    "\n",
    "Point estimates are never perfect; they always have an error component. This is commonly referred to as \"margin of error\" both in statistics and popular culture.\n",
    "\n",
    "Technically, the error component is expressed as a confidence interval"
   ]
  },
  {
   "cell_type": "markdown",
   "metadata": {},
   "source": [
    "# Sampling Distributions\n",
    "Does this sample accurately reflect the viscosity parameter of the overall batch (population)?\n",
    "\n",
    "The answer is YES, but to prove this lets take multiple samples\n",
    "\n",
    "9 Samples of Size 15"
   ]
  },
  {
   "cell_type": "code",
   "execution_count": 28,
   "metadata": {},
   "outputs": [
    {
     "data": {
      "text/html": [
       "<div>\n",
       "<style scoped>\n",
       "    .dataframe tbody tr th:only-of-type {\n",
       "        vertical-align: middle;\n",
       "    }\n",
       "\n",
       "    .dataframe tbody tr th {\n",
       "        vertical-align: top;\n",
       "    }\n",
       "\n",
       "    .dataframe thead th {\n",
       "        text-align: right;\n",
       "    }\n",
       "</style>\n",
       "<table border=\"1\" class=\"dataframe\">\n",
       "  <thead>\n",
       "    <tr style=\"text-align: right;\">\n",
       "      <th></th>\n",
       "      <th>Sample #</th>\n",
       "      <th>Sample_Mean</th>\n",
       "    </tr>\n",
       "  </thead>\n",
       "  <tbody>\n",
       "    <tr>\n",
       "      <th>0</th>\n",
       "      <td>1</td>\n",
       "      <td>3210.73</td>\n",
       "    </tr>\n",
       "    <tr>\n",
       "      <th>1</th>\n",
       "      <td>2</td>\n",
       "      <td>3150.13</td>\n",
       "    </tr>\n",
       "    <tr>\n",
       "      <th>2</th>\n",
       "      <td>3</td>\n",
       "      <td>3345.54</td>\n",
       "    </tr>\n",
       "    <tr>\n",
       "      <th>3</th>\n",
       "      <td>4</td>\n",
       "      <td>3190.67</td>\n",
       "    </tr>\n",
       "    <tr>\n",
       "      <th>4</th>\n",
       "      <td>5</td>\n",
       "      <td>3217.90</td>\n",
       "    </tr>\n",
       "    <tr>\n",
       "      <th>5</th>\n",
       "      <td>6</td>\n",
       "      <td>3301.45</td>\n",
       "    </tr>\n",
       "    <tr>\n",
       "      <th>6</th>\n",
       "      <td>7</td>\n",
       "      <td>3100.72</td>\n",
       "    </tr>\n",
       "    <tr>\n",
       "      <th>7</th>\n",
       "      <td>8</td>\n",
       "      <td>3413.01</td>\n",
       "    </tr>\n",
       "    <tr>\n",
       "      <th>8</th>\n",
       "      <td>9</td>\n",
       "      <td>3023.59</td>\n",
       "    </tr>\n",
       "  </tbody>\n",
       "</table>\n",
       "</div>"
      ],
      "text/plain": [
       "   Sample #  Sample_Mean\n",
       "0         1      3210.73\n",
       "1         2      3150.13\n",
       "2         3      3345.54\n",
       "3         4      3190.67\n",
       "4         5      3217.90\n",
       "5         6      3301.45\n",
       "6         7      3100.72\n",
       "7         8      3413.01\n",
       "8         9      3023.59"
      ]
     },
     "execution_count": 28,
     "metadata": {},
     "output_type": "execute_result"
    }
   ],
   "source": [
    "qc_df = pd.DataFrame({'Sample #': range(1,10), 'Sample_Mean': [3210.73,3150.13,3345.54,3190.67,3217.90,3301.45,3100.72,3413.01,3023.59]})\n",
    "qc_df"
   ]
  },
  {
   "cell_type": "code",
   "execution_count": 33,
   "metadata": {},
   "outputs": [
    {
     "data": {
      "text/html": [
       "<div>\n",
       "<style scoped>\n",
       "    .dataframe tbody tr th:only-of-type {\n",
       "        vertical-align: middle;\n",
       "    }\n",
       "\n",
       "    .dataframe tbody tr th {\n",
       "        vertical-align: top;\n",
       "    }\n",
       "\n",
       "    .dataframe thead th {\n",
       "        text-align: right;\n",
       "    }\n",
       "</style>\n",
       "<table border=\"1\" class=\"dataframe\">\n",
       "  <thead>\n",
       "    <tr style=\"text-align: right;\">\n",
       "      <th></th>\n",
       "      <th>.Range</th>\n",
       "      <th>Frequency</th>\n",
       "    </tr>\n",
       "  </thead>\n",
       "  <tbody>\n",
       "    <tr>\n",
       "      <th>0</th>\n",
       "      <td>2950-3049</td>\n",
       "      <td>l</td>\n",
       "    </tr>\n",
       "    <tr>\n",
       "      <th>1</th>\n",
       "      <td>3050-3149</td>\n",
       "      <td>l</td>\n",
       "    </tr>\n",
       "    <tr>\n",
       "      <th>2</th>\n",
       "      <td>3150-3249</td>\n",
       "      <td>llll</td>\n",
       "    </tr>\n",
       "    <tr>\n",
       "      <th>3</th>\n",
       "      <td>3250-3349</td>\n",
       "      <td>ll</td>\n",
       "    </tr>\n",
       "    <tr>\n",
       "      <th>4</th>\n",
       "      <td>3350-3449</td>\n",
       "      <td>l</td>\n",
       "    </tr>\n",
       "  </tbody>\n",
       "</table>\n",
       "</div>"
      ],
      "text/plain": [
       "      .Range Frequency\n",
       "0  2950-3049         l\n",
       "1  3050-3149         l\n",
       "2  3150-3249      llll\n",
       "3  3250-3349        ll\n",
       "4  3350-3449         l"
      ]
     },
     "execution_count": 33,
     "metadata": {},
     "output_type": "execute_result"
    }
   ],
   "source": [
    "bins_df = pd.DataFrame({'.Range': ['2950-3049','3050-3149','3150-3249','3250-3349','3350-3449'], 'Frequency': ['l','l','llll','ll','l']})\n",
    "bins_df"
   ]
  },
  {
   "cell_type": "code",
   "execution_count": 31,
   "metadata": {},
   "outputs": [
    {
     "data": {
      "text/plain": [
       "[1, 1, 4, 2, 1]"
      ]
     },
     "execution_count": 31,
     "metadata": {},
     "output_type": "execute_result"
    }
   ],
   "source": [
    "bin1 = qc_df.Sample_Mean[(qc_df['Sample_Mean'] > 2949) & (qc_df['Sample_Mean'] < 3050)]\n",
    "bin2 = qc_df.Sample_Mean[(qc_df['Sample_Mean'] > 3049) & (qc_df['Sample_Mean'] < 3150)]\n",
    "bin3 = qc_df.Sample_Mean[(qc_df['Sample_Mean'] > 3149) & (qc_df['Sample_Mean'] < 3250)]\n",
    "bin4 = qc_df.Sample_Mean[(qc_df['Sample_Mean'] > 3249) & (qc_df['Sample_Mean'] < 3350)]\n",
    "bin5 = qc_df.Sample_Mean[(qc_df['Sample_Mean'] > 3349) & (qc_df['Sample_Mean'] < 3450)]\n",
    "bins = [len(bin1),len(bin2),len(bin3),len(bin4),len(bin5)]\n",
    "bins"
   ]
  },
  {
   "cell_type": "code",
   "execution_count": 36,
   "metadata": {},
   "outputs": [
    {
     "data": {
      "text/plain": [
       "Text(0.5,1,'Viscosity Sampling Distribution')"
      ]
     },
     "execution_count": 36,
     "metadata": {},
     "output_type": "execute_result"
    },
    {
     "data": {
      "image/png": "[encoded data removed]",
      "text/plain": [
       "<Figure size 432x288 with 1 Axes>"
      ]
     },
     "metadata": {},
     "output_type": "display_data"
    }
   ],
   "source": [
    "ax = sns.barplot(data = bins_df, x = '.Range', y=bins)\n",
    "ax.set_title('Viscosity Sampling Distribution')"
   ]
  },
  {
   "cell_type": "markdown",
   "metadata": {},
   "source": [
    "If we take many random samples from the population each with its own sample mean and then create a distribution based on all those sample means, the mean of that sampling distribution is equal to the mean of the population.\n",
    "\n",
    "- The expected value of the sampling distribution of $\\bar x$ is at best going to be an estimate of $\\mu$"
   ]
  },
  {
   "cell_type": "markdown",
   "metadata": {},
   "source": [
    "# Standard Error of the Mean"
   ]
  },
  {
   "cell_type": "markdown",
   "metadata": {},
   "source": [
    "High Way Paving, Inc is a company specializing in residential road surfacing. Many of its clients seek out its specialized product; low noise pavement. Recycled rubber can be added to asphalt mixtures to reduce road noise which appeals to environmentally-conscious clients.\n",
    "\n",
    "However the viscosity (resistance to flow) must be maintained within very tight limits otherwise it may be too thick or too \"watery.\" The goal of viscosity of 3200.\n",
    "\n",
    "Over several years of production and quality measurements, HWP has determined that the viscosity population mean and standard deviation for the low noise pavement are:\n",
    "\n",
    "$\\mu = 3200$ and $\\sigma = 150$\n",
    "\n",
    "During the manufacture of each batch of asphalt, the quality control specialist takes 15 samples of the material and tests the viscosity. This also ensures the batch has uniform viscosity."
   ]
  },
  {
   "cell_type": "code",
   "execution_count": 37,
   "metadata": {},
   "outputs": [
    {
     "data": {
      "text/html": [
       "<div>\n",
       "<style scoped>\n",
       "    .dataframe tbody tr th:only-of-type {\n",
       "        vertical-align: middle;\n",
       "    }\n",
       "\n",
       "    .dataframe tbody tr th {\n",
       "        vertical-align: top;\n",
       "    }\n",
       "\n",
       "    .dataframe thead th {\n",
       "        text-align: right;\n",
       "    }\n",
       "</style>\n",
       "<table border=\"1\" class=\"dataframe\">\n",
       "  <thead>\n",
       "    <tr style=\"text-align: right;\">\n",
       "      <th></th>\n",
       "      <th>Sample #</th>\n",
       "      <th>Sample_Mean</th>\n",
       "    </tr>\n",
       "  </thead>\n",
       "  <tbody>\n",
       "    <tr>\n",
       "      <th>0</th>\n",
       "      <td>1</td>\n",
       "      <td>3210.73</td>\n",
       "    </tr>\n",
       "    <tr>\n",
       "      <th>1</th>\n",
       "      <td>2</td>\n",
       "      <td>3150.13</td>\n",
       "    </tr>\n",
       "    <tr>\n",
       "      <th>2</th>\n",
       "      <td>3</td>\n",
       "      <td>3345.54</td>\n",
       "    </tr>\n",
       "    <tr>\n",
       "      <th>3</th>\n",
       "      <td>4</td>\n",
       "      <td>3190.67</td>\n",
       "    </tr>\n",
       "    <tr>\n",
       "      <th>4</th>\n",
       "      <td>5</td>\n",
       "      <td>3217.90</td>\n",
       "    </tr>\n",
       "    <tr>\n",
       "      <th>5</th>\n",
       "      <td>6</td>\n",
       "      <td>3301.45</td>\n",
       "    </tr>\n",
       "    <tr>\n",
       "      <th>6</th>\n",
       "      <td>7</td>\n",
       "      <td>3100.72</td>\n",
       "    </tr>\n",
       "    <tr>\n",
       "      <th>7</th>\n",
       "      <td>8</td>\n",
       "      <td>3413.01</td>\n",
       "    </tr>\n",
       "    <tr>\n",
       "      <th>8</th>\n",
       "      <td>9</td>\n",
       "      <td>3023.59</td>\n",
       "    </tr>\n",
       "  </tbody>\n",
       "</table>\n",
       "</div>"
      ],
      "text/plain": [
       "   Sample #  Sample_Mean\n",
       "0         1      3210.73\n",
       "1         2      3150.13\n",
       "2         3      3345.54\n",
       "3         4      3190.67\n",
       "4         5      3217.90\n",
       "5         6      3301.45\n",
       "6         7      3100.72\n",
       "7         8      3413.01\n",
       "8         9      3023.59"
      ]
     },
     "execution_count": 37,
     "metadata": {},
     "output_type": "execute_result"
    }
   ],
   "source": [
    "qc_df"
   ]
  },
  {
   "cell_type": "code",
   "execution_count": 38,
   "metadata": {},
   "outputs": [
    {
     "name": "stdout",
     "output_type": "stream",
     "text": [
      "The Mean of the Sampling Distribution Means = 3217.0822222222223\n"
     ]
    }
   ],
   "source": [
    "print('The Mean of the Sampling Distribution Means = ' + str(qc_df['Sample_Mean'].mean()))"
   ]
  },
  {
   "cell_type": "markdown",
   "metadata": {},
   "source": [
    "Standard Error of the Mean\n",
    "\\begin{equation}\n",
    "\\sigma_x = \\frac{\\sigma}{\\sqrt{n}}\n",
    "\\end{equation}\n",
    "\n",
    "$\\sigma_x$ = standard deviation of $\\bar x$\n",
    "\n",
    "$\\sigma$ = standard deviation of population\n",
    "\n",
    "n = sample size\n",
    "\n",
    "$\\sigma_x = \\frac{\\sigma}{\\sqrt{n}} = \\sigma_x = \\frac{150}{\\sqrt{15}} = 38.7$"
   ]
  },
  {
   "cell_type": "markdown",
   "metadata": {},
   "source": [
    "Influece of Sample Size\n",
    "\n",
    "$\\sigma_x = \\frac{150}{\\sqrt{15}} = 38.7$\n",
    "\n",
    "$\\sigma_x = \\frac{150}{\\sqrt{135}} = 12.9$\n",
    "\n",
    "$\\sigma_x = \\frac{150}{\\sqrt{500}} = 6.71$\n",
    "\n",
    "As n increases the STD decreases which narrows the curve around the mean"
   ]
  },
  {
   "cell_type": "code",
   "execution_count": 88,
   "metadata": {},
   "outputs": [
    {
     "name": "stdout",
     "output_type": "stream",
     "text": [
      "Normal Distribution\n"
     ]
    },
    {
     "data": {
      "text/plain": [
       "<matplotlib.legend.Legend at 0x7f15d341bef0>"
      ]
     },
     "execution_count": 88,
     "metadata": {},
     "output_type": "execute_result"
    },
    {
     "data": {
      "image/png": "[encoded data removed]",
      "text/plain": [
       "<Figure size 432x288 with 1 Axes>"
      ]
     },
     "metadata": {},
     "output_type": "display_data"
    }
   ],
   "source": [
    "print('Normal Distribution')\n",
    "x = np.linspace(2000, 5000, 10000)\n",
    "mu=3200\n",
    "sigma=.5\n",
    "y = ss.norm.pdf(x, mu, 38.7)\n",
    "plt.plot(x,y)\n",
    "y = ss.norm.pdf(x, mu, 12.9)\n",
    "plt.plot(x,y)\n",
    "y = ss.norm.pdf(x, mu, 6.71)\n",
    "plt.plot(x,y)\n",
    "plt.xlim(3080,3320)\n",
    "#plt.ylim(0,1.5)\n",
    "plt.legend(['n=15 ','n=135','n=500'])"
   ]
  },
  {
   "cell_type": "markdown",
   "metadata": {},
   "source": [
    "- The standard error is another name for the standard deviation. It is just the standard deviation of the sampling distribution.\n",
    "- Standard deviation allow us to calculate z-scores and therefore the area (probability) under the curve for certain regions\n"
   ]
  },
  {
   "cell_type": "markdown",
   "metadata": {},
   "source": [
    "# Sample mean proximity to $\\mu$\n",
    "\n",
    "- How close is the sample mean $\\bar x$  to the population mean $\\mu$\n",
    "- Standard error of the mean is really a standard deviation of the sampling distribution\n",
    "- Since the standard error of the mean is a standard deviation, we can use that fact to draw a normal distribution using z-scores\n",
    "- The standard error of the mean is influenced by sample size"
   ]
  },
  {
   "cell_type": "code",
   "execution_count": 97,
   "metadata": {},
   "outputs": [
    {
     "data": {
      "text/plain": [
       "Text(0,0.5,'sigma - STD')"
      ]
     },
     "execution_count": 97,
     "metadata": {},
     "output_type": "execute_result"
    },
    {
     "data": {
      "image/png": "[encoded data removed]",
      "text/plain": [
       "<Figure size 432x288 with 1 Axes>"
      ]
     },
     "metadata": {},
     "output_type": "display_data"
    }
   ],
   "source": [
    "n = range(2,151)\n",
    "sigma = 150/(np.sqrt(n))\n",
    "plt.plot(n,sigma)\n",
    "plt.title('Sample Size Function for sigma = 150')\n",
    "plt.xlabel('n')\n",
    "plt.ylabel('sigma - STD')"
   ]
  },
  {
   "cell_type": "markdown",
   "metadata": {},
   "source": [
    "Increasing sample size reduces the standard error less and less as n -> $\\infty$"
   ]
  },
  {
   "cell_type": "code",
   "execution_count": null,
   "metadata": {},
   "outputs": [],
   "source": []
  }
 ],
 "metadata": {
  "kernelspec": {
   "display_name": "Python 3",
   "language": "python",
   "name": "python3"
  },
  "language_info": {
   "codemirror_mode": {
    "name": "ipython",
    "version": 3
   },
   "file_extension": ".py",
   "mimetype": "text/x-python",
   "name": "python",
   "nbconvert_exporter": "python",
   "pygments_lexer": "ipython3",
   "version": "3.6.4"
  }
 },
 "nbformat": 4,
 "nbformat_minor": 2
}
