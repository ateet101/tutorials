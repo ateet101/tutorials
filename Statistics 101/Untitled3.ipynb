{
 "cells": [
  {
   "cell_type": "code",
   "execution_count": 1,
   "metadata": {},
   "outputs": [
    {
     "name": "stderr",
     "output_type": "stream",
     "text": [
      "/usr/lib/python3.6/site-packages/statsmodels/compat/pandas.py:56: FutureWarning: The pandas.core.datetools module is deprecated and will be removed in a future version. Please use the pandas.tseries module instead.\n",
      "  from pandas.core import datetools\n"
     ]
    }
   ],
   "source": [
    "import pandas as pd\n",
    "import seaborn as sns\n",
    "import numpy as np\n",
    "import math\n",
    "import matplotlib.pyplot as plt\n",
    "import random\n",
    "from scipy import stats\n",
    "import scipy.special as sp\n",
    "from sklearn.linear_model import LinearRegression\n",
    "from sklearn.linear_model import LogisticRegression\n",
    "import sklearn.feature_selection as fs\n",
    "from sklearn.feature_selection import SelectPercentile\n",
    "#from scipy.stats import norm, kurtosis, skew\n",
    "import itertools as itt\n",
    "sns.set(rc={'figure.figsize':(11.7,8.27)})\n",
    "import plots\n",
    "import importlib\n",
    "#from pandas_datareader import data, wb\n",
    "import datetime\n",
    "import anovastats\n",
    "#importlib.reload(plots)\n",
    "import statsmodels.api as sm\n",
    "import statsmodels.formula.api as smf\n",
    "import statsmodels.stats.anova as anov\n",
    "stats.chisqprob = lambda chisq, df: stats.chi2.sf(chisq, df)\n"
   ]
  },
  {
   "cell_type": "code",
   "execution_count": 2,
   "metadata": {},
   "outputs": [],
   "source": [
    "def approval(i):\n",
    "    approved = []\n",
    "    if (i>750):\n",
    "        if (random.random() > .05):\n",
    "            approved = 1\n",
    "        else:\n",
    "            approved = 0\n",
    "    elif (i>700) & (i<751):\n",
    "        if (random.random() > .10):\n",
    "            approved = 1\n",
    "        else:\n",
    "            approved = 0\n",
    "    elif (i>650) & (i<701):\n",
    "        if (random.random() > .25):\n",
    "            approved = 1\n",
    "        else:\n",
    "            approved = 0\n",
    "    elif (i>600) & (i<651):\n",
    "        if (random.random() > .5):\n",
    "            approved = 1\n",
    "        else:\n",
    "            approved = 0\n",
    "    elif (i>500) & (i<601):\n",
    "        if (random.random() > .4):\n",
    "            approved = 1\n",
    "        else:\n",
    "            approved = 0\n",
    "    else:\n",
    "        approved = 0\n",
    "    return approved\n",
    "\n",
    "slope = 0.014634\n",
    "intercept = -9.346\n",
    "def p_hat(score, intercept = -9.346, slope = 0.014634):\n",
    "    x = score\n",
    "    p_hat = math.exp(intercept + slope*score)/(1 + math.exp(intercept + slope*score))\n",
    "    return p_hat\n",
    "\n",
    "def approval(score):\n",
    "    p = p_hat(score)\n",
    "    if (random.random() < p):\n",
    "        approved = 1\n",
    "    else:\n",
    "        approved = 0\n",
    "    return approved\n",
    "    "
   ]
  },
  {
   "cell_type": "code",
   "execution_count": 3,
   "metadata": {},
   "outputs": [
    {
     "data": {
      "text/plain": [
       "Text(0.5,1,'Approved vs FICOscore')"
      ]
     },
     "execution_count": 3,
     "metadata": {},
     "output_type": "execute_result"
    },
    {
     "data": {
      "image/png": "[encoded data removed]",
      "text/plain": [
       "<Figure size 504x504 with 1 Axes>"
      ]
     },
     "metadata": {},
     "output_type": "display_data"
    }
   ],
   "source": [
    "creditScore = []\n",
    "for i in range(0,1000):\n",
    "    creditScore.append(random.randrange(350,850))\n",
    "    \n",
    "fico_df = pd.DataFrame({'creditScore': creditScore})\n",
    "fico_df['Approved'] = fico_df['creditScore'].apply(approval)\n",
    "ax = sns.pairplot(x_vars = 'creditScore', y_vars = 'Approved', data = fico_df, size=7)\n",
    "plt.title('Approved vs FICOscore')"
   ]
  },
  {
   "cell_type": "code",
   "execution_count": 4,
   "metadata": {},
   "outputs": [
    {
     "data": {
      "text/html": [
       "<div>\n",
       "<style scoped>\n",
       "    .dataframe tbody tr th:only-of-type {\n",
       "        vertical-align: middle;\n",
       "    }\n",
       "\n",
       "    .dataframe tbody tr th {\n",
       "        vertical-align: top;\n",
       "    }\n",
       "\n",
       "    .dataframe thead th {\n",
       "        text-align: right;\n",
       "    }\n",
       "</style>\n",
       "<table border=\"1\" class=\"dataframe\">\n",
       "  <thead>\n",
       "    <tr style=\"text-align: right;\">\n",
       "      <th></th>\n",
       "      <th>creditScore</th>\n",
       "      <th>Approved</th>\n",
       "    </tr>\n",
       "  </thead>\n",
       "  <tbody>\n",
       "    <tr>\n",
       "      <th>0</th>\n",
       "      <td>774</td>\n",
       "      <td>1</td>\n",
       "    </tr>\n",
       "    <tr>\n",
       "      <th>1</th>\n",
       "      <td>666</td>\n",
       "      <td>1</td>\n",
       "    </tr>\n",
       "    <tr>\n",
       "      <th>2</th>\n",
       "      <td>699</td>\n",
       "      <td>1</td>\n",
       "    </tr>\n",
       "    <tr>\n",
       "      <th>3</th>\n",
       "      <td>763</td>\n",
       "      <td>1</td>\n",
       "    </tr>\n",
       "    <tr>\n",
       "      <th>4</th>\n",
       "      <td>746</td>\n",
       "      <td>1</td>\n",
       "    </tr>\n",
       "  </tbody>\n",
       "</table>\n",
       "</div>"
      ],
      "text/plain": [
       "   creditScore  Approved\n",
       "0          774         1\n",
       "1          666         1\n",
       "2          699         1\n",
       "3          763         1\n",
       "4          746         1"
      ]
     },
     "execution_count": 4,
     "metadata": {},
     "output_type": "execute_result"
    }
   ],
   "source": [
    "fico_df.head()"
   ]
  },
  {
   "cell_type": "code",
   "execution_count": 5,
   "metadata": {},
   "outputs": [
    {
     "name": "stdout",
     "output_type": "stream",
     "text": [
      "R Squared = 0.836\n",
      "y-intercept = [-7.75580899]\n"
     ]
    },
    {
     "data": {
      "text/plain": [
       "array([[0.01211848]])"
      ]
     },
     "execution_count": 5,
     "metadata": {},
     "output_type": "execute_result"
    }
   ],
   "source": [
    "X = fico_df[['creditScore']]\n",
    "#X = X.reshape(1,-1)\n",
    "y = (fico_df['Approved'])\n",
    "lm = LogisticRegression()\n",
    "lm.fit(X,y)\n",
    "predictions = lm.predict(X)\n",
    "#print(predictions)[0:5]\n",
    "print(\"R Squared = {}\".format(lm.score(X,y))) # This is the R² score of our model. As you probably remember, this the percentage of explained variance of the predictions.\n",
    "print(\"y-intercept = {}\".format(lm.intercept_))\n",
    "lm.coef_"
   ]
  },
  {
   "cell_type": "code",
   "execution_count": 7,
   "metadata": {},
   "outputs": [
    {
     "data": {
      "text/plain": [
       "(array([901.58134549]), array([1.20077893e-141]))"
      ]
     },
     "execution_count": 7,
     "metadata": {},
     "output_type": "execute_result"
    }
   ],
   "source": [
    "X = fico_df[['creditScore']]\n",
    "y = fico_df['Approved']\n",
    "fs.chi2(X,y)\n",
    "fs.f_regression(X,y)"
   ]
  },
  {
   "cell_type": "code",
   "execution_count": 8,
   "metadata": {},
   "outputs": [
    {
     "data": {
      "text/plain": [
       "array([901.58134549])"
      ]
     },
     "execution_count": 8,
     "metadata": {},
     "output_type": "execute_result"
    }
   ],
   "source": [
    "Selector_f = SelectPercentile(fs.f_regression, percentile=95)\n",
    "Selector_f.fit(X,y)\n",
    "\n",
    "Selector_f.scores_\n"
   ]
  },
  {
   "cell_type": "code",
   "execution_count": null,
   "metadata": {},
   "outputs": [],
   "source": []
  },
  {
   "cell_type": "code",
   "execution_count": null,
   "metadata": {},
   "outputs": [],
   "source": []
  },
  {
   "cell_type": "code",
   "execution_count": null,
   "metadata": {},
   "outputs": [],
   "source": []
  }
 ],
 "metadata": {
  "kernelspec": {
   "display_name": "Python 3",
   "language": "python",
   "name": "python3"
  },
  "language_info": {
   "codemirror_mode": {
    "name": "ipython",
    "version": 3
   },
   "file_extension": ".py",
   "mimetype": "text/x-python",
   "name": "python",
   "nbconvert_exporter": "python",
   "pygments_lexer": "ipython3",
   "version": "3.6.5"
  }
 },
 "nbformat": 4,
 "nbformat_minor": 2
}
