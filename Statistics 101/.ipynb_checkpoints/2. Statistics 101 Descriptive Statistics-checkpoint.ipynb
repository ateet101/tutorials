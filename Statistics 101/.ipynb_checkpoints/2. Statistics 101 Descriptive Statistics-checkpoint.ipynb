{
 "cells": [
  {
   "cell_type": "code",
   "execution_count": 4,
   "metadata": {},
   "outputs": [],
   "source": [
    "import pandas as pd\n",
    "import seaborn as sns\n",
    "import numpy as np\n",
    "import matplotlib.pyplot as plt\n",
    "from random import randint"
   ]
  },
  {
   "cell_type": "markdown",
   "metadata": {},
   "source": [
    "# Describing a Categorical Variable"
   ]
  },
  {
   "cell_type": "markdown",
   "metadata": {},
   "source": [
    "Categorical data use labels, names, or other desciptors to identify exclusive categories or types of things\n",
    "- Region (North, South, East, West)\n",
    "- Machine (M1, M2, M3)\n",
    "- Car Make (Ford, Toyota, Honda)\n",
    "\n",
    "Quantitative Data are numerical values that represent frequency, measurement, etc.\n",
    "- Sales for each region in millions (1.2, 3.5, 10.4, 6.9)\n",
    "- Production units (983, 1085, 899)\n",
    "- Fastest car mph (216, 156, 169)"
   ]
  },
  {
   "cell_type": "markdown",
   "metadata": {},
   "source": [
    "## Frequency Distribution\n",
    "### Survey of 100 SmartPhone Users in the United State"
   ]
  },
  {
   "cell_type": "code",
   "execution_count": 3,
   "metadata": {},
   "outputs": [
    {
     "data": {
      "text/html": [
       "<div>\n",
       "<style scoped>\n",
       "    .dataframe tbody tr th:only-of-type {\n",
       "        vertical-align: middle;\n",
       "    }\n",
       "\n",
       "    .dataframe tbody tr th {\n",
       "        vertical-align: top;\n",
       "    }\n",
       "\n",
       "    .dataframe thead th {\n",
       "        text-align: right;\n",
       "    }\n",
       "</style>\n",
       "<table border=\"1\" class=\"dataframe\">\n",
       "  <thead>\n",
       "    <tr style=\"text-align: right;\">\n",
       "      <th></th>\n",
       "      <th>SMARTPHONE BRAND</th>\n",
       "      <th>FREQUENCY</th>\n",
       "    </tr>\n",
       "  </thead>\n",
       "  <tbody>\n",
       "    <tr>\n",
       "      <th>0</th>\n",
       "      <td>Apple</td>\n",
       "      <td>45</td>\n",
       "    </tr>\n",
       "    <tr>\n",
       "      <th>1</th>\n",
       "      <td>HTC</td>\n",
       "      <td>2</td>\n",
       "    </tr>\n",
       "    <tr>\n",
       "      <th>2</th>\n",
       "      <td>LG</td>\n",
       "      <td>10</td>\n",
       "    </tr>\n",
       "    <tr>\n",
       "      <th>3</th>\n",
       "      <td>Motorola</td>\n",
       "      <td>4</td>\n",
       "    </tr>\n",
       "    <tr>\n",
       "      <th>4</th>\n",
       "      <td>Samsung</td>\n",
       "      <td>28</td>\n",
       "    </tr>\n",
       "    <tr>\n",
       "      <th>5</th>\n",
       "      <td>Other</td>\n",
       "      <td>11</td>\n",
       "    </tr>\n",
       "  </tbody>\n",
       "</table>\n",
       "</div>"
      ],
      "text/plain": [
       "  SMARTPHONE BRAND  FREQUENCY\n",
       "0            Apple         45\n",
       "1              HTC          2\n",
       "2               LG         10\n",
       "3         Motorola          4\n",
       "4          Samsung         28\n",
       "5            Other         11"
      ]
     },
     "execution_count": 3,
     "metadata": {},
     "output_type": "execute_result"
    }
   ],
   "source": [
    "phone_list = {'SMARTPHONE BRAND': ['Apple', 'HTC', 'LG','Motorola','Samsung','Other'], 'FREQUENCY': [45,2,10,4,28,11]}\n",
    "df1 = pd.DataFrame(data = phone_list)\n",
    "df1 = df1[['SMARTPHONE BRAND', 'FREQUENCY']]\n",
    "#df1.set_index('SMARTPHONE BRAND')\n",
    "df1"
   ]
  },
  {
   "cell_type": "code",
   "execution_count": 4,
   "metadata": {},
   "outputs": [
    {
     "data": {
      "text/html": [
       "<div>\n",
       "<style scoped>\n",
       "    .dataframe tbody tr th:only-of-type {\n",
       "        vertical-align: middle;\n",
       "    }\n",
       "\n",
       "    .dataframe tbody tr th {\n",
       "        vertical-align: top;\n",
       "    }\n",
       "\n",
       "    .dataframe thead th {\n",
       "        text-align: right;\n",
       "    }\n",
       "</style>\n",
       "<table border=\"1\" class=\"dataframe\">\n",
       "  <thead>\n",
       "    <tr style=\"text-align: right;\">\n",
       "      <th></th>\n",
       "      <th>FREQUENCY</th>\n",
       "      <th>SMARTPHONE BRAND</th>\n",
       "    </tr>\n",
       "  </thead>\n",
       "  <tbody>\n",
       "    <tr>\n",
       "      <th>0</th>\n",
       "      <td>45</td>\n",
       "      <td>Apple</td>\n",
       "    </tr>\n",
       "    <tr>\n",
       "      <th>1</th>\n",
       "      <td>2</td>\n",
       "      <td>HTC</td>\n",
       "    </tr>\n",
       "    <tr>\n",
       "      <th>2</th>\n",
       "      <td>10</td>\n",
       "      <td>LG</td>\n",
       "    </tr>\n",
       "    <tr>\n",
       "      <th>3</th>\n",
       "      <td>4</td>\n",
       "      <td>Motorola</td>\n",
       "    </tr>\n",
       "    <tr>\n",
       "      <th>4</th>\n",
       "      <td>28</td>\n",
       "      <td>Samsung</td>\n",
       "    </tr>\n",
       "    <tr>\n",
       "      <th>5</th>\n",
       "      <td>11</td>\n",
       "      <td>Other</td>\n",
       "    </tr>\n",
       "    <tr>\n",
       "      <th>6</th>\n",
       "      <td>100</td>\n",
       "      <td>Total</td>\n",
       "    </tr>\n",
       "  </tbody>\n",
       "</table>\n",
       "</div>"
      ],
      "text/plain": [
       "   FREQUENCY SMARTPHONE BRAND\n",
       "0         45            Apple\n",
       "1          2              HTC\n",
       "2         10               LG\n",
       "3          4         Motorola\n",
       "4         28          Samsung\n",
       "5         11            Other\n",
       "6        100            Total"
      ]
     },
     "execution_count": 4,
     "metadata": {},
     "output_type": "execute_result"
    }
   ],
   "source": [
    "df2 = pd.DataFrame({'SMARTPHONE BRAND': ['Total'], 'FREQUENCY': [df1['FREQUENCY'].sum()]})\n",
    "df1.append(df2, ignore_index=True)"
   ]
  },
  {
   "cell_type": "code",
   "execution_count": 5,
   "metadata": {},
   "outputs": [
    {
     "data": {
      "image/png": "[encoded data removed]",
      "text/plain": [
       "<matplotlib.figure.Figure at 0x7fe074cf7550>"
      ]
     },
     "metadata": {},
     "output_type": "display_data"
    }
   ],
   "source": [
    "ax = sns.barplot(x=\"SMARTPHONE BRAND\", y=\"FREQUENCY\", data=df1)"
   ]
  },
  {
   "cell_type": "markdown",
   "metadata": {},
   "source": [
    "## Relative Frequency\n",
    "Relative Frequency of a class = $ \\frac{Frequency of the class}{n} $\n",
    "\n",
    "Relative Frequency \"Samsung\" = $ \\frac{28}{100} = 0.28 $"
   ]
  },
  {
   "cell_type": "code",
   "execution_count": 6,
   "metadata": {},
   "outputs": [
    {
     "data": {
      "text/html": [
       "<div>\n",
       "<style scoped>\n",
       "    .dataframe tbody tr th:only-of-type {\n",
       "        vertical-align: middle;\n",
       "    }\n",
       "\n",
       "    .dataframe tbody tr th {\n",
       "        vertical-align: top;\n",
       "    }\n",
       "\n",
       "    .dataframe thead th {\n",
       "        text-align: right;\n",
       "    }\n",
       "</style>\n",
       "<table border=\"1\" class=\"dataframe\">\n",
       "  <thead>\n",
       "    <tr style=\"text-align: right;\">\n",
       "      <th></th>\n",
       "      <th>SMARTPHONE BRAND</th>\n",
       "      <th>FREQUENCY</th>\n",
       "      <th>RELATIVE FREQUENCY</th>\n",
       "    </tr>\n",
       "  </thead>\n",
       "  <tbody>\n",
       "    <tr>\n",
       "      <th>0</th>\n",
       "      <td>Apple</td>\n",
       "      <td>45</td>\n",
       "      <td>0.45</td>\n",
       "    </tr>\n",
       "    <tr>\n",
       "      <th>1</th>\n",
       "      <td>HTC</td>\n",
       "      <td>2</td>\n",
       "      <td>0.02</td>\n",
       "    </tr>\n",
       "    <tr>\n",
       "      <th>2</th>\n",
       "      <td>LG</td>\n",
       "      <td>10</td>\n",
       "      <td>0.10</td>\n",
       "    </tr>\n",
       "    <tr>\n",
       "      <th>3</th>\n",
       "      <td>Motorola</td>\n",
       "      <td>4</td>\n",
       "      <td>0.04</td>\n",
       "    </tr>\n",
       "    <tr>\n",
       "      <th>4</th>\n",
       "      <td>Samsung</td>\n",
       "      <td>28</td>\n",
       "      <td>0.28</td>\n",
       "    </tr>\n",
       "    <tr>\n",
       "      <th>5</th>\n",
       "      <td>Other</td>\n",
       "      <td>11</td>\n",
       "      <td>0.11</td>\n",
       "    </tr>\n",
       "  </tbody>\n",
       "</table>\n",
       "</div>"
      ],
      "text/plain": [
       "  SMARTPHONE BRAND  FREQUENCY  RELATIVE FREQUENCY\n",
       "0            Apple         45                0.45\n",
       "1              HTC          2                0.02\n",
       "2               LG         10                0.10\n",
       "3         Motorola          4                0.04\n",
       "4          Samsung         28                0.28\n",
       "5            Other         11                0.11"
      ]
     },
     "execution_count": 6,
     "metadata": {},
     "output_type": "execute_result"
    }
   ],
   "source": [
    "## Frequency Distribution\n",
    "df1['RELATIVE FREQUENCY'] = df1['FREQUENCY'].apply(lambda x: x/100)\n",
    "df1 = df1[['SMARTPHONE BRAND', 'FREQUENCY', 'RELATIVE FREQUENCY']]\n",
    "df1"
   ]
  },
  {
   "cell_type": "code",
   "execution_count": 7,
   "metadata": {},
   "outputs": [
    {
     "data": {
      "image/png": "[encoded data removed]",
      "text/plain": [
       "<matplotlib.figure.Figure at 0x7fe074cde6d8>"
      ]
     },
     "metadata": {},
     "output_type": "display_data"
    }
   ],
   "source": [
    "ax = sns.barplot(x=\"SMARTPHONE BRAND\", y=\"RELATIVE FREQUENCY\", data=df1)"
   ]
  },
  {
   "cell_type": "markdown",
   "metadata": {},
   "source": [
    "# Descriptive Statistics, Histograms\n",
    "### Survey of 100 SmartPhone Users in the United States - AGE"
   ]
  },
  {
   "cell_type": "markdown",
   "metadata": {},
   "source": [
    "Histograms divide the entire range of values into a series of intervals. \n",
    "\n",
    "Ex Age \"bin\" 18+ of 100 people seperates into three different bins\n",
    "- 18-39 has 39 people\n",
    "- 40-59 has 45 people\n",
    "- 60+ has 16 people"
   ]
  },
  {
   "cell_type": "markdown",
   "metadata": {},
   "source": [
    "- Too few bins can create a histogram that doesn't show the shape distribution of the underlying data\n",
    "- Too many bins create a histogram where there are too few observations in each bin and the overall general shape distribution is too broken up\n",
    "\n",
    "- Arguably the most useful preliminary visualization for quantitative data\n",
    "- Shows the shape of the distribution of values\n",
    "- Horizontal (x-axis) is the variable of interest (AGE)\n",
    "- Vertical (y-axis) can summarize the frequency, relative frequency, or percent frequency\n",
    "- Vertical rectangle for each class or bin\n",
    "- Height is determined by frequency, relative frequency, or percent frequency\n",
    "- No space or gaps between bars of a histogram"
   ]
  },
  {
   "cell_type": "code",
   "execution_count": 8,
   "metadata": {},
   "outputs": [
    {
     "name": "stdout",
     "output_type": "stream",
     "text": [
      "[62 91 91 40 97 38 32 57 86 40 91 26 94 93 42 92 80 73 71 66 87 24 29 76\n",
      " 20 26 55 52 93 88 90 63 32 47 44 88 97 69 46 22 61 82 37 39 92 70 79 57\n",
      " 80 28 32 98 23 31 90 18 76 34 86 95 96 78 20 25 82 71 47 93 78 67 71 61\n",
      " 83 90 30 70 75 48 27 95 54 35 70 24 70 49 46 50 29 61 23 45 46 69 70 90\n",
      " 73 63 21 42]\n"
     ]
    }
   ],
   "source": [
    "ages_of_hundred = pd.Series({'Ages': np.random.randint(18, 99, 100)})\n",
    "print(ages_of_hundred.Ages)\n",
    "ages_of_hundred['Ages'].size\n",
    "first_bin = ages_of_hundred.Ages[(ages_of_hundred.Ages > 17) & (ages_of_hundred.Ages < 40)].size\n",
    "second_bin = ages_of_hundred.Ages[(ages_of_hundred.Ages > 39) & (ages_of_hundred.Ages < 60)].size\n",
    "third_bin = ages_of_hundred.Ages[ages_of_hundred.Ages > 59].size"
   ]
  },
  {
   "cell_type": "code",
   "execution_count": 55,
   "metadata": {},
   "outputs": [
    {
     "data": {
      "text/html": [
       "<div>\n",
       "<style scoped>\n",
       "    .dataframe tbody tr th:only-of-type {\n",
       "        vertical-align: middle;\n",
       "    }\n",
       "\n",
       "    .dataframe tbody tr th {\n",
       "        vertical-align: top;\n",
       "    }\n",
       "\n",
       "    .dataframe thead th {\n",
       "        text-align: right;\n",
       "    }\n",
       "</style>\n",
       "<table border=\"1\" class=\"dataframe\">\n",
       "  <thead>\n",
       "    <tr style=\"text-align: right;\">\n",
       "      <th></th>\n",
       "      <th>Ages</th>\n",
       "      <th>Frequency</th>\n",
       "    </tr>\n",
       "  </thead>\n",
       "  <tbody>\n",
       "    <tr>\n",
       "      <th>0</th>\n",
       "      <td>18-39</td>\n",
       "      <td>26</td>\n",
       "    </tr>\n",
       "    <tr>\n",
       "      <th>1</th>\n",
       "      <td>40-59</td>\n",
       "      <td>19</td>\n",
       "    </tr>\n",
       "    <tr>\n",
       "      <th>2</th>\n",
       "      <td>60+</td>\n",
       "      <td>55</td>\n",
       "    </tr>\n",
       "  </tbody>\n",
       "</table>\n",
       "</div>"
      ],
      "text/plain": [
       "    Ages  Frequency\n",
       "0  18-39         26\n",
       "1  40-59         19\n",
       "2    60+         55"
      ]
     },
     "execution_count": 55,
     "metadata": {},
     "output_type": "execute_result"
    }
   ],
   "source": [
    "cat = ['18-39','40-59','60+']\n",
    "df_ages = pd.DataFrame({'Ages': [cat[0], cat[1], cat[2]], 'Frequency': [first_bin, second_bin, third_bin]})\n",
    "df_ages"
   ]
  },
  {
   "cell_type": "code",
   "execution_count": 56,
   "metadata": {},
   "outputs": [
    {
     "data": {
      "image/png": "[encoded data removed]",
      "text/plain": [
       "<matplotlib.figure.Figure at 0x7fe0729c7dd8>"
      ]
     },
     "metadata": {},
     "output_type": "display_data"
    }
   ],
   "source": [
    "ax = sns.barplot(x=\"Ages\", y=\"Frequency\", data=df_ages)"
   ]
  },
  {
   "cell_type": "code",
   "execution_count": 57,
   "metadata": {},
   "outputs": [
    {
     "data": {
      "text/html": [
       "<div>\n",
       "<style scoped>\n",
       "    .dataframe tbody tr th:only-of-type {\n",
       "        vertical-align: middle;\n",
       "    }\n",
       "\n",
       "    .dataframe tbody tr th {\n",
       "        vertical-align: top;\n",
       "    }\n",
       "\n",
       "    .dataframe thead th {\n",
       "        text-align: right;\n",
       "    }\n",
       "</style>\n",
       "<table border=\"1\" class=\"dataframe\">\n",
       "  <thead>\n",
       "    <tr style=\"text-align: right;\">\n",
       "      <th></th>\n",
       "      <th>Age_Category</th>\n",
       "      <th>Frequency</th>\n",
       "    </tr>\n",
       "  </thead>\n",
       "  <tbody>\n",
       "    <tr>\n",
       "      <th>0</th>\n",
       "      <td>18-39</td>\n",
       "      <td>29</td>\n",
       "    </tr>\n",
       "    <tr>\n",
       "      <th>1</th>\n",
       "      <td>40-59</td>\n",
       "      <td>21</td>\n",
       "    </tr>\n",
       "    <tr>\n",
       "      <th>2</th>\n",
       "      <td>60+</td>\n",
       "      <td>50</td>\n",
       "    </tr>\n",
       "  </tbody>\n",
       "</table>\n",
       "</div>"
      ],
      "text/plain": [
       "  Age_Category  Frequency\n",
       "0        18-39         29\n",
       "1        40-59         21\n",
       "2          60+         50"
      ]
     },
     "execution_count": 57,
     "metadata": {},
     "output_type": "execute_result"
    }
   ],
   "source": [
    "def ages_cat(col):\n",
    "    if (col>17) & (col<40):\n",
    "        return '18-39'\n",
    "    elif (col>39) & (col<60):\n",
    "        return '40-59'\n",
    "    elif col>59:\n",
    "        return '60+'\n",
    "    \n",
    "ages_of_hundred = pd.DataFrame({'Frequency': np.random.randint(18, 99, 100)})\n",
    "ages_of_hundred['Age_Category'] = ages_of_hundred['Frequency'].apply(ages_cat)\n",
    "ages_df = ages_of_hundred['Frequency'].groupby(ages_of_hundred['Age_Category']).count()\n",
    "ages_df = ages_df.to_frame().reset_index()\n",
    "ages_df"
   ]
  },
  {
   "cell_type": "code",
   "execution_count": 58,
   "metadata": {},
   "outputs": [
    {
     "data": {
      "image/png": "[encoded data removed]",
      "text/plain": [
       "<matplotlib.figure.Figure at 0x7fe0724b1390>"
      ]
     },
     "metadata": {},
     "output_type": "display_data"
    }
   ],
   "source": [
    "ax = sns.barplot(x=\"Age_Category\", y=\"Frequency\", data=ages_df)"
   ]
  },
  {
   "cell_type": "markdown",
   "metadata": {},
   "source": [
    "# Stem and Leaf Diagrams"
   ]
  },
  {
   "cell_type": "markdown",
   "metadata": {},
   "source": [
    "- A stem and leaf display shows \n",
    "- - The rank order of the data\n",
    "- - The shape of the distribution of data\n",
    "- - Modal qualities of the data (frequent observations)\n",
    "- It's called a stem and leaf because that is what it looks like; a stem with leaves off the side\n",
    "- It takes the form of STEM | LEAF\n",
    "- The leaf is always the last single digit\n",
    "- The stem is formed from all digits left of the last digit\n"
   ]
  },
  {
   "cell_type": "code",
   "execution_count": 6,
   "metadata": {},
   "outputs": [],
   "source": [
    "stem_array = np.array([50,61,66,73,82,82,90,103,108,115])"
   ]
  },
  {
   "cell_type": "markdown",
   "metadata": {},
   "source": [
    "\\begin{matrix}\n",
    "  Stem & | & Leaves\\\\\n",
    "  5 & | & 0\\\\\n",
    "  6 & | & 1 & 6\\\\\n",
    "  7 & | & 3\\\\\n",
    "  8 & | & 2 & 2\\\\\n",
    "  9 & | & 0\\\\\n",
    "  10 & | & 3 & 8\\\\\n",
    "  11 & | & 5\\\\\n",
    "\\end{matrix}"
   ]
  },
  {
   "cell_type": "markdown",
   "metadata": {},
   "source": [
    "# Descriptive Statistics Cross Tabulation"
   ]
  },
  {
   "cell_type": "markdown",
   "metadata": {},
   "source": [
    "- Crosstabulation is a table summary for two variables\n",
    "- Shows relationship between two variables\n",
    "- The size of the cross tabulation is the number of categories of one variable multiplied by the number of categories of the second variable\n",
    "- If the first category has 5 categories and the second variable has 6 categories then the crosstabulation if 5 * 6 = 30 cells\n",
    "- Each cell is an intersection of the two categories at that point\n",
    "- Can be done using pivot tables"
   ]
  },
  {
   "cell_type": "markdown",
   "metadata": {},
   "source": [
    "Example:\n",
    "\n",
    "4 Regions\n",
    "- North, South, East, West\n",
    "5 product Segments\n",
    "- Smartphones, Televisions, Gaming, Appliances, Computers\n",
    "100 observations of sales for each region X segment combination"
   ]
  },
  {
   "cell_type": "code",
   "execution_count": 210,
   "metadata": {},
   "outputs": [
    {
     "name": "stdout",
     "output_type": "stream",
     "text": [
      "   Region      Product  Price\n",
      "0    East   Appliances   1704\n",
      "1   North   Appliances   1656\n",
      "2   South   Appliances   1342\n",
      "3    West   Appliances   1243\n",
      "4    East    Computers   1586\n",
      "5   North    Computers   1583\n",
      "6   South    Computers   1152\n",
      "7    West    Computers   1382\n",
      "8    East       Gaming   1681\n",
      "9   North       Gaming   1859\n",
      "10  South       Gaming   1367\n",
      "11   West       Gaming   1605\n",
      "12   East  Smartphones   1341\n",
      "13  North  Smartphones   1336\n",
      "14  South  Smartphones   1252\n",
      "15   West  Smartphones   1785\n",
      "16   East  Televisions   1415\n",
      "17  North  Televisions   1128\n",
      "18  South  Televisions   1709\n",
      "19   West  Televisions   1572 Region     object\n",
      "Product    object\n",
      "Price       int64\n",
      "dtype: object\n"
     ]
    },
    {
     "data": {
      "text/plain": [
       "pandas.core.frame.DataFrame"
      ]
     },
     "execution_count": 210,
     "metadata": {},
     "output_type": "execute_result"
    }
   ],
   "source": [
    "sales = pd.read_csv('sales.csv', sep = ',')\n",
    "print(sales,sales.dtypes)\n",
    "type(sales)"
   ]
  },
  {
   "cell_type": "code",
   "execution_count": 179,
   "metadata": {},
   "outputs": [
    {
     "data": {
      "text/html": [
       "<div>\n",
       "<style scoped>\n",
       "    .dataframe tbody tr th:only-of-type {\n",
       "        vertical-align: middle;\n",
       "    }\n",
       "\n",
       "    .dataframe tbody tr th {\n",
       "        vertical-align: top;\n",
       "    }\n",
       "\n",
       "    .dataframe thead th {\n",
       "        text-align: right;\n",
       "    }\n",
       "</style>\n",
       "<table border=\"1\" class=\"dataframe\">\n",
       "  <thead>\n",
       "    <tr style=\"text-align: right;\">\n",
       "      <th>Product</th>\n",
       "      <th>Appliances</th>\n",
       "      <th>Computers</th>\n",
       "      <th>Gaming</th>\n",
       "      <th>Smartphones</th>\n",
       "      <th>Televisions</th>\n",
       "    </tr>\n",
       "    <tr>\n",
       "      <th>Region</th>\n",
       "      <th></th>\n",
       "      <th></th>\n",
       "      <th></th>\n",
       "      <th></th>\n",
       "      <th></th>\n",
       "    </tr>\n",
       "  </thead>\n",
       "  <tbody>\n",
       "    <tr>\n",
       "      <th>East</th>\n",
       "      <td>1704</td>\n",
       "      <td>1586</td>\n",
       "      <td>1681</td>\n",
       "      <td>1341</td>\n",
       "      <td>1415</td>\n",
       "    </tr>\n",
       "    <tr>\n",
       "      <th>North</th>\n",
       "      <td>1656</td>\n",
       "      <td>1583</td>\n",
       "      <td>1859</td>\n",
       "      <td>1336</td>\n",
       "      <td>1128</td>\n",
       "    </tr>\n",
       "    <tr>\n",
       "      <th>South</th>\n",
       "      <td>1342</td>\n",
       "      <td>1152</td>\n",
       "      <td>1367</td>\n",
       "      <td>1252</td>\n",
       "      <td>1709</td>\n",
       "    </tr>\n",
       "    <tr>\n",
       "      <th>West</th>\n",
       "      <td>1243</td>\n",
       "      <td>1382</td>\n",
       "      <td>1605</td>\n",
       "      <td>1785</td>\n",
       "      <td>1572</td>\n",
       "    </tr>\n",
       "  </tbody>\n",
       "</table>\n",
       "</div>"
      ],
      "text/plain": [
       "Product  Appliances  Computers  Gaming  Smartphones  Televisions\n",
       "Region                                                          \n",
       "East           1704       1586    1681         1341         1415\n",
       "North          1656       1583    1859         1336         1128\n",
       "South          1342       1152    1367         1252         1709\n",
       "West           1243       1382    1605         1785         1572"
      ]
     },
     "execution_count": 179,
     "metadata": {},
     "output_type": "execute_result"
    }
   ],
   "source": [
    "sales_by_region = pd.pivot_table(sales, values='Price', index=['Region'], columns=['Product'], aggfunc=np.sum)\n",
    "sales_by_region"
   ]
  },
  {
   "cell_type": "code",
   "execution_count": 180,
   "metadata": {},
   "outputs": [
    {
     "data": {
      "text/html": [
       "<div>\n",
       "<style scoped>\n",
       "    .dataframe tbody tr th:only-of-type {\n",
       "        vertical-align: middle;\n",
       "    }\n",
       "\n",
       "    .dataframe tbody tr th {\n",
       "        vertical-align: top;\n",
       "    }\n",
       "\n",
       "    .dataframe thead th {\n",
       "        text-align: right;\n",
       "    }\n",
       "</style>\n",
       "<table border=\"1\" class=\"dataframe\">\n",
       "  <thead>\n",
       "    <tr style=\"text-align: right;\">\n",
       "      <th>Product</th>\n",
       "      <th>Region</th>\n",
       "      <th>Appliances</th>\n",
       "      <th>Computers</th>\n",
       "      <th>Gaming</th>\n",
       "      <th>Smartphones</th>\n",
       "      <th>Televisions</th>\n",
       "      <th>Total</th>\n",
       "    </tr>\n",
       "  </thead>\n",
       "  <tbody>\n",
       "    <tr>\n",
       "      <th>0</th>\n",
       "      <td>East</td>\n",
       "      <td>1704</td>\n",
       "      <td>1586</td>\n",
       "      <td>1681</td>\n",
       "      <td>1341</td>\n",
       "      <td>1415</td>\n",
       "      <td>7727</td>\n",
       "    </tr>\n",
       "    <tr>\n",
       "      <th>1</th>\n",
       "      <td>North</td>\n",
       "      <td>1656</td>\n",
       "      <td>1583</td>\n",
       "      <td>1859</td>\n",
       "      <td>1336</td>\n",
       "      <td>1128</td>\n",
       "      <td>7562</td>\n",
       "    </tr>\n",
       "    <tr>\n",
       "      <th>2</th>\n",
       "      <td>South</td>\n",
       "      <td>1342</td>\n",
       "      <td>1152</td>\n",
       "      <td>1367</td>\n",
       "      <td>1252</td>\n",
       "      <td>1709</td>\n",
       "      <td>6822</td>\n",
       "    </tr>\n",
       "    <tr>\n",
       "      <th>3</th>\n",
       "      <td>West</td>\n",
       "      <td>1243</td>\n",
       "      <td>1382</td>\n",
       "      <td>1605</td>\n",
       "      <td>1785</td>\n",
       "      <td>1572</td>\n",
       "      <td>7587</td>\n",
       "    </tr>\n",
       "  </tbody>\n",
       "</table>\n",
       "</div>"
      ],
      "text/plain": [
       "Product Region  Appliances  Computers  Gaming  Smartphones  Televisions  Total\n",
       "0         East        1704       1586    1681         1341         1415   7727\n",
       "1        North        1656       1583    1859         1336         1128   7562\n",
       "2        South        1342       1152    1367         1252         1709   6822\n",
       "3         West        1243       1382    1605         1785         1572   7587"
      ]
     },
     "execution_count": 180,
     "metadata": {},
     "output_type": "execute_result"
    }
   ],
   "source": [
    "sales_by_region['Total'] = sales_by_region.apply(np.sum, axis=1)\n",
    "sales_by_region.reset_index()"
   ]
  },
  {
   "cell_type": "code",
   "execution_count": 186,
   "metadata": {},
   "outputs": [
    {
     "data": {
      "text/html": [
       "<div>\n",
       "<style scoped>\n",
       "    .dataframe tbody tr th:only-of-type {\n",
       "        vertical-align: middle;\n",
       "    }\n",
       "\n",
       "    .dataframe tbody tr th {\n",
       "        vertical-align: top;\n",
       "    }\n",
       "\n",
       "    .dataframe thead th {\n",
       "        text-align: right;\n",
       "    }\n",
       "</style>\n",
       "<table border=\"1\" class=\"dataframe\">\n",
       "  <thead>\n",
       "    <tr style=\"text-align: right;\">\n",
       "      <th>Product</th>\n",
       "      <th>Appliances</th>\n",
       "      <th>Computers</th>\n",
       "      <th>Gaming</th>\n",
       "      <th>Smartphones</th>\n",
       "      <th>Televisions</th>\n",
       "      <th>Total</th>\n",
       "    </tr>\n",
       "  </thead>\n",
       "  <tbody>\n",
       "    <tr>\n",
       "      <th>East</th>\n",
       "      <td>1704</td>\n",
       "      <td>1586</td>\n",
       "      <td>1681</td>\n",
       "      <td>1341</td>\n",
       "      <td>1415</td>\n",
       "      <td>7727</td>\n",
       "    </tr>\n",
       "    <tr>\n",
       "      <th>North</th>\n",
       "      <td>1656</td>\n",
       "      <td>1583</td>\n",
       "      <td>1859</td>\n",
       "      <td>1336</td>\n",
       "      <td>1128</td>\n",
       "      <td>7562</td>\n",
       "    </tr>\n",
       "    <tr>\n",
       "      <th>South</th>\n",
       "      <td>1342</td>\n",
       "      <td>1152</td>\n",
       "      <td>1367</td>\n",
       "      <td>1252</td>\n",
       "      <td>1709</td>\n",
       "      <td>6822</td>\n",
       "    </tr>\n",
       "    <tr>\n",
       "      <th>West</th>\n",
       "      <td>1243</td>\n",
       "      <td>1382</td>\n",
       "      <td>1605</td>\n",
       "      <td>1785</td>\n",
       "      <td>1572</td>\n",
       "      <td>7587</td>\n",
       "    </tr>\n",
       "    <tr>\n",
       "      <th>Total</th>\n",
       "      <td>5945</td>\n",
       "      <td>5703</td>\n",
       "      <td>6512</td>\n",
       "      <td>5714</td>\n",
       "      <td>5824</td>\n",
       "      <td>29698</td>\n",
       "    </tr>\n",
       "  </tbody>\n",
       "</table>\n",
       "</div>"
      ],
      "text/plain": [
       "Product  Appliances  Computers  Gaming  Smartphones  Televisions  Total\n",
       "East           1704       1586    1681         1341         1415   7727\n",
       "North          1656       1583    1859         1336         1128   7562\n",
       "South          1342       1152    1367         1252         1709   6822\n",
       "West           1243       1382    1605         1785         1572   7587\n",
       "Total          5945       5703    6512         5714         5824  29698"
      ]
     },
     "execution_count": 186,
     "metadata": {},
     "output_type": "execute_result"
    }
   ],
   "source": [
    "total = sales_by_region.apply(np.sum, axis=0)\n",
    "total.values\n",
    "total.keys()\n",
    "values = total.values #np.insert(total.values, 0, 0)\n",
    "keys = total.keys()\n",
    "total_df = pd.DataFrame(values, index=keys).T\n",
    "sales_by_region1 = sales_by_region.append(total_df)\n",
    "sales_by_region1.rename(index={0: 'Total'})"
   ]
  },
  {
   "cell_type": "code",
   "execution_count": 192,
   "metadata": {},
   "outputs": [
    {
     "data": {
      "text/html": [
       "<div>\n",
       "<style scoped>\n",
       "    .dataframe tbody tr th:only-of-type {\n",
       "        vertical-align: middle;\n",
       "    }\n",
       "\n",
       "    .dataframe tbody tr th {\n",
       "        vertical-align: top;\n",
       "    }\n",
       "\n",
       "    .dataframe thead th {\n",
       "        text-align: right;\n",
       "    }\n",
       "</style>\n",
       "<table border=\"1\" class=\"dataframe\">\n",
       "  <thead>\n",
       "    <tr style=\"text-align: right;\">\n",
       "      <th>Product</th>\n",
       "      <th>Appliances</th>\n",
       "      <th>Computers</th>\n",
       "      <th>Gaming</th>\n",
       "      <th>Smartphones</th>\n",
       "      <th>Televisions</th>\n",
       "      <th>Total</th>\n",
       "    </tr>\n",
       "    <tr>\n",
       "      <th>Region</th>\n",
       "      <th></th>\n",
       "      <th></th>\n",
       "      <th></th>\n",
       "      <th></th>\n",
       "      <th></th>\n",
       "      <th></th>\n",
       "    </tr>\n",
       "  </thead>\n",
       "  <tbody>\n",
       "    <tr>\n",
       "      <th>East</th>\n",
       "      <td>1704</td>\n",
       "      <td>1586</td>\n",
       "      <td>1681</td>\n",
       "      <td>1341</td>\n",
       "      <td>1415</td>\n",
       "      <td>15454</td>\n",
       "    </tr>\n",
       "    <tr>\n",
       "      <th>North</th>\n",
       "      <td>1656</td>\n",
       "      <td>1583</td>\n",
       "      <td>1859</td>\n",
       "      <td>1336</td>\n",
       "      <td>1128</td>\n",
       "      <td>15124</td>\n",
       "    </tr>\n",
       "    <tr>\n",
       "      <th>South</th>\n",
       "      <td>1342</td>\n",
       "      <td>1152</td>\n",
       "      <td>1367</td>\n",
       "      <td>1252</td>\n",
       "      <td>1709</td>\n",
       "      <td>13644</td>\n",
       "    </tr>\n",
       "    <tr>\n",
       "      <th>West</th>\n",
       "      <td>1243</td>\n",
       "      <td>1382</td>\n",
       "      <td>1605</td>\n",
       "      <td>1785</td>\n",
       "      <td>1572</td>\n",
       "      <td>15174</td>\n",
       "    </tr>\n",
       "    <tr>\n",
       "      <th>Total</th>\n",
       "      <td>5945</td>\n",
       "      <td>5703</td>\n",
       "      <td>6512</td>\n",
       "      <td>5714</td>\n",
       "      <td>5824</td>\n",
       "      <td>29698</td>\n",
       "    </tr>\n",
       "  </tbody>\n",
       "</table>\n",
       "</div>"
      ],
      "text/plain": [
       "Product  Appliances  Computers  Gaming  Smartphones  Televisions  Total\n",
       "Region                                                                 \n",
       "East           1704       1586    1681         1341         1415  15454\n",
       "North          1656       1583    1859         1336         1128  15124\n",
       "South          1342       1152    1367         1252         1709  13644\n",
       "West           1243       1382    1605         1785         1572  15174\n",
       "Total          5945       5703    6512         5714         5824  29698"
      ]
     },
     "execution_count": 192,
     "metadata": {},
     "output_type": "execute_result"
    }
   ],
   "source": [
    "sales_by_region1 = pd.pivot_table(sales, values='Price', index=['Region'], columns=['Product'], aggfunc=np.sum)\n",
    "sales_by_region1['Total'] = sales_by_region.apply(np.sum, axis=1)\n",
    "sales_by_region1.loc['Total'] = sales_by_region.apply(np.sum, axis=0)\n",
    "sales_by_region1"
   ]
  },
  {
   "cell_type": "code",
   "execution_count": null,
   "metadata": {},
   "outputs": [],
   "source": []
  }
 ],
 "metadata": {
  "kernelspec": {
   "display_name": "Python 3",
   "language": "python",
   "name": "python3"
  },
  "language_info": {
   "codemirror_mode": {
    "name": "ipython",
    "version": 3
   },
   "file_extension": ".py",
   "mimetype": "text/x-python",
   "name": "python",
   "nbconvert_exporter": "python",
   "pygments_lexer": "ipython3",
   "version": "3.6.4"
  }
 },
 "nbformat": 4,
 "nbformat_minor": 2
}
