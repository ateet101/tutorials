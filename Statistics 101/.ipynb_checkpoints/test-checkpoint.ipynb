{
 "cells": [
  {
   "cell_type": "code",
   "execution_count": 2,
   "metadata": {},
   "outputs": [],
   "source": [
    "import pandas as pd\n",
    "import seaborn as sns\n",
    "import numpy as np\n",
    "import math\n",
    "import matplotlib.pyplot as plt\n",
    "from random import randint\n",
    "import scipy.stats as ss\n",
    "#from scipy.stats import norm, kurtosis, skew\n",
    "import itertools as itt\n",
    "sns.set(rc={'figure.figsize':(11.7,8.27)})\n",
    "import plots"
   ]
  },
  {
   "cell_type": "code",
   "execution_count": 17,
   "metadata": {},
   "outputs": [
    {
     "data": {
      "text/plain": [
       "<matplotlib.axes._subplots.AxesSubplot at 0x7f876abf4f60>"
      ]
     },
     "execution_count": 17,
     "metadata": {},
     "output_type": "execute_result"
    },
    {
     "data": {
      "image/png": "[encoded data removed]",
      "text/plain": [
       "<Figure size 432x288 with 2 Axes>"
      ]
     },
     "metadata": {},
     "output_type": "display_data"
    }
   ],
   "source": [
    "mu=0\n",
    "sigma= 1.1\n",
    "x = np.linspace(-4, 4, 5000)\n",
    "y = ss.norm.pdf(x, mu, sigma)\n",
    "\n",
    "fig = plt.figure()\n",
    "ax1 = fig.add_subplot(2,1,1)\n",
    "ax2 = fig.add_subplot(2,1,2)\n",
    "\n",
    "def team(ax):\n",
    "    mu=0\n",
    "    sigma= 1.1\n",
    "    x = np.linspace(-4, 4, 5000)\n",
    "    y = ss.norm.pdf(x, mu, sigma)\n",
    "    between = np.where(np.round(x) == -2)[0][313]\n",
    "    between1 = np.where(np.round(x) == 2)[0][313]\n",
    "    ax.fill_between(x[between:between1], 0, y[between:between1])\n",
    "    return ax\n",
    "team(ax2)"
   ]
  },
  {
   "cell_type": "code",
   "execution_count": null,
   "metadata": {},
   "outputs": [],
   "source": []
  },
  {
   "cell_type": "code",
   "execution_count": 32,
   "metadata": {},
   "outputs": [],
   "source": [
    "    def compute(lower, middle, high):\n",
    "        between = []\n",
    "        color = []\n",
    "        between.append(np.where(np.round(x) == middle[0])[0][313])\n",
    "        between.append(np.where(np.round(x) == middle[1])[0][313])\n",
    "        color.append(np.where(np.round(x) == lower[0])[0][0])\n",
    "        color.append(np.where(np.round(x) == lower[1])[0][313])\n",
    "        color.append(np.where(np.round(x) == high[0])[0][313])\n",
    "        color.append(np.where(np.round(x) == high[1])[0][-1])\n",
    "        return between, color\n"
   ]
  },
  {
   "cell_type": "code",
   "execution_count": 36,
   "metadata": {},
   "outputs": [],
   "source": [
    "    def add_plots(ax, low, middle, high):\n",
    "        color_in, color_out =Plots.compute(low, middle, high)\n",
    "        #fig, ax = plt.subplots(1, 1, sharex=True)\n",
    "        ax.plot(x,y)\n",
    "        ax.fill_between(x[color_in[0]:color_in[1]], 0, y[color_in[0]:color_in[1]])\n",
    "        ax.fill_between(x[color_out[0]:color_out[1]], 0, y[color_out[1]:color_out[2]], facecolor ='green')\n",
    "        ax.fill_between(x[color_out[2]:color_out[3]], 0, y[color_out[3]:color_out[4]], facecolor ='green')\n",
    "        return ax"
   ]
  },
  {
   "cell_type": "code",
   "execution_count": 34,
   "metadata": {},
   "outputs": [
    {
     "data": {
      "text/plain": [
       "[626, 1251]"
      ]
     },
     "execution_count": 34,
     "metadata": {},
     "output_type": "execute_result"
    }
   ],
   "source": [
    "x = np.linspace(-4, 4, 5000)\n",
    "y = ss.norm.pdf(x, mu, sigma)\n",
    "a, b = compute([-2,2],[-3,-2],[2,3])\n",
    "a"
   ]
  },
  {
   "cell_type": "code",
   "execution_count": 35,
   "metadata": {},
   "outputs": [
    {
     "data": {
      "text/plain": [
       "[938, 3750, 3750, 4686]"
      ]
     },
     "execution_count": 35,
     "metadata": {},
     "output_type": "execute_result"
    }
   ],
   "source": [
    "b"
   ]
  },
  {
   "cell_type": "code",
   "execution_count": null,
   "metadata": {},
   "outputs": [],
   "source": []
  },
  {
   "cell_type": "code",
   "execution_count": null,
   "metadata": {},
   "outputs": [],
   "source": []
  }
 ],
 "metadata": {
  "kernelspec": {
   "display_name": "Python 3",
   "language": "python",
   "name": "python3"
  },
  "language_info": {
   "codemirror_mode": {
    "name": "ipython",
    "version": 3
   },
   "file_extension": ".py",
   "mimetype": "text/x-python",
   "name": "python",
   "nbconvert_exporter": "python",
   "pygments_lexer": "ipython3",
   "version": "3.6.4"
  }
 },
 "nbformat": 4,
 "nbformat_minor": 2
}
