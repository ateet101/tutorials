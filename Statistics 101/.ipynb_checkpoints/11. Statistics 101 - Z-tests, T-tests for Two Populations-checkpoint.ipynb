{
 "cells": [
  {
   "cell_type": "code",
   "execution_count": 2,
   "metadata": {},
   "outputs": [],
   "source": [
    "import pandas as pd\n",
    "import seaborn as sns\n",
    "import numpy as np\n",
    "import math\n",
    "import matplotlib.pyplot as plt\n",
    "from random import randint\n",
    "import scipy.stats as ss\n",
    "#from scipy.stats import norm, kurtosis, skew\n",
    "import itertools as itt\n",
    "sns.set(rc={'figure.figsize':(11.7,8.27)})\n",
    "import plots\n",
    "import importlib\n",
    "#importlib.reload(plots)"
   ]
  },
  {
   "cell_type": "markdown",
   "metadata": {},
   "source": [
    "# Z-tests with Hypothesis Two Populations\n",
    "When we are looking to diffentiate or compare two distributions, there are two primary characteristics we can analyze\n",
    "1. Their means\n",
    "2. Their variances\n",
    "\n",
    "## Example Call Center Comparison\n",
    "Let's say you are the manager of two call centers near Bangalore, India. These centers focus on in-depth problem solving for clients, therefore the calls last approximately 12 minutes. Each location has its own employees, management and work culture.\n",
    "\n",
    "As part of your performance analysis, you wish to see if there is a difference in the average call-length between both locations. The assumption is that the mean difference between the two locations is zero. That is, there is no difference in mean call length between the two call centers.\n",
    "\n",
    "Call Center 1\n",
    "- $\\sigma_1$ = 1.2 minutes\n",
    "\n",
    "Call Center 2\n",
    "- $\\sigma_2$ = 1.5 minutes\n",
    "\n",
    "Assumption\n",
    "- $\\sigma_1$ - $\\sigma_2$ = 0\n",
    "\n",
    "Independence\n",
    "- Two centers are independent of each other\n",
    "\n",
    "## Hypothesis Formats and Regions\n",
    "Two tailed test\n",
    "- $H_O: \\sigma_1 - \\sigma_2 = D_O$ \n",
    "- $H_a: \\sigma_1 - \\sigma_2 \\neq D_O$ \n",
    "\n",
    "One tailed upper\n",
    "- $H_O: \\sigma_1 - \\sigma_2 \\leq D_O$ \n",
    "- $H_a: \\sigma_1 - \\sigma_2 > D_O$ \n",
    "\n",
    "One tailed lower\n",
    "- $H_O: \\sigma_1 - \\sigma_2 \\geq D_O$ \n",
    "- $H_a: \\sigma_1 - \\sigma_2 < D_O$ \n",
    "\n",
    "## Call Center Hypothesis\n",
    "The tentative assumption (null hypothesis) is that no difference exists between the mean call lengths at the two call centers; $D_O$\n",
    "\n",
    "- $H_O: \\sigma_1 - \\sigma_2 = D_O$ \n",
    "- $H_a: \\sigma_1 - \\sigma_2 \\neq D_O$ \n",
    "\n",
    "Significance Level: $\\alpha = .05$\n",
    "\n",
    "Since $\\sigma$ is known, we will use the z-distribution in our test\n",
    "\n",
    "Decision Rule:\n",
    "\n",
    "Since $\\alpha = .05$ and we are using the z-distribution, $H_O$ will be rejected if the test statistic > 1.96 or < 1.96\n"
   ]
  },
  {
   "cell_type": "code",
   "execution_count": null,
   "metadata": {},
   "outputs": [],
   "source": []
  }
 ],
 "metadata": {
  "kernelspec": {
   "display_name": "Python 3",
   "language": "python",
   "name": "python3"
  },
  "language_info": {
   "codemirror_mode": {
    "name": "ipython",
    "version": 3
   },
   "file_extension": ".py",
   "mimetype": "text/x-python",
   "name": "python",
   "nbconvert_exporter": "python",
   "pygments_lexer": "ipython3",
   "version": "3.6.4"
  }
 },
 "nbformat": 4,
 "nbformat_minor": 2
}
