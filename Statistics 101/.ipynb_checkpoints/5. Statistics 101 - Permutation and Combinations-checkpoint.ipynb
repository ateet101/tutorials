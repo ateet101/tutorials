{
 "cells": [
  {
   "cell_type": "code",
   "execution_count": 1,
   "metadata": {},
   "outputs": [],
   "source": [
    "import pandas as pd\n",
    "import seaborn as sns\n",
    "import numpy as np\n",
    "import matplotlib.pyplot as plt\n",
    "from random import randint\n",
    "import scipy.stats as ss\n",
    "#from scipy.stats import norm, kurtosis, skew\n",
    "import itertools as itt\n",
    "import lxml"
   ]
  },
  {
   "cell_type": "markdown",
   "metadata": {},
   "source": [
    "## Permutation\n",
    "- The number of different ways that a certain number of objects can be arranged in order from a large number of objects.\n",
    "- If there are n objects, how many different ways can we make ordered lists of r\n",
    "- Order matters\n",
    "\\begin{equation*}\n",
    "P(n,r)\n",
    "\\end{equation*}"
   ]
  },
  {
   "cell_type": "markdown",
   "metadata": {},
   "source": [
    "## Combination\n",
    "- The number of different ways that a certain number of objects AS A GROUP can be selected from a large number of objects.\n",
    "- If there are n objects, how many different ways can we select groups of sets of size r\n",
    "\n",
    "\\begin{equation*}\n",
    "C(n,r)\n",
    "\\end{equation*}"
   ]
  },
  {
   "cell_type": "markdown",
   "metadata": {},
   "source": [
    "Example:\n",
    "\n",
    "A horse race will include 10 horses. You are given two betting options. You can choose the top three horses regardless of finishing order or you can choose the top three horses in exact order of finish. How many possibilities are there for each outcome?\n",
    "\n",
    "1. Top 3 in exact order P(10,3) = 720 possibilities\n",
    "2. Top 3 in exact order C(10,3) = 120 possibilities"
   ]
  },
  {
   "cell_type": "markdown",
   "metadata": {},
   "source": [
    "Example:\n",
    "    \n",
    "During most of the season, a MLB team has 25 active players. Ignoring playing positions on the field, a manager must select 9 players for each game\n",
    "\n",
    "How many unique groups or sets of 9 players out of 25 could be potential line ups?\n",
    "1. C(25,9) = 2,042,975\n",
    "\n",
    "How many lineups (ordered list) could the manager make using 9 players out of the 25?\n",
    "1. P(25,9) = 7.41 x 10^11"
   ]
  },
  {
   "cell_type": "markdown",
   "metadata": {},
   "source": [
    "Example:\n",
    "    \n",
    "There are 30 stocks in the Dow Jones Industrial Average. Over the next 6 months you decide to invest $1,0000 in a different stock each month.\n",
    "\n",
    "How many unique groups of 6 stocks are possible?\n",
    "1. C(30,6) = 593,775\n",
    "\n",
    "How many investment lists could be made? The order of investments to be made over time?\n",
    "1. P(30,6) = 427,518,000"
   ]
  },
  {
   "cell_type": "markdown",
   "metadata": {},
   "source": [
    "## Combination Example Pizza Topping\n",
    "\n",
    "Example:\n",
    "    \n",
    "Let's say you are the owner of a pizzeria. You are going to offer a special for a medium pizza with any 3 different toppings for $9.99. You offer 10 different toppings. The special only applies to 3-topping medium pizzas.\n",
    "\n",
    "For your records, you want to keep track of each possible pizza that can be ordered using 3 out of 10 toppings.\n",
    "\n",
    "For how many different pizzas will you be keeping records?\n",
    "\n",
    "Questions:\n",
    "\n",
    "- How many ways can 3 different toppings be chosen from a selection of 10 different choices?\n",
    "- How many unique 3-topping pizzas can be \"built\" when choosing from 10 toppings? Each different pizza is an outcome"
   ]
  },
  {
   "cell_type": "markdown",
   "metadata": {},
   "source": [
    "## Combination Example HR job ID\n",
    "\n",
    "Example:\n",
    "You are the HR manager for a small university. Over the past 6 months you have posted and filled 15 different positions.\n",
    "\n",
    "For quality control purposes, you wish to determine the average length of time it took to fill the position from job posting to job offer\n",
    "\n",
    "To do this you are going to \n",
    "1. Place the job IDs on pieces of paper\n",
    "2. Put the pieces in a bowl and shake it up\n",
    "3. Randomly select three\n",
    "4. Calculate the hiring time\n",
    "5. Place them back in the bowl\n",
    "6. Repeat 2 more times\n",
    "\n",
    "Questions:\n",
    "\n",
    "How many possible groups of 3 job IDs out of the 15 could you pull from the hat during each sample of three jobs?\n",
    "1. C(15,3) = 455\n",
    "\n",
    "Note the phrase: \"Group of 3\" out of 15"
   ]
  },
  {
   "cell_type": "markdown",
   "metadata": {},
   "source": [
    "# Combination\n",
    "- The number of different ways that r objects can be selected from a large number of n objects\n",
    "- Often said as \"n choose r\"\n",
    "- If there are n objects, how many different ways can we select groups of size r\n",
    "\\begin{equation*}\n",
    "C(n,r)\n",
    "\\end{equation*}"
   ]
  },
  {
   "cell_type": "markdown",
   "metadata": {},
   "source": [
    "Pizza Topping Example:\n",
    "\\begin{equation*}\n",
    "C(10,3)=120\n",
    "\\end{equation*}\n",
    "3 topping pizza, pepperoni sausage and onion pizza is the same as sausage, onion, and pepperoni\n",
    "\n",
    "HR job Example:\n",
    "\\begin{equation*}\n",
    "C(15,3)=455\n",
    "\\end{equation*}"
   ]
  },
  {
   "cell_type": "markdown",
   "metadata": {},
   "source": [
    "## Combination Formula\n",
    "\\begin{equation*}\n",
    "C(n,r)=\\frac{n!}{r!(n-r)!}\n",
    "\\end{equation*}\n",
    "\n",
    "n = the number of things to choose from\n",
    "r = number of things chosen; group size\n",
    "\n",
    "! = factorial\n",
    "\n",
    "Example: 5! = 5x4x3x2x1"
   ]
  },
  {
   "cell_type": "markdown",
   "metadata": {},
   "source": [
    "## Pizza Toppings Answer:\n",
    "\\begin{equation*}\n",
    "C(n,r)=\\frac{n!}{r!(n-r)!}\n",
    "\\end{equation*}\n",
    "\n",
    "\n",
    "\\begin{equation}\n",
    "\\begin{split}\n",
    "C(10,3) & =\\frac{10!}{3!(10-3)!} \\\\\n",
    "& = \\frac{10!}{3!(7)!} \\\\\n",
    "& = \\frac{10*9*8*7*6*5*4*3*2*1}{3*2*1*(7*6*5*4*3*2*1)} \\\\\n",
    "& = \\frac{10*9*8}{3*2*1} \\\\\n",
    "& = \\frac{720}{6} \\\\\n",
    "& = 120\n",
    "\\end{split}\n",
    "\\end{equation}\n",
    "\n"
   ]
  },
  {
   "cell_type": "code",
   "execution_count": 23,
   "metadata": {},
   "outputs": [
    {
     "data": {
      "text/plain": [
       "120"
      ]
     },
     "execution_count": 23,
     "metadata": {},
     "output_type": "execute_result"
    }
   ],
   "source": [
    "pizza = itt.combinations(range(0,10),3)\n",
    "len(list(pizza))"
   ]
  },
  {
   "cell_type": "markdown",
   "metadata": {},
   "source": [
    "## The Lottery Example and Answer\n",
    "\n",
    "A state lottery selects 6 numbers out of 52. The numbers are selected as a group. There are no repeat numbers and the order of the numbers does not matter.\n",
    "\n",
    "How many possible outcomes does this lottery have?\n",
    "\n",
    "Answer:\n",
    "\\begin{equation*}\n",
    "C(n,r)=\\frac{n!}{r!(n-r)!}\n",
    "\\end{equation*}\n",
    "\n",
    "\n",
    "\\begin{equation}\n",
    "\\begin{split}\n",
    "C(52,6) & =\\frac{52!}{6!(52-6)!} \\\\\n",
    "& = \\frac{52!}{52!(46)!} \\\\\n",
    "& = 20,358,520\n",
    "\\end{split}\n",
    "\\end{equation}"
   ]
  },
  {
   "cell_type": "code",
   "execution_count": 25,
   "metadata": {},
   "outputs": [
    {
     "data": {
      "text/plain": [
       "20358520"
      ]
     },
     "execution_count": 25,
     "metadata": {},
     "output_type": "execute_result"
    }
   ],
   "source": [
    "lotto = itt.combinations(range(0,52),6)\n",
    "len(list(lotto))"
   ]
  },
  {
   "cell_type": "markdown",
   "metadata": {},
   "source": [
    "# Permutations\n",
    "- The number of different ways that a certain number of objects can be placed in order from a larger number of n objects.\n",
    "- If there are n objects, how many different ordered lists can we make of size r\n",
    "\n",
    "\\begin{equation}\n",
    "P(n,r)\n",
    "\\end{equation}"
   ]
  },
  {
   "cell_type": "markdown",
   "metadata": {},
   "source": [
    "## Permutation Formula\n",
    "\\begin{equation*}\n",
    "C(n,r)=\\frac{n!}{(n-r)!}\n",
    "\\end{equation*}\n",
    "\n",
    "n = the number of things to make lists about\n",
    "r = number of things listed;\n",
    "\n",
    "! = factorial\n",
    "\n",
    "Example: 5! = 5x4x3x2x1"
   ]
  },
  {
   "cell_type": "markdown",
   "metadata": {},
   "source": [
    "Example:\n",
    "\n",
    "A horse race will include 10 horses. You want to place a bet on the top three horses in exact order of finish. \n",
    "\n",
    "How many unique 1-2-3 finishes are there in a race involving 10 horses?\n",
    "\n",
    "1. Top 3 in exact order P(10,3) = 720 possibilities\n",
    "\n",
    "\\begin{equation*}\n",
    "P(n,r)=\\frac{n!}{(n-r)!}\n",
    "\\end{equation*}\n",
    "\n",
    "\n",
    "\\begin{equation}\n",
    "\\begin{split}\n",
    "P(10,3) & =\\frac{10!}{(10-3)!} \\\\\n",
    "& = \\frac{10!}{3!(7)!} \\\\\n",
    "& = \\frac{10*9*8*7*6*5*4*3*2*1}{7*6*5*4*3*2*1} \\\\\n",
    "& = 10*9*8 \\\\\n",
    "& = 720 \\\\\n",
    "\\end{split}\n",
    "\\end{equation}"
   ]
  },
  {
   "cell_type": "code",
   "execution_count": 26,
   "metadata": {},
   "outputs": [
    {
     "data": {
      "text/plain": [
       "720"
      ]
     },
     "execution_count": 26,
     "metadata": {},
     "output_type": "execute_result"
    }
   ],
   "source": [
    "horse = itt.permutations(range(0,10),3)\n",
    "len(list(horse))"
   ]
  },
  {
   "cell_type": "markdown",
   "metadata": {},
   "source": [
    "# Combinations - Losing your Marbles Example"
   ]
  },
  {
   "cell_type": "markdown",
   "metadata": {},
   "source": [
    "A bucket contains the following marbles: 4 red, 3 blue, 4 green, and 3 yellow making 14 total marbles. Each number is labeled with a number so it can be distinguished\n",
    "\n",
    "- Red - Numbers 1,2,3,4\n",
    "- Green - Numbers 1,2,3,4\n",
    "- Blue - Numbers 1,2,3\n",
    "- Yellow - Numbers 1,2,3\n",
    "\n",
    "Questions:\n",
    "1. How many sets/groups of 4 marbles are possible?\n",
    "2. How many sets/groups of 4 marbles are there such that each one is a different color?\n",
    "3. How many sets of 4 are there in which at least two are red?\n",
    "4. How many sets of 4 are there in which none are red, but at least one is green?\n",
    "\n",
    "Answers:\n",
    "1:\n",
    "\\begin{equation*}\n",
    "C(n,r)=\\frac{n!}{r!(n-r)!}\n",
    "\\end{equation*}\n",
    "\n",
    "\n",
    "\\begin{equation}\n",
    "\\begin{split}\n",
    "C(14,4) & =\\frac{14!}{4!(14-4)!} \\\\\n",
    "& = 1001\n",
    "\\end{split}\n",
    "\\end{equation}\n",
    "\n",
    "2:\n",
    "- How many choices do we have for the blue? 3\n",
    "- How many choices do we have for the red? 4\n",
    "- How many choices do we have for the green? 4\n",
    "- How many choices do we have for the yellow? 3\n",
    "\\begin{equation*}\n",
    "C(n,r)= C(3,1) * C(4,1) * C(4,1) * C(3,1) = 3*4*4*3 =144\n",
    "\\end{equation*}\n",
    "\n",
    "3:\n",
    "- 2 red out of 4\n",
    "- 2 not red out of 10\n",
    "\\begin{equation*}\n",
    "C(n,r)= C(4,2) * C(10,2) = 270\n",
    "\\end{equation*}\n",
    "OR\n",
    "- 3 red out of 4\n",
    "- 1 not red out of 10\n",
    "\\begin{equation*}\n",
    "C(n,r)= C(4,3) * C(10,1) = 40\n",
    "\\end{equation*}\n",
    "OR\n",
    "- 4 red out of 4\n",
    "- 0 not red out of 10\n",
    "\\begin{equation*}\n",
    "C(n,r)= C(4,4) = 1\n",
    "\\end{equation*}\n",
    "\n",
    "Total Possibilities:\n",
    "270 + 40 + 1 = 311\n",
    "\n",
    "4:\n",
    "Since we cannot have red, instead of 14 marbles, we are down to 10\n",
    "\n",
    "Outcomes:\n",
    "- 1 green with 3 others; blue or yellow\n",
    "- 2 green with 2 others; blue or yellow\n",
    "- 3 green with 1 other; blue or yellow\n",
    "- 4 green\n",
    "\n",
    "1 green with 3 others; blue or yellow(B+Y=6)\n",
    "\\begin{equation*}\n",
    "C(n,r)= C(4,1) * C(6,3) = 4*20=80\n",
    "\\end{equation*}\n",
    "\n",
    "2 green with 2 others; blue or yellow\n",
    "\\begin{equation*}\n",
    "C(n,r)= C(4,2) * C(6,2) = 6*15=90\n",
    "\\end{equation*}\n",
    "\n",
    "3 green with 1 other; blue or yellow\n",
    "\\begin{equation*}\n",
    "C(n,r)= C(4,3) * C(6,1) = 4*6=24\n",
    "\\end{equation*}\n",
    "\n",
    "4 green\n",
    "\\begin{equation*}\n",
    "C(n,r)= C(4,4) = 1\n",
    "\\end{equation*}\n",
    "\n",
    "Total Possibilities:\n",
    "80 + 90 + 24 + 1 = 195"
   ]
  },
  {
   "cell_type": "markdown",
   "metadata": {},
   "source": [
    "## EASIER WAY\n",
    "All possible without red is C(10,4) = 21\n",
    "\n",
    "We must have at least 1 green, so 1,2,3 or 4 green. But that means we CANNOT have zero green\n",
    "- All possible without red OR green. C(6,4) = 15\n",
    "\n",
    "So if we take our total and then subtract what we CANNOT have:\n",
    "C(10,4) - C(6,4) = 195"
   ]
  },
  {
   "cell_type": "markdown",
   "metadata": {},
   "source": [
    "# Combinations - Dogs or the Dow\n",
    "\n",
    "The \"Dogs of the Dow\" is a list of stocks on the stock market. These stocks pay the highest dividend yield (dividend as a percentage of stock price)\n",
    "- A dividend is a cash payment to shareholders"
   ]
  },
  {
   "cell_type": "code",
   "execution_count": 65,
   "metadata": {},
   "outputs": [],
   "source": [
    "import requests\n",
    "import html5lib\n",
    "import urllib.request as urllib2\n",
    "\n",
    "from bs4 import BeautifulSoup\n",
    "\n",
    "url = \"http://www.dogsofthedow.com/dogs2011p.htm\"\n",
    "source = urllib2.urlopen(url).read()\n",
    "soup = BeautifulSoup(source, 'lxml')"
   ]
  },
  {
   "cell_type": "code",
   "execution_count": 64,
   "metadata": {},
   "outputs": [
    {
     "data": {
      "text/html": [
       "<div>\n",
       "<style scoped>\n",
       "    .dataframe tbody tr th:only-of-type {\n",
       "        vertical-align: middle;\n",
       "    }\n",
       "\n",
       "    .dataframe tbody tr th {\n",
       "        vertical-align: top;\n",
       "    }\n",
       "\n",
       "    .dataframe thead th {\n",
       "        text-align: right;\n",
       "    }\n",
       "</style>\n",
       "<table border=\"1\" class=\"dataframe\">\n",
       "  <thead>\n",
       "    <tr style=\"text-align: right;\">\n",
       "      <th></th>\n",
       "      <th>Company</th>\n",
       "      <th>Price</th>\n",
       "      <th>Yield</th>\n",
       "    </tr>\n",
       "  </thead>\n",
       "  <tbody>\n",
       "    <tr>\n",
       "      <th>0</th>\n",
       "      <td>AT&amp;T</td>\n",
       "      <td>29.38</td>\n",
       "      <td>5.85%</td>\n",
       "    </tr>\n",
       "    <tr>\n",
       "      <th>1</th>\n",
       "      <td>Verizon</td>\n",
       "      <td>35.78</td>\n",
       "      <td>5.46%</td>\n",
       "    </tr>\n",
       "    <tr>\n",
       "      <th>2</th>\n",
       "      <td>Pfizer</td>\n",
       "      <td>17.51</td>\n",
       "      <td>4.57%</td>\n",
       "    </tr>\n",
       "    <tr>\n",
       "      <th>3</th>\n",
       "      <td>Merck</td>\n",
       "      <td>36.04</td>\n",
       "      <td>4.22%</td>\n",
       "    </tr>\n",
       "    <tr>\n",
       "      <th>4</th>\n",
       "      <td>Kraft</td>\n",
       "      <td>31.51</td>\n",
       "      <td>3.68%</td>\n",
       "    </tr>\n",
       "    <tr>\n",
       "      <th>5</th>\n",
       "      <td>Johnson &amp; Johnson</td>\n",
       "      <td>61.85</td>\n",
       "      <td>3.49%</td>\n",
       "    </tr>\n",
       "    <tr>\n",
       "      <th>6</th>\n",
       "      <td>Intel</td>\n",
       "      <td>21.03</td>\n",
       "      <td>3.42%</td>\n",
       "    </tr>\n",
       "    <tr>\n",
       "      <th>7</th>\n",
       "      <td>DuPont</td>\n",
       "      <td>49.88</td>\n",
       "      <td>3.29%</td>\n",
       "    </tr>\n",
       "    <tr>\n",
       "      <th>8</th>\n",
       "      <td>McDonald's</td>\n",
       "      <td>76.76</td>\n",
       "      <td>3.18%</td>\n",
       "    </tr>\n",
       "    <tr>\n",
       "      <th>9</th>\n",
       "      <td>Chevron</td>\n",
       "      <td>91.25</td>\n",
       "      <td>3.16%</td>\n",
       "    </tr>\n",
       "  </tbody>\n",
       "</table>\n",
       "</div>"
      ],
      "text/plain": [
       "             Company  Price  Yield\n",
       "0               AT&T  29.38  5.85%\n",
       "1            Verizon  35.78  5.46%\n",
       "2             Pfizer  17.51  4.57%\n",
       "3              Merck  36.04  4.22%\n",
       "4              Kraft  31.51  3.68%\n",
       "5  Johnson & Johnson  61.85  3.49%\n",
       "6              Intel  21.03  3.42%\n",
       "7             DuPont  49.88  3.29%\n",
       "8         McDonald's  76.76  3.18%\n",
       "9            Chevron  91.25  3.16%"
      ]
     },
     "execution_count": 64,
     "metadata": {},
     "output_type": "execute_result"
    }
   ],
   "source": [
    "#finds all \"td\" tags with given class and puts them into the array companies\n",
    "companies = soup.findAll('td', { \"class\" : \"xl16781652\" })\n",
    "prices = soup.findAll('td', { \"class\" : \"xl16791652\" })\n",
    "yields = soup.findAll('td', { \"class\" : \"xl16801652\" })\n",
    "\n",
    "company_array = []\n",
    "prices_array = []\n",
    "yields_array = [] \n",
    "\n",
    "#Loops through all items in array companies and puts the text of the td tag into companies_array\n",
    "for item in range(0, len(companies)):\n",
    "    company_array.append(companies[item].text)\n",
    "    prices_array.append(prices[item].text)\n",
    "    yields_array.append(yields[item].text)\n",
    " #   print(companies[item])\n",
    "\n",
    "dogs_df = pd.DataFrame({'Company': company_array, 'Price': prices_array, 'Yield': yields_array})\n",
    "dogs_df"
   ]
  },
  {
   "cell_type": "markdown",
   "metadata": {},
   "source": [
    "As a retired investor, you rely on dividend income as part of your overall income stream. Your investment startegy calls for developing a group of five stocks from the Dogs of the Dow list.\n",
    "\n",
    "There are certain stocks you fell you may definitely want to have in your portfolio: General Electric and Proctor and Gamble\n",
    "    \n",
    "Also, you are considering a scenario where at least 4 stocks in your portfolio of five have a dividend yield of 3.5% or more\n",
    "    \n",
    "Questions:\n",
    "1. How many different 5-stock portfolios are possible?\n",
    "2. How many differenr stock portfolios contain GE and PG, but do not have Intel nor Kraft?\n",
    "3. How many different portfolios contain at least four stocks with yields above 3.4%?\n",
    "\n",
    "Answers:\n",
    "1. C(10,5) = 252\n",
    "\n",
    "2. We must have PG and GE. Those two are a fixed group. So now we have 3 more selections to make with 8 remaining stocks. But...we do NOT want INTC or KFT. So instead of 8 remaining stocks to choose our next 3, we only have 6 to choose from\n",
    "\n",
    "(PG&GE) * C(6,3) = 1 *20 = 20\n",
    "\n",
    "3. Outcomes: A portfolio with 4 or 5 stocks with yields >3.4% \n",
    "    \n",
    "C(6,4) * C(4,1) = 60\n",
    "\n",
    "C(6,5) = 6\n",
    "\n",
    "6+60=66"
   ]
  },
  {
   "cell_type": "markdown",
   "metadata": {},
   "source": [
    "If we randomly select 5 stocks for our portfolio, whait is the chance our portfolio has at least 4 stocks with dividend yields > 3.4%\n",
    "\n",
    "P(at least 4 stocks with yield > 3.5) = # portfolios with 4 or 5 > 3.5% stocks / #total possible portfolios\n",
    "\n",
    "66/252 = 26.2%"
   ]
  },
  {
   "cell_type": "markdown",
   "metadata": {},
   "source": [
    "# Symmetrical Combinations\n",
    "\n",
    "Choices become more and more like a normal curve\n",
    "\n",
    "As we increase our group size and then calculate the frequency of each possible combination where 0 <= r <= n our histogram begins to look a lot like a normal curve or \"bell curve\"\n",
    "\n",
    "Think what our histogram would look like if we increased our group size towards infinity. The \"bars\" would almost be squished together, almost invisible, creating a smooth curve"
   ]
  },
  {
   "cell_type": "code",
   "execution_count": 67,
   "metadata": {},
   "outputs": [
    {
     "data": {
      "text/html": [
       "<div>\n",
       "<style scoped>\n",
       "    .dataframe tbody tr th:only-of-type {\n",
       "        vertical-align: middle;\n",
       "    }\n",
       "\n",
       "    .dataframe tbody tr th {\n",
       "        vertical-align: top;\n",
       "    }\n",
       "\n",
       "    .dataframe thead th {\n",
       "        text-align: right;\n",
       "    }\n",
       "</style>\n",
       "<table border=\"1\" class=\"dataframe\">\n",
       "  <thead>\n",
       "    <tr style=\"text-align: right;\">\n",
       "      <th></th>\n",
       "      <th>Combinations</th>\n",
       "      <th>Expression</th>\n",
       "      <th>n</th>\n",
       "      <th>r</th>\n",
       "    </tr>\n",
       "  </thead>\n",
       "  <tbody>\n",
       "    <tr>\n",
       "      <th>0</th>\n",
       "      <td>1</td>\n",
       "      <td>C(5,0)</td>\n",
       "      <td>5</td>\n",
       "      <td>0</td>\n",
       "    </tr>\n",
       "    <tr>\n",
       "      <th>1</th>\n",
       "      <td>5</td>\n",
       "      <td>C(5,1)</td>\n",
       "      <td>5</td>\n",
       "      <td>1</td>\n",
       "    </tr>\n",
       "    <tr>\n",
       "      <th>2</th>\n",
       "      <td>10</td>\n",
       "      <td>C(5,2)</td>\n",
       "      <td>5</td>\n",
       "      <td>2</td>\n",
       "    </tr>\n",
       "    <tr>\n",
       "      <th>3</th>\n",
       "      <td>10</td>\n",
       "      <td>C(5,3)</td>\n",
       "      <td>5</td>\n",
       "      <td>3</td>\n",
       "    </tr>\n",
       "    <tr>\n",
       "      <th>4</th>\n",
       "      <td>5</td>\n",
       "      <td>C(5,4)</td>\n",
       "      <td>5</td>\n",
       "      <td>4</td>\n",
       "    </tr>\n",
       "    <tr>\n",
       "      <th>5</th>\n",
       "      <td>1</td>\n",
       "      <td>C(5,5)</td>\n",
       "      <td>5</td>\n",
       "      <td>5</td>\n",
       "    </tr>\n",
       "  </tbody>\n",
       "</table>\n",
       "</div>"
      ],
      "text/plain": [
       "   Combinations Expression  n  r\n",
       "0             1     C(5,0)  5  0\n",
       "1             5     C(5,1)  5  1\n",
       "2            10     C(5,2)  5  2\n",
       "3            10     C(5,3)  5  3\n",
       "4             5     C(5,4)  5  4\n",
       "5             1     C(5,5)  5  5"
      ]
     },
     "execution_count": 67,
     "metadata": {},
     "output_type": "execute_result"
    }
   ],
   "source": [
    "fives = pd.DataFrame({'n': [5,5,5,5,5,5],\n",
    "                      'r':[0,1,2,3,4,5],\n",
    "                      'Expression':['C(5,0)','C(5,1)','C(5,2)','C(5,3)','C(5,4)','C(5,5)'], \n",
    "                      'Combinations':[1,5,10,10,5,1]})\n",
    "fives"
   ]
  },
  {
   "cell_type": "code",
   "execution_count": 72,
   "metadata": {},
   "outputs": [
    {
     "data": {
      "text/plain": [
       "<matplotlib.axes._subplots.AxesSubplot at 0x7f3fcd87fa20>"
      ]
     },
     "execution_count": 72,
     "metadata": {},
     "output_type": "execute_result"
    },
    {
     "data": {
      "image/png": "[encoded data removed]",
      "text/plain": [
       "<matplotlib.figure.Figure at 0x7f3fcd866908>"
      ]
     },
     "metadata": {},
     "output_type": "display_data"
    }
   ],
   "source": [
    "sns.barplot(data=fives,x='Expression',y='Combinations')"
   ]
  },
  {
   "cell_type": "code",
   "execution_count": 73,
   "metadata": {},
   "outputs": [
    {
     "data": {
      "text/html": [
       "<div>\n",
       "<style scoped>\n",
       "    .dataframe tbody tr th:only-of-type {\n",
       "        vertical-align: middle;\n",
       "    }\n",
       "\n",
       "    .dataframe tbody tr th {\n",
       "        vertical-align: top;\n",
       "    }\n",
       "\n",
       "    .dataframe thead th {\n",
       "        text-align: right;\n",
       "    }\n",
       "</style>\n",
       "<table border=\"1\" class=\"dataframe\">\n",
       "  <thead>\n",
       "    <tr style=\"text-align: right;\">\n",
       "      <th></th>\n",
       "      <th>Combinations</th>\n",
       "      <th>Expression</th>\n",
       "      <th>n</th>\n",
       "      <th>r</th>\n",
       "    </tr>\n",
       "  </thead>\n",
       "  <tbody>\n",
       "    <tr>\n",
       "      <th>0</th>\n",
       "      <td>1</td>\n",
       "      <td>C(10,0)</td>\n",
       "      <td>10</td>\n",
       "      <td>0</td>\n",
       "    </tr>\n",
       "    <tr>\n",
       "      <th>1</th>\n",
       "      <td>10</td>\n",
       "      <td>C(10,1)</td>\n",
       "      <td>10</td>\n",
       "      <td>1</td>\n",
       "    </tr>\n",
       "    <tr>\n",
       "      <th>2</th>\n",
       "      <td>45</td>\n",
       "      <td>C(10,2)</td>\n",
       "      <td>10</td>\n",
       "      <td>2</td>\n",
       "    </tr>\n",
       "    <tr>\n",
       "      <th>3</th>\n",
       "      <td>120</td>\n",
       "      <td>C(10,3)</td>\n",
       "      <td>10</td>\n",
       "      <td>3</td>\n",
       "    </tr>\n",
       "    <tr>\n",
       "      <th>4</th>\n",
       "      <td>210</td>\n",
       "      <td>C(10,4)</td>\n",
       "      <td>10</td>\n",
       "      <td>4</td>\n",
       "    </tr>\n",
       "    <tr>\n",
       "      <th>5</th>\n",
       "      <td>252</td>\n",
       "      <td>C(10,5)</td>\n",
       "      <td>10</td>\n",
       "      <td>5</td>\n",
       "    </tr>\n",
       "    <tr>\n",
       "      <th>6</th>\n",
       "      <td>210</td>\n",
       "      <td>C(10,6)</td>\n",
       "      <td>10</td>\n",
       "      <td>6</td>\n",
       "    </tr>\n",
       "    <tr>\n",
       "      <th>7</th>\n",
       "      <td>120</td>\n",
       "      <td>C(10,7)</td>\n",
       "      <td>10</td>\n",
       "      <td>7</td>\n",
       "    </tr>\n",
       "    <tr>\n",
       "      <th>8</th>\n",
       "      <td>45</td>\n",
       "      <td>C(10,8)</td>\n",
       "      <td>10</td>\n",
       "      <td>8</td>\n",
       "    </tr>\n",
       "    <tr>\n",
       "      <th>9</th>\n",
       "      <td>10</td>\n",
       "      <td>C(10,9)</td>\n",
       "      <td>10</td>\n",
       "      <td>9</td>\n",
       "    </tr>\n",
       "    <tr>\n",
       "      <th>10</th>\n",
       "      <td>1</td>\n",
       "      <td>C(10,10)</td>\n",
       "      <td>10</td>\n",
       "      <td>10</td>\n",
       "    </tr>\n",
       "  </tbody>\n",
       "</table>\n",
       "</div>"
      ],
      "text/plain": [
       "    Combinations Expression   n   r\n",
       "0              1    C(10,0)  10   0\n",
       "1             10    C(10,1)  10   1\n",
       "2             45    C(10,2)  10   2\n",
       "3            120    C(10,3)  10   3\n",
       "4            210    C(10,4)  10   4\n",
       "5            252    C(10,5)  10   5\n",
       "6            210    C(10,6)  10   6\n",
       "7            120    C(10,7)  10   7\n",
       "8             45    C(10,8)  10   8\n",
       "9             10    C(10,9)  10   9\n",
       "10             1   C(10,10)  10  10"
      ]
     },
     "execution_count": 73,
     "metadata": {},
     "output_type": "execute_result"
    }
   ],
   "source": [
    "tens = pd.DataFrame({'n': [10,10,10,10,10,10,10,10,10,10,10],\n",
    "                      'r':[0,1,2,3,4,5,6,7,8,9,10],\n",
    "                      'Expression':['C(10,0)','C(10,1)','C(10,2)','C(10,3)','C(10,4)','C(10,5)', 'C(10,6)','C(10,7)','C(10,8)','C(10,9)','C(10,10)'], \n",
    "                      'Combinations':[1,10,45,120,210,252,210,120,45,10,1]})\n",
    "tens"
   ]
  },
  {
   "cell_type": "code",
   "execution_count": 75,
   "metadata": {},
   "outputs": [
    {
     "data": {
      "text/plain": [
       "<matplotlib.axes._subplots.AxesSubplot at 0x7f3fcf467dd8>"
      ]
     },
     "execution_count": 75,
     "metadata": {},
     "output_type": "execute_result"
    },
    {
     "data": {
      "image/png": "[encoded data removed]",
      "text/plain": [
       "<matplotlib.figure.Figure at 0x7f3fcf731390>"
      ]
     },
     "metadata": {},
     "output_type": "display_data"
    }
   ],
   "source": [
    "sns.barplot(data=tens,x='Expression',y='Combinations')"
   ]
  },
  {
   "cell_type": "markdown",
   "metadata": {},
   "source": [
    "## Probabilities\n",
    "$ \\frac{Combinations}{\\sum Combinations} $\n",
    "\n",
    "$ \\frac{Selection}{Total Possible Outcomes} $"
   ]
  },
  {
   "cell_type": "code",
   "execution_count": 78,
   "metadata": {},
   "outputs": [
    {
     "data": {
      "text/html": [
       "<div>\n",
       "<style scoped>\n",
       "    .dataframe tbody tr th:only-of-type {\n",
       "        vertical-align: middle;\n",
       "    }\n",
       "\n",
       "    .dataframe tbody tr th {\n",
       "        vertical-align: top;\n",
       "    }\n",
       "\n",
       "    .dataframe thead th {\n",
       "        text-align: right;\n",
       "    }\n",
       "</style>\n",
       "<table border=\"1\" class=\"dataframe\">\n",
       "  <thead>\n",
       "    <tr style=\"text-align: right;\">\n",
       "      <th></th>\n",
       "      <th>Combinations</th>\n",
       "      <th>Expression</th>\n",
       "      <th>Proportion</th>\n",
       "      <th>n</th>\n",
       "      <th>r</th>\n",
       "    </tr>\n",
       "  </thead>\n",
       "  <tbody>\n",
       "    <tr>\n",
       "      <th>0</th>\n",
       "      <td>1</td>\n",
       "      <td>C(5,0)</td>\n",
       "      <td>1/32</td>\n",
       "      <td>5</td>\n",
       "      <td>0</td>\n",
       "    </tr>\n",
       "    <tr>\n",
       "      <th>1</th>\n",
       "      <td>5</td>\n",
       "      <td>C(5,1)</td>\n",
       "      <td>5/32</td>\n",
       "      <td>5</td>\n",
       "      <td>1</td>\n",
       "    </tr>\n",
       "    <tr>\n",
       "      <th>2</th>\n",
       "      <td>10</td>\n",
       "      <td>C(5,2)</td>\n",
       "      <td>10/32</td>\n",
       "      <td>5</td>\n",
       "      <td>2</td>\n",
       "    </tr>\n",
       "    <tr>\n",
       "      <th>3</th>\n",
       "      <td>10</td>\n",
       "      <td>C(5,3)</td>\n",
       "      <td>10/32</td>\n",
       "      <td>5</td>\n",
       "      <td>3</td>\n",
       "    </tr>\n",
       "    <tr>\n",
       "      <th>4</th>\n",
       "      <td>5</td>\n",
       "      <td>C(5,4)</td>\n",
       "      <td>5/32</td>\n",
       "      <td>5</td>\n",
       "      <td>4</td>\n",
       "    </tr>\n",
       "    <tr>\n",
       "      <th>5</th>\n",
       "      <td>1</td>\n",
       "      <td>C(5,5)</td>\n",
       "      <td>1/32</td>\n",
       "      <td>5</td>\n",
       "      <td>5</td>\n",
       "    </tr>\n",
       "  </tbody>\n",
       "</table>\n",
       "</div>"
      ],
      "text/plain": [
       "   Combinations Expression Proportion  n  r\n",
       "0             1     C(5,0)       1/32  5  0\n",
       "1             5     C(5,1)       5/32  5  1\n",
       "2            10     C(5,2)      10/32  5  2\n",
       "3            10     C(5,3)      10/32  5  3\n",
       "4             5     C(5,4)       5/32  5  4\n",
       "5             1     C(5,5)       1/32  5  5"
      ]
     },
     "execution_count": 78,
     "metadata": {},
     "output_type": "execute_result"
    }
   ],
   "source": [
    "fives = pd.DataFrame({'n': [5,5,5,5,5,5],\n",
    "                      'r':[0,1,2,3,4,5],\n",
    "                      'Expression':['C(5,0)','C(5,1)','C(5,2)','C(5,3)','C(5,4)','C(5,5)'], \n",
    "                      'Combinations':[1,5,10,10,5,1], 'Proportion':['1/32','5/32','10/32','10/32','5/32','1/32']})\n",
    "fives"
   ]
  },
  {
   "cell_type": "markdown",
   "metadata": {},
   "source": [
    "# SETS AND ELEMENTS\n",
    "N = {1,2,3,4,5,6,7,8,9}\n",
    "\n",
    "4 is a member of set N:\n",
    "4 $\\in$ N\n",
    "\n",
    "E = {2,4,6,8}\n",
    "\n",
    "E is a subset of N: E $\\subset$ N"
   ]
  },
  {
   "cell_type": "code",
   "execution_count": null,
   "metadata": {},
   "outputs": [],
   "source": []
  }
 ],
 "metadata": {
  "kernelspec": {
   "display_name": "Python 3",
   "language": "python",
   "name": "python3"
  },
  "language_info": {
   "codemirror_mode": {
    "name": "ipython",
    "version": 3
   },
   "file_extension": ".py",
   "mimetype": "text/x-python",
   "name": "python",
   "nbconvert_exporter": "python",
   "pygments_lexer": "ipython3",
   "version": "3.6.4"
  }
 },
 "nbformat": 4,
 "nbformat_minor": 2
}
