{
 "cells": [
  {
   "cell_type": "code",
   "execution_count": 15,
   "metadata": {},
   "outputs": [],
   "source": [
    "import pandas as pd\n",
    "import seaborn as sns\n",
    "import numpy as np\n",
    "import matplotlib.pyplot as plt\n",
    "from random import randint\n",
    "import scipy.stats as ss"
   ]
  },
  {
   "cell_type": "markdown",
   "metadata": {},
   "source": [
    "# Covariance"
   ]
  },
  {
   "cell_type": "code",
   "execution_count": 10,
   "metadata": {},
   "outputs": [
    {
     "data": {
      "text/plain": [
       "(0.97, 1.02)"
      ]
     },
     "execution_count": 10,
     "metadata": {},
     "output_type": "execute_result"
    },
    {
     "data": {
      "image/png": "[encoded data removed]",
      "text/plain": [
       "<matplotlib.figure.Figure at 0x7ff4821e27b8>"
      ]
     },
     "metadata": {},
     "output_type": "display_data"
    }
   ],
   "source": [
    "sp_df = pd.read_csv('GSPC.csv',delimiter=',')\n",
    "dj_df = pd.read_csv('DJI.csv',delimiter=',')\n",
    "df_stock = pd.DataFrame()\n",
    "df_stock['SP500'] = sp_df['Close']/sp_df['Open']\n",
    "df_stock['DJI'] = dj_df['Close']/dj_df['Open']\n",
    "a = sns.regplot(data = df_stock, x='SP500', y='DJI')\n",
    "a.set_title('Closing SP500 vs. Dow Jones')\n",
    "a.set_xlim(.97,1.02)"
   ]
  },
  {
   "cell_type": "markdown",
   "metadata": {},
   "source": [
    "How would you describe the shape or pattern of the data points?\n",
    "- They seem to follow a linear pattern\n",
    "- When one stock rises, the other rises as well\n",
    "\n",
    "This should happen because they claim to measure the exact same thing; the performance of the overall stock market\n",
    "- These two variables showing this type of pattern show a positive linear relationship\n",
    "- When one variable moves a certain direction, the other moves in the same direction\n",
    "\n",
    "This is called Covariance - How they change together"
   ]
  },
  {
   "cell_type": "markdown",
   "metadata": {},
   "source": [
    "Covariance is one of a family of statistical measures used to analyze the linear relationship between two variables\n",
    "- How two variables behave as a pair\n",
    "\n",
    "A decriptive measure of the linear association between two variables\n",
    "- A positive value indicates a direct or increasing linear relationship\n",
    "- A negative vaLue indicates a decreasing relationship\n",
    "- States the Direction but NOT Strength"
   ]
  },
  {
   "cell_type": "markdown",
   "metadata": {},
   "source": [
    "## Sample Covariance\n",
    "\n",
    "\\begin{equation*}\n",
    "s_{xy} = \\frac{\\sum (x_i - \\bar x)(y_i - \\bar y)}{n - 1}\n",
    "\\end{equation*}\n",
    "\n",
    "## Population Covariance\n",
    "\n",
    "\\begin{equation*}\n",
    "\\sigma_{xy} = \\frac{\\sum (x_i - \\mu_x)(y_i - \\mu_y)}{N}\n",
    "\\end{equation*}\n"
   ]
  },
  {
   "cell_type": "markdown",
   "metadata": {},
   "source": [
    "Example\n",
    "\n",
    "- Rising Hills Manufacturing wishes to study the relationship between the number of workers, x, and number of tables produced, y, in its plant\n",
    "- To do so it obtained 10 samples, each one hour in length, from the production floor"
   ]
  },
  {
   "cell_type": "code",
   "execution_count": 4,
   "metadata": {},
   "outputs": [
    {
     "name": "stdout",
     "output_type": "stream",
     "text": [
      "Mean of x = 21.3\n",
      "Mean of y = 41.2\n"
     ]
    },
    {
     "data": {
      "text/html": [
       "<div>\n",
       "<style scoped>\n",
       "    .dataframe tbody tr th:only-of-type {\n",
       "        vertical-align: middle;\n",
       "    }\n",
       "\n",
       "    .dataframe tbody tr th {\n",
       "        vertical-align: top;\n",
       "    }\n",
       "\n",
       "    .dataframe thead th {\n",
       "        text-align: right;\n",
       "    }\n",
       "</style>\n",
       "<table border=\"1\" class=\"dataframe\">\n",
       "  <thead>\n",
       "    <tr style=\"text-align: right;\">\n",
       "      <th></th>\n",
       "      <th>x</th>\n",
       "      <th>y</th>\n",
       "      <th>(x_i - x_bar)</th>\n",
       "      <th>(y_i - y_bar)</th>\n",
       "      <th>(x_i - x_bar)(y_i - y_bar)</th>\n",
       "    </tr>\n",
       "  </thead>\n",
       "  <tbody>\n",
       "    <tr>\n",
       "      <th>0</th>\n",
       "      <td>12</td>\n",
       "      <td>20</td>\n",
       "      <td>-9.3</td>\n",
       "      <td>-21.2</td>\n",
       "      <td>197.16</td>\n",
       "    </tr>\n",
       "    <tr>\n",
       "      <th>1</th>\n",
       "      <td>30</td>\n",
       "      <td>60</td>\n",
       "      <td>8.7</td>\n",
       "      <td>18.8</td>\n",
       "      <td>163.56</td>\n",
       "    </tr>\n",
       "    <tr>\n",
       "      <th>2</th>\n",
       "      <td>15</td>\n",
       "      <td>27</td>\n",
       "      <td>-6.3</td>\n",
       "      <td>-14.2</td>\n",
       "      <td>89.46</td>\n",
       "    </tr>\n",
       "    <tr>\n",
       "      <th>3</th>\n",
       "      <td>24</td>\n",
       "      <td>50</td>\n",
       "      <td>2.7</td>\n",
       "      <td>8.8</td>\n",
       "      <td>23.76</td>\n",
       "    </tr>\n",
       "    <tr>\n",
       "      <th>4</th>\n",
       "      <td>14</td>\n",
       "      <td>21</td>\n",
       "      <td>-7.3</td>\n",
       "      <td>-20.2</td>\n",
       "      <td>147.46</td>\n",
       "    </tr>\n",
       "    <tr>\n",
       "      <th>5</th>\n",
       "      <td>18</td>\n",
       "      <td>30</td>\n",
       "      <td>-3.3</td>\n",
       "      <td>-11.2</td>\n",
       "      <td>36.96</td>\n",
       "    </tr>\n",
       "    <tr>\n",
       "      <th>6</th>\n",
       "      <td>28</td>\n",
       "      <td>61</td>\n",
       "      <td>6.7</td>\n",
       "      <td>19.8</td>\n",
       "      <td>132.66</td>\n",
       "    </tr>\n",
       "    <tr>\n",
       "      <th>7</th>\n",
       "      <td>26</td>\n",
       "      <td>54</td>\n",
       "      <td>4.7</td>\n",
       "      <td>12.8</td>\n",
       "      <td>60.16</td>\n",
       "    </tr>\n",
       "    <tr>\n",
       "      <th>8</th>\n",
       "      <td>19</td>\n",
       "      <td>32</td>\n",
       "      <td>-2.3</td>\n",
       "      <td>-9.2</td>\n",
       "      <td>21.16</td>\n",
       "    </tr>\n",
       "    <tr>\n",
       "      <th>9</th>\n",
       "      <td>27</td>\n",
       "      <td>57</td>\n",
       "      <td>5.7</td>\n",
       "      <td>15.8</td>\n",
       "      <td>90.06</td>\n",
       "    </tr>\n",
       "  </tbody>\n",
       "</table>\n",
       "</div>"
      ],
      "text/plain": [
       "    x   y  (x_i - x_bar)  (y_i - y_bar)  (x_i - x_bar)(y_i - y_bar)\n",
       "0  12  20           -9.3          -21.2                      197.16\n",
       "1  30  60            8.7           18.8                      163.56\n",
       "2  15  27           -6.3          -14.2                       89.46\n",
       "3  24  50            2.7            8.8                       23.76\n",
       "4  14  21           -7.3          -20.2                      147.46\n",
       "5  18  30           -3.3          -11.2                       36.96\n",
       "6  28  61            6.7           19.8                      132.66\n",
       "7  26  54            4.7           12.8                       60.16\n",
       "8  19  32           -2.3           -9.2                       21.16\n",
       "9  27  57            5.7           15.8                       90.06"
      ]
     },
     "execution_count": 4,
     "metadata": {},
     "output_type": "execute_result"
    }
   ],
   "source": [
    "x_vals = np.array([12, 30, 15, 24, 14, 18, 28, 26, 19, 27])\n",
    "y_vals = np.array([20, 60, 27, 50, 21, 30, 61, 54, 32, 57])\n",
    "#x_vals = np.append(x_vals, [np.mean(x_vals)])\n",
    "#y_vals = np.append(y_vals, [np.mean(y_vals)])\n",
    "\n",
    "man_df = pd.DataFrame({'x': x_vals, 'y': y_vals})\n",
    "man_df['(x_i - x_bar)'] = man_df['x'].apply(lambda x: x - np.mean(x_vals))\n",
    "man_df['(y_i - y_bar)'] = man_df['y'].apply(lambda x: x - np.mean(y_vals))\n",
    "man_df['(x_i - x_bar)(y_i - y_bar)'] = man_df['(x_i - x_bar)']*man_df['(y_i - y_bar)']\n",
    "print('Mean of x = ' + str(np.mean(x_vals)) + '\\nMean of y = ' + str(np.mean(y_vals)))\n",
    "man_df"
   ]
  },
  {
   "cell_type": "code",
   "execution_count": 6,
   "metadata": {},
   "outputs": [
    {
     "data": {
      "text/plain": [
       "Text(0.5,1,'Workers vs Table Production')"
      ]
     },
     "execution_count": 6,
     "metadata": {},
     "output_type": "execute_result"
    },
    {
     "data": {
      "image/png": "[encoded data removed]",
      "text/plain": [
       "<matplotlib.figure.Figure at 0x7ff482300a90>"
      ]
     },
     "metadata": {},
     "output_type": "display_data"
    }
   ],
   "source": [
    "man_df_plot = sns.regplot(data = man_df, x='x', y='y')\n",
    "man_df_plot.set_title('Workers vs Table Production')"
   ]
  },
  {
   "cell_type": "code",
   "execution_count": 53,
   "metadata": {},
   "outputs": [
    {
     "name": "stdout",
     "output_type": "stream",
     "text": [
      "Mean of x = 21.3\n",
      "Mean of y = 41.2\n",
      "Sum = 962.4\n"
     ]
    },
    {
     "data": {
      "text/html": [
       "<div>\n",
       "<style scoped>\n",
       "    .dataframe tbody tr th:only-of-type {\n",
       "        vertical-align: middle;\n",
       "    }\n",
       "\n",
       "    .dataframe tbody tr th {\n",
       "        vertical-align: top;\n",
       "    }\n",
       "\n",
       "    .dataframe thead th {\n",
       "        text-align: right;\n",
       "    }\n",
       "</style>\n",
       "<table border=\"1\" class=\"dataframe\">\n",
       "  <thead>\n",
       "    <tr style=\"text-align: right;\">\n",
       "      <th></th>\n",
       "      <th>x</th>\n",
       "      <th>y</th>\n",
       "      <th>(x_i - x_bar)(y_i - y_bar)</th>\n",
       "    </tr>\n",
       "  </thead>\n",
       "  <tbody>\n",
       "    <tr>\n",
       "      <th>0</th>\n",
       "      <td>12</td>\n",
       "      <td>20</td>\n",
       "      <td>197.16</td>\n",
       "    </tr>\n",
       "    <tr>\n",
       "      <th>1</th>\n",
       "      <td>30</td>\n",
       "      <td>60</td>\n",
       "      <td>163.56</td>\n",
       "    </tr>\n",
       "    <tr>\n",
       "      <th>2</th>\n",
       "      <td>15</td>\n",
       "      <td>27</td>\n",
       "      <td>89.46</td>\n",
       "    </tr>\n",
       "    <tr>\n",
       "      <th>3</th>\n",
       "      <td>24</td>\n",
       "      <td>50</td>\n",
       "      <td>23.76</td>\n",
       "    </tr>\n",
       "    <tr>\n",
       "      <th>4</th>\n",
       "      <td>14</td>\n",
       "      <td>21</td>\n",
       "      <td>147.46</td>\n",
       "    </tr>\n",
       "    <tr>\n",
       "      <th>5</th>\n",
       "      <td>18</td>\n",
       "      <td>30</td>\n",
       "      <td>36.96</td>\n",
       "    </tr>\n",
       "    <tr>\n",
       "      <th>6</th>\n",
       "      <td>28</td>\n",
       "      <td>61</td>\n",
       "      <td>132.66</td>\n",
       "    </tr>\n",
       "    <tr>\n",
       "      <th>7</th>\n",
       "      <td>26</td>\n",
       "      <td>54</td>\n",
       "      <td>60.16</td>\n",
       "    </tr>\n",
       "    <tr>\n",
       "      <th>8</th>\n",
       "      <td>19</td>\n",
       "      <td>32</td>\n",
       "      <td>21.16</td>\n",
       "    </tr>\n",
       "    <tr>\n",
       "      <th>9</th>\n",
       "      <td>27</td>\n",
       "      <td>57</td>\n",
       "      <td>90.06</td>\n",
       "    </tr>\n",
       "  </tbody>\n",
       "</table>\n",
       "</div>"
      ],
      "text/plain": [
       "    x   y  (x_i - x_bar)(y_i - y_bar)\n",
       "0  12  20                      197.16\n",
       "1  30  60                      163.56\n",
       "2  15  27                       89.46\n",
       "3  24  50                       23.76\n",
       "4  14  21                      147.46\n",
       "5  18  30                       36.96\n",
       "6  28  61                      132.66\n",
       "7  26  54                       60.16\n",
       "8  19  32                       21.16\n",
       "9  27  57                       90.06"
      ]
     },
     "execution_count": 53,
     "metadata": {},
     "output_type": "execute_result"
    }
   ],
   "source": [
    "print('Mean of x = ' + str(np.mean(x_vals)) + '\\nMean of y = ' + str(np.mean(y_vals)) + '\\nSum = ' + str(np.sum(man_df['(x_i - x_bar)(y_i - y_bar)'])) )\n",
    "man_df[['x','y','(x_i - x_bar)(y_i - y_bar)']]"
   ]
  },
  {
   "cell_type": "markdown",
   "metadata": {},
   "source": [
    "\\begin{equation*}\n",
    "Cov(x,y) = S_{sy} = \\frac{962.4}{n-1} = \\frac{962.4}{8-1} = 106.93\n",
    "\\end{equation*}\n",
    "\n",
    "POSITIVE linear Relationship\n",
    "\n",
    "IGNORE Size of Number, Just look at Sign which is positive"
   ]
  },
  {
   "cell_type": "markdown",
   "metadata": {},
   "source": [
    "# The Covariance Matrix"
   ]
  },
  {
   "cell_type": "markdown",
   "metadata": {},
   "source": [
    "Example:\n",
    "- 4 variables\n",
    "- Sample; n = 20\n",
    "\n",
    "Statistics of Interest\n",
    "- Mean\n",
    "- Variance\n",
    "- Standard Deviation"
   ]
  },
  {
   "cell_type": "code",
   "execution_count": 28,
   "metadata": {},
   "outputs": [
    {
     "data": {
      "text/html": [
       "<div>\n",
       "<style scoped>\n",
       "    .dataframe tbody tr th:only-of-type {\n",
       "        vertical-align: middle;\n",
       "    }\n",
       "\n",
       "    .dataframe tbody tr th {\n",
       "        vertical-align: top;\n",
       "    }\n",
       "\n",
       "    .dataframe thead th {\n",
       "        text-align: right;\n",
       "    }\n",
       "</style>\n",
       "<table border=\"1\" class=\"dataframe\">\n",
       "  <thead>\n",
       "    <tr style=\"text-align: right;\">\n",
       "      <th></th>\n",
       "      <th>Variables</th>\n",
       "      <th>N Statistic</th>\n",
       "      <th>Mean Statistic</th>\n",
       "      <th>Mean Std. Error</th>\n",
       "      <th>Std. Deviation Statistic</th>\n",
       "      <th>Variance Statistic</th>\n",
       "    </tr>\n",
       "  </thead>\n",
       "  <tbody>\n",
       "    <tr>\n",
       "      <th>0</th>\n",
       "      <td>x1</td>\n",
       "      <td>20</td>\n",
       "      <td>9.955</td>\n",
       "      <td>0.22448</td>\n",
       "      <td>1.00393</td>\n",
       "      <td>1.008</td>\n",
       "    </tr>\n",
       "    <tr>\n",
       "      <th>1</th>\n",
       "      <td>x2</td>\n",
       "      <td>20</td>\n",
       "      <td>20.000</td>\n",
       "      <td>0.21432</td>\n",
       "      <td>0.95807</td>\n",
       "      <td>0.918</td>\n",
       "    </tr>\n",
       "    <tr>\n",
       "      <th>2</th>\n",
       "      <td>x3</td>\n",
       "      <td>20</td>\n",
       "      <td>14.680</td>\n",
       "      <td>0.68528</td>\n",
       "      <td>3.06467</td>\n",
       "      <td>9.392</td>\n",
       "    </tr>\n",
       "    <tr>\n",
       "      <th>3</th>\n",
       "      <td>x4</td>\n",
       "      <td>20</td>\n",
       "      <td>15.765</td>\n",
       "      <td>0.33782</td>\n",
       "      <td>1.51076</td>\n",
       "      <td>2.282</td>\n",
       "    </tr>\n",
       "  </tbody>\n",
       "</table>\n",
       "</div>"
      ],
      "text/plain": [
       "  Variables  N Statistic  Mean Statistic  Mean Std. Error  \\\n",
       "0        x1           20           9.955          0.22448   \n",
       "1        x2           20          20.000          0.21432   \n",
       "2        x3           20          14.680          0.68528   \n",
       "3        x4           20          15.765          0.33782   \n",
       "\n",
       "   Std. Deviation Statistic  Variance Statistic  \n",
       "0                   1.00393               1.008  \n",
       "1                   0.95807               0.918  \n",
       "2                   3.06467               9.392  \n",
       "3                   1.51076               2.282  "
      ]
     },
     "execution_count": 28,
     "metadata": {},
     "output_type": "execute_result"
    }
   ],
   "source": [
    "df = pd.DataFrame({\n",
    "    'Variables': ['x1','x2','x3','x4'],\n",
    "    'N Statistic': [20,20,20,20], \n",
    "    'Mean Statistic': [9.9550, 20.0000, 14.6800, 15.7650],\n",
    "    'Mean Std. Error': [.22448,.21432,.68528,.33782], \n",
    "    'Std. Deviation Statistic': [1.00393,.95807,3.06467,1.51076], \n",
    "    'Variance Statistic': [1.008,.918,9.392,2.282]})\n",
    "cols = ['Variables','N Statistic','Mean Statistic','Mean Std. Error','Std. Deviation Statistic','Variance Statistic']\n",
    "df = df[cols]\n",
    "df1 = df[['Mean Statistic','Mean Std. Error','Std. Deviation Statistic','Variance Statistic']]\n",
    "#df.set_index([['x1','x2','x3','x4']])\n",
    "df"
   ]
  },
  {
   "cell_type": "code",
   "execution_count": 36,
   "metadata": {
    "scrolled": true
   },
   "outputs": [
    {
     "data": {
      "text/html": [
       "<div>\n",
       "<style scoped>\n",
       "    .dataframe tbody tr th:only-of-type {\n",
       "        vertical-align: middle;\n",
       "    }\n",
       "\n",
       "    .dataframe tbody tr th {\n",
       "        vertical-align: top;\n",
       "    }\n",
       "\n",
       "    .dataframe thead th {\n",
       "        text-align: right;\n",
       "    }\n",
       "</style>\n",
       "<table border=\"1\" class=\"dataframe\">\n",
       "  <thead>\n",
       "    <tr style=\"text-align: right;\">\n",
       "      <th></th>\n",
       "      <th>x1</th>\n",
       "      <th>x2</th>\n",
       "      <th>x3</th>\n",
       "      <th>x4</th>\n",
       "    </tr>\n",
       "  </thead>\n",
       "  <tbody>\n",
       "    <tr>\n",
       "      <th>x1</th>\n",
       "      <td>Var(x1)</td>\n",
       "      <td>Cov(x1,x2)</td>\n",
       "      <td>Cov(x1,x3)</td>\n",
       "      <td>Cov(x1,x4)</td>\n",
       "    </tr>\n",
       "    <tr>\n",
       "      <th>x2</th>\n",
       "      <td>Cov(x2,x1)</td>\n",
       "      <td>Var(x2)</td>\n",
       "      <td>Cov(x2,x3)</td>\n",
       "      <td>Cov(x2,x4)</td>\n",
       "    </tr>\n",
       "    <tr>\n",
       "      <th>x3</th>\n",
       "      <td>Cov(x3,x1)</td>\n",
       "      <td>Cov(x3,x2)</td>\n",
       "      <td>Var(x3)</td>\n",
       "      <td>Cov(x3,x4)</td>\n",
       "    </tr>\n",
       "    <tr>\n",
       "      <th>x4</th>\n",
       "      <td>Cov(x4,x1)</td>\n",
       "      <td>Cov(x4,x2)</td>\n",
       "      <td>Cov(x4,x3)</td>\n",
       "      <td>Var(x4)</td>\n",
       "    </tr>\n",
       "  </tbody>\n",
       "</table>\n",
       "</div>"
      ],
      "text/plain": [
       "            x1          x2          x3          x4\n",
       "x1     Var(x1)  Cov(x1,x2)  Cov(x1,x3)  Cov(x1,x4)\n",
       "x2  Cov(x2,x1)     Var(x2)  Cov(x2,x3)  Cov(x2,x4)\n",
       "x3  Cov(x3,x1)  Cov(x3,x2)     Var(x3)  Cov(x3,x4)\n",
       "x4  Cov(x4,x1)  Cov(x4,x2)  Cov(x4,x3)     Var(x4)"
      ]
     },
     "execution_count": 36,
     "metadata": {},
     "output_type": "execute_result"
    }
   ],
   "source": [
    "Variables = ['x1','x2','x3','x4']\n",
    "cov_matrix = pd.DataFrame({\n",
    "    'x1': ['Var(x1)','Cov(x2,x1)','Cov(x3,x1)','Cov(x4,x1)'], \n",
    "    'x2': ['Cov(x1,x2)','Var(x2)','Cov(x3,x2)','Cov(x4,x2)'],\n",
    "    'x3': ['Cov(x1,x3)','Cov(x2,x3)','Var(x3)','Cov(x4,x3)'], \n",
    "    'x4': ['Cov(x1,x4)','Cov(x2,x4)','Cov(x3,x4)','Var(x4)']}, index = Variables)\n",
    "cov_matrix\n",
    "#cov_matrix.set_index(Variables)"
   ]
  },
  {
   "cell_type": "code",
   "execution_count": 38,
   "metadata": {},
   "outputs": [
    {
     "data": {
      "text/html": [
       "<div>\n",
       "<style scoped>\n",
       "    .dataframe tbody tr th:only-of-type {\n",
       "        vertical-align: middle;\n",
       "    }\n",
       "\n",
       "    .dataframe tbody tr th {\n",
       "        vertical-align: top;\n",
       "    }\n",
       "\n",
       "    .dataframe thead th {\n",
       "        text-align: right;\n",
       "    }\n",
       "</style>\n",
       "<table border=\"1\" class=\"dataframe\">\n",
       "  <thead>\n",
       "    <tr style=\"text-align: right;\">\n",
       "      <th></th>\n",
       "      <th>x1</th>\n",
       "      <th>x2</th>\n",
       "      <th>x3</th>\n",
       "      <th>x4</th>\n",
       "    </tr>\n",
       "  </thead>\n",
       "  <tbody>\n",
       "    <tr>\n",
       "      <th>x1</th>\n",
       "      <td>1.008</td>\n",
       "      <td>0.895</td>\n",
       "      <td>0.634</td>\n",
       "      <td>0.545</td>\n",
       "    </tr>\n",
       "    <tr>\n",
       "      <th>x2</th>\n",
       "      <td>0.895</td>\n",
       "      <td>0.918</td>\n",
       "      <td>0.490</td>\n",
       "      <td>0.652</td>\n",
       "    </tr>\n",
       "    <tr>\n",
       "      <th>x3</th>\n",
       "      <td>0.634</td>\n",
       "      <td>0.490</td>\n",
       "      <td>9.392</td>\n",
       "      <td>1.592</td>\n",
       "    </tr>\n",
       "    <tr>\n",
       "      <th>x4</th>\n",
       "      <td>0.545</td>\n",
       "      <td>0.652</td>\n",
       "      <td>1.592</td>\n",
       "      <td>2.282</td>\n",
       "    </tr>\n",
       "  </tbody>\n",
       "</table>\n",
       "</div>"
      ],
      "text/plain": [
       "       x1     x2     x3     x4\n",
       "x1  1.008  0.895  0.634  0.545\n",
       "x2  0.895  0.918  0.490  0.652\n",
       "x3  0.634  0.490  9.392  1.592\n",
       "x4  0.545  0.652  1.592  2.282"
      ]
     },
     "execution_count": 38,
     "metadata": {},
     "output_type": "execute_result"
    }
   ],
   "source": [
    "cov_matrix1 = pd.DataFrame({\n",
    "    'x1': [1.008,.895,.634,.545], \n",
    "    'x2': [.895,.918,.490,.652],\n",
    "    'x3': [.634,.490,9.392,1.592], \n",
    "    'x4': [.545,.652,1.592,2.282]}, index = Variables)\n",
    "cov_matrix1"
   ]
  },
  {
   "cell_type": "markdown",
   "metadata": {},
   "source": [
    "# Correlation"
   ]
  },
  {
   "cell_type": "markdown",
   "metadata": {},
   "source": [
    "## Covariance vs. Correlation\n",
    "- Covariance provides the Direction of the linear relationship between two variables\n",
    "- Correlation provides Direction and strength\n",
    "- Covariance result has no upper or lower bound and its size is dependent on the scale of variables\n",
    "- Correlation is always between -1 and +1 and its scale is independent of the scale of the variable themselves\n",
    "- Covariance is not standardized, while correlation is"
   ]
  },
  {
   "cell_type": "markdown",
   "metadata": {},
   "source": [
    "## Correlation Caveats\n",
    "- Correlation is only applicable to Linear relationships. There are many other types of relationships that can exist between two variables; ex. Energy Usage vs. Outside Temp\n",
    "- Correlation is NOT causation - Spurious correlation; two completely unrelated factors that may have a mathematical correlation but have NO sensible correlation in real-life; #dog barks vs. moon phase\n",
    "- Correlation strength does not necessarily mean the correlation is statistically significant; related to sample size"
   ]
  },
  {
   "cell_type": "markdown",
   "metadata": {},
   "source": [
    "# Correlation Formula\n",
    "- r is the (Pearson) correlation coefficient\n",
    "\n",
    "\\begin{equation*}\n",
    "r = \\frac{Covariance (x, y)}{Std(x) X Std(y)}\n",
    "\\end{equation*}\n",
    "\n",
    "\\begin{equation*}\n",
    "r = \\frac{Cov(x, y)}{s_xs_y}\n",
    "\\end{equation*}"
   ]
  },
  {
   "cell_type": "code",
   "execution_count": 54,
   "metadata": {},
   "outputs": [
    {
     "name": "stdout",
     "output_type": "stream",
     "text": [
      "Correlation near +1 and r is the sample coefficient, which is 0.9590032594433384\n"
     ]
    },
    {
     "data": {
      "image/png": "[encoded data removed]",
      "text/plain": [
       "<matplotlib.figure.Figure at 0x7ff481b28240>"
      ]
     },
     "metadata": {},
     "output_type": "display_data"
    }
   ],
   "source": [
    "df_stock['SP500'] = sp_df['Close']/sp_df['Open']\n",
    "df_stock['DJI'] = dj_df['Close']/dj_df['Open']\n",
    "a = sns.regplot(data = df_stock, x='SP500', y='DJI')\n",
    "a.set_title('Closing SP500 vs. Dow Jones')\n",
    "a.set_xlim(.97,1.02)\n",
    "df_stock_corr = df_stock['SP500'].corr(df_stock['DJI'])\n",
    "print('Correlation near +1 and r is the sample coefficient, which is ' + str(df_stock_corr))"
   ]
  },
  {
   "cell_type": "code",
   "execution_count": 46,
   "metadata": {},
   "outputs": [
    {
     "name": "stdout",
     "output_type": "stream",
     "text": [
      "Non Linear Relationships Exponential\n"
     ]
    },
    {
     "data": {
      "image/png": "[encoded data removed]",
      "text/plain": [
       "<matplotlib.figure.Figure at 0x7ff48230f080>"
      ]
     },
     "metadata": {},
     "output_type": "display_data"
    }
   ],
   "source": [
    "from scipy import interpolate\n",
    "x = np.arange(0, 10)\n",
    "y = np.exp(x/3.0)\n",
    "f = interpolate.interp1d(x, y)\n",
    "xnew = np.arange(0,9, 0.1)\n",
    "ynew = f(xnew)   # use interpolation function returned by `interp1d`\n",
    "plt.plot(x, y, 'o', xnew, ynew, '-')\n",
    "print(\"Non Linear Relationships Exponential\")\n",
    "plt.show()\n"
   ]
  },
  {
   "cell_type": "code",
   "execution_count": 45,
   "metadata": {},
   "outputs": [
    {
     "name": "stdout",
     "output_type": "stream",
     "text": [
      "Non Linear Relationships Quadratic\n"
     ]
    },
    {
     "data": {
      "text/plain": [
       "[<matplotlib.lines.Line2D at 0x7ff4843f87f0>]"
      ]
     },
     "execution_count": 45,
     "metadata": {},
     "output_type": "execute_result"
    },
    {
     "data": {
      "image/png": "[encoded data removed]",
      "text/plain": [
       "<matplotlib.figure.Figure at 0x7ff481be1da0>"
      ]
     },
     "metadata": {},
     "output_type": "display_data"
    }
   ],
   "source": [
    "x = np.arange(0, 20)\n",
    "y1 = sorted(np.arange(0, 10), reverse=True)\n",
    "y2 = np.arange(0, 10)\n",
    "y = np.append(y1,y2)\n",
    "print(\"Non Linear Relationships Quadratic\")\n",
    "plt.plot(x,y)"
   ]
  },
  {
   "cell_type": "markdown",
   "metadata": {},
   "source": [
    "Example"
   ]
  },
  {
   "cell_type": "code",
   "execution_count": 56,
   "metadata": {},
   "outputs": [
    {
     "data": {
      "text/html": [
       "<div>\n",
       "<style scoped>\n",
       "    .dataframe tbody tr th:only-of-type {\n",
       "        vertical-align: middle;\n",
       "    }\n",
       "\n",
       "    .dataframe tbody tr th {\n",
       "        vertical-align: top;\n",
       "    }\n",
       "\n",
       "    .dataframe thead th {\n",
       "        text-align: right;\n",
       "    }\n",
       "</style>\n",
       "<table border=\"1\" class=\"dataframe\">\n",
       "  <thead>\n",
       "    <tr style=\"text-align: right;\">\n",
       "      <th></th>\n",
       "      <th>x</th>\n",
       "      <th>y</th>\n",
       "      <th>(x_i - x_bar)</th>\n",
       "      <th>(y_i - y_bar)</th>\n",
       "      <th>(x_i - x_bar)(y_i - y_bar)</th>\n",
       "    </tr>\n",
       "  </thead>\n",
       "  <tbody>\n",
       "    <tr>\n",
       "      <th>0</th>\n",
       "      <td>12</td>\n",
       "      <td>20</td>\n",
       "      <td>-9.3</td>\n",
       "      <td>-21.2</td>\n",
       "      <td>197.16</td>\n",
       "    </tr>\n",
       "    <tr>\n",
       "      <th>1</th>\n",
       "      <td>30</td>\n",
       "      <td>60</td>\n",
       "      <td>8.7</td>\n",
       "      <td>18.8</td>\n",
       "      <td>163.56</td>\n",
       "    </tr>\n",
       "    <tr>\n",
       "      <th>2</th>\n",
       "      <td>15</td>\n",
       "      <td>27</td>\n",
       "      <td>-6.3</td>\n",
       "      <td>-14.2</td>\n",
       "      <td>89.46</td>\n",
       "    </tr>\n",
       "    <tr>\n",
       "      <th>3</th>\n",
       "      <td>24</td>\n",
       "      <td>50</td>\n",
       "      <td>2.7</td>\n",
       "      <td>8.8</td>\n",
       "      <td>23.76</td>\n",
       "    </tr>\n",
       "    <tr>\n",
       "      <th>4</th>\n",
       "      <td>14</td>\n",
       "      <td>21</td>\n",
       "      <td>-7.3</td>\n",
       "      <td>-20.2</td>\n",
       "      <td>147.46</td>\n",
       "    </tr>\n",
       "    <tr>\n",
       "      <th>5</th>\n",
       "      <td>18</td>\n",
       "      <td>30</td>\n",
       "      <td>-3.3</td>\n",
       "      <td>-11.2</td>\n",
       "      <td>36.96</td>\n",
       "    </tr>\n",
       "    <tr>\n",
       "      <th>6</th>\n",
       "      <td>28</td>\n",
       "      <td>61</td>\n",
       "      <td>6.7</td>\n",
       "      <td>19.8</td>\n",
       "      <td>132.66</td>\n",
       "    </tr>\n",
       "    <tr>\n",
       "      <th>7</th>\n",
       "      <td>26</td>\n",
       "      <td>54</td>\n",
       "      <td>4.7</td>\n",
       "      <td>12.8</td>\n",
       "      <td>60.16</td>\n",
       "    </tr>\n",
       "    <tr>\n",
       "      <th>8</th>\n",
       "      <td>19</td>\n",
       "      <td>32</td>\n",
       "      <td>-2.3</td>\n",
       "      <td>-9.2</td>\n",
       "      <td>21.16</td>\n",
       "    </tr>\n",
       "    <tr>\n",
       "      <th>9</th>\n",
       "      <td>27</td>\n",
       "      <td>57</td>\n",
       "      <td>5.7</td>\n",
       "      <td>15.8</td>\n",
       "      <td>90.06</td>\n",
       "    </tr>\n",
       "  </tbody>\n",
       "</table>\n",
       "</div>"
      ],
      "text/plain": [
       "    x   y  (x_i - x_bar)  (y_i - y_bar)  (x_i - x_bar)(y_i - y_bar)\n",
       "0  12  20           -9.3          -21.2                      197.16\n",
       "1  30  60            8.7           18.8                      163.56\n",
       "2  15  27           -6.3          -14.2                       89.46\n",
       "3  24  50            2.7            8.8                       23.76\n",
       "4  14  21           -7.3          -20.2                      147.46\n",
       "5  18  30           -3.3          -11.2                       36.96\n",
       "6  28  61            6.7           19.8                      132.66\n",
       "7  26  54            4.7           12.8                       60.16\n",
       "8  19  32           -2.3           -9.2                       21.16\n",
       "9  27  57            5.7           15.8                       90.06"
      ]
     },
     "execution_count": 56,
     "metadata": {},
     "output_type": "execute_result"
    }
   ],
   "source": [
    "man_df"
   ]
  },
  {
   "cell_type": "code",
   "execution_count": 63,
   "metadata": {},
   "outputs": [
    {
     "name": "stdout",
     "output_type": "stream",
     "text": [
      "Standard Deviation of x and y are 6.481597882552659  16.685322891691367\n",
      "Covariance of x and y are 106.93333333333334\n"
     ]
    }
   ],
   "source": [
    "Sx = man_df['x'].std()\n",
    "Sy = man_df['y'].std()\n",
    "print('Standard Deviation of x and y are ' + str(Sx) + '  ' + str(Sy))\n",
    "print('Covariance of x and y are ' + str(962.4/9))"
   ]
  },
  {
   "cell_type": "code",
   "execution_count": 62,
   "metadata": {},
   "outputs": [
    {
     "data": {
      "text/plain": [
       "Text(0.5,1,'Workers vs Table Production')"
      ]
     },
     "execution_count": 62,
     "metadata": {},
     "output_type": "execute_result"
    },
    {
     "data": {
      "image/png": "[encoded data removed]",
      "text/plain": [
       "<matplotlib.figure.Figure at 0x7ff481b3d748>"
      ]
     },
     "metadata": {},
     "output_type": "display_data"
    }
   ],
   "source": [
    "man_df_plot = sns.regplot(data = man_df, x='x', y='y')\n",
    "man_df_plot.set_title('Workers vs Table Production')"
   ]
  },
  {
   "cell_type": "code",
   "execution_count": null,
   "metadata": {},
   "outputs": [],
   "source": []
  }
 ],
 "metadata": {
  "kernelspec": {
   "display_name": "Python 3",
   "language": "python",
   "name": "python3"
  },
  "language_info": {
   "codemirror_mode": {
    "name": "ipython",
    "version": 3
   },
   "file_extension": ".py",
   "mimetype": "text/x-python",
   "name": "python",
   "nbconvert_exporter": "python",
   "pygments_lexer": "ipython3",
   "version": "3.6.4"
  }
 },
 "nbformat": 4,
 "nbformat_minor": 2
}
