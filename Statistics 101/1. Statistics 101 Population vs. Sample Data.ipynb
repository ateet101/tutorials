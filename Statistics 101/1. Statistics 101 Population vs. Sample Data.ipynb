{
 "cells": [
  {
   "cell_type": "markdown",
   "metadata": {},
   "source": [
    "# Population Data"
   ]
  },
  {
   "cell_type": "markdown",
   "metadata": {},
   "source": [
    "Population data is data collection for an entire group, class, or type of objects.\n",
    "Examples: \n",
    "\n",
    "- The height of all women in the U.S. ages 18-35\n",
    "2. The longevity in hours of all 20 watt CFL bulbs\n",
    "3. The education attainment of all frequent Starbucks customers\n",
    "4. The weekly time spent online in hours by all children ages 11-17\n",
    "\n",
    "Problem: Populations can be quite large. We can rarely collect data from ALL members of a population"
   ]
  },
  {
   "cell_type": "markdown",
   "metadata": {},
   "source": [
    "# Sample Data\n",
    "\n",
    "Sample data is used to make conclusions on an entire population. A sample is always an approximation of a population.\n",
    "\n",
    "- The height of 10,000 women in the U.S. ages 18-35\n",
    "2. The height of women in the North region of the U.S."
   ]
  },
  {
   "cell_type": "markdown",
   "metadata": {},
   "source": [
    "<img src=\"symbols.png\">"
   ]
  },
  {
   "cell_type": "markdown",
   "metadata": {},
   "source": [
    "## Population Standard Deviation\n",
    "\n",
    "\\begin{equation*}\n",
    "\\sigma = \\sqrt{\\frac{\\sum (X- \\mu)^2}{n}}\n",
    "\\end{equation*}"
   ]
  },
  {
   "cell_type": "markdown",
   "metadata": {},
   "source": [
    "## Sample Standard Deviation\n",
    "\n",
    "\\begin{equation*}\n",
    "s = \\sqrt{\\frac{\\sum (x- \\bar{x})^2}{n-1}}\n",
    "\\end{equation*}"
   ]
  },
  {
   "cell_type": "code",
   "execution_count": null,
   "metadata": {},
   "outputs": [],
   "source": []
  }
 ],
 "metadata": {
  "kernelspec": {
   "display_name": "Python 3",
   "language": "python",
   "name": "python3"
  },
  "language_info": {
   "codemirror_mode": {
    "name": "ipython",
    "version": 3
   },
   "file_extension": ".py",
   "mimetype": "text/x-python",
   "name": "python",
   "nbconvert_exporter": "python",
   "pygments_lexer": "ipython3",
   "version": "3.6.4"
  }
 },
 "nbformat": 4,
 "nbformat_minor": 2
}
