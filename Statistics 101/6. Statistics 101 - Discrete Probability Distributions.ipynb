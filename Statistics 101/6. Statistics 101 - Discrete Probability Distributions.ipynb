{
 "cells": [
  {
   "cell_type": "code",
   "execution_count": 9,
   "metadata": {},
   "outputs": [],
   "source": [
    "import pandas as pd\n",
    "import seaborn as sns\n",
    "import numpy as np\n",
    "import math\n",
    "import matplotlib.pyplot as plt\n",
    "from random import randint\n",
    "import scipy.stats as ss\n",
    "#from scipy.stats import norm, kurtosis, skew\n",
    "import itertools as itt\n",
    "import lxml\n",
    "sns.set(rc={'figure.figsize':(11.7,8.27)})"
   ]
  },
  {
   "cell_type": "markdown",
   "metadata": {},
   "source": [
    "# I Random Variables"
   ]
  },
  {
   "cell_type": "markdown",
   "metadata": {},
   "source": [
    "If I roll a die, what are the possible outcomes I can get?\n",
    "- one out of 6 outcomes\n",
    "\n",
    "If I were to measure the average family income, how many outcomes can I get?\n",
    "- This could be any value; nearly infinite possibilities"
   ]
  },
  {
   "cell_type": "markdown",
   "metadata": {},
   "source": [
    "Random Variable = a variable that takes on numerical values as a result of a random experiment or measurement; associates a numerical value with each possible outcome. RV must have numerical values.\n",
    "\n",
    "Two things to keep seperate in your mind:\n",
    "1. The random variable itself\n",
    "2. The possible outcomes or values the random variable can take\n",
    "\n",
    "The random variable is denoted by a capital letter such as 'X'\n",
    "\n",
    "The outcomes are denoted by lowercase letters (usually x). For our die throw example, our outcomes would be listed as \n",
    "- x=1\n",
    "- x=2\n",
    "- x=3\n",
    "- x=4\n",
    "- x=5\n",
    "- x=6"
   ]
  },
  {
   "cell_type": "markdown",
   "metadata": {},
   "source": [
    "## DISCRETE VS. CONTINUOUS RANDOM VARIABLE\n",
    "A discrete random variable has a finite number of values or an infinite sequence of values (0,1,2,...) AND the differences between the outcomes are meaningful\n",
    "- Die throw can only have 1,2,3,4,5,6 and each is meaningfully different\n",
    "\n",
    "A continuous random variable has a nearly infinite number of outcomes that cannot be easily counted AND the differences between the outcomes are NOT meaningful\n",
    "- With average income, the difference between $40,000.00 and $40,0000.01 is not meaningful"
   ]
  },
  {
   "cell_type": "markdown",
   "metadata": {},
   "source": [
    "# Discrete Random Variable Basics\n"
   ]
  },
  {
   "cell_type": "markdown",
   "metadata": {},
   "source": [
    "Discrete Random Variable\n",
    "- Constituting a seperate thing.\n",
    "- Consisting of unconnected distinct parts\n",
    "- Mathematics Defined for a finite or countable set of values; not continuous\n",
    "\n",
    "Example:\n",
    "- Coin toss has only 1 of 2 outcomes\n",
    "- Die throw only has 1 of 6 outcomes\n",
    "- A test has 5 parts in which a student can pass has 1,2,3,4,5 of 5 outcomes\n",
    "\n",
    "A discrete random variable is a variable that may take on either a finite number of values or an infinite sequences of values such as 0,1,2,3,..."
   ]
  },
  {
   "cell_type": "markdown",
   "metadata": {},
   "source": [
    "# Discrete Random Variable Probabilities"
   ]
  },
  {
   "cell_type": "markdown",
   "metadata": {},
   "source": [
    "Probability of a flip of an coin has 1 out of 2 outcomes\n",
    "- $\\frac{1}{2} = 50%$\n",
    "\n",
    "The probabitlity distribution for a random variable X describes how probabilities are assigned to each outcome for the random variable.\n",
    "\n",
    "Let 0=Heads and 1=Tails for a coin flip. So our discrete random variable x is described as:\n",
    "    \n",
    "x = 0,1\n",
    "\n",
    "The probability for each outcome is described by a discrete probability function denoted as P(x) "
   ]
  },
  {
   "cell_type": "code",
   "execution_count": 5,
   "metadata": {},
   "outputs": [
    {
     "data": {
      "text/html": [
       "<div>\n",
       "<style scoped>\n",
       "    .dataframe tbody tr th:only-of-type {\n",
       "        vertical-align: middle;\n",
       "    }\n",
       "\n",
       "    .dataframe tbody tr th {\n",
       "        vertical-align: top;\n",
       "    }\n",
       "\n",
       "    .dataframe thead th {\n",
       "        text-align: right;\n",
       "    }\n",
       "</style>\n",
       "<table border=\"1\" class=\"dataframe\">\n",
       "  <thead>\n",
       "    <tr style=\"text-align: right;\">\n",
       "      <th></th>\n",
       "      <th>COIN OUTCOME</th>\n",
       "      <th>P(x)</th>\n",
       "      <th>x</th>\n",
       "    </tr>\n",
       "  </thead>\n",
       "  <tbody>\n",
       "    <tr>\n",
       "      <th>0</th>\n",
       "      <td>Heads</td>\n",
       "      <td>0.5</td>\n",
       "      <td>0</td>\n",
       "    </tr>\n",
       "    <tr>\n",
       "      <th>1</th>\n",
       "      <td>Tails</td>\n",
       "      <td>0.5</td>\n",
       "      <td>1</td>\n",
       "    </tr>\n",
       "    <tr>\n",
       "      <th>2</th>\n",
       "      <td>Sum of Probs</td>\n",
       "      <td>1.0</td>\n",
       "      <td>-</td>\n",
       "    </tr>\n",
       "  </tbody>\n",
       "</table>\n",
       "</div>"
      ],
      "text/plain": [
       "   COIN OUTCOME  P(x)  x\n",
       "0         Heads   0.5  0\n",
       "1         Tails   0.5  1\n",
       "2  Sum of Probs   1.0  -"
      ]
     },
     "execution_count": 5,
     "metadata": {},
     "output_type": "execute_result"
    }
   ],
   "source": [
    "coin_df = pd.DataFrame({'COIN OUTCOME': ['Heads','Tails','Sum of Probs'], 'x': [0,1,'-'], 'P(x)': [.50,.50,1]})\n",
    "coin_df"
   ]
  },
  {
   "cell_type": "code",
   "execution_count": 46,
   "metadata": {},
   "outputs": [
    {
     "data": {
      "text/plain": [
       "<matplotlib.axes._subplots.AxesSubplot at 0x7f4b23cf15c0>"
      ]
     },
     "execution_count": 46,
     "metadata": {},
     "output_type": "execute_result"
    },
    {
     "data": {
      "image/png": "[encoded data removed]",
      "text/plain": [
       "<matplotlib.figure.Figure at 0x7f4b240b63c8>"
      ]
     },
     "metadata": {},
     "output_type": "display_data"
    }
   ],
   "source": [
    "coin_df.loc[:1,'COIN OUTCOME']\n",
    "sns.barplot(data=coin_df,x=coin_df['COIN OUTCOME'],y=coin_df['P(x)'])"
   ]
  },
  {
   "cell_type": "code",
   "execution_count": 37,
   "metadata": {},
   "outputs": [
    {
     "data": {
      "text/html": [
       "<div>\n",
       "<style scoped>\n",
       "    .dataframe tbody tr th:only-of-type {\n",
       "        vertical-align: middle;\n",
       "    }\n",
       "\n",
       "    .dataframe tbody tr th {\n",
       "        vertical-align: top;\n",
       "    }\n",
       "\n",
       "    .dataframe thead th {\n",
       "        text-align: right;\n",
       "    }\n",
       "</style>\n",
       "<table border=\"1\" class=\"dataframe\">\n",
       "  <thead>\n",
       "    <tr style=\"text-align: right;\">\n",
       "      <th></th>\n",
       "      <th>.x</th>\n",
       "      <th>P(x)</th>\n",
       "    </tr>\n",
       "  </thead>\n",
       "  <tbody>\n",
       "    <tr>\n",
       "      <th>0</th>\n",
       "      <td>1</td>\n",
       "      <td>0.166667</td>\n",
       "    </tr>\n",
       "    <tr>\n",
       "      <th>1</th>\n",
       "      <td>2</td>\n",
       "      <td>0.166667</td>\n",
       "    </tr>\n",
       "    <tr>\n",
       "      <th>2</th>\n",
       "      <td>3</td>\n",
       "      <td>0.166667</td>\n",
       "    </tr>\n",
       "    <tr>\n",
       "      <th>3</th>\n",
       "      <td>4</td>\n",
       "      <td>0.166667</td>\n",
       "    </tr>\n",
       "    <tr>\n",
       "      <th>4</th>\n",
       "      <td>5</td>\n",
       "      <td>0.166667</td>\n",
       "    </tr>\n",
       "    <tr>\n",
       "      <th>5</th>\n",
       "      <td>6</td>\n",
       "      <td>0.166667</td>\n",
       "    </tr>\n",
       "    <tr>\n",
       "      <th>6</th>\n",
       "      <td>Sum of Probs</td>\n",
       "      <td>1.000000</td>\n",
       "    </tr>\n",
       "  </tbody>\n",
       "</table>\n",
       "</div>"
      ],
      "text/plain": [
       "             .x      P(x)\n",
       "0             1  0.166667\n",
       "1             2  0.166667\n",
       "2             3  0.166667\n",
       "3             4  0.166667\n",
       "4             5  0.166667\n",
       "5             6  0.166667\n",
       "6  Sum of Probs  1.000000"
      ]
     },
     "execution_count": 37,
     "metadata": {},
     "output_type": "execute_result"
    }
   ],
   "source": [
    "dice_df = pd.DataFrame({'.x': [1,2,3,4,5,6,'Sum of Probs'], 'P(x)': [1/6,1/6,1/6,1/6,1/6,1/6,1]})\n",
    "dice_df"
   ]
  },
  {
   "cell_type": "code",
   "execution_count": 45,
   "metadata": {},
   "outputs": [
    {
     "data": {
      "text/plain": [
       "Text(0.5,1,'Dice Rolls')"
      ]
     },
     "execution_count": 45,
     "metadata": {},
     "output_type": "execute_result"
    },
    {
     "data": {
      "image/png": "[encoded data removed]",
      "text/plain": [
       "<matplotlib.figure.Figure at 0x7f4b23bb5f60>"
      ]
     },
     "metadata": {},
     "output_type": "display_data"
    }
   ],
   "source": [
    "ax = sns.barplot(data=dice_df,x='.x',y='P(x)')\n",
    "ax.set_title('Dice Rolls')"
   ]
  },
  {
   "cell_type": "markdown",
   "metadata": {},
   "source": [
    "1 through 5 represents a class overall satisfaction score given by 108 students at end-of-semester evaluations:\n",
    "- X = score\n",
    "- x = 1,2,3,4,5"
   ]
  },
  {
   "cell_type": "code",
   "execution_count": 110,
   "metadata": {},
   "outputs": [
    {
     "data": {
      "text/html": [
       "<div>\n",
       "<style scoped>\n",
       "    .dataframe tbody tr th:only-of-type {\n",
       "        vertical-align: middle;\n",
       "    }\n",
       "\n",
       "    .dataframe tbody tr th {\n",
       "        vertical-align: top;\n",
       "    }\n",
       "\n",
       "    .dataframe thead th {\n",
       "        text-align: right;\n",
       "    }\n",
       "</style>\n",
       "<table border=\"1\" class=\"dataframe\">\n",
       "  <thead>\n",
       "    <tr style=\"text-align: right;\">\n",
       "      <th></th>\n",
       "      <th>.x</th>\n",
       "      <th>count</th>\n",
       "      <th>count/total = P(x)</th>\n",
       "    </tr>\n",
       "  </thead>\n",
       "  <tbody>\n",
       "    <tr>\n",
       "      <th>0</th>\n",
       "      <td>1 (very dissatisfied)</td>\n",
       "      <td>5</td>\n",
       "      <td>0.046296</td>\n",
       "    </tr>\n",
       "    <tr>\n",
       "      <th>1</th>\n",
       "      <td>2 (dissatisfied)</td>\n",
       "      <td>10</td>\n",
       "      <td>0.092593</td>\n",
       "    </tr>\n",
       "    <tr>\n",
       "      <th>2</th>\n",
       "      <td>3 (neutral)</td>\n",
       "      <td>11</td>\n",
       "      <td>0.101852</td>\n",
       "    </tr>\n",
       "    <tr>\n",
       "      <th>3</th>\n",
       "      <td>4 (satisfied)</td>\n",
       "      <td>44</td>\n",
       "      <td>0.407407</td>\n",
       "    </tr>\n",
       "    <tr>\n",
       "      <th>4</th>\n",
       "      <td>5 (very satisfied)</td>\n",
       "      <td>38</td>\n",
       "      <td>0.351852</td>\n",
       "    </tr>\n",
       "    <tr>\n",
       "      <th>5</th>\n",
       "      <td>SUM</td>\n",
       "      <td>108</td>\n",
       "      <td>1.000000</td>\n",
       "    </tr>\n",
       "  </tbody>\n",
       "</table>\n",
       "</div>"
      ],
      "text/plain": [
       "                      .x  count  count/total = P(x)\n",
       "0  1 (very dissatisfied)      5            0.046296\n",
       "1       2 (dissatisfied)     10            0.092593\n",
       "2            3 (neutral)     11            0.101852\n",
       "3          4 (satisfied)     44            0.407407\n",
       "4     5 (very satisfied)     38            0.351852\n",
       "5                    SUM    108            1.000000"
      ]
     },
     "execution_count": 110,
     "metadata": {},
     "output_type": "execute_result"
    }
   ],
   "source": [
    "class_df = pd.DataFrame({'.x': ['1 (very dissatisfied)','2 (dissatisfied)','3 (neutral)', '4 (satisfied)','5 (very satisfied)', 'SUM'], 'count': [5,10,11,44,38,108], 'count/total = P(x)': [5/108,10/108,11/108,44/108,38/108,1]})\n",
    "class_df"
   ]
  },
  {
   "cell_type": "code",
   "execution_count": 113,
   "metadata": {},
   "outputs": [
    {
     "data": {
      "text/plain": [
       "Text(0.5,1,'Class Satisfaction')"
      ]
     },
     "execution_count": 113,
     "metadata": {},
     "output_type": "execute_result"
    },
    {
     "data": {
      "image/png": "[encoded data removed]",
      "text/plain": [
       "<matplotlib.figure.Figure at 0x7f4b2354ceb8>"
      ]
     },
     "metadata": {},
     "output_type": "display_data"
    }
   ],
   "source": [
    "ax1 = sns.barplot(data=class_df,x='.x',y='count/total = P(x)')\n",
    "ax1.set_title('Class Satisfaction')"
   ]
  },
  {
   "cell_type": "markdown",
   "metadata": {},
   "source": [
    "## CONDITIONS FOR DISCRETE PROBABILITIES\n",
    "Fundamental Rule of Probabilities: 0 <= P(x) <= 1\n",
    "\n",
    "$\\sum P(x) = 1$ - Sum of Probabilities must = 1"
   ]
  },
  {
   "cell_type": "markdown",
   "metadata": {},
   "source": [
    "## COMPOUND PROBABILITIES\n",
    "Probabilty of rolling a 2 or 5\n",
    "\n",
    "x=2,5\n",
    "\n",
    "P(x) = $\\frac{1}{6}$ + $\\frac{1}{6}$ = $\\frac{1}{3}$\n",
    "\n",
    "Probability of \"satisfied or \"very satisfied\"\n",
    "\n",
    "x=4,5\n",
    "\n",
    "P(x) = .407 + .351 = .758"
   ]
  },
  {
   "cell_type": "markdown",
   "metadata": {},
   "source": [
    "# II Expected Value"
   ]
  },
  {
   "cell_type": "markdown",
   "metadata": {},
   "source": [
    "## Introductory Problem\n",
    "\n",
    "On a Psychology 101 syllabus it states that your final grade will be determined by the following:\n",
    "- Homework - 30%\n",
    "- Quizzes - 20%\n",
    "- Midterm - 25%\n",
    "- Final - 25%\n",
    "\n",
    "You received the following grades:\n",
    "- Homework - 89\n",
    "- Quizzes - 79\n",
    "- Midterm - 84\n",
    "- Final - 92"
   ]
  },
  {
   "cell_type": "code",
   "execution_count": 50,
   "metadata": {},
   "outputs": [
    {
     "data": {
      "text/html": [
       "<div>\n",
       "<style scoped>\n",
       "    .dataframe tbody tr th:only-of-type {\n",
       "        vertical-align: middle;\n",
       "    }\n",
       "\n",
       "    .dataframe tbody tr th {\n",
       "        vertical-align: top;\n",
       "    }\n",
       "\n",
       "    .dataframe thead th {\n",
       "        text-align: right;\n",
       "    }\n",
       "</style>\n",
       "<table border=\"1\" class=\"dataframe\">\n",
       "  <thead>\n",
       "    <tr style=\"text-align: right;\">\n",
       "      <th></th>\n",
       "      <th>Assignment</th>\n",
       "      <th>Grade</th>\n",
       "      <th>Weight</th>\n",
       "    </tr>\n",
       "  </thead>\n",
       "  <tbody>\n",
       "    <tr>\n",
       "      <th>0</th>\n",
       "      <td>Homework</td>\n",
       "      <td>89</td>\n",
       "      <td>0.30</td>\n",
       "    </tr>\n",
       "    <tr>\n",
       "      <th>1</th>\n",
       "      <td>Quizzes</td>\n",
       "      <td>79</td>\n",
       "      <td>0.20</td>\n",
       "    </tr>\n",
       "    <tr>\n",
       "      <th>2</th>\n",
       "      <td>Midterm</td>\n",
       "      <td>84</td>\n",
       "      <td>0.25</td>\n",
       "    </tr>\n",
       "    <tr>\n",
       "      <th>3</th>\n",
       "      <td>Final</td>\n",
       "      <td>92</td>\n",
       "      <td>0.25</td>\n",
       "    </tr>\n",
       "  </tbody>\n",
       "</table>\n",
       "</div>"
      ],
      "text/plain": [
       "  Assignment  Grade  Weight\n",
       "0   Homework     89    0.30\n",
       "1    Quizzes     79    0.20\n",
       "2    Midterm     84    0.25\n",
       "3      Final     92    0.25"
      ]
     },
     "execution_count": 50,
     "metadata": {},
     "output_type": "execute_result"
    }
   ],
   "source": [
    "class_df = pd.DataFrame({'Assignment': ['Homework','Quizzes','Midterm','Final'], 'Grade': [89,79,84,92], 'Weight': [.30,.20,.25,.25]})\n",
    "class_df"
   ]
  },
  {
   "cell_type": "code",
   "execution_count": 55,
   "metadata": {},
   "outputs": [
    {
     "name": "stdout",
     "output_type": "stream",
     "text": [
      "What is your final grade?\n",
      "  Assignment  Grade  Weight  Grade*Weight\n",
      "0   Homework     89    0.30          26.7\n",
      "1    Quizzes     79    0.20          15.8\n",
      "2    Midterm     84    0.25          21.0\n",
      "3      Final     92    0.25          23.0\n",
      "Final Grade = 86.5\n"
     ]
    }
   ],
   "source": [
    "print('What is your final grade?')\n",
    "class_df = pd.DataFrame({'Assignment': ['Homework','Quizzes','Midterm','Final'], \n",
    "                         'Grade': [89,79,84,92], \n",
    "                         'Weight': [.30,.20,.25,.25], \n",
    "                         'Grade*Weight': [89*.3,79*.2,84*.25,92*.25]})\n",
    "print(class_df[['Assignment','Grade','Weight','Grade*Weight']])\n",
    "print('Final Grade = ' + str(class_df['Grade*Weight'].sum()))"
   ]
  },
  {
   "cell_type": "markdown",
   "metadata": {},
   "source": [
    "## What is Expected Value\n",
    "The expected value is simply the mean of a random variable; the average expected outcome. It does not have to be a value the discrete random variable can assume\n",
    "\n",
    "\\begin{equation}\n",
    "E(X) = \\mu = \\sum xP(x)\n",
    "\\end{equation}\n",
    "- E(X) is the expected value or mean of the outcomes x\n",
    "- $\\mu$ is the mean\n",
    "- $\\sum xP(x)$ is the sum of each random variable value x multiplied by its own probability P(x)"
   ]
  },
  {
   "cell_type": "markdown",
   "metadata": {},
   "source": [
    "## Die Roll Example\n",
    "If I roll a die many times and then average my rolls, what should I expect for $\\mu$?\n",
    "\n",
    "What is the mean of 1+2+3+4+5+6?\n",
    "\n",
    "$\\mu = 3.5$"
   ]
  },
  {
   "cell_type": "code",
   "execution_count": 5,
   "metadata": {},
   "outputs": [
    {
     "data": {
      "text/html": [
       "<div>\n",
       "<style scoped>\n",
       "    .dataframe tbody tr th:only-of-type {\n",
       "        vertical-align: middle;\n",
       "    }\n",
       "\n",
       "    .dataframe tbody tr th {\n",
       "        vertical-align: top;\n",
       "    }\n",
       "\n",
       "    .dataframe thead th {\n",
       "        text-align: right;\n",
       "    }\n",
       "</style>\n",
       "<table border=\"1\" class=\"dataframe\">\n",
       "  <thead>\n",
       "    <tr style=\"text-align: right;\">\n",
       "      <th></th>\n",
       "      <th>.x</th>\n",
       "      <th>P(x)</th>\n",
       "      <th>Percentage xP(x)</th>\n",
       "      <th>xP(x)</th>\n",
       "    </tr>\n",
       "  </thead>\n",
       "  <tbody>\n",
       "    <tr>\n",
       "      <th>0</th>\n",
       "      <td>1</td>\n",
       "      <td>1/6</td>\n",
       "      <td>0.166667</td>\n",
       "      <td>1/6</td>\n",
       "    </tr>\n",
       "    <tr>\n",
       "      <th>1</th>\n",
       "      <td>2</td>\n",
       "      <td>1/6</td>\n",
       "      <td>0.333333</td>\n",
       "      <td>2/6</td>\n",
       "    </tr>\n",
       "    <tr>\n",
       "      <th>2</th>\n",
       "      <td>3</td>\n",
       "      <td>1/6</td>\n",
       "      <td>0.500000</td>\n",
       "      <td>3/6</td>\n",
       "    </tr>\n",
       "    <tr>\n",
       "      <th>3</th>\n",
       "      <td>4</td>\n",
       "      <td>1/6</td>\n",
       "      <td>0.666667</td>\n",
       "      <td>4/6</td>\n",
       "    </tr>\n",
       "    <tr>\n",
       "      <th>4</th>\n",
       "      <td>5</td>\n",
       "      <td>1/6</td>\n",
       "      <td>0.833333</td>\n",
       "      <td>5/6</td>\n",
       "    </tr>\n",
       "    <tr>\n",
       "      <th>5</th>\n",
       "      <td>6</td>\n",
       "      <td>1/6</td>\n",
       "      <td>1.000000</td>\n",
       "      <td>6/6</td>\n",
       "    </tr>\n",
       "    <tr>\n",
       "      <th>6</th>\n",
       "      <td>-</td>\n",
       "      <td>Sum</td>\n",
       "      <td>3.500000</td>\n",
       "      <td>21/6</td>\n",
       "    </tr>\n",
       "  </tbody>\n",
       "</table>\n",
       "</div>"
      ],
      "text/plain": [
       "  .x P(x)  Percentage xP(x) xP(x)\n",
       "0  1  1/6          0.166667   1/6\n",
       "1  2  1/6          0.333333   2/6\n",
       "2  3  1/6          0.500000   3/6\n",
       "3  4  1/6          0.666667   4/6\n",
       "4  5  1/6          0.833333   5/6\n",
       "5  6  1/6          1.000000   6/6\n",
       "6  -  Sum          3.500000  21/6"
      ]
     },
     "execution_count": 5,
     "metadata": {},
     "output_type": "execute_result"
    }
   ],
   "source": [
    "die_df = pd.DataFrame({'.x': [1,2,3,4,5,6,'-'], \n",
    "                         'P(x)': ['1/6','1/6','1/6','1/6','1/6','1/6','Sum'], \n",
    "                         'xP(x)': ['1/6','2/6','3/6','4/6','5/6','6/6','21/6'], \n",
    "                       'Percentage xP(x)': [1/6,2/6,3/6,4/6,5/6,6/6,21/6]})\n",
    "die_df"
   ]
  },
  {
   "cell_type": "code",
   "execution_count": 7,
   "metadata": {},
   "outputs": [
    {
     "name": "stdout",
     "output_type": "stream",
     "text": [
      "E(X) = 3.5\n"
     ]
    },
    {
     "data": {
      "image/png": "[encoded data removed]",
      "text/plain": [
       "<matplotlib.figure.Figure at 0x7f36c97caa58>"
      ]
     },
     "metadata": {},
     "output_type": "display_data"
    }
   ],
   "source": [
    "sums = [1/6,1/6,1/6,1/6,1/6,1/6]\n",
    "ax1 = sns.barplot(data=die_df,x=die_df.loc[:5,'.x'],y=sums)\n",
    "ax1.set_title('Dice Roll Probability P(x)')\n",
    "print('E(X) = ' + str(21/6))"
   ]
  },
  {
   "cell_type": "code",
   "execution_count": 112,
   "metadata": {},
   "outputs": [
    {
     "data": {
      "text/html": [
       "<div>\n",
       "<style scoped>\n",
       "    .dataframe tbody tr th:only-of-type {\n",
       "        vertical-align: middle;\n",
       "    }\n",
       "\n",
       "    .dataframe tbody tr th {\n",
       "        vertical-align: top;\n",
       "    }\n",
       "\n",
       "    .dataframe thead th {\n",
       "        text-align: right;\n",
       "    }\n",
       "</style>\n",
       "<table border=\"1\" class=\"dataframe\">\n",
       "  <thead>\n",
       "    <tr style=\"text-align: right;\">\n",
       "      <th></th>\n",
       "      <th>.x</th>\n",
       "      <th>count</th>\n",
       "      <th>count/total = P(x)</th>\n",
       "      <th>xP(x)</th>\n",
       "    </tr>\n",
       "  </thead>\n",
       "  <tbody>\n",
       "    <tr>\n",
       "      <th>0</th>\n",
       "      <td>1</td>\n",
       "      <td>5</td>\n",
       "      <td>0.046296</td>\n",
       "      <td>0.046296</td>\n",
       "    </tr>\n",
       "    <tr>\n",
       "      <th>1</th>\n",
       "      <td>2</td>\n",
       "      <td>10</td>\n",
       "      <td>0.092593</td>\n",
       "      <td>0.185185</td>\n",
       "    </tr>\n",
       "    <tr>\n",
       "      <th>2</th>\n",
       "      <td>3</td>\n",
       "      <td>11</td>\n",
       "      <td>0.101852</td>\n",
       "      <td>0.305556</td>\n",
       "    </tr>\n",
       "    <tr>\n",
       "      <th>3</th>\n",
       "      <td>4</td>\n",
       "      <td>44</td>\n",
       "      <td>0.407407</td>\n",
       "      <td>1.629630</td>\n",
       "    </tr>\n",
       "    <tr>\n",
       "      <th>4</th>\n",
       "      <td>5</td>\n",
       "      <td>38</td>\n",
       "      <td>0.351852</td>\n",
       "      <td>1.759259</td>\n",
       "    </tr>\n",
       "    <tr>\n",
       "      <th>5</th>\n",
       "      <td>Sum</td>\n",
       "      <td>108</td>\n",
       "      <td>1.000000</td>\n",
       "      <td>3.700000</td>\n",
       "    </tr>\n",
       "  </tbody>\n",
       "</table>\n",
       "</div>"
      ],
      "text/plain": [
       "    .x  count  count/total = P(x)     xP(x)\n",
       "0    1      5            0.046296  0.046296\n",
       "1    2     10            0.092593  0.185185\n",
       "2    3     11            0.101852  0.305556\n",
       "3    4     44            0.407407  1.629630\n",
       "4    5     38            0.351852  1.759259\n",
       "5  Sum    108            1.000000  3.700000"
      ]
     },
     "execution_count": 112,
     "metadata": {},
     "output_type": "execute_result"
    }
   ],
   "source": [
    "class_df1 = pd.DataFrame({'.x': [1,2,3,4,5], \n",
    "                         'count': [5,10,11,44,38], \n",
    "                         'count/total = P(x)': [5/108,10/108,11/108,44/108,38/108]})\n",
    "class_df1['xP(x)'] = class_df1['.x']*class_df1['count/total = P(x)']\n",
    "class_df1.loc[5] = ['Sum',108,1,3.70]\n",
    "class_df1"
   ]
  },
  {
   "cell_type": "code",
   "execution_count": 117,
   "metadata": {},
   "outputs": [
    {
     "name": "stdout",
     "output_type": "stream",
     "text": [
      "E(X) = 3.70\n"
     ]
    },
    {
     "data": {
      "image/png": "[encoded data removed]",
      "text/plain": [
       "<matplotlib.figure.Figure at 0x7f4b23c6f710>"
      ]
     },
     "metadata": {},
     "output_type": "display_data"
    }
   ],
   "source": [
    "ax1 = sns.barplot(data=class_df,x=class_df.loc[:4,'.x'],y=class_df.loc[:4,'count/total = P(x)'])\n",
    "ax1.set_title('Class Satisfaction')\n",
    "print('E(X) = 3.70')"
   ]
  },
  {
   "cell_type": "markdown",
   "metadata": {},
   "source": [
    "# III Discrete Random Variable Variance\n",
    "- Though the expected value tells us the mean of a random variable oftentimes we need to know the variability, or how spread out the random variable is from its mean\n",
    "- We can use the variance and standard deviation of a random variable to learn about how dispersed it is relative to its mean.\n",
    "- This information can be used to calculate other statistics, compare data sets, and inform other conclusions about our data."
   ]
  },
  {
   "cell_type": "markdown",
   "metadata": {},
   "source": [
    "\\begin{equation}\n",
    "Var(x) = \\sigma^2 = \\sum{(x-\\mu)^2}P(x)\n",
    "\\end{equation}"
   ]
  },
  {
   "cell_type": "markdown",
   "metadata": {},
   "source": [
    "1. Calculate the expected value of X; the mean $\\mu$\n",
    "2. Take the random variable value x and subtract the expected value (mean) $\\mu$\n",
    "3. Square the difference found in Step 2\n",
    "4. Multiply the squared difference by the probability of the random variable P(x) (in this step we are weighting the deviations using the probabilities)\n",
    "5. Sum $\\sum$ all of the squared weighted deviations found in Step 4 and you have the variance $\\sigma^2$"
   ]
  },
  {
   "cell_type": "markdown",
   "metadata": {},
   "source": [
    "The square root of the variance is the standard deviation"
   ]
  },
  {
   "cell_type": "markdown",
   "metadata": {},
   "source": [
    "If I roll a die many times and then average my rolls, what should I expect for a mean of $\\mu$?\n",
    "\n",
    "We know that we have the numbers 1,2,3,4,5,6 and each number is equally likely to occur\n",
    "\n",
    "What is the mean of 1+2+3+4+5+6?\n",
    "\n",
    "\\begin{equation}\n",
    "\\mu = 3.5\n",
    "\\end{equation}"
   ]
  },
  {
   "cell_type": "code",
   "execution_count": 9,
   "metadata": {},
   "outputs": [
    {
     "data": {
      "text/html": [
       "<div>\n",
       "<style scoped>\n",
       "    .dataframe tbody tr th:only-of-type {\n",
       "        vertical-align: middle;\n",
       "    }\n",
       "\n",
       "    .dataframe tbody tr th {\n",
       "        vertical-align: top;\n",
       "    }\n",
       "\n",
       "    .dataframe thead th {\n",
       "        text-align: right;\n",
       "    }\n",
       "</style>\n",
       "<table border=\"1\" class=\"dataframe\">\n",
       "  <thead>\n",
       "    <tr style=\"text-align: right;\">\n",
       "      <th></th>\n",
       "      <th>.x</th>\n",
       "      <th>P(x)</th>\n",
       "      <th>xP(x)</th>\n",
       "    </tr>\n",
       "  </thead>\n",
       "  <tbody>\n",
       "    <tr>\n",
       "      <th>0</th>\n",
       "      <td>1</td>\n",
       "      <td>1/6</td>\n",
       "      <td>1/6</td>\n",
       "    </tr>\n",
       "    <tr>\n",
       "      <th>1</th>\n",
       "      <td>2</td>\n",
       "      <td>1/6</td>\n",
       "      <td>2/6</td>\n",
       "    </tr>\n",
       "    <tr>\n",
       "      <th>2</th>\n",
       "      <td>3</td>\n",
       "      <td>1/6</td>\n",
       "      <td>3/6</td>\n",
       "    </tr>\n",
       "    <tr>\n",
       "      <th>3</th>\n",
       "      <td>4</td>\n",
       "      <td>1/6</td>\n",
       "      <td>4/6</td>\n",
       "    </tr>\n",
       "    <tr>\n",
       "      <th>4</th>\n",
       "      <td>5</td>\n",
       "      <td>1/6</td>\n",
       "      <td>5/6</td>\n",
       "    </tr>\n",
       "    <tr>\n",
       "      <th>5</th>\n",
       "      <td>6</td>\n",
       "      <td>1/6</td>\n",
       "      <td>6/6</td>\n",
       "    </tr>\n",
       "    <tr>\n",
       "      <th>6</th>\n",
       "      <td>-</td>\n",
       "      <td>Sum</td>\n",
       "      <td>21/6</td>\n",
       "    </tr>\n",
       "  </tbody>\n",
       "</table>\n",
       "</div>"
      ],
      "text/plain": [
       "  .x P(x) xP(x)\n",
       "0  1  1/6   1/6\n",
       "1  2  1/6   2/6\n",
       "2  3  1/6   3/6\n",
       "3  4  1/6   4/6\n",
       "4  5  1/6   5/6\n",
       "5  6  1/6   6/6\n",
       "6  -  Sum  21/6"
      ]
     },
     "execution_count": 9,
     "metadata": {},
     "output_type": "execute_result"
    }
   ],
   "source": [
    "die_df[['.x','P(x)','xP(x)']]"
   ]
  },
  {
   "cell_type": "markdown",
   "metadata": {},
   "source": [
    "Remember the expected value is simply the mean of the random variable.\n",
    "\n",
    "Over the long run, the expected mean $\\mu$ for numerous rolls would be 3.5"
   ]
  },
  {
   "cell_type": "code",
   "execution_count": 18,
   "metadata": {},
   "outputs": [
    {
     "data": {
      "text/html": [
       "<div>\n",
       "<style scoped>\n",
       "    .dataframe tbody tr th:only-of-type {\n",
       "        vertical-align: middle;\n",
       "    }\n",
       "\n",
       "    .dataframe tbody tr th {\n",
       "        vertical-align: top;\n",
       "    }\n",
       "\n",
       "    .dataframe thead th {\n",
       "        text-align: right;\n",
       "    }\n",
       "</style>\n",
       "<table border=\"1\" class=\"dataframe\">\n",
       "  <thead>\n",
       "    <tr style=\"text-align: right;\">\n",
       "      <th></th>\n",
       "      <th>.x</th>\n",
       "      <th>P(x)</th>\n",
       "      <th>u</th>\n",
       "      <th>(x-u)</th>\n",
       "      <th>(x-u)^2</th>\n",
       "      <th>(x-u)^2P(x)</th>\n",
       "    </tr>\n",
       "  </thead>\n",
       "  <tbody>\n",
       "    <tr>\n",
       "      <th>0</th>\n",
       "      <td>1</td>\n",
       "      <td>0.166667</td>\n",
       "      <td>3.5</td>\n",
       "      <td>-2.5</td>\n",
       "      <td>6.25</td>\n",
       "      <td>1.041667</td>\n",
       "    </tr>\n",
       "    <tr>\n",
       "      <th>1</th>\n",
       "      <td>2</td>\n",
       "      <td>0.166667</td>\n",
       "      <td>3.5</td>\n",
       "      <td>-1.5</td>\n",
       "      <td>2.25</td>\n",
       "      <td>0.375000</td>\n",
       "    </tr>\n",
       "    <tr>\n",
       "      <th>2</th>\n",
       "      <td>3</td>\n",
       "      <td>0.166667</td>\n",
       "      <td>3.5</td>\n",
       "      <td>-0.5</td>\n",
       "      <td>0.25</td>\n",
       "      <td>0.041667</td>\n",
       "    </tr>\n",
       "    <tr>\n",
       "      <th>3</th>\n",
       "      <td>4</td>\n",
       "      <td>0.166667</td>\n",
       "      <td>3.5</td>\n",
       "      <td>0.5</td>\n",
       "      <td>0.25</td>\n",
       "      <td>0.041667</td>\n",
       "    </tr>\n",
       "    <tr>\n",
       "      <th>4</th>\n",
       "      <td>5</td>\n",
       "      <td>0.166667</td>\n",
       "      <td>3.5</td>\n",
       "      <td>1.5</td>\n",
       "      <td>2.25</td>\n",
       "      <td>0.375000</td>\n",
       "    </tr>\n",
       "    <tr>\n",
       "      <th>5</th>\n",
       "      <td>6</td>\n",
       "      <td>0.166667</td>\n",
       "      <td>3.5</td>\n",
       "      <td>2.5</td>\n",
       "      <td>6.25</td>\n",
       "      <td>1.041667</td>\n",
       "    </tr>\n",
       "  </tbody>\n",
       "</table>\n",
       "</div>"
      ],
      "text/plain": [
       "   .x      P(x)    u  (x-u)  (x-u)^2  (x-u)^2P(x)\n",
       "0   1  0.166667  3.5   -2.5     6.25     1.041667\n",
       "1   2  0.166667  3.5   -1.5     2.25     0.375000\n",
       "2   3  0.166667  3.5   -0.5     0.25     0.041667\n",
       "3   4  0.166667  3.5    0.5     0.25     0.041667\n",
       "4   5  0.166667  3.5    1.5     2.25     0.375000\n",
       "5   6  0.166667  3.5    2.5     6.25     1.041667"
      ]
     },
     "execution_count": 18,
     "metadata": {},
     "output_type": "execute_result"
    }
   ],
   "source": [
    "die_df2 = pd.DataFrame({'.x': [1,2,3,4,5,6], \n",
    "                         'P(x)': [1/6,1/6,1/6,1/6,1/6,1/6], \n",
    "                         'u': [21/6,21/6,21/6,21/6,21/6,21/6]})\n",
    "die_df2['(x-u)'] = die_df2['.x']-die_df2['u']\n",
    "die_df2['(x-u)^2'] = die_df2['(x-u)']**2\n",
    "die_df2['(x-u)^2P(x)'] = die_df2['(x-u)^2']*die_df2['P(x)']\n",
    "die_df2"
   ]
  },
  {
   "cell_type": "markdown",
   "metadata": {},
   "source": [
    "\\begin{equation}\n",
    "Var(x) = \\sigma^2 = \\sum{(x-\\mu)^2}P(x) = \\frac{35}{12} or 2.92\n",
    "\\end{equation}"
   ]
  },
  {
   "cell_type": "code",
   "execution_count": 37,
   "metadata": {},
   "outputs": [
    {
     "name": "stdout",
     "output_type": "stream",
     "text": [
      "E(X) = 3.5\n"
     ]
    },
    {
     "data": {
      "image/png": "[encoded data removed]",
      "text/plain": [
       "<matplotlib.figure.Figure at 0x7f36fcdecc18>"
      ]
     },
     "metadata": {},
     "output_type": "display_data"
    }
   ],
   "source": [
    "ax1 = sns.barplot(data=die_df2,x='.x',y='P(x)')\n",
    "ax1.set_title('Dice Roll Probability P(x)')\n",
    "ax1.axvline(3.5-2.71, color='k', linestyle='--')\n",
    "ax1.axvline(3.5+.71, color='k', linestyle='--')\n",
    "print('E(X) = ' + str(21/6))"
   ]
  },
  {
   "cell_type": "markdown",
   "metadata": {},
   "source": [
    "\\begin{equation}\n",
    "Standard Deviation = \\sigma = \\sqrt{var} = \\sqrt{2.92} = 1.71\n",
    "\\end{equation}\n",
    "Black dashed line - 1 Standard Deviation Away - 67% of outcomes are between these two"
   ]
  },
  {
   "cell_type": "markdown",
   "metadata": {},
   "source": [
    "EXAMPLE 2:"
   ]
  },
  {
   "cell_type": "code",
   "execution_count": 43,
   "metadata": {},
   "outputs": [
    {
     "name": "stdout",
     "output_type": "stream",
     "text": [
      "Expected Value is 3.70\n"
     ]
    },
    {
     "data": {
      "text/html": [
       "<div>\n",
       "<style scoped>\n",
       "    .dataframe tbody tr th:only-of-type {\n",
       "        vertical-align: middle;\n",
       "    }\n",
       "\n",
       "    .dataframe tbody tr th {\n",
       "        vertical-align: top;\n",
       "    }\n",
       "\n",
       "    .dataframe thead th {\n",
       "        text-align: right;\n",
       "    }\n",
       "</style>\n",
       "<table border=\"1\" class=\"dataframe\">\n",
       "  <thead>\n",
       "    <tr style=\"text-align: right;\">\n",
       "      <th></th>\n",
       "      <th>.x</th>\n",
       "      <th>count</th>\n",
       "      <th>count/total = P(x)</th>\n",
       "      <th>xP(x)</th>\n",
       "    </tr>\n",
       "  </thead>\n",
       "  <tbody>\n",
       "    <tr>\n",
       "      <th>0</th>\n",
       "      <td>1</td>\n",
       "      <td>5</td>\n",
       "      <td>0.046296</td>\n",
       "      <td>0.046296</td>\n",
       "    </tr>\n",
       "    <tr>\n",
       "      <th>1</th>\n",
       "      <td>2</td>\n",
       "      <td>10</td>\n",
       "      <td>0.092593</td>\n",
       "      <td>0.185185</td>\n",
       "    </tr>\n",
       "    <tr>\n",
       "      <th>2</th>\n",
       "      <td>3</td>\n",
       "      <td>11</td>\n",
       "      <td>0.101852</td>\n",
       "      <td>0.305556</td>\n",
       "    </tr>\n",
       "    <tr>\n",
       "      <th>3</th>\n",
       "      <td>4</td>\n",
       "      <td>44</td>\n",
       "      <td>0.407407</td>\n",
       "      <td>1.629630</td>\n",
       "    </tr>\n",
       "    <tr>\n",
       "      <th>4</th>\n",
       "      <td>5</td>\n",
       "      <td>38</td>\n",
       "      <td>0.351852</td>\n",
       "      <td>1.759259</td>\n",
       "    </tr>\n",
       "    <tr>\n",
       "      <th>5</th>\n",
       "      <td>Sum</td>\n",
       "      <td>108</td>\n",
       "      <td>1.000000</td>\n",
       "      <td>3.700000</td>\n",
       "    </tr>\n",
       "  </tbody>\n",
       "</table>\n",
       "</div>"
      ],
      "text/plain": [
       "    .x  count  count/total = P(x)     xP(x)\n",
       "0    1      5            0.046296  0.046296\n",
       "1    2     10            0.092593  0.185185\n",
       "2    3     11            0.101852  0.305556\n",
       "3    4     44            0.407407  1.629630\n",
       "4    5     38            0.351852  1.759259\n",
       "5  Sum    108            1.000000  3.700000"
      ]
     },
     "execution_count": 43,
     "metadata": {},
     "output_type": "execute_result"
    }
   ],
   "source": [
    "class_df1 = pd.DataFrame({'.x': [1,2,3,4,5], \n",
    "                         'count': [5,10,11,44,38], \n",
    "                         'count/total = P(x)': [5/108,10/108,11/108,44/108,38/108]})\n",
    "class_df1['xP(x)'] = class_df1['.x']*class_df1['count/total = P(x)']\n",
    "class_df1.loc[5] = ['Sum',108,1,3.70]\n",
    "\n",
    "print(\"Expected Value is 3.70\")\n",
    "class_df1"
   ]
  },
  {
   "cell_type": "markdown",
   "metadata": {},
   "source": [
    "What is the variance?"
   ]
  },
  {
   "cell_type": "code",
   "execution_count": 45,
   "metadata": {},
   "outputs": [
    {
     "data": {
      "text/html": [
       "<div>\n",
       "<style scoped>\n",
       "    .dataframe tbody tr th:only-of-type {\n",
       "        vertical-align: middle;\n",
       "    }\n",
       "\n",
       "    .dataframe tbody tr th {\n",
       "        vertical-align: top;\n",
       "    }\n",
       "\n",
       "    .dataframe thead th {\n",
       "        text-align: right;\n",
       "    }\n",
       "</style>\n",
       "<table border=\"1\" class=\"dataframe\">\n",
       "  <thead>\n",
       "    <tr style=\"text-align: right;\">\n",
       "      <th></th>\n",
       "      <th>.x</th>\n",
       "      <th>P(x)</th>\n",
       "      <th>u</th>\n",
       "      <th>(x-u)</th>\n",
       "      <th>(x-u)^2</th>\n",
       "      <th>(x-u)^2P(x)</th>\n",
       "    </tr>\n",
       "  </thead>\n",
       "  <tbody>\n",
       "    <tr>\n",
       "      <th>0</th>\n",
       "      <td>1</td>\n",
       "      <td>0.046296</td>\n",
       "      <td>3.7</td>\n",
       "      <td>-2.7</td>\n",
       "      <td>7.29</td>\n",
       "      <td>0.337500</td>\n",
       "    </tr>\n",
       "    <tr>\n",
       "      <th>1</th>\n",
       "      <td>2</td>\n",
       "      <td>0.092593</td>\n",
       "      <td>3.7</td>\n",
       "      <td>-1.7</td>\n",
       "      <td>2.89</td>\n",
       "      <td>0.267593</td>\n",
       "    </tr>\n",
       "    <tr>\n",
       "      <th>2</th>\n",
       "      <td>3</td>\n",
       "      <td>0.101852</td>\n",
       "      <td>3.7</td>\n",
       "      <td>-0.7</td>\n",
       "      <td>0.49</td>\n",
       "      <td>0.049907</td>\n",
       "    </tr>\n",
       "    <tr>\n",
       "      <th>3</th>\n",
       "      <td>4</td>\n",
       "      <td>0.407407</td>\n",
       "      <td>3.7</td>\n",
       "      <td>0.3</td>\n",
       "      <td>0.09</td>\n",
       "      <td>0.036667</td>\n",
       "    </tr>\n",
       "    <tr>\n",
       "      <th>4</th>\n",
       "      <td>5</td>\n",
       "      <td>0.351852</td>\n",
       "      <td>3.7</td>\n",
       "      <td>1.3</td>\n",
       "      <td>1.69</td>\n",
       "      <td>0.594630</td>\n",
       "    </tr>\n",
       "  </tbody>\n",
       "</table>\n",
       "</div>"
      ],
      "text/plain": [
       "   .x      P(x)    u  (x-u)  (x-u)^2  (x-u)^2P(x)\n",
       "0   1  0.046296  3.7   -2.7     7.29     0.337500\n",
       "1   2  0.092593  3.7   -1.7     2.89     0.267593\n",
       "2   3  0.101852  3.7   -0.7     0.49     0.049907\n",
       "3   4  0.407407  3.7    0.3     0.09     0.036667\n",
       "4   5  0.351852  3.7    1.3     1.69     0.594630"
      ]
     },
     "execution_count": 45,
     "metadata": {},
     "output_type": "execute_result"
    }
   ],
   "source": [
    "class_df2 = pd.DataFrame({'.x': [1,2,3,4,5],\n",
    "                         'P(x)': [5/108,10/108,11/108,44/108,38/108], \n",
    "                          'u': [3.70,3.70,3.70,3.70,3.70]})\n",
    "class_df2['(x-u)'] = class_df2['.x']-class_df2['u']\n",
    "class_df2['(x-u)^2'] = class_df2['(x-u)']**2\n",
    "class_df2['(x-u)^2P(x)'] = class_df2['(x-u)^2']*class_df2['P(x)']\n",
    "class_df2"
   ]
  },
  {
   "cell_type": "code",
   "execution_count": 47,
   "metadata": {},
   "outputs": [
    {
     "name": "stdout",
     "output_type": "stream",
     "text": [
      "Variance = 1.286296296296296\n",
      "Standar Deviation = 1.1341500325337455\n"
     ]
    }
   ],
   "source": [
    "variance = class_df2['(x-u)^2P(x)'].sum()\n",
    "print('Variance = ' + str(variance) + '\\nStandar Deviation = ' + str(np.sqrt(variance)))"
   ]
  },
  {
   "cell_type": "code",
   "execution_count": 52,
   "metadata": {},
   "outputs": [
    {
     "data": {
      "text/plain": [
       "<matplotlib.lines.Line2D at 0x7f36c6d81fd0>"
      ]
     },
     "execution_count": 52,
     "metadata": {},
     "output_type": "execute_result"
    },
    {
     "data": {
      "image/png": "[encoded data removed]",
      "text/plain": [
       "<matplotlib.figure.Figure at 0x7f36c6d81588>"
      ]
     },
     "metadata": {},
     "output_type": "display_data"
    }
   ],
   "source": [
    "ax1 = sns.barplot(data=class_df2,x='.x',y='P(x)')\n",
    "ax1.set_title('Class Satisfaction P(x)')\n",
    "ax1.axvline(3.7-2.13, color='k', linestyle='--')\n",
    "ax1.axvline(3.7+.13, color='k', linestyle='--')"
   ]
  },
  {
   "cell_type": "markdown",
   "metadata": {},
   "source": [
    "# IV The Binomial Distribution"
   ]
  },
  {
   "cell_type": "markdown",
   "metadata": {},
   "source": [
    "## Equation\n",
    "\\begin{equation}\n",
    "C(n,x)p^x(1-p)^{n-x}\n",
    "\\end{equation}\n",
    "n = number of trials\n",
    "\n",
    "x = number of successes\n",
    "\n",
    "p = probability of success in any trial"
   ]
  },
  {
   "cell_type": "markdown",
   "metadata": {},
   "source": [
    "Example:\n",
    "    \n",
    "As a sales manager you analyze the sales records for all salespersons under your guidance.\n",
    "\n",
    "Joan has a success rate of 75% and averages 10 calls per day. Margo has a success rate of 45% but averages 16 calls per day\n",
    "\n",
    "What is the probability that each salesperson makes 6 sales on any given day?"
   ]
  },
  {
   "cell_type": "markdown",
   "metadata": {},
   "source": [
    "## Binomial Experiment\n",
    "A binomial experiment has the following chareacteristics:\n",
    "1. The process consists of a sequence of n trials\n",
    "2. Only two exclusive outcomes are possible in each trial. One outcome is called a \"success\" and the other a \"failure\"\n",
    "3. The probability of a success denoted by p, does not change from trial to trial. The probability of failure is 1 - p and is also fixed from trial to trial\n",
    "4. The trials are independent; the outcome of previous trials do not influence future trials"
   ]
  },
  {
   "cell_type": "markdown",
   "metadata": {},
   "source": [
    "- For example let's consider an experiment involving 5 trials; n = 5\n",
    "- Our interest is in the number of \"successes\" in n trials\n",
    "- We establish a discrete random variable X to represent the number of successes in our trials\n",
    "X = # of successes in 5 trials\n",
    "\n",
    "x = 0,1,2,3,4,5"
   ]
  },
  {
   "cell_type": "code",
   "execution_count": 57,
   "metadata": {},
   "outputs": [
    {
     "data": {
      "text/html": [
       "<div>\n",
       "<style scoped>\n",
       "    .dataframe tbody tr th:only-of-type {\n",
       "        vertical-align: middle;\n",
       "    }\n",
       "\n",
       "    .dataframe tbody tr th {\n",
       "        vertical-align: top;\n",
       "    }\n",
       "\n",
       "    .dataframe thead th {\n",
       "        text-align: right;\n",
       "    }\n",
       "</style>\n",
       "<table border=\"1\" class=\"dataframe\">\n",
       "  <thead>\n",
       "    <tr style=\"text-align: right;\">\n",
       "      <th></th>\n",
       "      <th>.Trial</th>\n",
       "      <th>1</th>\n",
       "      <th>2</th>\n",
       "      <th>3</th>\n",
       "      <th>4</th>\n",
       "      <th>5</th>\n",
       "    </tr>\n",
       "  </thead>\n",
       "  <tbody>\n",
       "    <tr>\n",
       "      <th>0</th>\n",
       "      <td>Outcome1</td>\n",
       "      <td>True</td>\n",
       "      <td>False</td>\n",
       "      <td>False</td>\n",
       "      <td>True</td>\n",
       "      <td>False</td>\n",
       "    </tr>\n",
       "    <tr>\n",
       "      <th>1</th>\n",
       "      <td>Outcome2</td>\n",
       "      <td>True</td>\n",
       "      <td>True</td>\n",
       "      <td>False</td>\n",
       "      <td>True</td>\n",
       "      <td>True</td>\n",
       "    </tr>\n",
       "  </tbody>\n",
       "</table>\n",
       "</div>"
      ],
      "text/plain": [
       "     .Trial     1      2      3     4      5\n",
       "0  Outcome1  True  False  False  True  False\n",
       "1  Outcome2  True   True  False  True   True"
      ]
     },
     "execution_count": 57,
     "metadata": {},
     "output_type": "execute_result"
    }
   ],
   "source": [
    "binom_df = pd.DataFrame({'.Trial': ['Outcome1','Outcome2'],\n",
    "                         '1': [True, True], \n",
    "                         '2': [False,True],\n",
    "                         '3': [False,False],\n",
    "                         '4': [True,True],\n",
    "                         '5': [False,True]})\n",
    "binom_df"
   ]
  },
  {
   "cell_type": "code",
   "execution_count": 59,
   "metadata": {},
   "outputs": [
    {
     "name": "stdout",
     "output_type": "stream",
     "text": [
      "Valid outcomes with 4 successes and 1 failure\n"
     ]
    },
    {
     "data": {
      "text/html": [
       "<div>\n",
       "<style scoped>\n",
       "    .dataframe tbody tr th:only-of-type {\n",
       "        vertical-align: middle;\n",
       "    }\n",
       "\n",
       "    .dataframe tbody tr th {\n",
       "        vertical-align: top;\n",
       "    }\n",
       "\n",
       "    .dataframe thead th {\n",
       "        text-align: right;\n",
       "    }\n",
       "</style>\n",
       "<table border=\"1\" class=\"dataframe\">\n",
       "  <thead>\n",
       "    <tr style=\"text-align: right;\">\n",
       "      <th></th>\n",
       "      <th>.Trial</th>\n",
       "      <th>1</th>\n",
       "      <th>2</th>\n",
       "      <th>3</th>\n",
       "      <th>4</th>\n",
       "      <th>5</th>\n",
       "    </tr>\n",
       "  </thead>\n",
       "  <tbody>\n",
       "    <tr>\n",
       "      <th>0</th>\n",
       "      <td>Outcome</td>\n",
       "      <td>True</td>\n",
       "      <td>False</td>\n",
       "      <td>True</td>\n",
       "      <td>True</td>\n",
       "      <td>True</td>\n",
       "    </tr>\n",
       "    <tr>\n",
       "      <th>1</th>\n",
       "      <td>Outcome</td>\n",
       "      <td>True</td>\n",
       "      <td>True</td>\n",
       "      <td>True</td>\n",
       "      <td>False</td>\n",
       "      <td>True</td>\n",
       "    </tr>\n",
       "    <tr>\n",
       "      <th>2</th>\n",
       "      <td>Outcome</td>\n",
       "      <td>False</td>\n",
       "      <td>True</td>\n",
       "      <td>True</td>\n",
       "      <td>True</td>\n",
       "      <td>True</td>\n",
       "    </tr>\n",
       "    <tr>\n",
       "      <th>3</th>\n",
       "      <td>Outcome</td>\n",
       "      <td>True</td>\n",
       "      <td>True</td>\n",
       "      <td>False</td>\n",
       "      <td>True</td>\n",
       "      <td>True</td>\n",
       "    </tr>\n",
       "    <tr>\n",
       "      <th>4</th>\n",
       "      <td>Outcome</td>\n",
       "      <td>True</td>\n",
       "      <td>True</td>\n",
       "      <td>True</td>\n",
       "      <td>True</td>\n",
       "      <td>False</td>\n",
       "    </tr>\n",
       "  </tbody>\n",
       "</table>\n",
       "</div>"
      ],
      "text/plain": [
       "    .Trial      1      2      3      4      5\n",
       "0  Outcome   True  False   True   True   True\n",
       "1  Outcome   True   True   True  False   True\n",
       "2  Outcome  False   True   True   True   True\n",
       "3  Outcome   True   True  False   True   True\n",
       "4  Outcome   True   True   True   True  False"
      ]
     },
     "execution_count": 59,
     "metadata": {},
     "output_type": "execute_result"
    }
   ],
   "source": [
    "binom_df = pd.DataFrame({'.Trial': ['Outcome','Outcome','Outcome','Outcome','Outcome'],\n",
    "                         '1': [True, True, False,True,True], \n",
    "                         '2': [False, True, True,True,True],\n",
    "                         '3': [True, True, True, False, True],\n",
    "                         '4': [True, False, True, True,True],\n",
    "                         '5': [True, True, True,True, False]})\n",
    "print(\"Valid outcomes with 4 successes and 1 failure\")\n",
    "binom_df"
   ]
  },
  {
   "cell_type": "markdown",
   "metadata": {},
   "source": [
    "\\begin{equation}\n",
    "C(5,4) = 5\n",
    "\\end{equation}"
   ]
  },
  {
   "cell_type": "code",
   "execution_count": 64,
   "metadata": {},
   "outputs": [
    {
     "name": "stdout",
     "output_type": "stream",
     "text": [
      "Valid outcomes with 4 successes and 1 failure\n"
     ]
    },
    {
     "data": {
      "text/html": [
       "<div>\n",
       "<style scoped>\n",
       "    .dataframe tbody tr th:only-of-type {\n",
       "        vertical-align: middle;\n",
       "    }\n",
       "\n",
       "    .dataframe tbody tr th {\n",
       "        vertical-align: top;\n",
       "    }\n",
       "\n",
       "    .dataframe thead th {\n",
       "        text-align: right;\n",
       "    }\n",
       "</style>\n",
       "<table border=\"1\" class=\"dataframe\">\n",
       "  <thead>\n",
       "    <tr style=\"text-align: right;\">\n",
       "      <th></th>\n",
       "      <th>#.n</th>\n",
       "      <th>#failures</th>\n",
       "      <th>#successes</th>\n",
       "      <th>combination</th>\n",
       "      <th>total</th>\n",
       "    </tr>\n",
       "  </thead>\n",
       "  <tbody>\n",
       "    <tr>\n",
       "      <th>0</th>\n",
       "      <td>5</td>\n",
       "      <td>5</td>\n",
       "      <td>0</td>\n",
       "      <td>C(5,0)</td>\n",
       "      <td>1</td>\n",
       "    </tr>\n",
       "    <tr>\n",
       "      <th>1</th>\n",
       "      <td>5</td>\n",
       "      <td>4</td>\n",
       "      <td>1</td>\n",
       "      <td>C(5,1)</td>\n",
       "      <td>5</td>\n",
       "    </tr>\n",
       "    <tr>\n",
       "      <th>2</th>\n",
       "      <td>5</td>\n",
       "      <td>3</td>\n",
       "      <td>2</td>\n",
       "      <td>C(5,2)</td>\n",
       "      <td>10</td>\n",
       "    </tr>\n",
       "    <tr>\n",
       "      <th>3</th>\n",
       "      <td>5</td>\n",
       "      <td>2</td>\n",
       "      <td>3</td>\n",
       "      <td>C(5,3)</td>\n",
       "      <td>10</td>\n",
       "    </tr>\n",
       "    <tr>\n",
       "      <th>4</th>\n",
       "      <td>5</td>\n",
       "      <td>1</td>\n",
       "      <td>4</td>\n",
       "      <td>C(5,4)</td>\n",
       "      <td>5</td>\n",
       "    </tr>\n",
       "    <tr>\n",
       "      <th>5</th>\n",
       "      <td>5</td>\n",
       "      <td>0</td>\n",
       "      <td>5</td>\n",
       "      <td>C(5,5)</td>\n",
       "      <td>1</td>\n",
       "    </tr>\n",
       "  </tbody>\n",
       "</table>\n",
       "</div>"
      ],
      "text/plain": [
       "   #.n  #failures  #successes combination  total\n",
       "0    5          5           0      C(5,0)      1\n",
       "1    5          4           1      C(5,1)      5\n",
       "2    5          3           2      C(5,2)     10\n",
       "3    5          2           3      C(5,3)     10\n",
       "4    5          1           4      C(5,4)      5\n",
       "5    5          0           5      C(5,5)      1"
      ]
     },
     "execution_count": 64,
     "metadata": {},
     "output_type": "execute_result"
    }
   ],
   "source": [
    "binom_df = pd.DataFrame({'#.n': [5,5,5,5,5,5], \n",
    "                         '#successes': [0,1,2,3,4,5], \"#failures\":[5,4,3,2,1,0], \n",
    "                         'combination':['C(5,0)','C(5,1)','C(5,2)','C(5,3)','C(5,4)','C(5,5)'], \n",
    "                         'total':[1,5,10,10,5,1]})\n",
    "print(\"Valid outcomes with 4 successes and 1 failure\")\n",
    "binom_df"
   ]
  },
  {
   "cell_type": "markdown",
   "metadata": {},
   "source": [
    "## Problem Quality Control\n",
    "A very poor manufacturer is making a product with a 20% defect rate. If we select 5 randomly chosen items at the end of the assembly line, what is the probability of having 1 defective item in our sample?\n",
    "\n",
    "n = 5 and #successes x=1 C(5,1) = 5\n",
    "\n",
    "p = .2\n",
    "\n",
    "p-1 = .8"
   ]
  },
  {
   "cell_type": "code",
   "execution_count": 92,
   "metadata": {},
   "outputs": [
    {
     "data": {
      "text/html": [
       "<div>\n",
       "<style scoped>\n",
       "    .dataframe tbody tr th:only-of-type {\n",
       "        vertical-align: middle;\n",
       "    }\n",
       "\n",
       "    .dataframe tbody tr th {\n",
       "        vertical-align: top;\n",
       "    }\n",
       "\n",
       "    .dataframe thead th {\n",
       "        text-align: right;\n",
       "    }\n",
       "</style>\n",
       "<table border=\"1\" class=\"dataframe\">\n",
       "  <thead>\n",
       "    <tr style=\"text-align: right;\">\n",
       "      <th></th>\n",
       "      <th>.Trial</th>\n",
       "      <th>1</th>\n",
       "      <th>2</th>\n",
       "      <th>3</th>\n",
       "      <th>4</th>\n",
       "      <th>5</th>\n",
       "      <th>calculation</th>\n",
       "      <th>Probability</th>\n",
       "    </tr>\n",
       "  </thead>\n",
       "  <tbody>\n",
       "    <tr>\n",
       "      <th>0</th>\n",
       "      <td>Outcome</td>\n",
       "      <td>0.8</td>\n",
       "      <td>0.2</td>\n",
       "      <td>0.8</td>\n",
       "      <td>0.8</td>\n",
       "      <td>0.8</td>\n",
       "      <td>.8*.8*.8*.8*.2</td>\n",
       "      <td>0.08192</td>\n",
       "    </tr>\n",
       "    <tr>\n",
       "      <th>1</th>\n",
       "      <td>Outcome</td>\n",
       "      <td>0.8</td>\n",
       "      <td>0.8</td>\n",
       "      <td>0.8</td>\n",
       "      <td>0.2</td>\n",
       "      <td>0.8</td>\n",
       "      <td>.8*.8*.8*.8*.2</td>\n",
       "      <td>0.08192</td>\n",
       "    </tr>\n",
       "    <tr>\n",
       "      <th>2</th>\n",
       "      <td>Outcome</td>\n",
       "      <td>0.2</td>\n",
       "      <td>0.8</td>\n",
       "      <td>0.8</td>\n",
       "      <td>0.8</td>\n",
       "      <td>0.8</td>\n",
       "      <td>.8*.8*.8*.8*.2</td>\n",
       "      <td>0.08192</td>\n",
       "    </tr>\n",
       "    <tr>\n",
       "      <th>3</th>\n",
       "      <td>Outcome</td>\n",
       "      <td>0.8</td>\n",
       "      <td>0.8</td>\n",
       "      <td>0.2</td>\n",
       "      <td>0.8</td>\n",
       "      <td>0.8</td>\n",
       "      <td>.8*.8*.8*.8*.2</td>\n",
       "      <td>0.08192</td>\n",
       "    </tr>\n",
       "    <tr>\n",
       "      <th>4</th>\n",
       "      <td>Outcome</td>\n",
       "      <td>0.8</td>\n",
       "      <td>0.8</td>\n",
       "      <td>0.8</td>\n",
       "      <td>0.8</td>\n",
       "      <td>0.2</td>\n",
       "      <td>.8*.8*.8*.8*.2</td>\n",
       "      <td>0.08192</td>\n",
       "    </tr>\n",
       "    <tr>\n",
       "      <th>5</th>\n",
       "      <td>Sum</td>\n",
       "      <td>-</td>\n",
       "      <td>-</td>\n",
       "      <td>-</td>\n",
       "      <td>-</td>\n",
       "      <td>-</td>\n",
       "      <td>-</td>\n",
       "      <td>0.40960</td>\n",
       "    </tr>\n",
       "  </tbody>\n",
       "</table>\n",
       "</div>"
      ],
      "text/plain": [
       "    .Trial    1    2    3    4    5     calculation  Probability\n",
       "0  Outcome  0.8  0.2  0.8  0.8  0.8  .8*.8*.8*.8*.2      0.08192\n",
       "1  Outcome  0.8  0.8  0.8  0.2  0.8  .8*.8*.8*.8*.2      0.08192\n",
       "2  Outcome  0.2  0.8  0.8  0.8  0.8  .8*.8*.8*.8*.2      0.08192\n",
       "3  Outcome  0.8  0.8  0.2  0.8  0.8  .8*.8*.8*.8*.2      0.08192\n",
       "4  Outcome  0.8  0.8  0.8  0.8  0.2  .8*.8*.8*.8*.2      0.08192\n",
       "5      Sum    -    -    -    -    -               -      0.40960"
      ]
     },
     "execution_count": 92,
     "metadata": {},
     "output_type": "execute_result"
    }
   ],
   "source": [
    "qc_df = pd.DataFrame({'.Trial': ['Outcome','Outcome','Outcome','Outcome','Outcome'],\n",
    "                      '1': [.8,.8,.2,.8,.8], \n",
    "                      '2':[.2,.8,.8,.8,.8],\n",
    "                      '3':[.8,.8,.8,.2,.8],\n",
    "                      '4':[.8,.2,.8,.8,.8],\n",
    "                      '5':[.8,.8,.8,.8,.2], \n",
    "                      'calculation':['.8*.8*.8*.8*.2','.8*.8*.8*.8*.2','.8*.8*.8*.8*.2','.8*.8*.8*.8*.2','.8*.8*.8*.8*.2']})\n",
    "qc_df['Probability'] = qc_df.product(axis=1)#[.08192,.08192,.08192,.08192,.08192]\n",
    "qc_df.loc[5] = ['Sum','-','-','-','-','-','-',qc_df['Probability'].sum()]\n",
    "qc_df"
   ]
  },
  {
   "cell_type": "markdown",
   "metadata": {},
   "source": [
    "\\begin{equation}\n",
    "C(n,x)p^x(1-p)^{n-x}\n",
    "\\end{equation}\n",
    "\n",
    "\\begin{equation}\n",
    "C(5,1)*.2^1*(1-.2)^{5-1} = C(5,1)*.2^1*(.8)^{4} = .4096\n",
    "\\end{equation}"
   ]
  },
  {
   "cell_type": "markdown",
   "metadata": {},
   "source": [
    "\\begin{equation}\n",
    "C(n,x)p^x(1-p)^{n-x}\n",
    "\\end{equation}\n",
    "n = number of trials\n",
    "\n",
    "x = number of successes\n",
    "\n",
    "p = probability of success in any trial"
   ]
  },
  {
   "cell_type": "code",
   "execution_count": 101,
   "metadata": {},
   "outputs": [
    {
     "name": "stdout",
     "output_type": "stream",
     "text": [
      "Probabilities of various successes and various failure\n"
     ]
    },
    {
     "data": {
      "text/html": [
       "<div>\n",
       "<style scoped>\n",
       "    .dataframe tbody tr th:only-of-type {\n",
       "        vertical-align: middle;\n",
       "    }\n",
       "\n",
       "    .dataframe tbody tr th {\n",
       "        vertical-align: top;\n",
       "    }\n",
       "\n",
       "    .dataframe thead th {\n",
       "        text-align: right;\n",
       "    }\n",
       "</style>\n",
       "<table border=\"1\" class=\"dataframe\">\n",
       "  <thead>\n",
       "    <tr style=\"text-align: right;\">\n",
       "      <th></th>\n",
       "      <th>#.n</th>\n",
       "      <th>#defectives</th>\n",
       "      <th>#failures</th>\n",
       "      <th>#successes</th>\n",
       "      <th>calculation</th>\n",
       "      <th>Probability</th>\n",
       "    </tr>\n",
       "  </thead>\n",
       "  <tbody>\n",
       "    <tr>\n",
       "      <th>0</th>\n",
       "      <td>5</td>\n",
       "      <td>0</td>\n",
       "      <td>5</td>\n",
       "      <td>0</td>\n",
       "      <td>C(5,0)*.2^0*.8^5</td>\n",
       "      <td>0.32768</td>\n",
       "    </tr>\n",
       "    <tr>\n",
       "      <th>1</th>\n",
       "      <td>5</td>\n",
       "      <td>1</td>\n",
       "      <td>4</td>\n",
       "      <td>1</td>\n",
       "      <td>C(5,1)*.2^1*.8^4</td>\n",
       "      <td>0.40960</td>\n",
       "    </tr>\n",
       "    <tr>\n",
       "      <th>2</th>\n",
       "      <td>5</td>\n",
       "      <td>2</td>\n",
       "      <td>3</td>\n",
       "      <td>2</td>\n",
       "      <td>C(5,2)*.2^2*.8^3</td>\n",
       "      <td>0.20480</td>\n",
       "    </tr>\n",
       "    <tr>\n",
       "      <th>3</th>\n",
       "      <td>5</td>\n",
       "      <td>3</td>\n",
       "      <td>2</td>\n",
       "      <td>3</td>\n",
       "      <td>C(5,3)*.2^3*.8^2</td>\n",
       "      <td>0.05120</td>\n",
       "    </tr>\n",
       "    <tr>\n",
       "      <th>4</th>\n",
       "      <td>5</td>\n",
       "      <td>4</td>\n",
       "      <td>1</td>\n",
       "      <td>4</td>\n",
       "      <td>C(5,4)*.2^4*.8^1</td>\n",
       "      <td>0.00640</td>\n",
       "    </tr>\n",
       "    <tr>\n",
       "      <th>5</th>\n",
       "      <td>5</td>\n",
       "      <td>5</td>\n",
       "      <td>0</td>\n",
       "      <td>5</td>\n",
       "      <td>C(5,5)*.2^5*.8^0</td>\n",
       "      <td>0.00032</td>\n",
       "    </tr>\n",
       "  </tbody>\n",
       "</table>\n",
       "</div>"
      ],
      "text/plain": [
       "   #.n  #defectives  #failures  #successes       calculation  Probability\n",
       "0    5            0          5           0  C(5,0)*.2^0*.8^5      0.32768\n",
       "1    5            1          4           1  C(5,1)*.2^1*.8^4      0.40960\n",
       "2    5            2          3           2  C(5,2)*.2^2*.8^3      0.20480\n",
       "3    5            3          2           3  C(5,3)*.2^3*.8^2      0.05120\n",
       "4    5            4          1           4  C(5,4)*.2^4*.8^1      0.00640\n",
       "5    5            5          0           5  C(5,5)*.2^5*.8^0      0.00032"
      ]
     },
     "execution_count": 101,
     "metadata": {},
     "output_type": "execute_result"
    }
   ],
   "source": [
    "qc_df = pd.DataFrame({'#.n': [5,5,5,5,5,5], \n",
    "                         '#successes': [0,1,2,3,4,5], \"#failures\":[5,4,3,2,1,0], \n",
    "                         'calculation':['C(5,0)*.2^0*.8^5','C(5,1)*.2^1*.8^4','C(5,2)*.2^2*.8^3','C(5,3)*.2^3*.8^2','C(5,4)*.2^4*.8^1','C(5,5)*.2^5*.8^0'], \n",
    "                         '#defectives':[0,1,2,3,4,5]})\n",
    "numbers = []\n",
    "for i in range(0,6):\n",
    "    numbers.append(len(list(itt.combinations(range(0,5),i))))\n",
    "\n",
    "qc_df['Probability'] = numbers*(.2**qc_df['#successes'])*(.8**qc_df['#failures'])\n",
    "print(\"Probabilities of various successes and various failure\")\n",
    "qc_df"
   ]
  },
  {
   "cell_type": "code",
   "execution_count": 102,
   "metadata": {},
   "outputs": [
    {
     "data": {
      "text/plain": [
       "Text(0.5,1,'Quality Control, n=5 and p=.2')"
      ]
     },
     "execution_count": 102,
     "metadata": {},
     "output_type": "execute_result"
    },
    {
     "data": {
      "image/png": "[encoded data removed]",
      "text/plain": [
       "<matplotlib.figure.Figure at 0x7f36c7672860>"
      ]
     },
     "metadata": {},
     "output_type": "display_data"
    }
   ],
   "source": [
    "ax1 = sns.barplot(data=qc_df,x='#defectives',y='Probability')\n",
    "ax1.set_title('Quality Control, n=5 and p=.2')"
   ]
  },
  {
   "cell_type": "markdown",
   "metadata": {},
   "source": [
    "## Problem Sales\n",
    "As a sales manager you analyze the sales records for all salespersons under your guidance.\n",
    "\n",
    "Joan has a success rate of 75% and averages 10 calls per day. Margo has a success rate of 45% but averages 16 calls per day\n",
    "\n",
    "What is the probability that each salesperson makes 6 sales on any given day?"
   ]
  },
  {
   "cell_type": "markdown",
   "metadata": {},
   "source": [
    "Probability of Joan closing 6 sales\n",
    "\\begin{equation}\n",
    "C(n,x)p^x(1-p)^{n-x} = C(10,6)*.75^6*(1-.75)^{10-6} = 0.146\n",
    "\\end{equation}\n",
    "n = number of trials\n",
    "\n",
    "x = number of successes\n",
    "\n",
    "p = probability of success in any trial\n",
    "\n",
    "Probability of Margo closing 6 sales\n",
    "\\begin{equation}\n",
    "C(n,x)p^x(1-p)^{n-x} = C(16,6)*.45^6*(1-.45)^{16-6} = 0.168\n",
    "\\end{equation}"
   ]
  },
  {
   "cell_type": "code",
   "execution_count": 105,
   "metadata": {},
   "outputs": [],
   "source": [
    "joan_df = pd.DataFrame({'#successes': [0,1,2,3,4,5,6,7,8,9,10], \"#failures\":[10,9,8,7,6,5,4,3,2,1,0]})\n",
    "numbers = []\n",
    "for i in range(0,11):\n",
    "    numbers.append(len(list(itt.combinations(range(0,10),i))))\n",
    "\n",
    "joan_df['Probability'] = numbers*(.75**joan_df['#successes'])*(.25**joan_df['#failures'])\n",
    "\n",
    "margo_df = pd.DataFrame({'#successes': [0,1,2,3,4,5,6,7,8,9,10,11,12,13,14,15,16], \"#failures\":[16,15,14,13,12,11,10,9,8,7,6,5,4,3,2,1,0]})\n",
    "numbers = []\n",
    "for i in range(0,17):\n",
    "    numbers.append(len(list(itt.combinations(range(0,16),i))))\n",
    "\n",
    "margo_df['Probability'] = numbers*(.45**margo_df['#successes'])*(.55**margo_df['#failures'])"
   ]
  },
  {
   "cell_type": "code",
   "execution_count": 138,
   "metadata": {},
   "outputs": [
    {
     "name": "stderr",
     "output_type": "stream",
     "text": [
      "/usr/lib/python3.6/site-packages/matplotlib/figure.py:418: UserWarning: matplotlib is currently using a non-GUI backend, so cannot show the figure\n",
      "  \"matplotlib is currently using a non-GUI backend, \"\n"
     ]
    },
    {
     "data": {
      "image/png": "[encoded data removed]",
      "text/plain": [
       "<matplotlib.figure.Figure at 0x7f36c6c25b38>"
      ]
     },
     "metadata": {},
     "output_type": "display_data"
    }
   ],
   "source": [
    "fig, ax =plt.subplots(1,2,figsize=(15,5))\n",
    "ax1 = sns.barplot(data=joan_df,x='#successes',y='Probability',ax=ax[0])\n",
    "ax2 = sns.barplot(data=margo_df,x='#successes',y='Probability',ax=ax[1])\n",
    "ax1.set_title('Juan Binomial Distribution, n=16 and p=.45')\n",
    "ax2.set_title('Margoss Binomial Distribution, n=16 and p=.45')\n",
    "ax1.set_ylim(0,.3)\n",
    "ax2.set_ylim(0,.3)\n",
    "fig.show()"
   ]
  },
  {
   "cell_type": "code",
   "execution_count": 114,
   "metadata": {},
   "outputs": [
    {
     "data": {
      "text/html": [
       "<table style=\"display:inline\" border=\"1\" class=\"dataframe\">\n",
       "  <thead>\n",
       "    <tr style=\"text-align: right;\">\n",
       "      <th></th>\n",
       "      <th>#failures</th>\n",
       "      <th>#successes</th>\n",
       "      <th>Probability</th>\n",
       "    </tr>\n",
       "  </thead>\n",
       "  <tbody>\n",
       "    <tr>\n",
       "      <th>0</th>\n",
       "      <td>10</td>\n",
       "      <td>0</td>\n",
       "      <td>9.536743e-07</td>\n",
       "    </tr>\n",
       "    <tr>\n",
       "      <th>1</th>\n",
       "      <td>9</td>\n",
       "      <td>1</td>\n",
       "      <td>2.861023e-05</td>\n",
       "    </tr>\n",
       "    <tr>\n",
       "      <th>2</th>\n",
       "      <td>8</td>\n",
       "      <td>2</td>\n",
       "      <td>3.862381e-04</td>\n",
       "    </tr>\n",
       "    <tr>\n",
       "      <th>3</th>\n",
       "      <td>7</td>\n",
       "      <td>3</td>\n",
       "      <td>3.089905e-03</td>\n",
       "    </tr>\n",
       "    <tr>\n",
       "      <th>4</th>\n",
       "      <td>6</td>\n",
       "      <td>4</td>\n",
       "      <td>1.622200e-02</td>\n",
       "    </tr>\n",
       "    <tr>\n",
       "      <th>5</th>\n",
       "      <td>5</td>\n",
       "      <td>5</td>\n",
       "      <td>5.839920e-02</td>\n",
       "    </tr>\n",
       "    <tr>\n",
       "      <th>6</th>\n",
       "      <td>4</td>\n",
       "      <td>6</td>\n",
       "      <td>1.459980e-01</td>\n",
       "    </tr>\n",
       "    <tr>\n",
       "      <th>7</th>\n",
       "      <td>3</td>\n",
       "      <td>7</td>\n",
       "      <td>2.502823e-01</td>\n",
       "    </tr>\n",
       "    <tr>\n",
       "      <th>8</th>\n",
       "      <td>2</td>\n",
       "      <td>8</td>\n",
       "      <td>2.815676e-01</td>\n",
       "    </tr>\n",
       "    <tr>\n",
       "      <th>9</th>\n",
       "      <td>1</td>\n",
       "      <td>9</td>\n",
       "      <td>1.877117e-01</td>\n",
       "    </tr>\n",
       "    <tr>\n",
       "      <th>10</th>\n",
       "      <td>0</td>\n",
       "      <td>10</td>\n",
       "      <td>5.631351e-02</td>\n",
       "    </tr>\n",
       "  </tbody>\n",
       "</table style=\"display:inline\"><table style=\"display:inline\" border=\"1\" class=\"dataframe\">\n",
       "  <thead>\n",
       "    <tr style=\"text-align: right;\">\n",
       "      <th></th>\n",
       "      <th>#failures</th>\n",
       "      <th>#successes</th>\n",
       "      <th>Probability</th>\n",
       "    </tr>\n",
       "  </thead>\n",
       "  <tbody>\n",
       "    <tr>\n",
       "      <th>0</th>\n",
       "      <td>16</td>\n",
       "      <td>0</td>\n",
       "      <td>0.000070</td>\n",
       "    </tr>\n",
       "    <tr>\n",
       "      <th>1</th>\n",
       "      <td>15</td>\n",
       "      <td>1</td>\n",
       "      <td>0.000918</td>\n",
       "    </tr>\n",
       "    <tr>\n",
       "      <th>2</th>\n",
       "      <td>14</td>\n",
       "      <td>2</td>\n",
       "      <td>0.005632</td>\n",
       "    </tr>\n",
       "    <tr>\n",
       "      <th>3</th>\n",
       "      <td>13</td>\n",
       "      <td>3</td>\n",
       "      <td>0.021505</td>\n",
       "    </tr>\n",
       "    <tr>\n",
       "      <th>4</th>\n",
       "      <td>12</td>\n",
       "      <td>4</td>\n",
       "      <td>0.057184</td>\n",
       "    </tr>\n",
       "    <tr>\n",
       "      <th>5</th>\n",
       "      <td>11</td>\n",
       "      <td>5</td>\n",
       "      <td>0.112288</td>\n",
       "    </tr>\n",
       "    <tr>\n",
       "      <th>6</th>\n",
       "      <td>10</td>\n",
       "      <td>6</td>\n",
       "      <td>0.168433</td>\n",
       "    </tr>\n",
       "    <tr>\n",
       "      <th>7</th>\n",
       "      <td>9</td>\n",
       "      <td>7</td>\n",
       "      <td>0.196869</td>\n",
       "    </tr>\n",
       "    <tr>\n",
       "      <th>8</th>\n",
       "      <td>8</td>\n",
       "      <td>8</td>\n",
       "      <td>0.181209</td>\n",
       "    </tr>\n",
       "    <tr>\n",
       "      <th>9</th>\n",
       "      <td>7</td>\n",
       "      <td>9</td>\n",
       "      <td>0.131788</td>\n",
       "    </tr>\n",
       "    <tr>\n",
       "      <th>10</th>\n",
       "      <td>6</td>\n",
       "      <td>10</td>\n",
       "      <td>0.075479</td>\n",
       "    </tr>\n",
       "    <tr>\n",
       "      <th>11</th>\n",
       "      <td>5</td>\n",
       "      <td>11</td>\n",
       "      <td>0.033685</td>\n",
       "    </tr>\n",
       "    <tr>\n",
       "      <th>12</th>\n",
       "      <td>4</td>\n",
       "      <td>12</td>\n",
       "      <td>0.011483</td>\n",
       "    </tr>\n",
       "    <tr>\n",
       "      <th>13</th>\n",
       "      <td>3</td>\n",
       "      <td>13</td>\n",
       "      <td>0.002891</td>\n",
       "    </tr>\n",
       "    <tr>\n",
       "      <th>14</th>\n",
       "      <td>2</td>\n",
       "      <td>14</td>\n",
       "      <td>0.000507</td>\n",
       "    </tr>\n",
       "    <tr>\n",
       "      <th>15</th>\n",
       "      <td>1</td>\n",
       "      <td>15</td>\n",
       "      <td>0.000055</td>\n",
       "    </tr>\n",
       "    <tr>\n",
       "      <th>16</th>\n",
       "      <td>0</td>\n",
       "      <td>16</td>\n",
       "      <td>0.000003</td>\n",
       "    </tr>\n",
       "  </tbody>\n",
       "</table style=\"display:inline\">"
      ]
     },
     "metadata": {},
     "output_type": "display_data"
    }
   ],
   "source": [
    "from IPython.display import display_html\n",
    "def display_side_by_side(*args):\n",
    "    html_str=''\n",
    "    for df in args:\n",
    "        html_str+=df.to_html()\n",
    "    display_html(html_str.replace('table','table style=\"display:inline\"'),raw=True)\n",
    "display_side_by_side(joan_df,margo_df)"
   ]
  },
  {
   "cell_type": "markdown",
   "metadata": {},
   "source": [
    "# Binomial Mean and Standard Deviation"
   ]
  },
  {
   "cell_type": "markdown",
   "metadata": {},
   "source": [
    "Problem Sales\n",
    "As a sales manager you analyze the sales records for all salespersons under your guidance.\n",
    "\n",
    "Joan has a success rate of 75% and averages 10 calls per day. Margo has a success rate of 45% but averages 16 calls per day\n",
    "\n",
    "What is the probability that each salesperson makes 6 sales on any given day?\n",
    "\n"
   ]
  },
  {
   "cell_type": "code",
   "execution_count": 124,
   "metadata": {},
   "outputs": [
    {
     "name": "stderr",
     "output_type": "stream",
     "text": [
      "/usr/lib/python3.6/site-packages/matplotlib/figure.py:418: UserWarning: matplotlib is currently using a non-GUI backend, so cannot show the figure\n",
      "  \"matplotlib is currently using a non-GUI backend, \"\n"
     ]
    },
    {
     "data": {
      "image/png": "[encoded data removed]",
      "text/plain": [
       "<matplotlib.figure.Figure at 0x7f36c7123cc0>"
      ]
     },
     "metadata": {},
     "output_type": "display_data"
    }
   ],
   "source": [
    "fig, ax =plt.subplots(1,2,figsize=(15,5))\n",
    "ax1 = sns.barplot(data=joan_df,x='#successes',y='Probability',ax=ax[0])\n",
    "ax2 = sns.barplot(data=margo_df,x='#successes',y='Probability',ax=ax[1])\n",
    "ax1.set_title('Juan Binomial Distribution, n=16 and p=.45')\n",
    "ax2.set_title('Margoss Binomial Distribution, n=16 and p=.45')\n",
    "ax1.set_ylim(0,.3)\n",
    "ax2.set_ylim(0,.3)\n",
    "fig.show()\n"
   ]
  },
  {
   "cell_type": "markdown",
   "metadata": {},
   "source": [
    "What is the mean and standard deviation of # daily sales for each employee?\n",
    "\n",
    "n = number of calls\n",
    "\n",
    "p = probability of success in any call\n",
    "\n",
    "q = (1-p) probability of failure"
   ]
  },
  {
   "cell_type": "markdown",
   "metadata": {},
   "source": [
    "## Binomial Mean (EXPECTED) Value\n",
    "\\begin{equation}\n",
    "\\mu = n * p\n",
    "\\end{equation}"
   ]
  },
  {
   "cell_type": "code",
   "execution_count": 126,
   "metadata": {},
   "outputs": [
    {
     "data": {
      "text/html": [
       "<div>\n",
       "<style scoped>\n",
       "    .dataframe tbody tr th:only-of-type {\n",
       "        vertical-align: middle;\n",
       "    }\n",
       "\n",
       "    .dataframe tbody tr th {\n",
       "        vertical-align: top;\n",
       "    }\n",
       "\n",
       "    .dataframe thead th {\n",
       "        text-align: right;\n",
       "    }\n",
       "</style>\n",
       "<table border=\"1\" class=\"dataframe\">\n",
       "  <thead>\n",
       "    <tr style=\"text-align: right;\">\n",
       "      <th></th>\n",
       "      <th>n</th>\n",
       "      <th>p</th>\n",
       "      <th>q</th>\n",
       "    </tr>\n",
       "  </thead>\n",
       "  <tbody>\n",
       "    <tr>\n",
       "      <th>Joan</th>\n",
       "      <td>10</td>\n",
       "      <td>0.75</td>\n",
       "      <td>0.25</td>\n",
       "    </tr>\n",
       "    <tr>\n",
       "      <th>Margo</th>\n",
       "      <td>16</td>\n",
       "      <td>0.45</td>\n",
       "      <td>0.55</td>\n",
       "    </tr>\n",
       "  </tbody>\n",
       "</table>\n",
       "</div>"
      ],
      "text/plain": [
       "        n     p     q\n",
       "Joan   10  0.75  0.25\n",
       "Margo  16  0.45  0.55"
      ]
     },
     "execution_count": 126,
     "metadata": {},
     "output_type": "execute_result"
    }
   ],
   "source": [
    "tog_df = pd.DataFrame({'n': [10,16],'p':[.75,.45],'q':[.25,.55]}, index = ['Joan','Margo'])\n",
    "tog_df"
   ]
  },
  {
   "cell_type": "markdown",
   "metadata": {},
   "source": [
    "Joan's mean # daily sales\n",
    "\n",
    "$\\mu = 10*.75 = 7.5$\n",
    "\n",
    "Margo's mean # daily sales\n",
    "\n",
    "$\\mu = 16*.45 = 7.2$\n",
    "\n",
    "We expect 7.5 sales and 7.2 sales per day"
   ]
  },
  {
   "cell_type": "markdown",
   "metadata": {},
   "source": [
    "## Binomial Mean Standard Deviation\n",
    "\\begin{equation}\n",
    "\\sigma = \\sqrt{n*p*q}\n",
    "\\end{equation}"
   ]
  },
  {
   "cell_type": "code",
   "execution_count": 128,
   "metadata": {},
   "outputs": [
    {
     "data": {
      "text/html": [
       "<div>\n",
       "<style scoped>\n",
       "    .dataframe tbody tr th:only-of-type {\n",
       "        vertical-align: middle;\n",
       "    }\n",
       "\n",
       "    .dataframe tbody tr th {\n",
       "        vertical-align: top;\n",
       "    }\n",
       "\n",
       "    .dataframe thead th {\n",
       "        text-align: right;\n",
       "    }\n",
       "</style>\n",
       "<table border=\"1\" class=\"dataframe\">\n",
       "  <thead>\n",
       "    <tr style=\"text-align: right;\">\n",
       "      <th></th>\n",
       "      <th>n</th>\n",
       "      <th>p</th>\n",
       "      <th>q</th>\n",
       "    </tr>\n",
       "  </thead>\n",
       "  <tbody>\n",
       "    <tr>\n",
       "      <th>Joan</th>\n",
       "      <td>10</td>\n",
       "      <td>0.75</td>\n",
       "      <td>0.25</td>\n",
       "    </tr>\n",
       "    <tr>\n",
       "      <th>Margo</th>\n",
       "      <td>16</td>\n",
       "      <td>0.45</td>\n",
       "      <td>0.55</td>\n",
       "    </tr>\n",
       "  </tbody>\n",
       "</table>\n",
       "</div>"
      ],
      "text/plain": [
       "        n     p     q\n",
       "Joan   10  0.75  0.25\n",
       "Margo  16  0.45  0.55"
      ]
     },
     "execution_count": 128,
     "metadata": {},
     "output_type": "execute_result"
    }
   ],
   "source": [
    "tog_df"
   ]
  },
  {
   "cell_type": "markdown",
   "metadata": {},
   "source": [
    "Joan's daily sales standard deviation\n",
    "\n",
    "$\\sigma = \\sqrt{10*.75*.25} = 1.37$ \n",
    "\n",
    "Margo's daily sales standard deviation\n",
    "\n",
    "$\\sigma = \\sqrt{16*.45*.55} = 1.99$ "
   ]
  },
  {
   "cell_type": "markdown",
   "metadata": {},
   "source": [
    "What is the mean and standard deviation of # daily sales for each employee?"
   ]
  },
  {
   "cell_type": "code",
   "execution_count": 140,
   "metadata": {},
   "outputs": [
    {
     "name": "stderr",
     "output_type": "stream",
     "text": [
      "/usr/lib/python3.6/site-packages/matplotlib/figure.py:418: UserWarning: matplotlib is currently using a non-GUI backend, so cannot show the figure\n",
      "  \"matplotlib is currently using a non-GUI backend, \"\n"
     ]
    },
    {
     "data": {
      "image/png": "[encoded data removed]",
      "text/plain": [
       "<matplotlib.figure.Figure at 0x7f36c66cef60>"
      ]
     },
     "metadata": {},
     "output_type": "display_data"
    }
   ],
   "source": [
    "fig, ax =plt.subplots(1,2,figsize=(15,5))\n",
    "ax1 = sns.barplot(data=joan_df,x='#successes',y='Probability',ax=ax[0])\n",
    "ax2 = sns.barplot(data=margo_df,x='#successes',y='Probability',ax=ax[1])\n",
    "ax1.set_title('Juan Binomial Distribution, n=16 and p=.45')\n",
    "ax2.set_title('Margoss Binomial Distribution, n=16 and p=.45')\n",
    "ax1.set_ylim(0,.3)\n",
    "ax2.set_ylim(0,.3)\n",
    "ax1.axvline(7.5-1.37, color='k', linestyle='--')\n",
    "ax1.axvline(7.5+.37, color='k', linestyle='--')\n",
    "ax2.axvline(7.2-.99, color='k', linestyle='--')\n",
    "ax2.axvline(7.2+.99, color='k', linestyle='--')\n",
    "fig.show()"
   ]
  },
  {
   "cell_type": "code",
   "execution_count": 131,
   "metadata": {},
   "outputs": [
    {
     "data": {
      "text/html": [
       "<div>\n",
       "<style scoped>\n",
       "    .dataframe tbody tr th:only-of-type {\n",
       "        vertical-align: middle;\n",
       "    }\n",
       "\n",
       "    .dataframe tbody tr th {\n",
       "        vertical-align: top;\n",
       "    }\n",
       "\n",
       "    .dataframe thead th {\n",
       "        text-align: right;\n",
       "    }\n",
       "</style>\n",
       "<table border=\"1\" class=\"dataframe\">\n",
       "  <thead>\n",
       "    <tr style=\"text-align: right;\">\n",
       "      <th></th>\n",
       "      <th>sigma</th>\n",
       "      <th>u</th>\n",
       "    </tr>\n",
       "  </thead>\n",
       "  <tbody>\n",
       "    <tr>\n",
       "      <th>Joan</th>\n",
       "      <td>1.37</td>\n",
       "      <td>7.5</td>\n",
       "    </tr>\n",
       "    <tr>\n",
       "      <th>Margo</th>\n",
       "      <td>1.99</td>\n",
       "      <td>7.2</td>\n",
       "    </tr>\n",
       "  </tbody>\n",
       "</table>\n",
       "</div>"
      ],
      "text/plain": [
       "       sigma    u\n",
       "Joan    1.37  7.5\n",
       "Margo   1.99  7.2"
      ]
     },
     "execution_count": 131,
     "metadata": {},
     "output_type": "execute_result"
    }
   ],
   "source": [
    "tog_df = pd.DataFrame({'u': [7.5,7.2],'sigma':[1.37,1.99]}, index = ['Joan','Margo'])\n",
    "tog_df"
   ]
  },
  {
   "cell_type": "markdown",
   "metadata": {},
   "source": [
    "#Example Evolution\n",
    "In a May 2012 Gallup poll, 46% of Americans said the following statement most closely matched their views:\n",
    "\n",
    "\"God created human beings pretty much in their present form at one time within the past 10,000 years or so.\"\n",
    "\n",
    "If you wanted to replicate this poll in 2013 with a sample of 78 similar people, what is the expected number of respondents that would agree with this statement?\n",
    "\n",
    "$\\mu = n*p = 78*.46 = 35.88$\n",
    "36 people should agree with that statement\n",
    "\n",
    "$\\sigma = \\sqrt{n*p} = \\sqrt{78*.46*.54} = 4.4$"
   ]
  },
  {
   "cell_type": "markdown",
   "metadata": {},
   "source": [
    "# Simple Binomial Sales Quota Analysis"
   ]
  },
  {
   "cell_type": "markdown",
   "metadata": {},
   "source": [
    "As a sales manager you analyze the sales records for all salespersons under your guidance.\n",
    "\n",
    "Joan has a success rate of 75% and averages 10 calls per day. Margo has a success rate of 45% but averages 16 calls per day\n",
    "\n",
    "What is the probability that each salesperson makes AT LEAST 6 sales on any given day?"
   ]
  },
  {
   "cell_type": "code",
   "execution_count": 149,
   "metadata": {},
   "outputs": [
    {
     "name": "stdout",
     "output_type": "stream",
     "text": [
      "Cumalative Probability\n"
     ]
    },
    {
     "name": "stderr",
     "output_type": "stream",
     "text": [
      "/usr/lib/python3.6/site-packages/matplotlib/figure.py:418: UserWarning: matplotlib is currently using a non-GUI backend, so cannot show the figure\n",
      "  \"matplotlib is currently using a non-GUI backend, \"\n"
     ]
    },
    {
     "data": {
      "image/png": "[encoded data removed]",
      "text/plain": [
       "<matplotlib.figure.Figure at 0x7f36c71dc390>"
      ]
     },
     "metadata": {},
     "output_type": "display_data"
    }
   ],
   "source": [
    "print(\"Cumalative Probability\")\n",
    "fig, ax =plt.subplots(1,2,figsize=(15,5))\n",
    "ax1 = sns.barplot(data=joan_df.iloc[:6,:],x='#successes',y='Probability',ax=ax[0])\n",
    "ax2 = sns.barplot(data=joan_df.iloc[6:,:],x='#successes',y='Probability',ax=ax[1])\n",
    "ax1.set_title('Juan Binomial Distribution, x < 6')\n",
    "ax2.set_title('Juan Binomial Distribution, 1 - (x < 6)')\n",
    "ax1.set_ylim(0,.3)\n",
    "ax2.set_ylim(0,.3)\n",
    "fig.show()"
   ]
  },
  {
   "cell_type": "code",
   "execution_count": 157,
   "metadata": {},
   "outputs": [
    {
     "name": "stdout",
     "output_type": "stream",
     "text": [
      "The cumulative probability starting at x = 0 up to x = 5 is 0.07812690734863285\n",
      "The cumulative probability starting at x = 6 up to x = 10 is 0.9218730926513672\n"
     ]
    }
   ],
   "source": [
    "x = 5 #probability upper limit\n",
    "p = .75 #probability of success\n",
    "n = 10 #trialsx = 5 #probability upper limit\n",
    "p = .75 #probability of success\n",
    "n = 10 #trials\n",
    "print(\"The cumulative probability starting at x = 0 up to x = 5 is \" + str(ss.binom.cdf(x, n, p)))\n",
    "print(\"The cumulative probability starting at x = 6 up to x = 10 is \" + str(1 - ss.binom.cdf(x, n, p)))\n",
    "print(\"The cumulative probability starting at x = 0 up to x = 5 is \" + str(ss.binom.cdf(x, n, p)))\n",
    "print(\"The cumulative probability starting at x = 6 up to x = 10 is \" + str(1 - ss.binom.cdf(x, n, p)))"
   ]
  },
  {
   "cell_type": "code",
   "execution_count": 158,
   "metadata": {},
   "outputs": [
    {
     "name": "stdout",
     "output_type": "stream",
     "text": [
      "Cumalative Probability\n"
     ]
    },
    {
     "name": "stderr",
     "output_type": "stream",
     "text": [
      "/usr/lib/python3.6/site-packages/matplotlib/figure.py:418: UserWarning: matplotlib is currently using a non-GUI backend, so cannot show the figure\n",
      "  \"matplotlib is currently using a non-GUI backend, \"\n"
     ]
    },
    {
     "data": {
      "image/png": "[encoded data removed]",
      "text/plain": [
       "<matplotlib.figure.Figure at 0x7f36c680bb00>"
      ]
     },
     "metadata": {},
     "output_type": "display_data"
    }
   ],
   "source": [
    "print(\"Cumalative Probability\")\n",
    "fig, ax =plt.subplots(1,2,figsize=(15,5))\n",
    "ax1 = sns.barplot(data=margo_df.iloc[:6,:],x='#successes',y='Probability',ax=ax[0])\n",
    "ax2 = sns.barplot(data=margo_df.iloc[6:,:],x='#successes',y='Probability',ax=ax[1])\n",
    "ax1.set_title('Margo Binomial Distribution, x < 6')\n",
    "ax2.set_title('Margo Binomial Distribution, 1 - (x < 6)')\n",
    "ax1.set_ylim(0,.3)\n",
    "ax2.set_ylim(0,.3)\n",
    "fig.show()"
   ]
  },
  {
   "cell_type": "code",
   "execution_count": 159,
   "metadata": {},
   "outputs": [
    {
     "name": "stdout",
     "output_type": "stream",
     "text": [
      "The cumulative probability starting at x = 0 up to x = 5 is 0.19759756004837986\n",
      "The cumulative probability starting at x = 6 up to x = 10 is 0.8024024399516201\n"
     ]
    }
   ],
   "source": [
    "x = 5 #probability upper limit\n",
    "p = .45 #probability of success\n",
    "n = 16 #trials\n",
    "print(\"The cumulative probability starting at x = 0 up to x = 5 is \" + str(ss.binom.cdf(x, n, p)))\n",
    "print(\"The cumulative probability starting at x = 6 up to x = 10 is \" + str(1 - ss.binom.cdf(x, n, p)))"
   ]
  },
  {
   "cell_type": "markdown",
   "metadata": {},
   "source": [
    "What is the probability that each salesperson makes AT LEAST 6 sales on any given day?\n",
    "\n",
    "We must sum the probabilities for all values >= 6\n",
    "\n",
    "Prob(x>=6) = .922\n",
    "Prob(x>=6) = .80242\n",
    "\n",
    "Even though Joan has a lower call rate in terms of making fewer calls, her greater probability of making a sale overcomes the lower call volume.\n",
    "Therefore the greater probability of making 6 or more sales per day belongs to Joan\n",
    "\n",
    "The probability of any given outcome is a combination of both the number of trials and the success rate."
   ]
  },
  {
   "cell_type": "markdown",
   "metadata": {},
   "source": [
    "# Poisson Distribution\n",
    "Poisson Distribution - focuses on the number of discrete events or occurences over a specified interval or continuum (time, length, distance, etc.)\n",
    "\n",
    "\\begin{equation}\n",
    "\\lambda = \\frac{no. occurences}{specified interval}\n",
    "\\end{equation}\n",
    "\n",
    "E(X) = expected value = $\\mu$ = $\\lambda$"
   ]
  },
  {
   "cell_type": "markdown",
   "metadata": {},
   "source": [
    "## Poisson Characteristics\n",
    "1. Discrete outcomes (x=0,1,2,3,..)\n",
    "2. The number of occurences in each interval can range from zero to infinity; $0<x< \\infty $\n",
    "3. Describes the distribution of infrequent events\n",
    "4. Each event is independent of the other events\n",
    "5. Describes discrete events over an interval (time, distance, etc)\n",
    "6. Expected number of occurences E(X) are assumed to be constant throughout the experiment"
   ]
  },
  {
   "cell_type": "markdown",
   "metadata": {},
   "source": [
    "## Poisson Formula\n",
    "\n",
    "\\begin{equation}\n",
    "P(x) =  \\frac{\\lambda^xe^{-\\lambda}}{x!}\n",
    "\\end{equation}\n",
    "\n",
    "x = 0,1,2,3 ... $\\infty$; # occurences\n",
    "\n",
    "$\\lambda$ or $\\mu$ = long run average = $\\frac{no. occurences}{interval}\n",
    "\n",
    "e = 2.1718282 (base of natural logs)"
   ]
  },
  {
   "cell_type": "markdown",
   "metadata": {},
   "source": [
    "## Problem - Checkout Line\n",
    "Let's say you are a cashier at Wal-Mart. It is 4:30pm and your shift ends at 5:00. The store policy is to close your checkout line 15 minutes before your shift ends so you can finish checking-out the customers already in your line and leave on-time.\n",
    "\n",
    "By examining overhead cameras, store data indicates that between 4:30pm and 4:45pm each weekday, an average of 10 customers enter any given checkout line.\n",
    "    \n",
    "What is the probability that exactly 7 customers enter your line between 4:30 and 4:45? What is the probability that more than 10 people arrive?"
   ]
  },
  {
   "cell_type": "markdown",
   "metadata": {},
   "source": [
    "Between 4:30:00pm and 4:49:59pm\n",
    "                \n",
    "Which outcome (# customers) is your expected value/mean?  10 people according to the question"
   ]
  },
  {
   "cell_type": "markdown",
   "metadata": {},
   "source": [
    "$\\lambda = \\frac{10 customers}{per 15 minutes} = 10$"
   ]
  },
  {
   "cell_type": "markdown",
   "metadata": {},
   "source": [
    "### Probability of exactly 7 customers\n",
    "What is the probability that exactly 7 customers enter your line between 4:30 and 4:45?\n",
    "\n",
    "x = 7\n",
    "$\\lambda$ = 10\n",
    "e = 2.1718282\n",
    "\n",
    "\\begin{equation}\n",
    "P(x) =  \\frac{\\lambda^xe^{-\\lambda}}{x!}\n",
    "\\end{equation}\n",
    "\n",
    "\\begin{equation}\n",
    "P(7) =  \\frac{10^7e^{-10}}{7!} = .09\n",
    "\\end{equation}\n"
   ]
  },
  {
   "cell_type": "code",
   "execution_count": 2,
   "metadata": {},
   "outputs": [
    {
     "data": {
      "text/plain": [
       "Text(0.5,1,'POISSON CUSTOMER ARRIVALS, lambda=10')"
      ]
     },
     "execution_count": 2,
     "metadata": {},
     "output_type": "execute_result"
    },
    {
     "data": {
      "image/png": "[encoded data removed]",
      "text/plain": [
       "<Figure size 432x288 with 1 Axes>"
      ]
     },
     "metadata": {},
     "output_type": "display_data"
    }
   ],
   "source": [
    "mu = 10\n",
    "def poisson(col):\n",
    "    p = ((mu**col)*(math.exp(-mu))/(math.factorial(col)))\n",
    "    return p\n",
    "         \n",
    "cust_df = pd.DataFrame({'#customers': range(0,26)})\n",
    "cust_df['Poisson'] = cust_df['#customers'].apply(poisson)\n",
    "ax1 = sns.barplot(data = cust_df, x = '#customers',y = 'Poisson')\n",
    "ax1.set_title('POISSON CUSTOMER ARRIVALS, lambda=10')"
   ]
  },
  {
   "cell_type": "markdown",
   "metadata": {},
   "source": [
    "What is the probability that more than 10 people arrive?\n",
    "\n",
    "x = 10\n",
    "\n",
    "$\\lambda$ = 10\n",
    "\n",
    "e = 2.1718282\n",
    "\n",
    "\\begin{equation}\n",
    "P(x) =  \\frac{\\lambda^xe^{-\\lambda}}{x!}\n",
    "\\end{equation}\n",
    "\n",
    "\\begin{equation}\n",
    "P(10) = 1 - \\frac{10^{10}e^{-10}}{10!} = 1 - .583 = .417\n",
    "\\end{equation}\n"
   ]
  },
  {
   "cell_type": "code",
   "execution_count": 10,
   "metadata": {},
   "outputs": [
    {
     "name": "stdout",
     "output_type": "stream",
     "text": [
      "the probability that more than 10 people arrive = 0.41696024980701485\n"
     ]
    }
   ],
   "source": [
    "x = 10\n",
    "mu = 10\n",
    "prob = 1 - ss.poisson.cdf(x, mu)\n",
    "print('the probability that more than 10 people arrive = ' + str(prob))"
   ]
  },
  {
   "cell_type": "markdown",
   "metadata": {},
   "source": [
    "How many customer's do you expect to arrive between 4:30 and 4:40?\n",
    "\n",
    "\\begin{equation}\n",
    "\\frac{10 customers}{15 minutes} = \\frac{?}{15 minutes}\n",
    "\\end{equation}\n",
    "\n",
    "\\begin{equation}\n",
    "\\frac{10 customers}{15 minutes} = \\frac{6.67 customers}{15 minutes}\n",
    "\\end{equation}"
   ]
  },
  {
   "cell_type": "code",
   "execution_count": 3,
   "metadata": {},
   "outputs": [
    {
     "data": {
      "text/plain": [
       "Text(0.5,1,'POISSON CUSTOMER ARRIVALS, lambda=6.67')"
      ]
     },
     "execution_count": 3,
     "metadata": {},
     "output_type": "execute_result"
    },
    {
     "data": {
      "image/png": "[encoded data removed]",
      "text/plain": [
       "<Figure size 432x288 with 1 Axes>"
      ]
     },
     "metadata": {},
     "output_type": "display_data"
    }
   ],
   "source": [
    "mu = 6.67\n",
    "ax1 = sns.barplot(data = cust_df, x = '#customers',y = cust_df['#customers'].apply(poisson))\n",
    "ax1.set_title('POISSON CUSTOMER ARRIVALS, lambda=6.67')"
   ]
  },
  {
   "cell_type": "markdown",
   "metadata": {},
   "source": [
    "# Poisson Practice Problems\n",
    "A bank is interested in studying the number of people who use the ATM located outside its office late at night.\n",
    "\n",
    "On average, 1.6 customers walk up to the ATM suring any 10 minute between 9pm and Midnight.\n",
    "\n",
    "Questions:\n",
    "    \n",
    "What is lambda for this problem?\n",
    "\n",
    "What is the probability of exactly 3 customers using the ATM during any 10 minute interval?\n",
    "\n",
    "What is the probability of 3 or fewer people"
   ]
  },
  {
   "cell_type": "markdown",
   "metadata": {},
   "source": [
    "Answers:\n",
    "\n",
    "What is lambda for this problem? E(x) = 1.6 customers"
   ]
  },
  {
   "cell_type": "code",
   "execution_count": 5,
   "metadata": {},
   "outputs": [
    {
     "data": {
      "text/plain": [
       "Text(0.5,1,'POISSON CUSTOMER ATM ARRIVALS, lambda=6.67')"
      ]
     },
     "execution_count": 5,
     "metadata": {},
     "output_type": "execute_result"
    },
    {
     "data": {
      "image/png": "[encoded data removed]",
      "text/plain": [
       "<Figure size 432x288 with 1 Axes>"
      ]
     },
     "metadata": {},
     "output_type": "display_data"
    }
   ],
   "source": [
    "mu = 1.6\n",
    "custAtm_df = pd.DataFrame({'#customers': range(0,15)})\n",
    "ax1 = sns.barplot(data = custAtm_df, x = '#customers',y = cust_df['#customers'].apply(poisson))\n",
    "ax1.set_title('POISSON CUSTOMER ATM ARRIVALS, lambda=6.67')"
   ]
  },
  {
   "cell_type": "markdown",
   "metadata": {},
   "source": [
    "What is the probability of exactly 3 customers using the ATM during any 10 minute interval?"
   ]
  },
  {
   "cell_type": "markdown",
   "metadata": {},
   "source": [
    "x = 3\n",
    "$\\lambda$ = 1.6\n",
    "e = 2.1718282\n",
    "\n",
    "\\begin{equation}\n",
    "P(x) =  \\frac{\\lambda^xe^{-\\lambda}}{x!}\n",
    "\\end{equation}\n",
    "\n",
    "\\begin{equation}\n",
    "P(7) =  \\frac{1.6^3e^{-10}}{3!} = .138\n",
    "\\end{equation}\n"
   ]
  },
  {
   "cell_type": "code",
   "execution_count": 17,
   "metadata": {},
   "outputs": [
    {
     "data": {
      "text/plain": [
       "0.13782802295101812"
      ]
     },
     "execution_count": 17,
     "metadata": {},
     "output_type": "execute_result"
    }
   ],
   "source": [
    "mu = 1.6\n",
    "x = 3\n",
    "p = ((mu**x)*(math.exp(-mu))/(math.factorial(x)))\n",
    "p"
   ]
  },
  {
   "cell_type": "code",
   "execution_count": 18,
   "metadata": {},
   "outputs": [
    {
     "data": {
      "text/plain": [
       "0.13782802295101812"
      ]
     },
     "execution_count": 18,
     "metadata": {},
     "output_type": "execute_result"
    }
   ],
   "source": [
    "prob = ss.poisson.pmf(x, mu)\n",
    "prob"
   ]
  },
  {
   "cell_type": "markdown",
   "metadata": {},
   "source": [
    "What is the probability of 3 or fewer people?"
   ]
  },
  {
   "cell_type": "code",
   "execution_count": 19,
   "metadata": {},
   "outputs": [
    {
     "data": {
      "text/plain": [
       "0.9211865127702811"
      ]
     },
     "execution_count": 19,
     "metadata": {},
     "output_type": "execute_result"
    }
   ],
   "source": [
    "prob = ss.poisson.cdf(x, mu)\n",
    "prob"
   ]
  },
  {
   "cell_type": "code",
   "execution_count": 21,
   "metadata": {},
   "outputs": [
    {
     "data": {
      "text/plain": [
       "0.9211865127702811"
      ]
     },
     "execution_count": 21,
     "metadata": {},
     "output_type": "execute_result"
    }
   ],
   "source": [
    "p = ((mu**0)*(math.exp(-mu))/(math.factorial(0))) + ((mu**1)*(math.exp(-mu))/(math.factorial(1))) + ((mu**2)*(math.exp(-mu))/(math.factorial(2))) + ((mu**3)*(math.exp(-mu))/(math.factorial(3)))\n",
    "p"
   ]
  },
  {
   "cell_type": "code",
   "execution_count": null,
   "metadata": {},
   "outputs": [],
   "source": []
  }
 ],
 "metadata": {
  "kernelspec": {
   "display_name": "Python 3",
   "language": "python",
   "name": "python3"
  },
  "language_info": {
   "codemirror_mode": {
    "name": "ipython",
    "version": 3
   },
   "file_extension": ".py",
   "mimetype": "text/x-python",
   "name": "python",
   "nbconvert_exporter": "python",
   "pygments_lexer": "ipython3",
   "version": "3.6.4"
  }
 },
 "nbformat": 4,
 "nbformat_minor": 2
}
