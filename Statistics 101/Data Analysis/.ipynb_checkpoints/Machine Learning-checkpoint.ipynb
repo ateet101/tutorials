{
 "cells": [
  {
   "cell_type": "code",
   "execution_count": 2,
   "metadata": {},
   "outputs": [],
   "source": [
    "import pandas as pd\n",
    "import quandl, math\n",
    "import sklearn as skl\n",
    "import sklearn.linear_model as lreg\n",
    "import pandas_datareader as wb\n",
    "import datetime\n",
    "import numpy as np"
   ]
  },
  {
   "cell_type": "code",
   "execution_count": 6,
   "metadata": {},
   "outputs": [],
   "source": [
    "start = datetime.datetime(2000, 1, 1)\n",
    "end = datetime.datetime(2017, 1, 1)\n",
    "df = wb.DataReader('GOOGL', 'morningstar', start, end)"
   ]
  },
  {
   "cell_type": "code",
   "execution_count": 7,
   "metadata": {},
   "outputs": [
    {
     "data": {
      "text/plain": [
       "Index(['Close', 'High', 'Low', 'Open', 'Volume'], dtype='object')"
      ]
     },
     "execution_count": 7,
     "metadata": {},
     "output_type": "execute_result"
    }
   ],
   "source": [
    "df.columns"
   ]
  },
  {
   "cell_type": "markdown",
   "metadata": {},
   "source": [
    "#### Features or Independent Variable\n",
    "Features are the attributes that make up the label\n",
    "\n",
    "Label is a predictor of the future\n",
    "\n",
    "Ex. Close, High, Low, Open, Volume of a stock"
   ]
  },
  {
   "cell_type": "code",
   "execution_count": 8,
   "metadata": {},
   "outputs": [
    {
     "data": {
      "text/html": [
       "<div>\n",
       "<style scoped>\n",
       "    .dataframe tbody tr th:only-of-type {\n",
       "        vertical-align: middle;\n",
       "    }\n",
       "\n",
       "    .dataframe tbody tr th {\n",
       "        vertical-align: top;\n",
       "    }\n",
       "\n",
       "    .dataframe thead th {\n",
       "        text-align: right;\n",
       "    }\n",
       "</style>\n",
       "<table border=\"1\" class=\"dataframe\">\n",
       "  <thead>\n",
       "    <tr style=\"text-align: right;\">\n",
       "      <th></th>\n",
       "      <th></th>\n",
       "      <th>Close</th>\n",
       "      <th>HL_PCT</th>\n",
       "      <th>PCT_change</th>\n",
       "      <th>Volume</th>\n",
       "    </tr>\n",
       "    <tr>\n",
       "      <th>Symbol</th>\n",
       "      <th>Date</th>\n",
       "      <th></th>\n",
       "      <th></th>\n",
       "      <th></th>\n",
       "      <th></th>\n",
       "    </tr>\n",
       "  </thead>\n",
       "  <tbody>\n",
       "    <tr>\n",
       "      <th rowspan=\"5\" valign=\"top\">GOOGL</th>\n",
       "      <th>2004-08-19</th>\n",
       "      <td>50.2161</td>\n",
       "      <td>8.440965</td>\n",
       "      <td>0.324852</td>\n",
       "      <td>44662908</td>\n",
       "    </tr>\n",
       "    <tr>\n",
       "      <th>2004-08-20</th>\n",
       "      <td>54.2075</td>\n",
       "      <td>8.537199</td>\n",
       "      <td>6.730368</td>\n",
       "      <td>22778271</td>\n",
       "    </tr>\n",
       "    <tr>\n",
       "      <th>2004-08-23</th>\n",
       "      <td>54.7530</td>\n",
       "      <td>4.062458</td>\n",
       "      <td>-1.227953</td>\n",
       "      <td>18234539</td>\n",
       "    </tr>\n",
       "    <tr>\n",
       "      <th>2004-08-24</th>\n",
       "      <td>52.4858</td>\n",
       "      <td>7.753226</td>\n",
       "      <td>-5.726382</td>\n",
       "      <td>15241412</td>\n",
       "    </tr>\n",
       "    <tr>\n",
       "      <th>2004-08-25</th>\n",
       "      <td>53.0514</td>\n",
       "      <td>3.966124</td>\n",
       "      <td>0.991038</td>\n",
       "      <td>9130694</td>\n",
       "    </tr>\n",
       "  </tbody>\n",
       "</table>\n",
       "</div>"
      ],
      "text/plain": [
       "                     Close    HL_PCT  PCT_change    Volume\n",
       "Symbol Date                                               \n",
       "GOOGL  2004-08-19  50.2161  8.440965    0.324852  44662908\n",
       "       2004-08-20  54.2075  8.537199    6.730368  22778271\n",
       "       2004-08-23  54.7530  4.062458   -1.227953  18234539\n",
       "       2004-08-24  52.4858  7.753226   -5.726382  15241412\n",
       "       2004-08-25  53.0514  3.966124    0.991038   9130694"
      ]
     },
     "execution_count": 8,
     "metadata": {},
     "output_type": "execute_result"
    }
   ],
   "source": [
    "df['HL_PCT'] = (df['High'] - df['Low']) / df['Low'] * 100\n",
    "df['PCT_change'] = (df['Close'] - df['Open']) / df['Open'] * 100\n",
    "\n",
    "df = df[['Close','HL_PCT','PCT_change','Volume']]\n",
    "df.head()"
   ]
  },
  {
   "cell_type": "markdown",
   "metadata": {},
   "source": [
    "# Features and Labels\n",
    "Close could be a label if there was no HL_PCT column and we were trying to predict what the close might be that day\n",
    "\n",
    "#### What would be a label (dependent variable)\n",
    "Close in the next five days\n",
    "\n",
    "Generally we use Linear Regression to forescast out the future\n",
    "\n",
    "#### Fill -9999 with NaN because we don't want to remove vital stock data from a column"
   ]
  },
  {
   "cell_type": "code",
   "execution_count": 9,
   "metadata": {},
   "outputs": [],
   "source": [
    "forecast_col = 'Close'\n",
    "df.fillna(-9999, inplace=True)"
   ]
  },
  {
   "cell_type": "markdown",
   "metadata": {},
   "source": [
    "1. Forecast the number of days out; Predict out 10% of the dataframe and you'll see that actually when we go out and do this\n",
    "2. Create the label column"
   ]
  },
  {
   "cell_type": "code",
   "execution_count": 10,
   "metadata": {},
   "outputs": [
    {
     "data": {
      "text/html": [
       "<div>\n",
       "<style scoped>\n",
       "    .dataframe tbody tr th:only-of-type {\n",
       "        vertical-align: middle;\n",
       "    }\n",
       "\n",
       "    .dataframe tbody tr th {\n",
       "        vertical-align: top;\n",
       "    }\n",
       "\n",
       "    .dataframe thead th {\n",
       "        text-align: right;\n",
       "    }\n",
       "</style>\n",
       "<table border=\"1\" class=\"dataframe\">\n",
       "  <thead>\n",
       "    <tr style=\"text-align: right;\">\n",
       "      <th></th>\n",
       "      <th></th>\n",
       "      <th>Close</th>\n",
       "      <th>HL_PCT</th>\n",
       "      <th>PCT_change</th>\n",
       "      <th>Volume</th>\n",
       "      <th>label</th>\n",
       "    </tr>\n",
       "    <tr>\n",
       "      <th>Symbol</th>\n",
       "      <th>Date</th>\n",
       "      <th></th>\n",
       "      <th></th>\n",
       "      <th></th>\n",
       "      <th></th>\n",
       "      <th></th>\n",
       "    </tr>\n",
       "  </thead>\n",
       "  <tbody>\n",
       "    <tr>\n",
       "      <th rowspan=\"5\" valign=\"top\">GOOGL</th>\n",
       "      <th>2004-08-19</th>\n",
       "      <td>50.2161</td>\n",
       "      <td>8.440965</td>\n",
       "      <td>0.324852</td>\n",
       "      <td>44662908</td>\n",
       "      <td>69.2520</td>\n",
       "    </tr>\n",
       "    <tr>\n",
       "      <th>2004-08-20</th>\n",
       "      <td>54.2075</td>\n",
       "      <td>8.537199</td>\n",
       "      <td>6.730368</td>\n",
       "      <td>22778271</td>\n",
       "      <td>68.6064</td>\n",
       "    </tr>\n",
       "    <tr>\n",
       "      <th>2004-08-23</th>\n",
       "      <td>54.7530</td>\n",
       "      <td>4.062458</td>\n",
       "      <td>-1.227953</td>\n",
       "      <td>18234539</td>\n",
       "      <td>69.4923</td>\n",
       "    </tr>\n",
       "    <tr>\n",
       "      <th>2004-08-24</th>\n",
       "      <td>52.4858</td>\n",
       "      <td>7.753226</td>\n",
       "      <td>-5.726382</td>\n",
       "      <td>15241412</td>\n",
       "      <td>68.9317</td>\n",
       "    </tr>\n",
       "    <tr>\n",
       "      <th>2004-08-25</th>\n",
       "      <td>53.0514</td>\n",
       "      <td>3.966124</td>\n",
       "      <td>0.991038</td>\n",
       "      <td>9130694</td>\n",
       "      <td>67.6955</td>\n",
       "    </tr>\n",
       "  </tbody>\n",
       "</table>\n",
       "</div>"
      ],
      "text/plain": [
       "                     Close    HL_PCT  PCT_change    Volume    label\n",
       "Symbol Date                                                        \n",
       "GOOGL  2004-08-19  50.2161  8.440965    0.324852  44662908  69.2520\n",
       "       2004-08-20  54.2075  8.537199    6.730368  22778271  68.6064\n",
       "       2004-08-23  54.7530  4.062458   -1.227953  18234539  69.4923\n",
       "       2004-08-24  52.4858  7.753226   -5.726382  15241412  68.9317\n",
       "       2004-08-25  53.0514  3.966124    0.991038   9130694  67.6955"
      ]
     },
     "execution_count": 10,
     "metadata": {},
     "output_type": "execute_result"
    }
   ],
   "source": [
    "forecast_out = int(math.ceil(0.01*len(df)))\n",
    "df['label'] = df[forecast_col].shift(-forecast_out)\n",
    "df.dropna(inplace=True)\n",
    "df.head()"
   ]
  },
  {
   "cell_type": "markdown",
   "metadata": {},
   "source": [
    "# Regression Training and Testing\n",
    "#### X are features and y is label"
   ]
  },
  {
   "cell_type": "code",
   "execution_count": 11,
   "metadata": {},
   "outputs": [],
   "source": [
    "X = np.array(df.drop(['label'], 1))\n",
    "y = np.array(df['label'])"
   ]
  },
  {
   "cell_type": "markdown",
   "metadata": {},
   "source": [
    "#### Scaling "
   ]
  },
  {
   "cell_type": "code",
   "execution_count": 12,
   "metadata": {},
   "outputs": [],
   "source": [
    "X = skl.preprocessing.scale(X)\n",
    "scaling_url = \"http://scikit-learn.org/stable/modules/preprocessing.html\""
   ]
  },
  {
   "cell_type": "code",
   "execution_count": 13,
   "metadata": {},
   "outputs": [
    {
     "name": "stdout",
     "output_type": "stream",
     "text": [
      "Lenght of X = 3194, y = 3194\n"
     ]
    }
   ],
   "source": [
    "print(\"Lenght of X = {}, y = {}\".format(len(X),len(y)))"
   ]
  },
  {
   "cell_type": "markdown",
   "metadata": {},
   "source": [
    "#### Train and Test"
   ]
  },
  {
   "cell_type": "code",
   "execution_count": 14,
   "metadata": {},
   "outputs": [],
   "source": [
    "X_train, X_test, y_train, y_test = skl.model_selection.train_test_split(X, y, test_size = 0.2)"
   ]
  },
  {
   "cell_type": "markdown",
   "metadata": {},
   "source": [
    "#### Linear Regression Classifier\n",
    "1. Identify a classifier (Create object)\n",
    "2. Fit the training sets"
   ]
  },
  {
   "cell_type": "code",
   "execution_count": 18,
   "metadata": {},
   "outputs": [
    {
     "data": {
      "text/plain": [
       "array([339.9441, 437.2733, 351.9457, ..., 444.3301, 312.3924, 157.1221])"
      ]
     },
     "execution_count": 18,
     "metadata": {},
     "output_type": "execute_result"
    }
   ],
   "source": [
    "clf = lreg.LinearRegression()\n",
    "clf.fit(X_train, y_train)\n",
    "y_train"
   ]
  },
  {
   "cell_type": "markdown",
   "metadata": {},
   "source": [
    "#### Returns the coefficient of determination $R^2$ of the prediction."
   ]
  },
  {
   "cell_type": "code",
   "execution_count": 16,
   "metadata": {},
   "outputs": [
    {
     "name": "stdout",
     "output_type": "stream",
     "text": [
      "Coefficient of Determination R^2 = 0.9666017514738591\n"
     ]
    }
   ],
   "source": [
    "accuracy = clf.score(X_test, y_test)\n",
    "print(\"Coefficient of Determination R^2 = {}\".format(accuracy))"
   ]
  },
  {
   "cell_type": "code",
   "execution_count": null,
   "metadata": {},
   "outputs": [],
   "source": []
  },
  {
   "cell_type": "code",
   "execution_count": null,
   "metadata": {},
   "outputs": [],
   "source": []
  }
 ],
 "metadata": {
  "kernelspec": {
   "display_name": "Python 3",
   "language": "python",
   "name": "python3"
  },
  "language_info": {
   "codemirror_mode": {
    "name": "ipython",
    "version": 3
   },
   "file_extension": ".py",
   "mimetype": "text/x-python",
   "name": "python",
   "nbconvert_exporter": "python",
   "pygments_lexer": "ipython3",
   "version": "3.6.5"
  }
 },
 "nbformat": 4,
 "nbformat_minor": 2
}
