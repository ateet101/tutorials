{
 "cells": [
  {
   "cell_type": "code",
   "execution_count": 91,
   "metadata": {},
   "outputs": [],
   "source": [
    "import pandas as pd\n",
    "import datetime\n",
    "import pandas_datareader as pdr\n",
    "import matplotlib.pyplot as plt\n",
    "from matplotlib import style\n",
    "style.use('fivethirtyeight')"
   ]
  },
  {
   "cell_type": "code",
   "execution_count": 92,
   "metadata": {},
   "outputs": [],
   "source": [
    "start = datetime.datetime(2010,1,1)\n",
    "end = datetime.datetime(2015,1,1)"
   ]
  },
  {
   "cell_type": "markdown",
   "metadata": {},
   "source": [
    "#### Create a DataFrame of the \"XOM\" stock from Morningstar Finance API and output the first five rows"
   ]
  },
  {
   "cell_type": "code",
   "execution_count": 93,
   "metadata": {},
   "outputs": [
    {
     "name": "stdout",
     "output_type": "stream",
     "text": [
      "                   Close   High     Low   Open    Volume\n",
      "Symbol Date                                             \n",
      "XOM    2010-01-01  68.19  68.86  68.110  68.84         0\n",
      "       2010-01-04  69.15  69.26  68.190  68.72  27811317\n",
      "       2010-01-05  69.42  69.45  68.800  69.19  30178588\n",
      "       2010-01-06  70.02  70.60  69.340  69.45  35047453\n",
      "       2010-01-07  69.80  70.06  69.415  69.90  27194133\n"
     ]
    }
   ],
   "source": [
    "df = pdr.DataReader(\"XOM\", \"morningstar\", start, end)\n",
    "print(df.head())"
   ]
  },
  {
   "cell_type": "markdown",
   "metadata": {},
   "source": [
    "#### Plot the \"Close\" column of the DataFrame"
   ]
  },
  {
   "cell_type": "code",
   "execution_count": 94,
   "metadata": {},
   "outputs": [
    {
     "data": {
      "text/plain": [
       "<matplotlib.axes._subplots.AxesSubplot at 0x7f8f5a975438>"
      ]
     },
     "execution_count": 94,
     "metadata": {},
     "output_type": "execute_result"
    },
    {
     "data": {
      "image/png": "[encoded data removed]",
      "text/plain": [
       "<Figure size 432x288 with 1 Axes>"
      ]
     },
     "metadata": {},
     "output_type": "display_data"
    }
   ],
   "source": [
    "df['Close'].plot()"
   ]
  },
  {
   "cell_type": "markdown",
   "metadata": {},
   "source": [
    "#### Create a dictionary and turn it into a DataFrame"
   ]
  },
  {
   "cell_type": "code",
   "execution_count": 95,
   "metadata": {},
   "outputs": [
    {
     "data": {
      "text/html": [
       "<div>\n",
       "<style scoped>\n",
       "    .dataframe tbody tr th:only-of-type {\n",
       "        vertical-align: middle;\n",
       "    }\n",
       "\n",
       "    .dataframe tbody tr th {\n",
       "        vertical-align: top;\n",
       "    }\n",
       "\n",
       "    .dataframe thead th {\n",
       "        text-align: right;\n",
       "    }\n",
       "</style>\n",
       "<table border=\"1\" class=\"dataframe\">\n",
       "  <thead>\n",
       "    <tr style=\"text-align: right;\">\n",
       "      <th></th>\n",
       "      <th>Bounce_Rate</th>\n",
       "      <th>Day</th>\n",
       "      <th>Visitors</th>\n",
       "    </tr>\n",
       "  </thead>\n",
       "  <tbody>\n",
       "    <tr>\n",
       "      <th>0</th>\n",
       "      <td>65</td>\n",
       "      <td>1</td>\n",
       "      <td>43</td>\n",
       "    </tr>\n",
       "    <tr>\n",
       "      <th>1</th>\n",
       "      <td>72</td>\n",
       "      <td>2</td>\n",
       "      <td>53</td>\n",
       "    </tr>\n",
       "    <tr>\n",
       "      <th>2</th>\n",
       "      <td>62</td>\n",
       "      <td>3</td>\n",
       "      <td>34</td>\n",
       "    </tr>\n",
       "    <tr>\n",
       "      <th>3</th>\n",
       "      <td>64</td>\n",
       "      <td>4</td>\n",
       "      <td>45</td>\n",
       "    </tr>\n",
       "    <tr>\n",
       "      <th>4</th>\n",
       "      <td>54</td>\n",
       "      <td>5</td>\n",
       "      <td>64</td>\n",
       "    </tr>\n",
       "    <tr>\n",
       "      <th>5</th>\n",
       "      <td>66</td>\n",
       "      <td>6</td>\n",
       "      <td>34</td>\n",
       "    </tr>\n",
       "  </tbody>\n",
       "</table>\n",
       "</div>"
      ],
      "text/plain": [
       "   Bounce_Rate  Day  Visitors\n",
       "0           65    1        43\n",
       "1           72    2        53\n",
       "2           62    3        34\n",
       "3           64    4        45\n",
       "4           54    5        64\n",
       "5           66    6        34"
      ]
     },
     "execution_count": 95,
     "metadata": {},
     "output_type": "execute_result"
    }
   ],
   "source": [
    "web_stats = {'Day': range(1,7), \n",
    "             'Visitors': [43,53,34,45,64,34], \n",
    "             'Bounce_Rate': [65,72,62,64,54,66]}\n",
    "df = pd.DataFrame(web_stats)\n",
    "df"
   ]
  },
  {
   "cell_type": "markdown",
   "metadata": {},
   "source": [
    "#### Set Index of the DataFrame to the \"Day\" column"
   ]
  },
  {
   "cell_type": "code",
   "execution_count": 96,
   "metadata": {},
   "outputs": [
    {
     "data": {
      "text/html": [
       "<div>\n",
       "<style scoped>\n",
       "    .dataframe tbody tr th:only-of-type {\n",
       "        vertical-align: middle;\n",
       "    }\n",
       "\n",
       "    .dataframe tbody tr th {\n",
       "        vertical-align: top;\n",
       "    }\n",
       "\n",
       "    .dataframe thead th {\n",
       "        text-align: right;\n",
       "    }\n",
       "</style>\n",
       "<table border=\"1\" class=\"dataframe\">\n",
       "  <thead>\n",
       "    <tr style=\"text-align: right;\">\n",
       "      <th></th>\n",
       "      <th>Bounce_Rate</th>\n",
       "      <th>Visitors</th>\n",
       "    </tr>\n",
       "    <tr>\n",
       "      <th>Day</th>\n",
       "      <th></th>\n",
       "      <th></th>\n",
       "    </tr>\n",
       "  </thead>\n",
       "  <tbody>\n",
       "    <tr>\n",
       "      <th>1</th>\n",
       "      <td>65</td>\n",
       "      <td>43</td>\n",
       "    </tr>\n",
       "    <tr>\n",
       "      <th>2</th>\n",
       "      <td>72</td>\n",
       "      <td>53</td>\n",
       "    </tr>\n",
       "    <tr>\n",
       "      <th>3</th>\n",
       "      <td>62</td>\n",
       "      <td>34</td>\n",
       "    </tr>\n",
       "    <tr>\n",
       "      <th>4</th>\n",
       "      <td>64</td>\n",
       "      <td>45</td>\n",
       "    </tr>\n",
       "    <tr>\n",
       "      <th>5</th>\n",
       "      <td>54</td>\n",
       "      <td>64</td>\n",
       "    </tr>\n",
       "    <tr>\n",
       "      <th>6</th>\n",
       "      <td>66</td>\n",
       "      <td>34</td>\n",
       "    </tr>\n",
       "  </tbody>\n",
       "</table>\n",
       "</div>"
      ],
      "text/plain": [
       "     Bounce_Rate  Visitors\n",
       "Day                       \n",
       "1             65        43\n",
       "2             72        53\n",
       "3             62        34\n",
       "4             64        45\n",
       "5             54        64\n",
       "6             66        34"
      ]
     },
     "execution_count": 96,
     "metadata": {},
     "output_type": "execute_result"
    }
   ],
   "source": [
    "df.set_index(\"Day\", inplace=True)\n",
    "df"
   ]
  },
  {
   "cell_type": "markdown",
   "metadata": {},
   "source": [
    "#### Print a column of the DataFrame - Two ways"
   ]
  },
  {
   "cell_type": "code",
   "execution_count": 97,
   "metadata": {},
   "outputs": [
    {
     "data": {
      "text/plain": [
       "Day\n",
       "1    43\n",
       "2    53\n",
       "3    34\n",
       "4    45\n",
       "5    64\n",
       "6    34\n",
       "Name: Visitors, dtype: int64"
      ]
     },
     "execution_count": 97,
     "metadata": {},
     "output_type": "execute_result"
    }
   ],
   "source": [
    "df[\"Visitors\"]\n",
    "df.Visitors"
   ]
  },
  {
   "cell_type": "markdown",
   "metadata": {},
   "source": [
    "#### Print multiple columns of the DataFrame"
   ]
  },
  {
   "cell_type": "code",
   "execution_count": 98,
   "metadata": {},
   "outputs": [
    {
     "data": {
      "text/html": [
       "<div>\n",
       "<style scoped>\n",
       "    .dataframe tbody tr th:only-of-type {\n",
       "        vertical-align: middle;\n",
       "    }\n",
       "\n",
       "    .dataframe tbody tr th {\n",
       "        vertical-align: top;\n",
       "    }\n",
       "\n",
       "    .dataframe thead th {\n",
       "        text-align: right;\n",
       "    }\n",
       "</style>\n",
       "<table border=\"1\" class=\"dataframe\">\n",
       "  <thead>\n",
       "    <tr style=\"text-align: right;\">\n",
       "      <th></th>\n",
       "      <th>Visitors</th>\n",
       "      <th>Bounce_Rate</th>\n",
       "    </tr>\n",
       "    <tr>\n",
       "      <th>Day</th>\n",
       "      <th></th>\n",
       "      <th></th>\n",
       "    </tr>\n",
       "  </thead>\n",
       "  <tbody>\n",
       "    <tr>\n",
       "      <th>1</th>\n",
       "      <td>43</td>\n",
       "      <td>65</td>\n",
       "    </tr>\n",
       "    <tr>\n",
       "      <th>2</th>\n",
       "      <td>53</td>\n",
       "      <td>72</td>\n",
       "    </tr>\n",
       "    <tr>\n",
       "      <th>3</th>\n",
       "      <td>34</td>\n",
       "      <td>62</td>\n",
       "    </tr>\n",
       "    <tr>\n",
       "      <th>4</th>\n",
       "      <td>45</td>\n",
       "      <td>64</td>\n",
       "    </tr>\n",
       "    <tr>\n",
       "      <th>5</th>\n",
       "      <td>64</td>\n",
       "      <td>54</td>\n",
       "    </tr>\n",
       "    <tr>\n",
       "      <th>6</th>\n",
       "      <td>34</td>\n",
       "      <td>66</td>\n",
       "    </tr>\n",
       "  </tbody>\n",
       "</table>\n",
       "</div>"
      ],
      "text/plain": [
       "     Visitors  Bounce_Rate\n",
       "Day                       \n",
       "1          43           65\n",
       "2          53           72\n",
       "3          34           62\n",
       "4          45           64\n",
       "5          64           54\n",
       "6          34           66"
      ]
     },
     "execution_count": 98,
     "metadata": {},
     "output_type": "execute_result"
    }
   ],
   "source": [
    "df[['Visitors','Bounce_Rate']] #two brackets because of calling a list of columns"
   ]
  },
  {
   "cell_type": "markdown",
   "metadata": {},
   "source": [
    "#### Turn column of DataFrame to a list"
   ]
  },
  {
   "cell_type": "code",
   "execution_count": 99,
   "metadata": {},
   "outputs": [
    {
     "data": {
      "text/plain": [
       "[43, 53, 34, 45, 64, 34]"
      ]
     },
     "execution_count": 99,
     "metadata": {},
     "output_type": "execute_result"
    }
   ],
   "source": [
    "visitor_list = df.Visitors.tolist()\n",
    "visitor_list"
   ]
  },
  {
   "cell_type": "markdown",
   "metadata": {},
   "source": [
    "# IO Basics\n",
    "\n",
    "#### Read a CSV into a DataFrame"
   ]
  },
  {
   "cell_type": "code",
   "execution_count": 100,
   "metadata": {},
   "outputs": [
    {
     "data": {
      "text/html": [
       "<div>\n",
       "<style scoped>\n",
       "    .dataframe tbody tr th:only-of-type {\n",
       "        vertical-align: middle;\n",
       "    }\n",
       "\n",
       "    .dataframe tbody tr th {\n",
       "        vertical-align: top;\n",
       "    }\n",
       "\n",
       "    .dataframe thead th {\n",
       "        text-align: right;\n",
       "    }\n",
       "</style>\n",
       "<table border=\"1\" class=\"dataframe\">\n",
       "  <thead>\n",
       "    <tr style=\"text-align: right;\">\n",
       "      <th></th>\n",
       "      <th>Date</th>\n",
       "      <th>Value</th>\n",
       "    </tr>\n",
       "  </thead>\n",
       "  <tbody>\n",
       "    <tr>\n",
       "      <th>0</th>\n",
       "      <td>2018-03-31</td>\n",
       "      <td>2385.0</td>\n",
       "    </tr>\n",
       "    <tr>\n",
       "      <th>1</th>\n",
       "      <td>2018-02-28</td>\n",
       "      <td>2384.0</td>\n",
       "    </tr>\n",
       "    <tr>\n",
       "      <th>2</th>\n",
       "      <td>2018-01-31</td>\n",
       "      <td>2372.0</td>\n",
       "    </tr>\n",
       "    <tr>\n",
       "      <th>3</th>\n",
       "      <td>2017-12-31</td>\n",
       "      <td>2357.0</td>\n",
       "    </tr>\n",
       "    <tr>\n",
       "      <th>4</th>\n",
       "      <td>2017-11-30</td>\n",
       "      <td>2344.0</td>\n",
       "    </tr>\n",
       "  </tbody>\n",
       "</table>\n",
       "</div>"
      ],
      "text/plain": [
       "         Date   Value\n",
       "0  2018-03-31  2385.0\n",
       "1  2018-02-28  2384.0\n",
       "2  2018-01-31  2372.0\n",
       "3  2017-12-31  2357.0\n",
       "4  2017-11-30  2344.0"
      ]
     },
     "execution_count": 100,
     "metadata": {},
     "output_type": "execute_result"
    }
   ],
   "source": [
    "import quandl\n",
    "home_df = pd.read_csv('ZILLOW_Prices.csv')\n",
    "home_df.head()"
   ]
  },
  {
   "cell_type": "code",
   "execution_count": 101,
   "metadata": {},
   "outputs": [
    {
     "data": {
      "text/html": [
       "<div>\n",
       "<style scoped>\n",
       "    .dataframe tbody tr th:only-of-type {\n",
       "        vertical-align: middle;\n",
       "    }\n",
       "\n",
       "    .dataframe tbody tr th {\n",
       "        vertical-align: top;\n",
       "    }\n",
       "\n",
       "    .dataframe thead th {\n",
       "        text-align: right;\n",
       "    }\n",
       "</style>\n",
       "<table border=\"1\" class=\"dataframe\">\n",
       "  <thead>\n",
       "    <tr style=\"text-align: right;\">\n",
       "      <th></th>\n",
       "      <th>Value</th>\n",
       "    </tr>\n",
       "    <tr>\n",
       "      <th>Date</th>\n",
       "      <th></th>\n",
       "    </tr>\n",
       "  </thead>\n",
       "  <tbody>\n",
       "    <tr>\n",
       "      <th>2018-03-31</th>\n",
       "      <td>2385.0</td>\n",
       "    </tr>\n",
       "    <tr>\n",
       "      <th>2018-02-28</th>\n",
       "      <td>2384.0</td>\n",
       "    </tr>\n",
       "    <tr>\n",
       "      <th>2018-01-31</th>\n",
       "      <td>2372.0</td>\n",
       "    </tr>\n",
       "    <tr>\n",
       "      <th>2017-12-31</th>\n",
       "      <td>2357.0</td>\n",
       "    </tr>\n",
       "    <tr>\n",
       "      <th>2017-11-30</th>\n",
       "      <td>2344.0</td>\n",
       "    </tr>\n",
       "  </tbody>\n",
       "</table>\n",
       "</div>"
      ],
      "text/plain": [
       "             Value\n",
       "Date              \n",
       "2018-03-31  2385.0\n",
       "2018-02-28  2384.0\n",
       "2018-01-31  2372.0\n",
       "2017-12-31  2357.0\n",
       "2017-11-30  2344.0"
      ]
     },
     "execution_count": 101,
     "metadata": {},
     "output_type": "execute_result"
    }
   ],
   "source": [
    "home_df.set_index('Date', inplace=True)\n",
    "home_df.head()"
   ]
  },
  {
   "cell_type": "markdown",
   "metadata": {},
   "source": [
    "#### Save to CSV"
   ]
  },
  {
   "cell_type": "code",
   "execution_count": 102,
   "metadata": {},
   "outputs": [],
   "source": [
    "home_df.to_csv('home.csv')"
   ]
  },
  {
   "cell_type": "code",
   "execution_count": 103,
   "metadata": {},
   "outputs": [
    {
     "data": {
      "text/html": [
       "<div>\n",
       "<style scoped>\n",
       "    .dataframe tbody tr th:only-of-type {\n",
       "        vertical-align: middle;\n",
       "    }\n",
       "\n",
       "    .dataframe tbody tr th {\n",
       "        vertical-align: top;\n",
       "    }\n",
       "\n",
       "    .dataframe thead th {\n",
       "        text-align: right;\n",
       "    }\n",
       "</style>\n",
       "<table border=\"1\" class=\"dataframe\">\n",
       "  <thead>\n",
       "    <tr style=\"text-align: right;\">\n",
       "      <th></th>\n",
       "      <th>Date</th>\n",
       "      <th>Value</th>\n",
       "    </tr>\n",
       "  </thead>\n",
       "  <tbody>\n",
       "    <tr>\n",
       "      <th>0</th>\n",
       "      <td>2018-03-31</td>\n",
       "      <td>2385.0</td>\n",
       "    </tr>\n",
       "    <tr>\n",
       "      <th>1</th>\n",
       "      <td>2018-02-28</td>\n",
       "      <td>2384.0</td>\n",
       "    </tr>\n",
       "    <tr>\n",
       "      <th>2</th>\n",
       "      <td>2018-01-31</td>\n",
       "      <td>2372.0</td>\n",
       "    </tr>\n",
       "    <tr>\n",
       "      <th>3</th>\n",
       "      <td>2017-12-31</td>\n",
       "      <td>2357.0</td>\n",
       "    </tr>\n",
       "    <tr>\n",
       "      <th>4</th>\n",
       "      <td>2017-11-30</td>\n",
       "      <td>2344.0</td>\n",
       "    </tr>\n",
       "  </tbody>\n",
       "</table>\n",
       "</div>"
      ],
      "text/plain": [
       "         Date   Value\n",
       "0  2018-03-31  2385.0\n",
       "1  2018-02-28  2384.0\n",
       "2  2018-01-31  2372.0\n",
       "3  2017-12-31  2357.0\n",
       "4  2017-11-30  2344.0"
      ]
     },
     "execution_count": 103,
     "metadata": {},
     "output_type": "execute_result"
    }
   ],
   "source": [
    "home1_df = pd.read_csv('home.csv')\n",
    "home1_df.head()"
   ]
  },
  {
   "cell_type": "code",
   "execution_count": 104,
   "metadata": {},
   "outputs": [
    {
     "data": {
      "text/html": [
       "<div>\n",
       "<style scoped>\n",
       "    .dataframe tbody tr th:only-of-type {\n",
       "        vertical-align: middle;\n",
       "    }\n",
       "\n",
       "    .dataframe tbody tr th {\n",
       "        vertical-align: top;\n",
       "    }\n",
       "\n",
       "    .dataframe thead th {\n",
       "        text-align: right;\n",
       "    }\n",
       "</style>\n",
       "<table border=\"1\" class=\"dataframe\">\n",
       "  <thead>\n",
       "    <tr style=\"text-align: right;\">\n",
       "      <th></th>\n",
       "      <th>Value</th>\n",
       "    </tr>\n",
       "    <tr>\n",
       "      <th>Date</th>\n",
       "      <th></th>\n",
       "    </tr>\n",
       "  </thead>\n",
       "  <tbody>\n",
       "    <tr>\n",
       "      <th>2018-03-31</th>\n",
       "      <td>2385.0</td>\n",
       "    </tr>\n",
       "    <tr>\n",
       "      <th>2018-02-28</th>\n",
       "      <td>2384.0</td>\n",
       "    </tr>\n",
       "    <tr>\n",
       "      <th>2018-01-31</th>\n",
       "      <td>2372.0</td>\n",
       "    </tr>\n",
       "    <tr>\n",
       "      <th>2017-12-31</th>\n",
       "      <td>2357.0</td>\n",
       "    </tr>\n",
       "    <tr>\n",
       "      <th>2017-11-30</th>\n",
       "      <td>2344.0</td>\n",
       "    </tr>\n",
       "  </tbody>\n",
       "</table>\n",
       "</div>"
      ],
      "text/plain": [
       "             Value\n",
       "Date              \n",
       "2018-03-31  2385.0\n",
       "2018-02-28  2384.0\n",
       "2018-01-31  2372.0\n",
       "2017-12-31  2357.0\n",
       "2017-11-30  2344.0"
      ]
     },
     "execution_count": 104,
     "metadata": {},
     "output_type": "execute_result"
    }
   ],
   "source": [
    "home1_df = pd.read_csv('home.csv', index_col=0)\n",
    "home1_df.head()"
   ]
  },
  {
   "cell_type": "markdown",
   "metadata": {},
   "source": [
    "#### Rename a Column"
   ]
  },
  {
   "cell_type": "code",
   "execution_count": 105,
   "metadata": {},
   "outputs": [
    {
     "data": {
      "text/html": [
       "<div>\n",
       "<style scoped>\n",
       "    .dataframe tbody tr th:only-of-type {\n",
       "        vertical-align: middle;\n",
       "    }\n",
       "\n",
       "    .dataframe tbody tr th {\n",
       "        vertical-align: top;\n",
       "    }\n",
       "\n",
       "    .dataframe thead th {\n",
       "        text-align: right;\n",
       "    }\n",
       "</style>\n",
       "<table border=\"1\" class=\"dataframe\">\n",
       "  <thead>\n",
       "    <tr style=\"text-align: right;\">\n",
       "      <th></th>\n",
       "      <th>Alpharetta_Prices</th>\n",
       "    </tr>\n",
       "    <tr>\n",
       "      <th>Date</th>\n",
       "      <th></th>\n",
       "    </tr>\n",
       "  </thead>\n",
       "  <tbody>\n",
       "    <tr>\n",
       "      <th>2018-03-31</th>\n",
       "      <td>2385.0</td>\n",
       "    </tr>\n",
       "    <tr>\n",
       "      <th>2018-02-28</th>\n",
       "      <td>2384.0</td>\n",
       "    </tr>\n",
       "    <tr>\n",
       "      <th>2018-01-31</th>\n",
       "      <td>2372.0</td>\n",
       "    </tr>\n",
       "    <tr>\n",
       "      <th>2017-12-31</th>\n",
       "      <td>2357.0</td>\n",
       "    </tr>\n",
       "    <tr>\n",
       "      <th>2017-11-30</th>\n",
       "      <td>2344.0</td>\n",
       "    </tr>\n",
       "  </tbody>\n",
       "</table>\n",
       "</div>"
      ],
      "text/plain": [
       "            Alpharetta_Prices\n",
       "Date                         \n",
       "2018-03-31             2385.0\n",
       "2018-02-28             2384.0\n",
       "2018-01-31             2372.0\n",
       "2017-12-31             2357.0\n",
       "2017-11-30             2344.0"
      ]
     },
     "execution_count": 105,
     "metadata": {},
     "output_type": "execute_result"
    }
   ],
   "source": [
    "home1_df.columns = ['Alpharetta_Prices']\n",
    "home1_df.head()"
   ]
  },
  {
   "cell_type": "code",
   "execution_count": 106,
   "metadata": {},
   "outputs": [
    {
     "data": {
      "text/html": [
       "<div>\n",
       "<style scoped>\n",
       "    .dataframe tbody tr th:only-of-type {\n",
       "        vertical-align: middle;\n",
       "    }\n",
       "\n",
       "    .dataframe tbody tr th {\n",
       "        vertical-align: top;\n",
       "    }\n",
       "\n",
       "    .dataframe thead th {\n",
       "        text-align: right;\n",
       "    }\n",
       "</style>\n",
       "<table border=\"1\" class=\"dataframe\">\n",
       "  <thead>\n",
       "    <tr style=\"text-align: right;\">\n",
       "      <th></th>\n",
       "      <th>Alpharetta_HPI</th>\n",
       "    </tr>\n",
       "    <tr>\n",
       "      <th>Date</th>\n",
       "      <th></th>\n",
       "    </tr>\n",
       "  </thead>\n",
       "  <tbody>\n",
       "    <tr>\n",
       "      <th>2018-03-31</th>\n",
       "      <td>2385.0</td>\n",
       "    </tr>\n",
       "    <tr>\n",
       "      <th>2018-02-28</th>\n",
       "      <td>2384.0</td>\n",
       "    </tr>\n",
       "    <tr>\n",
       "      <th>2018-01-31</th>\n",
       "      <td>2372.0</td>\n",
       "    </tr>\n",
       "    <tr>\n",
       "      <th>2017-12-31</th>\n",
       "      <td>2357.0</td>\n",
       "    </tr>\n",
       "    <tr>\n",
       "      <th>2017-11-30</th>\n",
       "      <td>2344.0</td>\n",
       "    </tr>\n",
       "  </tbody>\n",
       "</table>\n",
       "</div>"
      ],
      "text/plain": [
       "            Alpharetta_HPI\n",
       "Date                      \n",
       "2018-03-31          2385.0\n",
       "2018-02-28          2384.0\n",
       "2018-01-31          2372.0\n",
       "2017-12-31          2357.0\n",
       "2017-11-30          2344.0"
      ]
     },
     "execution_count": 106,
     "metadata": {},
     "output_type": "execute_result"
    }
   ],
   "source": [
    "home1_df.to_csv('home1.csv',header=False)\n",
    "home2_df = pd.read_csv('home1.csv', names=['Date','Alpharetta_HPI'],index_col=0)\n",
    "home2_df.head()"
   ]
  },
  {
   "cell_type": "markdown",
   "metadata": {},
   "source": [
    "#### Rename Specific Column"
   ]
  },
  {
   "cell_type": "code",
   "execution_count": 107,
   "metadata": {},
   "outputs": [
    {
     "data": {
      "text/html": [
       "<div>\n",
       "<style scoped>\n",
       "    .dataframe tbody tr th:only-of-type {\n",
       "        vertical-align: middle;\n",
       "    }\n",
       "\n",
       "    .dataframe tbody tr th {\n",
       "        vertical-align: top;\n",
       "    }\n",
       "\n",
       "    .dataframe thead th {\n",
       "        text-align: right;\n",
       "    }\n",
       "</style>\n",
       "<table border=\"1\" class=\"dataframe\">\n",
       "  <thead>\n",
       "    <tr style=\"text-align: right;\">\n",
       "      <th></th>\n",
       "      <th>Alpharetta_Prices</th>\n",
       "    </tr>\n",
       "    <tr>\n",
       "      <th>Date</th>\n",
       "      <th></th>\n",
       "    </tr>\n",
       "  </thead>\n",
       "  <tbody>\n",
       "    <tr>\n",
       "      <th>2018-03-31</th>\n",
       "      <td>2385.0</td>\n",
       "    </tr>\n",
       "    <tr>\n",
       "      <th>2018-02-28</th>\n",
       "      <td>2384.0</td>\n",
       "    </tr>\n",
       "    <tr>\n",
       "      <th>2018-01-31</th>\n",
       "      <td>2372.0</td>\n",
       "    </tr>\n",
       "    <tr>\n",
       "      <th>2017-12-31</th>\n",
       "      <td>2357.0</td>\n",
       "    </tr>\n",
       "    <tr>\n",
       "      <th>2017-11-30</th>\n",
       "      <td>2344.0</td>\n",
       "    </tr>\n",
       "  </tbody>\n",
       "</table>\n",
       "</div>"
      ],
      "text/plain": [
       "            Alpharetta_Prices\n",
       "Date                         \n",
       "2018-03-31             2385.0\n",
       "2018-02-28             2384.0\n",
       "2018-01-31             2372.0\n",
       "2017-12-31             2357.0\n",
       "2017-11-30             2344.0"
      ]
     },
     "execution_count": 107,
     "metadata": {},
     "output_type": "execute_result"
    }
   ],
   "source": [
    "home2_df.rename(columns={'Alpharetta_HPI': 'Alpharetta_Prices'}, inplace=True)\n",
    "home2_df.head()"
   ]
  },
  {
   "cell_type": "markdown",
   "metadata": {},
   "source": [
    "# Building a Dataset\n",
    "\n",
    "#### Use Quandle API"
   ]
  },
  {
   "cell_type": "code",
   "execution_count": 108,
   "metadata": {},
   "outputs": [
    {
     "data": {
      "text/html": [
       "<div>\n",
       "<style scoped>\n",
       "    .dataframe tbody tr th:only-of-type {\n",
       "        vertical-align: middle;\n",
       "    }\n",
       "\n",
       "    .dataframe tbody tr th {\n",
       "        vertical-align: top;\n",
       "    }\n",
       "\n",
       "    .dataframe thead th {\n",
       "        text-align: right;\n",
       "    }\n",
       "</style>\n",
       "<table border=\"1\" class=\"dataframe\">\n",
       "  <thead>\n",
       "    <tr style=\"text-align: right;\">\n",
       "      <th></th>\n",
       "      <th>Value</th>\n",
       "    </tr>\n",
       "    <tr>\n",
       "      <th>Date</th>\n",
       "      <th></th>\n",
       "    </tr>\n",
       "  </thead>\n",
       "  <tbody>\n",
       "    <tr>\n",
       "      <th>1975-01-31</th>\n",
       "      <td>34.371830</td>\n",
       "    </tr>\n",
       "    <tr>\n",
       "      <th>1975-02-28</th>\n",
       "      <td>34.880945</td>\n",
       "    </tr>\n",
       "    <tr>\n",
       "      <th>1975-03-31</th>\n",
       "      <td>35.402217</td>\n",
       "    </tr>\n",
       "    <tr>\n",
       "      <th>1975-04-30</th>\n",
       "      <td>35.944703</td>\n",
       "    </tr>\n",
       "    <tr>\n",
       "      <th>1975-05-31</th>\n",
       "      <td>36.535272</td>\n",
       "    </tr>\n",
       "  </tbody>\n",
       "</table>\n",
       "</div>"
      ],
      "text/plain": [
       "                Value\n",
       "Date                 \n",
       "1975-01-31  34.371830\n",
       "1975-02-28  34.880945\n",
       "1975-03-31  35.402217\n",
       "1975-04-30  35.944703\n",
       "1975-05-31  36.535272"
      ]
     },
     "execution_count": 108,
     "metadata": {},
     "output_type": "execute_result"
    }
   ],
   "source": [
    "api_key = open('quandlapikey.txt','r').read()\n",
    "fmac_df = quandl.get('FMAC/HPI_AK', authtoken=api_key)\n",
    "fmac_df.head()"
   ]
  },
  {
   "cell_type": "markdown",
   "metadata": {},
   "source": [
    "#### Read HTML into a List of DataFrames"
   ]
  },
  {
   "cell_type": "markdown",
   "metadata": {},
   "source": [
    "#### Select a DataFrame from the List of DataFrame"
   ]
  },
  {
   "cell_type": "code",
   "execution_count": 134,
   "metadata": {},
   "outputs": [
    {
     "data": {
      "text/plain": [
       "12    AL\n",
       "13    AK\n",
       "14    AZ\n",
       "15    AR\n",
       "16    CA\n",
       "Name: 3, dtype: object"
      ]
     },
     "execution_count": 134,
     "metadata": {},
     "output_type": "execute_result"
    }
   ],
   "source": [
    "def state_list():\n",
    "    states = pd.read_html('https://en.wikipedia.org/wiki/List_of_U.S._state_abbreviations')\n",
    "    fifty = states[0]\n",
    "    fifty = fifty.iloc[12:63][3]\n",
    "    return fifty\n",
    "\n",
    "state_list().head()"
   ]
  },
  {
   "cell_type": "markdown",
   "metadata": {},
   "source": [
    "#### Select the Rows of the Dataframe by index"
   ]
  },
  {
   "cell_type": "markdown",
   "metadata": {},
   "source": [
    "#### Select Column of Dataframe that corresponds to the State's Abbreviation"
   ]
  },
  {
   "cell_type": "code",
   "execution_count": 119,
   "metadata": {},
   "outputs": [],
   "source": [
    "for abbv in fifty_states[3]:\n",
    "    print(\"FMAC/HPI_\"+str(abbv))"
   ]
  },
  {
   "cell_type": "markdown",
   "metadata": {},
   "source": [
    "# Pickling"
   ]
  },
  {
   "cell_type": "code",
   "execution_count": 154,
   "metadata": {},
   "outputs": [],
   "source": [
    "def grab_state_initials():\n",
    "    main_df = pd.DataFrame()\n",
    "    for ab in fifty_states[3]:\n",
    "        query = \"FMAC/HPI_\"+str(ab)\n",
    "        df = quandl.get(query, authtoken=api_key)\n",
    "        df.columns = [ab]\n",
    "        if main_df.empty:\n",
    "            main_df = df\n",
    "        else:\n",
    "            main_df = main_df.join(df)\n",
    "    return main_df"
   ]
  },
  {
   "cell_type": "markdown",
   "metadata": {},
   "source": [
    "#### Use Pickle Module to save Object rather than csv"
   ]
  },
  {
   "cell_type": "code",
   "execution_count": 155,
   "metadata": {},
   "outputs": [],
   "source": [
    "import pickle"
   ]
  },
  {
   "cell_type": "code",
   "execution_count": 156,
   "metadata": {},
   "outputs": [],
   "source": [
    "def save_object():\n",
    "    pickle_out = open('fifty_states.pickle','wb')\n",
    "    pickle.dump(grab_state_initials(), pickle_out)\n",
    "    pickle_out.close"
   ]
  },
  {
   "cell_type": "code",
   "execution_count": 157,
   "metadata": {},
   "outputs": [],
   "source": [
    "pickle_in = open('fifty_states.pickle','rb')\n",
    "HPI_data = pickle.load(pickle_in)"
   ]
  },
  {
   "cell_type": "code",
   "execution_count": 158,
   "metadata": {},
   "outputs": [
    {
     "data": {
      "text/html": [
       "<div>\n",
       "<style scoped>\n",
       "    .dataframe tbody tr th:only-of-type {\n",
       "        vertical-align: middle;\n",
       "    }\n",
       "\n",
       "    .dataframe tbody tr th {\n",
       "        vertical-align: top;\n",
       "    }\n",
       "\n",
       "    .dataframe thead th {\n",
       "        text-align: right;\n",
       "    }\n",
       "</style>\n",
       "<table border=\"1\" class=\"dataframe\">\n",
       "  <thead>\n",
       "    <tr style=\"text-align: right;\">\n",
       "      <th></th>\n",
       "      <th>AL</th>\n",
       "      <th>AK</th>\n",
       "      <th>AZ</th>\n",
       "      <th>AR</th>\n",
       "      <th>CA</th>\n",
       "      <th>CO</th>\n",
       "      <th>CT</th>\n",
       "      <th>DE</th>\n",
       "      <th>DC</th>\n",
       "      <th>FL</th>\n",
       "      <th>...</th>\n",
       "      <th>SD</th>\n",
       "      <th>TN</th>\n",
       "      <th>TX</th>\n",
       "      <th>UT</th>\n",
       "      <th>VT</th>\n",
       "      <th>VA</th>\n",
       "      <th>WA</th>\n",
       "      <th>WV</th>\n",
       "      <th>WI</th>\n",
       "      <th>WY</th>\n",
       "    </tr>\n",
       "    <tr>\n",
       "      <th>Date</th>\n",
       "      <th></th>\n",
       "      <th></th>\n",
       "      <th></th>\n",
       "      <th></th>\n",
       "      <th></th>\n",
       "      <th></th>\n",
       "      <th></th>\n",
       "      <th></th>\n",
       "      <th></th>\n",
       "      <th></th>\n",
       "      <th></th>\n",
       "      <th></th>\n",
       "      <th></th>\n",
       "      <th></th>\n",
       "      <th></th>\n",
       "      <th></th>\n",
       "      <th></th>\n",
       "      <th></th>\n",
       "      <th></th>\n",
       "      <th></th>\n",
       "      <th></th>\n",
       "    </tr>\n",
       "  </thead>\n",
       "  <tbody>\n",
       "    <tr>\n",
       "      <th>1975-01-31</th>\n",
       "      <td>35.695975</td>\n",
       "      <td>34.371830</td>\n",
       "      <td>28.937735</td>\n",
       "      <td>36.738861</td>\n",
       "      <td>15.722312</td>\n",
       "      <td>19.603977</td>\n",
       "      <td>24.369431</td>\n",
       "      <td>27.264842</td>\n",
       "      <td>18.255987</td>\n",
       "      <td>30.997043</td>\n",
       "      <td>...</td>\n",
       "      <td>37.722210</td>\n",
       "      <td>32.179633</td>\n",
       "      <td>32.602350</td>\n",
       "      <td>24.698474</td>\n",
       "      <td>26.637620</td>\n",
       "      <td>27.912640</td>\n",
       "      <td>17.484315</td>\n",
       "      <td>41.002072</td>\n",
       "      <td>28.096764</td>\n",
       "      <td>31.668794</td>\n",
       "    </tr>\n",
       "    <tr>\n",
       "      <th>1975-02-28</th>\n",
       "      <td>35.896770</td>\n",
       "      <td>34.880945</td>\n",
       "      <td>29.463708</td>\n",
       "      <td>37.098962</td>\n",
       "      <td>15.775202</td>\n",
       "      <td>19.837138</td>\n",
       "      <td>24.908036</td>\n",
       "      <td>27.250734</td>\n",
       "      <td>18.382701</td>\n",
       "      <td>32.229049</td>\n",
       "      <td>...</td>\n",
       "      <td>37.319634</td>\n",
       "      <td>32.218599</td>\n",
       "      <td>32.944116</td>\n",
       "      <td>25.060977</td>\n",
       "      <td>26.956271</td>\n",
       "      <td>28.205810</td>\n",
       "      <td>17.571053</td>\n",
       "      <td>42.040473</td>\n",
       "      <td>28.486170</td>\n",
       "      <td>32.161920</td>\n",
       "    </tr>\n",
       "    <tr>\n",
       "      <th>1975-03-31</th>\n",
       "      <td>36.133518</td>\n",
       "      <td>35.402217</td>\n",
       "      <td>29.959514</td>\n",
       "      <td>37.416398</td>\n",
       "      <td>15.964942</td>\n",
       "      <td>20.073483</td>\n",
       "      <td>25.313556</td>\n",
       "      <td>27.268478</td>\n",
       "      <td>18.514587</td>\n",
       "      <td>34.027506</td>\n",
       "      <td>...</td>\n",
       "      <td>36.908861</td>\n",
       "      <td>32.296539</td>\n",
       "      <td>33.542975</td>\n",
       "      <td>25.381341</td>\n",
       "      <td>27.264731</td>\n",
       "      <td>28.420407</td>\n",
       "      <td>17.689717</td>\n",
       "      <td>43.122486</td>\n",
       "      <td>28.860737</td>\n",
       "      <td>32.680525</td>\n",
       "    </tr>\n",
       "    <tr>\n",
       "      <th>1975-04-30</th>\n",
       "      <td>36.425723</td>\n",
       "      <td>35.944703</td>\n",
       "      <td>30.345148</td>\n",
       "      <td>37.677813</td>\n",
       "      <td>16.275547</td>\n",
       "      <td>20.301864</td>\n",
       "      <td>25.541141</td>\n",
       "      <td>27.362673</td>\n",
       "      <td>18.689302</td>\n",
       "      <td>36.218077</td>\n",
       "      <td>...</td>\n",
       "      <td>36.498238</td>\n",
       "      <td>32.416385</td>\n",
       "      <td>34.402826</td>\n",
       "      <td>25.627200</td>\n",
       "      <td>27.546568</td>\n",
       "      <td>28.578762</td>\n",
       "      <td>17.818792</td>\n",
       "      <td>44.239196</td>\n",
       "      <td>29.185048</td>\n",
       "      <td>33.210124</td>\n",
       "    </tr>\n",
       "    <tr>\n",
       "      <th>1975-05-31</th>\n",
       "      <td>36.695708</td>\n",
       "      <td>36.535272</td>\n",
       "      <td>30.546449</td>\n",
       "      <td>37.921099</td>\n",
       "      <td>16.533017</td>\n",
       "      <td>20.495075</td>\n",
       "      <td>25.614056</td>\n",
       "      <td>27.561893</td>\n",
       "      <td>18.937116</td>\n",
       "      <td>36.437855</td>\n",
       "      <td>...</td>\n",
       "      <td>36.121328</td>\n",
       "      <td>32.563209</td>\n",
       "      <td>34.649755</td>\n",
       "      <td>25.782334</td>\n",
       "      <td>27.794738</td>\n",
       "      <td>28.717611</td>\n",
       "      <td>17.933277</td>\n",
       "      <td>45.363222</td>\n",
       "      <td>29.443523</td>\n",
       "      <td>33.714128</td>\n",
       "    </tr>\n",
       "  </tbody>\n",
       "</table>\n",
       "<p>5 rows × 51 columns</p>\n",
       "</div>"
      ],
      "text/plain": [
       "                   AL         AK         AZ         AR         CA         CO  \\\n",
       "Date                                                                           \n",
       "1975-01-31  35.695975  34.371830  28.937735  36.738861  15.722312  19.603977   \n",
       "1975-02-28  35.896770  34.880945  29.463708  37.098962  15.775202  19.837138   \n",
       "1975-03-31  36.133518  35.402217  29.959514  37.416398  15.964942  20.073483   \n",
       "1975-04-30  36.425723  35.944703  30.345148  37.677813  16.275547  20.301864   \n",
       "1975-05-31  36.695708  36.535272  30.546449  37.921099  16.533017  20.495075   \n",
       "\n",
       "                   CT         DE         DC         FL    ...             SD  \\\n",
       "Date                                                      ...                  \n",
       "1975-01-31  24.369431  27.264842  18.255987  30.997043    ...      37.722210   \n",
       "1975-02-28  24.908036  27.250734  18.382701  32.229049    ...      37.319634   \n",
       "1975-03-31  25.313556  27.268478  18.514587  34.027506    ...      36.908861   \n",
       "1975-04-30  25.541141  27.362673  18.689302  36.218077    ...      36.498238   \n",
       "1975-05-31  25.614056  27.561893  18.937116  36.437855    ...      36.121328   \n",
       "\n",
       "                   TN         TX         UT         VT         VA         WA  \\\n",
       "Date                                                                           \n",
       "1975-01-31  32.179633  32.602350  24.698474  26.637620  27.912640  17.484315   \n",
       "1975-02-28  32.218599  32.944116  25.060977  26.956271  28.205810  17.571053   \n",
       "1975-03-31  32.296539  33.542975  25.381341  27.264731  28.420407  17.689717   \n",
       "1975-04-30  32.416385  34.402826  25.627200  27.546568  28.578762  17.818792   \n",
       "1975-05-31  32.563209  34.649755  25.782334  27.794738  28.717611  17.933277   \n",
       "\n",
       "                   WV         WI         WY  \n",
       "Date                                         \n",
       "1975-01-31  41.002072  28.096764  31.668794  \n",
       "1975-02-28  42.040473  28.486170  32.161920  \n",
       "1975-03-31  43.122486  28.860737  32.680525  \n",
       "1975-04-30  44.239196  29.185048  33.210124  \n",
       "1975-05-31  45.363222  29.443523  33.714128  \n",
       "\n",
       "[5 rows x 51 columns]"
      ]
     },
     "execution_count": 158,
     "metadata": {},
     "output_type": "execute_result"
    }
   ],
   "source": [
    "HPI_data.to_pickle('pickle.pickle')\n",
    "HPI_data2 = pd.read_pickle('pickle.pickle')\n",
    "HPI_data2.head()"
   ]
  },
  {
   "cell_type": "markdown",
   "metadata": {},
   "source": [
    "# Percent Change and Correlation Tables"
   ]
  },
  {
   "cell_type": "code",
   "execution_count": 159,
   "metadata": {},
   "outputs": [
    {
     "data": {
      "image/png": "[encoded data removed]",
      "text/plain": [
       "<Figure size 432x288 with 1 Axes>"
      ]
     },
     "metadata": {},
     "output_type": "display_data"
    }
   ],
   "source": [
    "HPI_data2.plot()\n",
    "plt.legend().remove()"
   ]
  },
  {
   "cell_type": "markdown",
   "metadata": {},
   "source": [
    "#### pct_change is the percent change from previous value"
   ]
  },
  {
   "cell_type": "code",
   "execution_count": 160,
   "metadata": {},
   "outputs": [],
   "source": [
    "def grab_state_initials():\n",
    "    main_df = pd.DataFrame()\n",
    "    for ab in fifty_states[3]:\n",
    "        query = \"FMAC/HPI_\"+str(ab)\n",
    "        df = quandl.get(query, authtoken=api_key)\n",
    "        df.columns = [ab]\n",
    "        df[ab] = (df[ab] - df[ab][0]) / df[ab][0] * 100\n",
    "        if main_df.empty:\n",
    "            main_df = df\n",
    "        else:\n",
    "            main_df = main_df.join(df)\n",
    "    return main_df"
   ]
  },
  {
   "cell_type": "code",
   "execution_count": 161,
   "metadata": {},
   "outputs": [],
   "source": [
    "save_object()"
   ]
  },
  {
   "cell_type": "code",
   "execution_count": 167,
   "metadata": {},
   "outputs": [
    {
     "data": {
      "image/png": "[encoded data removed]",
      "text/plain": [
       "<Figure size 432x288 with 1 Axes>"
      ]
     },
     "metadata": {},
     "output_type": "display_data"
    }
   ],
   "source": [
    "HPI_data = grab_state_initials()\n",
    "HPI_data.plot()\n",
    "plt.legend().remove()"
   ]
  },
  {
   "cell_type": "code",
   "execution_count": 171,
   "metadata": {},
   "outputs": [
    {
     "data": {
      "image/png": "[encoded data removed]",
      "text/plain": [
       "<Figure size 432x288 with 1 Axes>"
      ]
     },
     "metadata": {},
     "output_type": "display_data"
    }
   ],
   "source": [
    "def HPI_Benchmark():\n",
    "    df = quandl.get(\"FMAC/HPI_USA\", authtoken=api_key)\n",
    "    df.columns = ['United States']\n",
    "    df[\"United States\"] = (df[\"United States\"] - df[\"United States\"][0]) / df[\"United States\"][0] * 100\n",
    "    return df\n",
    "fig = plt.figure()\n",
    "ax1 = plt.subplot2grid((1,1),(0,0))\n",
    "\n",
    "benchmark = HPI_Benchmark()\n",
    "HPI_data.plot(ax = ax1)\n",
    "benchmark.plot(ax = ax1, color = 'k', linewidth=10)\n",
    "plt.legend().remove()"
   ]
  },
  {
   "cell_type": "markdown",
   "metadata": {},
   "source": [
    "#### Correlation Between States"
   ]
  },
  {
   "cell_type": "code",
   "execution_count": 175,
   "metadata": {},
   "outputs": [
    {
     "data": {
      "text/html": [
       "<div>\n",
       "<style scoped>\n",
       "    .dataframe tbody tr th:only-of-type {\n",
       "        vertical-align: middle;\n",
       "    }\n",
       "\n",
       "    .dataframe tbody tr th {\n",
       "        vertical-align: top;\n",
       "    }\n",
       "\n",
       "    .dataframe thead th {\n",
       "        text-align: right;\n",
       "    }\n",
       "</style>\n",
       "<table border=\"1\" class=\"dataframe\">\n",
       "  <thead>\n",
       "    <tr style=\"text-align: right;\">\n",
       "      <th></th>\n",
       "      <th>AL</th>\n",
       "      <th>AK</th>\n",
       "      <th>AZ</th>\n",
       "      <th>AR</th>\n",
       "      <th>CA</th>\n",
       "      <th>CO</th>\n",
       "      <th>CT</th>\n",
       "      <th>DE</th>\n",
       "      <th>DC</th>\n",
       "      <th>FL</th>\n",
       "      <th>...</th>\n",
       "      <th>SD</th>\n",
       "      <th>TN</th>\n",
       "      <th>TX</th>\n",
       "      <th>UT</th>\n",
       "      <th>VT</th>\n",
       "      <th>VA</th>\n",
       "      <th>WA</th>\n",
       "      <th>WV</th>\n",
       "      <th>WI</th>\n",
       "      <th>WY</th>\n",
       "    </tr>\n",
       "  </thead>\n",
       "  <tbody>\n",
       "    <tr>\n",
       "      <th>count</th>\n",
       "      <td>51.000000</td>\n",
       "      <td>51.000000</td>\n",
       "      <td>51.000000</td>\n",
       "      <td>51.000000</td>\n",
       "      <td>51.000000</td>\n",
       "      <td>51.000000</td>\n",
       "      <td>51.000000</td>\n",
       "      <td>51.000000</td>\n",
       "      <td>51.000000</td>\n",
       "      <td>51.000000</td>\n",
       "      <td>...</td>\n",
       "      <td>51.000000</td>\n",
       "      <td>51.000000</td>\n",
       "      <td>51.000000</td>\n",
       "      <td>51.000000</td>\n",
       "      <td>51.000000</td>\n",
       "      <td>51.000000</td>\n",
       "      <td>51.000000</td>\n",
       "      <td>51.000000</td>\n",
       "      <td>51.000000</td>\n",
       "      <td>51.000000</td>\n",
       "    </tr>\n",
       "    <tr>\n",
       "      <th>mean</th>\n",
       "      <td>0.968903</td>\n",
       "      <td>0.943842</td>\n",
       "      <td>0.936927</td>\n",
       "      <td>0.971336</td>\n",
       "      <td>0.949137</td>\n",
       "      <td>0.950786</td>\n",
       "      <td>0.925384</td>\n",
       "      <td>0.961098</td>\n",
       "      <td>0.927123</td>\n",
       "      <td>0.934232</td>\n",
       "      <td>...</td>\n",
       "      <td>0.961505</td>\n",
       "      <td>0.970239</td>\n",
       "      <td>0.933180</td>\n",
       "      <td>0.957610</td>\n",
       "      <td>0.963229</td>\n",
       "      <td>0.967269</td>\n",
       "      <td>0.966261</td>\n",
       "      <td>0.964743</td>\n",
       "      <td>0.964327</td>\n",
       "      <td>0.943506</td>\n",
       "    </tr>\n",
       "    <tr>\n",
       "      <th>std</th>\n",
       "      <td>0.026199</td>\n",
       "      <td>0.039298</td>\n",
       "      <td>0.025501</td>\n",
       "      <td>0.025374</td>\n",
       "      <td>0.022035</td>\n",
       "      <td>0.030071</td>\n",
       "      <td>0.041548</td>\n",
       "      <td>0.028919</td>\n",
       "      <td>0.043348</td>\n",
       "      <td>0.028322</td>\n",
       "      <td>...</td>\n",
       "      <td>0.033578</td>\n",
       "      <td>0.025051</td>\n",
       "      <td>0.040177</td>\n",
       "      <td>0.030824</td>\n",
       "      <td>0.029123</td>\n",
       "      <td>0.024811</td>\n",
       "      <td>0.023235</td>\n",
       "      <td>0.030485</td>\n",
       "      <td>0.026282</td>\n",
       "      <td>0.041253</td>\n",
       "    </tr>\n",
       "    <tr>\n",
       "      <th>min</th>\n",
       "      <td>0.882021</td>\n",
       "      <td>0.789730</td>\n",
       "      <td>0.862478</td>\n",
       "      <td>0.872360</td>\n",
       "      <td>0.879030</td>\n",
       "      <td>0.850228</td>\n",
       "      <td>0.814481</td>\n",
       "      <td>0.872770</td>\n",
       "      <td>0.759684</td>\n",
       "      <td>0.852304</td>\n",
       "      <td>...</td>\n",
       "      <td>0.827538</td>\n",
       "      <td>0.869478</td>\n",
       "      <td>0.807780</td>\n",
       "      <td>0.861735</td>\n",
       "      <td>0.850858</td>\n",
       "      <td>0.857898</td>\n",
       "      <td>0.877117</td>\n",
       "      <td>0.843745</td>\n",
       "      <td>0.887492</td>\n",
       "      <td>0.786434</td>\n",
       "    </tr>\n",
       "    <tr>\n",
       "      <th>25%</th>\n",
       "      <td>0.953754</td>\n",
       "      <td>0.932997</td>\n",
       "      <td>0.923539</td>\n",
       "      <td>0.964267</td>\n",
       "      <td>0.938087</td>\n",
       "      <td>0.937233</td>\n",
       "      <td>0.897474</td>\n",
       "      <td>0.949738</td>\n",
       "      <td>0.914562</td>\n",
       "      <td>0.918276</td>\n",
       "      <td>...</td>\n",
       "      <td>0.951094</td>\n",
       "      <td>0.959994</td>\n",
       "      <td>0.916252</td>\n",
       "      <td>0.944197</td>\n",
       "      <td>0.955144</td>\n",
       "      <td>0.960874</td>\n",
       "      <td>0.958597</td>\n",
       "      <td>0.955650</td>\n",
       "      <td>0.952104</td>\n",
       "      <td>0.926865</td>\n",
       "    </tr>\n",
       "    <tr>\n",
       "      <th>50%</th>\n",
       "      <td>0.977369</td>\n",
       "      <td>0.954573</td>\n",
       "      <td>0.939341</td>\n",
       "      <td>0.978916</td>\n",
       "      <td>0.947571</td>\n",
       "      <td>0.957207</td>\n",
       "      <td>0.929113</td>\n",
       "      <td>0.965842</td>\n",
       "      <td>0.936322</td>\n",
       "      <td>0.933325</td>\n",
       "      <td>...</td>\n",
       "      <td>0.972216</td>\n",
       "      <td>0.976720</td>\n",
       "      <td>0.937394</td>\n",
       "      <td>0.965167</td>\n",
       "      <td>0.970892</td>\n",
       "      <td>0.973429</td>\n",
       "      <td>0.972113</td>\n",
       "      <td>0.974658</td>\n",
       "      <td>0.970380</td>\n",
       "      <td>0.954652</td>\n",
       "    </tr>\n",
       "    <tr>\n",
       "      <th>75%</th>\n",
       "      <td>0.985735</td>\n",
       "      <td>0.965288</td>\n",
       "      <td>0.947784</td>\n",
       "      <td>0.988917</td>\n",
       "      <td>0.963311</td>\n",
       "      <td>0.971608</td>\n",
       "      <td>0.956632</td>\n",
       "      <td>0.980168</td>\n",
       "      <td>0.954495</td>\n",
       "      <td>0.951643</td>\n",
       "      <td>...</td>\n",
       "      <td>0.982503</td>\n",
       "      <td>0.987833</td>\n",
       "      <td>0.961440</td>\n",
       "      <td>0.980700</td>\n",
       "      <td>0.980431</td>\n",
       "      <td>0.979182</td>\n",
       "      <td>0.979009</td>\n",
       "      <td>0.983731</td>\n",
       "      <td>0.984753</td>\n",
       "      <td>0.967009</td>\n",
       "    </tr>\n",
       "    <tr>\n",
       "      <th>max</th>\n",
       "      <td>1.000000</td>\n",
       "      <td>1.000000</td>\n",
       "      <td>1.000000</td>\n",
       "      <td>1.000000</td>\n",
       "      <td>1.000000</td>\n",
       "      <td>1.000000</td>\n",
       "      <td>1.000000</td>\n",
       "      <td>1.000000</td>\n",
       "      <td>1.000000</td>\n",
       "      <td>1.000000</td>\n",
       "      <td>...</td>\n",
       "      <td>1.000000</td>\n",
       "      <td>1.000000</td>\n",
       "      <td>1.000000</td>\n",
       "      <td>1.000000</td>\n",
       "      <td>1.000000</td>\n",
       "      <td>1.000000</td>\n",
       "      <td>1.000000</td>\n",
       "      <td>1.000000</td>\n",
       "      <td>1.000000</td>\n",
       "      <td>1.000000</td>\n",
       "    </tr>\n",
       "  </tbody>\n",
       "</table>\n",
       "<p>8 rows × 51 columns</p>\n",
       "</div>"
      ],
      "text/plain": [
       "              AL         AK         AZ         AR         CA         CO  \\\n",
       "count  51.000000  51.000000  51.000000  51.000000  51.000000  51.000000   \n",
       "mean    0.968903   0.943842   0.936927   0.971336   0.949137   0.950786   \n",
       "std     0.026199   0.039298   0.025501   0.025374   0.022035   0.030071   \n",
       "min     0.882021   0.789730   0.862478   0.872360   0.879030   0.850228   \n",
       "25%     0.953754   0.932997   0.923539   0.964267   0.938087   0.937233   \n",
       "50%     0.977369   0.954573   0.939341   0.978916   0.947571   0.957207   \n",
       "75%     0.985735   0.965288   0.947784   0.988917   0.963311   0.971608   \n",
       "max     1.000000   1.000000   1.000000   1.000000   1.000000   1.000000   \n",
       "\n",
       "              CT         DE         DC         FL    ...             SD  \\\n",
       "count  51.000000  51.000000  51.000000  51.000000    ...      51.000000   \n",
       "mean    0.925384   0.961098   0.927123   0.934232    ...       0.961505   \n",
       "std     0.041548   0.028919   0.043348   0.028322    ...       0.033578   \n",
       "min     0.814481   0.872770   0.759684   0.852304    ...       0.827538   \n",
       "25%     0.897474   0.949738   0.914562   0.918276    ...       0.951094   \n",
       "50%     0.929113   0.965842   0.936322   0.933325    ...       0.972216   \n",
       "75%     0.956632   0.980168   0.954495   0.951643    ...       0.982503   \n",
       "max     1.000000   1.000000   1.000000   1.000000    ...       1.000000   \n",
       "\n",
       "              TN         TX         UT         VT         VA         WA  \\\n",
       "count  51.000000  51.000000  51.000000  51.000000  51.000000  51.000000   \n",
       "mean    0.970239   0.933180   0.957610   0.963229   0.967269   0.966261   \n",
       "std     0.025051   0.040177   0.030824   0.029123   0.024811   0.023235   \n",
       "min     0.869478   0.807780   0.861735   0.850858   0.857898   0.877117   \n",
       "25%     0.959994   0.916252   0.944197   0.955144   0.960874   0.958597   \n",
       "50%     0.976720   0.937394   0.965167   0.970892   0.973429   0.972113   \n",
       "75%     0.987833   0.961440   0.980700   0.980431   0.979182   0.979009   \n",
       "max     1.000000   1.000000   1.000000   1.000000   1.000000   1.000000   \n",
       "\n",
       "              WV         WI         WY  \n",
       "count  51.000000  51.000000  51.000000  \n",
       "mean    0.964743   0.964327   0.943506  \n",
       "std     0.030485   0.026282   0.041253  \n",
       "min     0.843745   0.887492   0.786434  \n",
       "25%     0.955650   0.952104   0.926865  \n",
       "50%     0.974658   0.970380   0.954652  \n",
       "75%     0.983731   0.984753   0.967009  \n",
       "max     1.000000   1.000000   1.000000  \n",
       "\n",
       "[8 rows x 51 columns]"
      ]
     },
     "execution_count": 175,
     "metadata": {},
     "output_type": "execute_result"
    }
   ],
   "source": [
    "HPI_State_Correlation = HPI_data.corr()\n",
    "HPI_State_Correlation.head()\n",
    "HPI_State_Correlation.describe()"
   ]
  },
  {
   "cell_type": "markdown",
   "metadata": {},
   "source": [
    "# Resampling\n",
    "#### Taking milliseconds of data for a year, average it, and get the price"
   ]
  },
  {
   "cell_type": "code",
   "execution_count": 178,
   "metadata": {},
   "outputs": [
    {
     "name": "stderr",
     "output_type": "stream",
     "text": [
      "/usr/lib/python3.6/site-packages/ipykernel_launcher.py:1: FutureWarning: how in .resample() is deprecated\n",
      "the new syntax is .resample(...).mean()\n",
      "  \"\"\"Entry point for launching an IPython kernel.\n"
     ]
    },
    {
     "data": {
      "text/plain": [
       "Date\n",
       "1975-12-31     4.039782\n",
       "1976-12-31    11.367589\n",
       "1977-12-31    22.555985\n",
       "1978-12-31    40.746679\n",
       "1979-12-31    63.361461\n",
       "Freq: A-DEC, Name: TX, dtype: float64"
      ]
     },
     "execution_count": 178,
     "metadata": {},
     "output_type": "execute_result"
    }
   ],
   "source": [
    "TX1yr = HPI_data['TX'].resample('A',how = 'mean') #Annual\n",
    "TX1yr.head()"
   ]
  },
  {
   "cell_type": "code",
   "execution_count": 180,
   "metadata": {},
   "outputs": [
    {
     "data": {
      "text/plain": [
       "<matplotlib.legend.Legend at 0x7f8f58789400>"
      ]
     },
     "execution_count": 180,
     "metadata": {},
     "output_type": "execute_result"
    },
    {
     "data": {
      "image/png": "[encoded data removed]",
      "text/plain": [
       "<Figure size 432x288 with 1 Axes>"
      ]
     },
     "metadata": {},
     "output_type": "display_data"
    }
   ],
   "source": [
    "HPI_data['TX'].plot(label = 'Monthly TX HPI')\n",
    "TX1yr.plot(label = 'Yearly TX HPI')\n",
    "plt.legend()"
   ]
  },
  {
   "cell_type": "markdown",
   "metadata": {},
   "source": [
    "# Handling Missing Data"
   ]
  },
  {
   "cell_type": "code",
   "execution_count": 184,
   "metadata": {},
   "outputs": [
    {
     "name": "stderr",
     "output_type": "stream",
     "text": [
      "/usr/lib/python3.6/site-packages/ipykernel_launcher.py:1: FutureWarning: how in .resample() is deprecated\n",
      "the new syntax is .resample(...).mean()\n",
      "  \"\"\"Entry point for launching an IPython kernel.\n"
     ]
    },
    {
     "data": {
      "text/html": [
       "<div>\n",
       "<style scoped>\n",
       "    .dataframe tbody tr th:only-of-type {\n",
       "        vertical-align: middle;\n",
       "    }\n",
       "\n",
       "    .dataframe tbody tr th {\n",
       "        vertical-align: top;\n",
       "    }\n",
       "\n",
       "    .dataframe thead th {\n",
       "        text-align: right;\n",
       "    }\n",
       "</style>\n",
       "<table border=\"1\" class=\"dataframe\">\n",
       "  <thead>\n",
       "    <tr style=\"text-align: right;\">\n",
       "      <th></th>\n",
       "      <th>TX</th>\n",
       "      <th>TX1yr</th>\n",
       "    </tr>\n",
       "    <tr>\n",
       "      <th>Date</th>\n",
       "      <th></th>\n",
       "      <th></th>\n",
       "    </tr>\n",
       "  </thead>\n",
       "  <tbody>\n",
       "    <tr>\n",
       "      <th>1975-01-31</th>\n",
       "      <td>0.000000</td>\n",
       "      <td>NaN</td>\n",
       "    </tr>\n",
       "    <tr>\n",
       "      <th>1975-02-28</th>\n",
       "      <td>1.048285</td>\n",
       "      <td>NaN</td>\n",
       "    </tr>\n",
       "    <tr>\n",
       "      <th>1975-03-31</th>\n",
       "      <td>2.885144</td>\n",
       "      <td>NaN</td>\n",
       "    </tr>\n",
       "    <tr>\n",
       "      <th>1975-04-30</th>\n",
       "      <td>5.522535</td>\n",
       "      <td>NaN</td>\n",
       "    </tr>\n",
       "    <tr>\n",
       "      <th>1975-05-31</th>\n",
       "      <td>6.279930</td>\n",
       "      <td>NaN</td>\n",
       "    </tr>\n",
       "  </tbody>\n",
       "</table>\n",
       "</div>"
      ],
      "text/plain": [
       "                  TX  TX1yr\n",
       "Date                       \n",
       "1975-01-31  0.000000    NaN\n",
       "1975-02-28  1.048285    NaN\n",
       "1975-03-31  2.885144    NaN\n",
       "1975-04-30  5.522535    NaN\n",
       "1975-05-31  6.279930    NaN"
      ]
     },
     "execution_count": 184,
     "metadata": {},
     "output_type": "execute_result"
    }
   ],
   "source": [
    "HPI_data['TX1yr'] = HPI_data['TX'].resample('A',how = 'mean') #Annual\n",
    "HPI_data[['TX','TX1yr']].head()"
   ]
  },
  {
   "cell_type": "markdown",
   "metadata": {},
   "source": [
    "#### Delete"
   ]
  },
  {
   "cell_type": "code",
   "execution_count": 186,
   "metadata": {},
   "outputs": [
    {
     "data": {
      "text/plain": [
       "<matplotlib.axes._subplots.AxesSubplot at 0x7f8f589e4208>"
      ]
     },
     "execution_count": 186,
     "metadata": {},
     "output_type": "execute_result"
    },
    {
     "data": {
      "image/png": "[encoded data removed]",
      "text/plain": [
       "<Figure size 432x288 with 1 Axes>"
      ]
     },
     "metadata": {},
     "output_type": "display_data"
    }
   ],
   "source": [
    "HPI_data1 = HPI_data.dropna()\n",
    "HPI_data1[['TX','TX1yr']].plot()"
   ]
  },
  {
   "cell_type": "markdown",
   "metadata": {},
   "source": [
    "#### Replace NaN with a number"
   ]
  },
  {
   "cell_type": "code",
   "execution_count": 187,
   "metadata": {},
   "outputs": [
    {
     "data": {
      "text/plain": [
       "<matplotlib.axes._subplots.AxesSubplot at 0x7f8f5ac1d438>"
      ]
     },
     "execution_count": 187,
     "metadata": {},
     "output_type": "execute_result"
    },
    {
     "data": {
      "image/png": "[encoded data removed]",
      "text/plain": [
       "<Figure size 432x288 with 1 Axes>"
      ]
     },
     "metadata": {},
     "output_type": "display_data"
    }
   ],
   "source": [
    "HPI_data2 = HPI_data.fillna(method='ffill') #Forward Fill\n",
    "HPI_data2[['TX','TX1yr']].plot()"
   ]
  },
  {
   "cell_type": "markdown",
   "metadata": {},
   "source": [
    "# Rolling Statistics"
   ]
  },
  {
   "cell_type": "code",
   "execution_count": null,
   "metadata": {},
   "outputs": [],
   "source": [
    "HPI_data['TX12MA'] = HPI_data['TX'].resample('A',how = 'mean') #Annual\n",
    "HPI_data2[['TX','TX12MA']].plot()"
   ]
  }
 ],
 "metadata": {
  "kernelspec": {
   "display_name": "Python 3",
   "language": "python",
   "name": "python3"
  },
  "language_info": {
   "codemirror_mode": {
    "name": "ipython",
    "version": 3
   },
   "file_extension": ".py",
   "mimetype": "text/x-python",
   "name": "python",
   "nbconvert_exporter": "python",
   "pygments_lexer": "ipython3",
   "version": "3.6.5"
  }
 },
 "nbformat": 4,
 "nbformat_minor": 2
}
