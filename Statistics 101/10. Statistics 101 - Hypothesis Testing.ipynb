{
 "cells": [
  {
   "cell_type": "code",
   "execution_count": 2,
   "metadata": {},
   "outputs": [],
   "source": [
    "import pandas as pd\n",
    "import seaborn as sns\n",
    "import numpy as np\n",
    "import math\n",
    "import matplotlib.pyplot as plt\n",
    "from random import randint\n",
    "import scipy.stats as ss\n",
    "#from scipy.stats import norm, kurtosis, skew\n",
    "import itertools as itt\n",
    "sns.set(rc={'figure.figsize':(11.7,8.27)})"
   ]
  },
  {
   "cell_type": "markdown",
   "metadata": {},
   "source": [
    "# Introduction to Hypothesis Testinga\n",
    "## Example Bottled Water\n",
    "\n",
    "### Problem\n",
    "A bottled water manufacturer's most popular product is a 12 fluid ounces (355ml bottle. This info is on the label so we assumme that it is true, but is it true?\n",
    "\n",
    "As a customer, we are concerned that there is at least 355ml in the bottle.\n",
    "\n",
    "However if we are the manufacterer, we want the volume to be ex;actly 355ml. We do not want upset customers, but we also do not want higher cost of production (over filling)\n",
    "\n",
    "\n",
    "### Assumptions\n",
    "Customer\n",
    "- Assumes at least 355ml; Quantity of water >= 355ml\n",
    "\n",
    "Manufacterer\n",
    "- Assumes exactly 355ml; Quantity of water = 355ml\n",
    "\n",
    "### Questions:\n",
    "\n",
    "Customer\n",
    "- \"Is there, on average, at least 355ml of water in each bottle?\"\n",
    "\n",
    "Manufacturer\n",
    "- \"Is there, on average, exactly 355ml of water in each bottle?\"\n",
    "\n",
    "### Experiment\n",
    "We collect 50 bottles from all over the counrty to randomize the sample in terms of location, time, manfacturing plant, etc.  We then measure the volume of each bottle in the sample and find the mean volume for all 50 bottles.\n",
    "\n",
    "Using those sample means, we can TEST THE ASSUMPTION; the status quo"
   ]
  },
  {
   "cell_type": "markdown",
   "metadata": {},
   "source": [
    "## Example Hybrid Engine\n",
    "\n",
    "### Problem:\n",
    "An auto manufacturer has developed a new hybrid engine technology it claims reduces fuel consumption while driving in the city. The CLAIM is that the new technology improves fuel efficiency making it better than the old engine that produces 30 mpg. The company will run controlled tests to look for statistical evidence to support the claim that the new engine offers better efficiency than the old model\n",
    "\n",
    "### Claim\n",
    "Company Claim\n",
    "- Fuel Efficiency > 30 mpg\n",
    "\n",
    "The manufacturer is making a claim it wishes to test; it is NOT testing an assumption that already exists)\n",
    "\n",
    "## Thinking about Hypothesis\n",
    "When trying to formulate a statistical hyothesis, Ask the following question:\n",
    "- \"Am I trying an assumption, or status quo, that already exists? (water bottle). Or am I testing a claim or assertion beyond what I already know or can know?\" (hybrid engine)\n",
    "- If we wanted to test the gas mileage listed on a current car sticker, we would be testing an assumption not a claim\n",
    "\n",
    "## Null and Alternative Frustrations\n",
    "By definition, the null and alternative hypotheses are opposites\n",
    "- The null hypothesis is either rejected or it is not. Only if the null is rejected can we proceed to the alternative \n",
    "\n",
    "Researchers can start with either the null or alternative\n",
    "\n",
    "### Null\n",
    "\"This is accepted as true, let's test it\n",
    "\n",
    "### Alternative\n",
    "\"This might be true, let's test it. If not, the truth is something else"
   ]
  },
  {
   "cell_type": "markdown",
   "metadata": {},
   "source": [
    "# Null and Alternative Hypothesis\n",
    "\n",
    "## Symbols\n",
    "Null Hypothesis $H_O$ \n",
    "- \"Null\" means nothing new; status qou is maintained\n",
    "\n",
    "Alternative Hypothesis $H_a$\n",
    "- \"Alternative\" is simply \"the other option\" when the null is rejected; nothing more\n",
    "\n",
    "## Properties"
   ]
  },
  {
   "cell_type": "code",
   "execution_count": 6,
   "metadata": {},
   "outputs": [
    {
     "data": {
      "text/html": [
       "<div>\n",
       "<style scoped>\n",
       "    .dataframe tbody tr th:only-of-type {\n",
       "        vertical-align: middle;\n",
       "    }\n",
       "\n",
       "    .dataframe tbody tr th {\n",
       "        vertical-align: top;\n",
       "    }\n",
       "\n",
       "    .dataframe thead th {\n",
       "        text-align: right;\n",
       "    }\n",
       "</style>\n",
       "<table border=\"1\" class=\"dataframe\">\n",
       "  <thead>\n",
       "    <tr style=\"text-align: right;\">\n",
       "      <th></th>\n",
       "      <th>H_a</th>\n",
       "      <th>H_o</th>\n",
       "    </tr>\n",
       "  </thead>\n",
       "  <tbody>\n",
       "    <tr>\n",
       "      <th>0</th>\n",
       "      <td>Rejection of an assumption</td>\n",
       "      <td>Assumption, status quo</td>\n",
       "    </tr>\n",
       "    <tr>\n",
       "      <th>1</th>\n",
       "      <td>Rejection of an assumption or the given.</td>\n",
       "      <td>Assumed to be true; a given</td>\n",
       "    </tr>\n",
       "    <tr>\n",
       "      <th>2</th>\n",
       "      <td>Research question to be proven</td>\n",
       "      <td>Negation of the research question</td>\n",
       "    </tr>\n",
       "    <tr>\n",
       "      <th>3</th>\n",
       "      <td>Does not contain equality (!=,&lt;,&gt;)</td>\n",
       "      <td>Always contains an equality (=,&lt;=,&gt;=)</td>\n",
       "    </tr>\n",
       "  </tbody>\n",
       "</table>\n",
       "</div>"
      ],
      "text/plain": [
       "                                        H_a  \\\n",
       "0                Rejection of an assumption   \n",
       "1  Rejection of an assumption or the given.   \n",
       "2            Research question to be proven   \n",
       "3        Does not contain equality (!=,<,>)   \n",
       "\n",
       "                                     H_o  \n",
       "0                 Assumption, status quo  \n",
       "1            Assumed to be true; a given  \n",
       "2      Negation of the research question  \n",
       "3  Always contains an equality (=,<=,>=)  "
      ]
     },
     "execution_count": 6,
     "metadata": {},
     "output_type": "execute_result"
    }
   ],
   "source": [
    "pd.DataFrame({'H_o': ['Assumption, status quo', 'Assumed to be true; a given','Negation of the research question','Always contains an equality (=,<=,>=)'], 'H_a': ['Rejection of an assumption','Rejection of an assumption or the given.','Research question to be proven','Does not contain equality (!=,<,>)']})"
   ]
  },
  {
   "cell_type": "markdown",
   "metadata": {},
   "source": [
    "### Null/Alternative Pairs\n",
    "$H_O =$ and $H_a \\neq$\n",
    "\n",
    "$H_O \\leq$ and $H_a >$\n",
    "\n",
    "$H_O \\geq$ and $H_a <$"
   ]
  },
  {
   "cell_type": "markdown",
   "metadata": {},
   "source": [
    "### Null/Alternative Statements\n",
    "- All statistical conclusions are made in reference to the null hypothesis\n",
    "- As researchers we either reject the null hypothesis or fail to reject the null hypothesis; we do not accept the null. This is due to the fact that the null hypothesis is assumed to be true from the start; rejecting or failing to reject an assumption.\n",
    "- If we reject the null hypothesis, then we conclude the data supports the alternative hypothesis\n",
    "- However if we fail to reject the null hypothesis, it does not mean we have proven the null hypothesis is \"true\" Failure to reject the null does not equate to \"proof\" about its truth"
   ]
  },
  {
   "cell_type": "markdown",
   "metadata": {},
   "source": [
    "# Null and Alternative Hypothesis Example Problems\n",
    "'A bottled water manufacturer's states on the product label that each bottle contains 12 fluid ounces (355ml) of water. You work for a government agency that protects consumers by testing product volumes. A sample of 50 bottles is tested.\n",
    "\n",
    "Is there anything we can assume to be true?\n",
    "- Yes. The 355ml on the bottle is assumed to be true.\n",
    "\n",
    "Which hypothesis pair seems to be appropriate?\n",
    "- $H_O =$ and $H_a \\neq$\n",
    "- $H_O = 355ml$ and $H_a \\neq 355ml$\n",
    "\n",
    "If the data indicates the bottles are being filled properly, then we fail to reject the null; fail to reject our assumption. We are not saying we have proven the null. Just that our assumption has held up\n",
    "\n",
    "If the data indicates the bottles are not being filled properly, then we reject the null;reject our assumption. Our assumption has not held up under analysis. We have statistical support for the validity of the alternative hypothesis\n",
    "\n",
    "## Example 2: Farm\n",
    "According to the U.S. Department of Agriculture, in 2006 the average farm size in the state of Texas was $2.3km^2$. Since the decades=long trend as been for a farm sizes to increase due to large agribusiness, a business analyst wishes to test if current farm size is larger than it was in 2006. Establish a null and alternative hypothesis\n",
    "\n",
    "### What is our assumption?\n",
    "We assume that there has been no change in farm size since 2006. This is our null hypothesis.\n",
    "\n",
    "### Are we testing a preliminary claim?\n",
    "Yes. We wish to see of the farm size has INCREASED since 2006\n",
    "\n",
    "### Which hypothesis format should we choose?\n",
    "$H_O \\leq$ and $H_a >$\n",
    "\n",
    "$H_O \\leq 2.3km^2$ and $H_a > 2.3km^2$\n",
    "\n",
    "If the data indicates that farm size has increased, then we reject the null;reject our assumption. Our assumption has not held up under analysis. We have statistical support for the validity of the alternative hypothesis\n"
   ]
  },
  {
   "cell_type": "markdown",
   "metadata": {},
   "source": [
    "# Type I and Type II Errors\n",
    "## Example The Fire Alarm Hypothesis\n",
    "Let's say you are going down the hallway at work or school, doing your own thing; everything is normal. Suddenly you encounter a sudden smell of smoke.\n",
    "\n",
    "You know that may mean a serious fire is taking place. Or it could be nothing serious; maybe someone burned popcorn in the microwave.\n",
    "\n",
    "Decisions you make:\n",
    "- If you think the smokey smell is nothing serious, you may decide your assumption that everything is normal is correct and you will not pull the fire alarm.\n",
    "- If you think the smokey smell is due to a serious fire, you may reject your assumption that everything is normal and you will pull the fire alarm.\n",
    "\n",
    "What might go wrong:\n",
    "1. You smell smoke\n",
    "2. You think \"This is not normal\" (reject the null hypothesis that everything is OK)\n",
    "3. Therefore you pull the fire alarm\n",
    "4. The building is evacuated and the fire department arrives to investigate.\n",
    "5. After the investigation it is determined there was no fire. You \"falsely\" pulled the fire alarm\n",
    "6. When you rejected your assumption that everything was OK, when it really was OK, you committed Type I Error. A \"false alarm.\n",
    "\n",
    "### Type I Error\n",
    "Rejection of the assumption (null hypothesis) when it should not have been rejected.\n",
    "\n",
    "Incorrectly rejecting the null hypothesis.\n",
    "\n",
    "In this case, a \"false alarm\"\n",
    "\n",
    "What might go wrong:\n",
    "1. You smell smoke\n",
    "2. You think \"It is probably someone who burned their lunch in the microwave. No big deal.\"\n",
    "3. Therefore you do not reject your assumption (null hypothesis) that everything is OK. You uphold the null.\n",
    "4. But there is indeed a fire, not one is injured, but the building burns to the groun.\n",
    "5. When you failed to reject your assumption that everything was OK, when It really was NOT OK, you committed Type II Error\n",
    "\n",
    "### Type II Error\n",
    "Failure to reject the assumption (null hypothesis) when it should have been rejected.\n",
    "\n",
    "Incorrectly not rejecting the null hypothesis.\n",
    "\n",
    "## Hypothesis\n",
    "$H_O$ = smoke is annoying but not serious; everything is OK as usual; no fire\n",
    "\n",
    "$H_a$ = smoke evidence of a serious fire; everything NOT OK as usual; fire\n"
   ]
  },
  {
   "cell_type": "markdown",
   "metadata": {},
   "source": [
    "<img src = 'errors.png'>"
   ]
  },
  {
   "cell_type": "code",
   "execution_count": 20,
   "metadata": {},
   "outputs": [
    {
     "data": {
      "text/html": [
       "<div>\n",
       "<style scoped>\n",
       "    .dataframe tbody tr th:only-of-type {\n",
       "        vertical-align: middle;\n",
       "    }\n",
       "\n",
       "    .dataframe tbody tr th {\n",
       "        vertical-align: top;\n",
       "    }\n",
       "\n",
       "    .dataframe thead th {\n",
       "        text-align: right;\n",
       "    }\n",
       "</style>\n",
       "<table border=\"1\" class=\"dataframe\">\n",
       "  <thead>\n",
       "    <tr style=\"text-align: right;\">\n",
       "      <th></th>\n",
       "      <th>1</th>\n",
       "      <th>Acutal Condtion</th>\n",
       "      <th>Acutal Condtion.</th>\n",
       "    </tr>\n",
       "  </thead>\n",
       "  <tbody>\n",
       "    <tr>\n",
       "      <th>-</th>\n",
       "      <td>-</td>\n",
       "      <td>No Serious Fire</td>\n",
       "      <td>Serious Fire</td>\n",
       "    </tr>\n",
       "    <tr>\n",
       "      <th>Conclusion</th>\n",
       "      <td>Do not reject H_o (no serious fire)</td>\n",
       "      <td>Correct Conclusion</td>\n",
       "      <td>Type II Error</td>\n",
       "    </tr>\n",
       "    <tr>\n",
       "      <th>Conclusion</th>\n",
       "      <td>Reject H_o (serious fire)</td>\n",
       "      <td>Type I Error</td>\n",
       "      <td>Correct Conclusion</td>\n",
       "    </tr>\n",
       "  </tbody>\n",
       "</table>\n",
       "</div>"
      ],
      "text/plain": [
       "                                              1     Acutal Condtion  \\\n",
       "-                                             -     No Serious Fire   \n",
       "Conclusion  Do not reject H_o (no serious fire)  Correct Conclusion   \n",
       "Conclusion            Reject H_o (serious fire)        Type I Error   \n",
       "\n",
       "              Acutal Condtion.  \n",
       "-                 Serious Fire  \n",
       "Conclusion       Type II Error  \n",
       "Conclusion  Correct Conclusion  "
      ]
     },
     "execution_count": 20,
     "metadata": {},
     "output_type": "execute_result"
    }
   ],
   "source": [
    "errors_df = pd.DataFrame({'1': ['-','Do not reject H_o (no serious fire)', 'Reject H_o (serious fire)'], 'Acutal Condtion': ['No Serious Fire','Correct Conclusion','Type I Error'], 'Acutal Condtion.': ['Serious Fire','Type II Error','Correct Conclusion']})\n",
    "errors_df.set_index([['-','Conclusion','Conclusion']])"
   ]
  },
  {
   "cell_type": "markdown",
   "metadata": {},
   "source": [
    "## The Andon Hypothesis\n",
    "In a manufacturing systems such as the Toyota Production System (TPS) and other Lean systems, line-workers have the power and indeed the responsibility, to stop the entire production line when they notice a serious problem.\n",
    "\n",
    "This is done by pulling an andon cord\n",
    "\n",
    "The assumption is that the production line is running correctly. This is the minute by minute null hypothesis. When a worker notices a defect, he/she has a choice to makr. Pull the cord or not?\n",
    "\n",
    "- If the andon cord is pulled, the worker is rejecting the assumption that the process is error free; rejecting the NULL hypothesis.\n",
    "- If the cord is NOT pulled, then the worker is NOT rejecting the assumption that the process is error free; thus maintaining the NULL hypothesis\n",
    "\n",
    "What if the cord is pulled (rejection of the null hypothesis) but nothing is actually wrong with the production process? A false alarm.\n",
    "- The worker committed a Type I Error\n",
    "\n",
    "### Type I Error\n",
    "wrongful rejection of the assumption (null hypothesis) when it should not have been rejected.\n",
    "\n",
    "What if the cord is NOT pulled (supporting of the null hypothesis) but something is actually wrong with the production process? \n",
    "- The worker committed a Type II Error\n",
    "\n",
    "### Type II Error\n",
    "wrongful support of the assumption (null hypothesis) when it should have been rejected.\n",
    "\n",
    "### Hypothesis\n",
    "$H_O$ = problem is annoying but not serious; everything is OK as usual; no major defect\n",
    "\n",
    "$H_a$ = problem is serious; everything NOT OK as usual; major defect\n",
    "\n"
   ]
  },
  {
   "cell_type": "code",
   "execution_count": 23,
   "metadata": {},
   "outputs": [
    {
     "data": {
      "text/html": [
       "<div>\n",
       "<style scoped>\n",
       "    .dataframe tbody tr th:only-of-type {\n",
       "        vertical-align: middle;\n",
       "    }\n",
       "\n",
       "    .dataframe tbody tr th {\n",
       "        vertical-align: top;\n",
       "    }\n",
       "\n",
       "    .dataframe thead th {\n",
       "        text-align: right;\n",
       "    }\n",
       "</style>\n",
       "<table border=\"1\" class=\"dataframe\">\n",
       "  <thead>\n",
       "    <tr style=\"text-align: right;\">\n",
       "      <th></th>\n",
       "      <th>1</th>\n",
       "      <th>Acutal Condtion</th>\n",
       "      <th>Acutal Condtion.</th>\n",
       "    </tr>\n",
       "  </thead>\n",
       "  <tbody>\n",
       "    <tr>\n",
       "      <th>-</th>\n",
       "      <td>-</td>\n",
       "      <td>No Major Defect</td>\n",
       "      <td>Major Defect</td>\n",
       "    </tr>\n",
       "    <tr>\n",
       "      <th>Conclusion</th>\n",
       "      <td>Do not reject H_o (no major defect)</td>\n",
       "      <td>Correct Conclusion</td>\n",
       "      <td>Type II Error</td>\n",
       "    </tr>\n",
       "    <tr>\n",
       "      <th>Conclusion</th>\n",
       "      <td>Reject H_o (major defect)</td>\n",
       "      <td>Type I Error</td>\n",
       "      <td>Correct Conclusion</td>\n",
       "    </tr>\n",
       "  </tbody>\n",
       "</table>\n",
       "</div>"
      ],
      "text/plain": [
       "                                              1     Acutal Condtion  \\\n",
       "-                                             -     No Major Defect   \n",
       "Conclusion  Do not reject H_o (no major defect)  Correct Conclusion   \n",
       "Conclusion            Reject H_o (major defect)        Type I Error   \n",
       "\n",
       "              Acutal Condtion.  \n",
       "-                 Major Defect  \n",
       "Conclusion       Type II Error  \n",
       "Conclusion  Correct Conclusion  "
      ]
     },
     "execution_count": 23,
     "metadata": {},
     "output_type": "execute_result"
    }
   ],
   "source": [
    "errors_df = pd.DataFrame({'1': ['-','Do not reject H_o (no major defect)', 'Reject H_o (major defect)'], 'Acutal Condtion': ['No Major Defect','Correct Conclusion','Type I Error'], 'Acutal Condtion.': ['Major Defect','Type II Error','Correct Conclusion']})\n",
    "errors_df.set_index([['-','Conclusion','Conclusion']])"
   ]
  },
  {
   "cell_type": "markdown",
   "metadata": {},
   "source": [
    "# Visualizing Type I and Type II Errors.\n",
    "$H_O: \\mu = \\mu_O$\n",
    "\n",
    "$H_a: \\mu \\neq \\mu_O$"
   ]
  },
  {
   "cell_type": "code",
   "execution_count": 25,
   "metadata": {},
   "outputs": [],
   "source": [
    "## The Two-tailed Test Rejection Region"
   ]
  },
  {
   "cell_type": "code",
   "execution_count": 50,
   "metadata": {},
   "outputs": [
    {
     "name": "stdout",
     "output_type": "stream",
     "text": [
      "The Two-tailed Test Rejection Region\n"
     ]
    },
    {
     "data": {
      "image/png": "[encoded data removed]",
      "text/plain": [
       "<Figure size 842.4x595.44 with 1 Axes>"
      ]
     },
     "metadata": {},
     "output_type": "display_data"
    }
   ],
   "source": [
    "mu=0\n",
    "sigma= 1.1\n",
    "x = np.linspace(-4, 4, 5000)\n",
    "y = ss.norm.pdf(x, mu, sigma)\n",
    "\n",
    "between = np.where(np.round(x) == -2)[0][313]\n",
    "between1 = np.where(np.round(x) == 2)[0][313]\n",
    "color1 = np.where(np.round(x) == -3)[0][0]\n",
    "color2 = np.where(np.round(x) == -2)[0][313]\n",
    "color3 = np.where(np.round(x) == 2)[0][313]\n",
    "color4 = np.where(np.round(x) == 3)[0][-1]\n",
    "fig, ax1 = plt.subplots(1, 1, sharex=True)\n",
    "ax1.plot(x,y)\n",
    "ax1.fill_between(x[between:between1], 0, y[between:between1])\n",
    "ax1.fill_between(x[color1:color2], 0, y[color1:color2], facecolor ='green')\n",
    "ax1.fill_between(x[color3:color4], 0, y[color3:color4], facecolor ='green')\n",
    "ax1.set_title('The Two-tailed Test Rejection Region')\n",
    "ax1.set_ylim(0,.4)\n",
    "ax1.text(0,.18, r'$\\bar x$')\n",
    "ax1.text(-1,.15, '\\nNonrejection Region')\n",
    "ax1.text(0,.05,r'$u_o$')\n",
    "ax1.text(-4.25,.050,'rejection Region')\n",
    "ax1.text(3,.050,'rejection Region')\n",
    "ax1.text(3,.020,r'$\\frac{a}{2}=0.25$')\n",
    "ax1.text(-4.25,.020,r'$\\frac{a}{2}=0.25$')\n",
    "ax1.text(-4.25,.050,'rejection Region')\n",
    "ax1.text(2,.15,'Critical Value',rotation=90)\n",
    "ax1.text(-2.05,.15,'Critical Value',rotation=90)\n",
    "print('The Two-tailed Test Rejection Region')"
   ]
  },
  {
   "cell_type": "code",
   "execution_count": 51,
   "metadata": {},
   "outputs": [
    {
     "ename": "SyntaxError",
     "evalue": "invalid syntax (<ipython-input-51-1df92151b93d>, line 1)",
     "output_type": "error",
     "traceback": [
      "\u001b[0;36m  File \u001b[0;32m\"<ipython-input-51-1df92151b93d>\"\u001b[0;36m, line \u001b[0;32m1\u001b[0m\n\u001b[0;31m    As $\\alpha$ decreases so does the chance of Type I error. The critical value to reject the null hyppothesis moves outward thus \"capturing\" more sample means. Kind of like moving the goal posts on a football pitch; the wider they are, more kicks go in\u001b[0m\n\u001b[0m       ^\u001b[0m\n\u001b[0;31mSyntaxError\u001b[0m\u001b[0;31m:\u001b[0m invalid syntax\n"
     ]
    }
   ],
   "source": [
    "As $\\alpha$ decreases so does the chance of Type I error. The critical value to reject the null hyppothesis moves outward thus \"capturing\" more sample means. Kind of like moving the goal posts on a football pitch; the wider they are, more kicks go in"
   ]
  },
  {
   "cell_type": "code",
   "execution_count": null,
   "metadata": {},
   "outputs": [],
   "source": [
    "fig, ax =plt.subplots(1,2,figsize=(15,5))\n",
    "ax1 = sns.barplot(data=joan_df,x='#successes',y='Probability',ax=ax[0])\n",
    "ax2 = sns.barplot(data=margo_df,x='#successes',y='Probability',ax=ax[1])"
   ]
  }
 ],
 "metadata": {
  "kernelspec": {
   "display_name": "Python 3",
   "language": "python",
   "name": "python3"
  },
  "language_info": {
   "codemirror_mode": {
    "name": "ipython",
    "version": 3
   },
   "file_extension": ".py",
   "mimetype": "text/x-python",
   "name": "python",
   "nbconvert_exporter": "python",
   "pygments_lexer": "ipython3",
   "version": "3.6.4"
  }
 },
 "nbformat": 4,
 "nbformat_minor": 2
}
