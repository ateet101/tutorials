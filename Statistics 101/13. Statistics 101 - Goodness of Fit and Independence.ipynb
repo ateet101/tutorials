{
 "cells": [
  {
   "cell_type": "code",
   "execution_count": 1,
   "metadata": {},
   "outputs": [],
   "source": [
    "import pandas as pd\n",
    "import seaborn as sns\n",
    "import numpy as np\n",
    "import math\n",
    "import matplotlib.pyplot as plt\n",
    "from random import randint\n",
    "import scipy.stats as ss\n",
    "#from scipy.stats import norm, kurtosis, skew\n",
    "import itertools as itt\n",
    "sns.set(rc={'figure.figsize':(11.7,8.27)})\n",
    "import plots\n",
    "import importlib\n",
    "from pandas_datareader import data, wb\n",
    "import datetime\n",
    "#importlib.reload(plots)"
   ]
  },
  {
   "cell_type": "markdown",
   "metadata": {},
   "source": [
    "# Introduction to the Chi-square Test\n",
    "## Example \n",
    "You work in the Office of Institutional Research at a regional 4-year university. Over the past 5 years, the number of undergraduate students at each level has changed\n",
    "\n",
    "### Questions:\n",
    "- Even though some headcount random variation is inevitable, is the variation beyond what we would expect due to chance alone?\n",
    "- What types of graphs can we use to better visualize our data?\n",
    "- How can a chi-square test help us rule out variation due to chance alone?"
   ]
  },
  {
   "cell_type": "code",
   "execution_count": 45,
   "metadata": {},
   "outputs": [
    {
     "data": {
      "text/html": [
       "<div>\n",
       "<style scoped>\n",
       "    .dataframe tbody tr th:only-of-type {\n",
       "        vertical-align: middle;\n",
       "    }\n",
       "\n",
       "    .dataframe tbody tr th {\n",
       "        vertical-align: top;\n",
       "    }\n",
       "\n",
       "    .dataframe thead th {\n",
       "        text-align: right;\n",
       "    }\n",
       "</style>\n",
       "<table border=\"1\" class=\"dataframe\">\n",
       "  <thead>\n",
       "    <tr style=\"text-align: right;\">\n",
       "      <th></th>\n",
       "      <th>.Class</th>\n",
       "      <th>2007</th>\n",
       "      <th>2008</th>\n",
       "      <th>2009</th>\n",
       "      <th>2010</th>\n",
       "      <th>2011</th>\n",
       "    </tr>\n",
       "  </thead>\n",
       "  <tbody>\n",
       "    <tr>\n",
       "      <th>0</th>\n",
       "      <td>Freshman</td>\n",
       "      <td>560</td>\n",
       "      <td>495</td>\n",
       "      <td>553</td>\n",
       "      <td>547</td>\n",
       "      <td>512</td>\n",
       "    </tr>\n",
       "    <tr>\n",
       "      <th>1</th>\n",
       "      <td>Sophmore</td>\n",
       "      <td>369</td>\n",
       "      <td>385</td>\n",
       "      <td>358</td>\n",
       "      <td>361</td>\n",
       "      <td>393</td>\n",
       "    </tr>\n",
       "    <tr>\n",
       "      <th>2</th>\n",
       "      <td>Junior</td>\n",
       "      <td>209</td>\n",
       "      <td>226</td>\n",
       "      <td>248</td>\n",
       "      <td>268</td>\n",
       "      <td>285</td>\n",
       "    </tr>\n",
       "    <tr>\n",
       "      <th>3</th>\n",
       "      <td>Senior</td>\n",
       "      <td>267</td>\n",
       "      <td>277</td>\n",
       "      <td>304</td>\n",
       "      <td>328</td>\n",
       "      <td>340</td>\n",
       "    </tr>\n",
       "    <tr>\n",
       "      <th>4</th>\n",
       "      <td>Unclassified</td>\n",
       "      <td>64</td>\n",
       "      <td>70</td>\n",
       "      <td>93</td>\n",
       "      <td>77</td>\n",
       "      <td>126</td>\n",
       "    </tr>\n",
       "  </tbody>\n",
       "</table>\n",
       "</div>"
      ],
      "text/plain": [
       "         .Class  2007  2008  2009  2010  2011\n",
       "0      Freshman   560   495   553   547   512\n",
       "1      Sophmore   369   385   358   361   393\n",
       "2        Junior   209   226   248   268   285\n",
       "3        Senior   267   277   304   328   340\n",
       "4  Unclassified    64    70    93    77   126"
      ]
     },
     "execution_count": 45,
     "metadata": {},
     "output_type": "execute_result"
    }
   ],
   "source": [
    "stud_df = pd.DataFrame({'2007': [560, 369, 209, 267, 64], '2008': [495, 385, 226, 277, 70], '2009': [553, 358, 248, 304, 93], '2010': [547, 361, 268, 328, 77], '2011': [512, 393, 285, 340, 126], '.Class': ['Freshman','Sophmore','Junior','Senior', 'Unclassified']})\n",
    "stud_df"
   ]
  },
  {
   "cell_type": "code",
   "execution_count": 46,
   "metadata": {},
   "outputs": [
    {
     "data": {
      "text/plain": [
       "<Figure size 3240x720 with 0 Axes>"
      ]
     },
     "metadata": {},
     "output_type": "display_data"
    },
    {
     "data": {
      "image/png": "[encoded data removed]",
      "text/plain": [
       "<Figure size 384.625x288 with 1 Axes>"
      ]
     },
     "metadata": {},
     "output_type": "display_data"
    }
   ],
   "source": [
    "sns.set(rc={'figure.figsize':(11.7,8.27)})\n",
    "df = stud_df.melt('.Class', var_name='cols',  value_name='vals')\n",
    "plt.figure(figsize=(45,10))\n",
    "g = sns.factorplot(x=\"cols\", y=\"vals\", hue='.Class', data=df)"
   ]
  },
  {
   "cell_type": "code",
   "execution_count": 47,
   "metadata": {},
   "outputs": [
    {
     "ename": "NameError",
     "evalue": "name 'df2' is not defined",
     "output_type": "error",
     "traceback": [
      "\u001b[0;31m---------------------------------------------------------------------------\u001b[0m",
      "\u001b[0;31mNameError\u001b[0m                                 Traceback (most recent call last)",
      "\u001b[0;32m<ipython-input-47-78e63daa26c5>\u001b[0m in \u001b[0;36m<module>\u001b[0;34m()\u001b[0m\n\u001b[0;32m----> 1\u001b[0;31m \u001b[0mdf2\u001b[0m\u001b[0;34m[\u001b[0m\u001b[0;34m[\u001b[0m\u001b[0;34m'abuse'\u001b[0m\u001b[0;34m,\u001b[0m\u001b[0;34m'nff'\u001b[0m\u001b[0;34m]\u001b[0m\u001b[0;34m]\u001b[0m\u001b[0;34m.\u001b[0m\u001b[0mplot\u001b[0m\u001b[0;34m(\u001b[0m\u001b[0mkind\u001b[0m\u001b[0;34m=\u001b[0m\u001b[0;34m'bar'\u001b[0m\u001b[0;34m,\u001b[0m \u001b[0mstacked\u001b[0m\u001b[0;34m=\u001b[0m\u001b[0;32mTrue\u001b[0m\u001b[0;34m)\u001b[0m\u001b[0;34m\u001b[0m\u001b[0m\n\u001b[0m",
      "\u001b[0;31mNameError\u001b[0m: name 'df2' is not defined"
     ]
    }
   ],
   "source": [
    "df2[['abuse','nff']].plot(kind='bar', stacked=True)"
   ]
  },
  {
   "cell_type": "code",
   "execution_count": 66,
   "metadata": {},
   "outputs": [
    {
     "data": {
      "text/plain": [
       "<matplotlib.axes._subplots.AxesSubplot at 0x7f73875e2e10>"
      ]
     },
     "execution_count": 66,
     "metadata": {},
     "output_type": "execute_result"
    },
    {
     "data": {
      "image/png": "[encoded data removed]",
      "text/plain": [
       "<Figure size 842.4x595.44 with 1 Axes>"
      ]
     },
     "metadata": {},
     "output_type": "display_data"
    }
   ],
   "source": [
    "#stud_df['Total'] = stud_df['2007'] + stud_df['2008'] + stud_df['2009'] +stud_df['2010'] + stud_df['2011']\n",
    "stud_df2  = stud_df.groupby(['.Class']).sum()\n",
    "#stud_df.loc[5] = stud_df.sum(axis = 0)\n",
    "#stud_df.loc[5,'.Class'] = 'Total'\n",
    "#stud_df\n",
    "stud_df1 = stud_df2.transpose()\n",
    "stud_df1.plot(kind='bar', stacked=True)\n"
   ]
  },
  {
   "cell_type": "code",
   "execution_count": 67,
   "metadata": {},
   "outputs": [
    {
     "data": {
      "text/plain": [
       "<matplotlib.axes._subplots.AxesSubplot at 0x7f7386cfecf8>"
      ]
     },
     "execution_count": 67,
     "metadata": {},
     "output_type": "execute_result"
    },
    {
     "data": {
      "image/png": "[encoded data removed]",
      "text/plain": [
       "<Figure size 842.4x595.44 with 1 Axes>"
      ]
     },
     "metadata": {},
     "output_type": "display_data"
    }
   ],
   "source": [
    "stud_df1.plot()"
   ]
  },
  {
   "cell_type": "code",
   "execution_count": 68,
   "metadata": {},
   "outputs": [
    {
     "data": {
      "text/plain": [
       "<matplotlib.axes._subplots.AxesSubplot at 0x7f738744bcf8>"
      ]
     },
     "execution_count": 68,
     "metadata": {},
     "output_type": "execute_result"
    },
    {
     "data": {
      "image/png": "[encoded data removed]",
      "text/plain": [
       "<Figure size 842.4x595.44 with 1 Axes>"
      ]
     },
     "metadata": {},
     "output_type": "display_data"
    }
   ],
   "source": [
    "stud_df1.plot.area()"
   ]
  },
  {
   "cell_type": "code",
   "execution_count": 72,
   "metadata": {},
   "outputs": [
    {
     "data": {
      "text/html": [
       "<table style=\"display:inline\" border=\"1\" class=\"dataframe\">\n",
       "  <thead>\n",
       "    <tr style=\"text-align: right;\">\n",
       "      <th></th>\n",
       "      <th>.Class</th>\n",
       "      <th>2007</th>\n",
       "      <th>2008</th>\n",
       "      <th>2009</th>\n",
       "      <th>2010</th>\n",
       "      <th>2011</th>\n",
       "    </tr>\n",
       "  </thead>\n",
       "  <tbody>\n",
       "    <tr>\n",
       "      <th>0</th>\n",
       "      <td>Freshman</td>\n",
       "      <td>560</td>\n",
       "      <td>495</td>\n",
       "      <td>553</td>\n",
       "      <td>547</td>\n",
       "      <td>512</td>\n",
       "    </tr>\n",
       "    <tr>\n",
       "      <th>1</th>\n",
       "      <td>Sophmore</td>\n",
       "      <td>369</td>\n",
       "      <td>385</td>\n",
       "      <td>358</td>\n",
       "      <td>361</td>\n",
       "      <td>393</td>\n",
       "    </tr>\n",
       "    <tr>\n",
       "      <th>2</th>\n",
       "      <td>Junior</td>\n",
       "      <td>209</td>\n",
       "      <td>226</td>\n",
       "      <td>248</td>\n",
       "      <td>268</td>\n",
       "      <td>285</td>\n",
       "    </tr>\n",
       "    <tr>\n",
       "      <th>3</th>\n",
       "      <td>Senior</td>\n",
       "      <td>267</td>\n",
       "      <td>277</td>\n",
       "      <td>304</td>\n",
       "      <td>328</td>\n",
       "      <td>340</td>\n",
       "    </tr>\n",
       "    <tr>\n",
       "      <th>4</th>\n",
       "      <td>Unclassified</td>\n",
       "      <td>64</td>\n",
       "      <td>70</td>\n",
       "      <td>93</td>\n",
       "      <td>77</td>\n",
       "      <td>126</td>\n",
       "    </tr>\n",
       "  </tbody>\n",
       "</table style=\"display:inline\"><table style=\"display:inline\" border=\"1\" class=\"dataframe\">\n",
       "  <thead>\n",
       "    <tr style=\"text-align: right;\">\n",
       "      <th>.Class</th>\n",
       "      <th>Freshman</th>\n",
       "      <th>Junior</th>\n",
       "      <th>Senior</th>\n",
       "      <th>Sophmore</th>\n",
       "      <th>Unclassified</th>\n",
       "    </tr>\n",
       "  </thead>\n",
       "  <tbody>\n",
       "    <tr>\n",
       "      <th>2007</th>\n",
       "      <td>560</td>\n",
       "      <td>209</td>\n",
       "      <td>267</td>\n",
       "      <td>369</td>\n",
       "      <td>64</td>\n",
       "    </tr>\n",
       "    <tr>\n",
       "      <th>2008</th>\n",
       "      <td>495</td>\n",
       "      <td>226</td>\n",
       "      <td>277</td>\n",
       "      <td>385</td>\n",
       "      <td>70</td>\n",
       "    </tr>\n",
       "    <tr>\n",
       "      <th>2009</th>\n",
       "      <td>553</td>\n",
       "      <td>248</td>\n",
       "      <td>304</td>\n",
       "      <td>358</td>\n",
       "      <td>93</td>\n",
       "    </tr>\n",
       "    <tr>\n",
       "      <th>2010</th>\n",
       "      <td>547</td>\n",
       "      <td>268</td>\n",
       "      <td>328</td>\n",
       "      <td>361</td>\n",
       "      <td>77</td>\n",
       "    </tr>\n",
       "    <tr>\n",
       "      <th>2011</th>\n",
       "      <td>512</td>\n",
       "      <td>285</td>\n",
       "      <td>340</td>\n",
       "      <td>393</td>\n",
       "      <td>126</td>\n",
       "    </tr>\n",
       "  </tbody>\n",
       "</table style=\"display:inline\">"
      ]
     },
     "metadata": {},
     "output_type": "display_data"
    }
   ],
   "source": [
    "from IPython.display import display_html\n",
    "def display_side_by_side(*args):\n",
    "    html_str=''\n",
    "    for df in args:\n",
    "        html_str+=df.to_html()\n",
    "    display_html(html_str.replace('table','table style=\"display:inline\"'),raw=True)\n",
    "display_side_by_side(stud_df,stud_df1)"
   ]
  },
  {
   "cell_type": "markdown",
   "metadata": {},
   "source": [
    "# What is a Chi-Square Test?\n",
    "- Helps understand the relationship between two categorical variables; grade level, sex, age group, year\n",
    "- Chi-squares involve the frequency of events; the count\n",
    "- Helps compare what we actually observed with what we expected oftentimes using population data or theoritcal data\n",
    "- Chi-squares assist in determinining the role of random chance variation between our categorical variables\n",
    "- We use the Chi-square distribution and critical value to accept or reject our hypothesis\n",
    "\n",
    "## Dice Experiment\n",
    "Let's say I have two die in my hand; one is \"fair\" and the other is \"1-5-6 loaded\" (favors 1,5,6). I hand you one die and ask you to determine if it is the fair die or the loaded die. I need you to be 95% in your conclusion.\n",
    "\n",
    "Over the next 6 days I want you to roll the die 100 times for a total of 600 rolls and then record how many times each number occurs\n",
    "\n",
    "Let's assume the die is fair, what would expect to happen?"
   ]
  },
  {
   "cell_type": "code",
   "execution_count": 85,
   "metadata": {},
   "outputs": [
    {
     "data": {
      "text/html": [
       "<div>\n",
       "<style scoped>\n",
       "    .dataframe tbody tr th:only-of-type {\n",
       "        vertical-align: middle;\n",
       "    }\n",
       "\n",
       "    .dataframe tbody tr th {\n",
       "        vertical-align: top;\n",
       "    }\n",
       "\n",
       "    .dataframe thead th {\n",
       "        text-align: right;\n",
       "    }\n",
       "</style>\n",
       "<table border=\"1\" class=\"dataframe\">\n",
       "  <thead>\n",
       "    <tr style=\"text-align: right;\">\n",
       "      <th></th>\n",
       "      <th>Expected Frequency</th>\n",
       "    </tr>\n",
       "    <tr>\n",
       "      <th>.Number</th>\n",
       "      <th></th>\n",
       "    </tr>\n",
       "  </thead>\n",
       "  <tbody>\n",
       "    <tr>\n",
       "      <th>1</th>\n",
       "      <td>100</td>\n",
       "    </tr>\n",
       "    <tr>\n",
       "      <th>2</th>\n",
       "      <td>100</td>\n",
       "    </tr>\n",
       "    <tr>\n",
       "      <th>3</th>\n",
       "      <td>100</td>\n",
       "    </tr>\n",
       "    <tr>\n",
       "      <th>4</th>\n",
       "      <td>100</td>\n",
       "    </tr>\n",
       "    <tr>\n",
       "      <th>5</th>\n",
       "      <td>100</td>\n",
       "    </tr>\n",
       "    <tr>\n",
       "      <th>6</th>\n",
       "      <td>100</td>\n",
       "    </tr>\n",
       "  </tbody>\n",
       "</table>\n",
       "</div>"
      ],
      "text/plain": [
       "         Expected Frequency\n",
       ".Number                    \n",
       "1                       100\n",
       "2                       100\n",
       "3                       100\n",
       "4                       100\n",
       "5                       100\n",
       "6                       100"
      ]
     },
     "execution_count": 85,
     "metadata": {},
     "output_type": "execute_result"
    }
   ],
   "source": [
    "die_df = pd.DataFrame({'.Number': [1,2,3,4,5,6], 'Expected Frequency': [100,100,100,100,100,100]})\n",
    "#die_df.loc[6] = ['Total', die_df['Expected Frequency'].sum()]\n",
    "#die_df\n",
    "die_df.set_index('.Number')"
   ]
  },
  {
   "cell_type": "markdown",
   "metadata": {},
   "source": [
    "## Stated Hypothesis\n",
    "Null Hypothesis, $H_O$ - $H_O$: the die is fair\n",
    "    \n",
    "Alternative Hypothesis, $H_1$ - $H_1$: the die is NOT fair\n",
    "\n",
    "Confidence Interval: 95%\n",
    "\n",
    "Error Probability: P-value $\\leq$ .05\n",
    "\n",
    "Degrees of Freedom (df): (6-1)=5"
   ]
  },
  {
   "cell_type": "code",
   "execution_count": 99,
   "metadata": {},
   "outputs": [
    {
     "data": {
      "text/plain": [
       "11.070497693516353"
      ]
     },
     "execution_count": 99,
     "metadata": {},
     "output_type": "execute_result"
    }
   ],
   "source": [
    "p_value = .05\n",
    "df = 6-1\n",
    "ss.chi2.isf(p_value, df)"
   ]
  },
  {
   "cell_type": "markdown",
   "metadata": {},
   "source": [
    "Therefore is $\\chi^2 > 11.07$, then we must reject $H_O$ and claim the die is NOT FAIR"
   ]
  },
  {
   "cell_type": "code",
   "execution_count": 100,
   "metadata": {
    "scrolled": true
   },
   "outputs": [
    {
     "data": {
      "text/html": [
       "<div>\n",
       "<style scoped>\n",
       "    .dataframe tbody tr th:only-of-type {\n",
       "        vertical-align: middle;\n",
       "    }\n",
       "\n",
       "    .dataframe tbody tr th {\n",
       "        vertical-align: top;\n",
       "    }\n",
       "\n",
       "    .dataframe thead th {\n",
       "        text-align: right;\n",
       "    }\n",
       "</style>\n",
       "<table border=\"1\" class=\"dataframe\">\n",
       "  <thead>\n",
       "    <tr style=\"text-align: right;\">\n",
       "      <th></th>\n",
       "      <th>Expected</th>\n",
       "      <th>Observed</th>\n",
       "    </tr>\n",
       "    <tr>\n",
       "      <th>.Number</th>\n",
       "      <th></th>\n",
       "      <th></th>\n",
       "    </tr>\n",
       "  </thead>\n",
       "  <tbody>\n",
       "    <tr>\n",
       "      <th>1</th>\n",
       "      <td>100</td>\n",
       "      <td>111</td>\n",
       "    </tr>\n",
       "    <tr>\n",
       "      <th>2</th>\n",
       "      <td>100</td>\n",
       "      <td>90</td>\n",
       "    </tr>\n",
       "    <tr>\n",
       "      <th>3</th>\n",
       "      <td>100</td>\n",
       "      <td>81</td>\n",
       "    </tr>\n",
       "    <tr>\n",
       "      <th>4</th>\n",
       "      <td>100</td>\n",
       "      <td>102</td>\n",
       "    </tr>\n",
       "    <tr>\n",
       "      <th>5</th>\n",
       "      <td>100</td>\n",
       "      <td>124</td>\n",
       "    </tr>\n",
       "    <tr>\n",
       "      <th>6</th>\n",
       "      <td>100</td>\n",
       "      <td>92</td>\n",
       "    </tr>\n",
       "  </tbody>\n",
       "</table>\n",
       "</div>"
      ],
      "text/plain": [
       "         Expected  Observed\n",
       ".Number                    \n",
       "1             100       111\n",
       "2             100        90\n",
       "3             100        81\n",
       "4             100       102\n",
       "5             100       124\n",
       "6             100        92"
      ]
     },
     "execution_count": 100,
     "metadata": {},
     "output_type": "execute_result"
    }
   ],
   "source": [
    "die_df = pd.DataFrame({'.Number': [1,2,3,4,5,6], 'Expected': [100,100,100,100,100,100], 'Observed': [111,90,81,102,124,92]})\n",
    "#die_df.loc[6] = ['Total', die_df['Expected Frequency'].sum()]\n",
    "#die_df\n",
    "die_df = die_df.set_index('.Number')\n",
    "#die_df.loc['Total'] = die_df.sum()\n",
    "die_df"
   ]
  },
  {
   "cell_type": "code",
   "execution_count": 101,
   "metadata": {},
   "outputs": [
    {
     "data": {
      "text/html": [
       "<div>\n",
       "<style scoped>\n",
       "    .dataframe tbody tr th:only-of-type {\n",
       "        vertical-align: middle;\n",
       "    }\n",
       "\n",
       "    .dataframe tbody tr th {\n",
       "        vertical-align: top;\n",
       "    }\n",
       "\n",
       "    .dataframe thead th {\n",
       "        text-align: right;\n",
       "    }\n",
       "</style>\n",
       "<table border=\"1\" class=\"dataframe\">\n",
       "  <thead>\n",
       "    <tr style=\"text-align: right;\">\n",
       "      <th></th>\n",
       "      <th>Expected</th>\n",
       "      <th>Observed</th>\n",
       "      <th>O-E</th>\n",
       "    </tr>\n",
       "    <tr>\n",
       "      <th>.Number</th>\n",
       "      <th></th>\n",
       "      <th></th>\n",
       "      <th></th>\n",
       "    </tr>\n",
       "  </thead>\n",
       "  <tbody>\n",
       "    <tr>\n",
       "      <th>1</th>\n",
       "      <td>100</td>\n",
       "      <td>111</td>\n",
       "      <td>11</td>\n",
       "    </tr>\n",
       "    <tr>\n",
       "      <th>2</th>\n",
       "      <td>100</td>\n",
       "      <td>90</td>\n",
       "      <td>-10</td>\n",
       "    </tr>\n",
       "    <tr>\n",
       "      <th>3</th>\n",
       "      <td>100</td>\n",
       "      <td>81</td>\n",
       "      <td>-19</td>\n",
       "    </tr>\n",
       "    <tr>\n",
       "      <th>4</th>\n",
       "      <td>100</td>\n",
       "      <td>102</td>\n",
       "      <td>2</td>\n",
       "    </tr>\n",
       "    <tr>\n",
       "      <th>5</th>\n",
       "      <td>100</td>\n",
       "      <td>124</td>\n",
       "      <td>24</td>\n",
       "    </tr>\n",
       "    <tr>\n",
       "      <th>6</th>\n",
       "      <td>100</td>\n",
       "      <td>92</td>\n",
       "      <td>-8</td>\n",
       "    </tr>\n",
       "  </tbody>\n",
       "</table>\n",
       "</div>"
      ],
      "text/plain": [
       "         Expected  Observed  O-E\n",
       ".Number                         \n",
       "1             100       111   11\n",
       "2             100        90  -10\n",
       "3             100        81  -19\n",
       "4             100       102    2\n",
       "5             100       124   24\n",
       "6             100        92   -8"
      ]
     },
     "execution_count": 101,
     "metadata": {},
     "output_type": "execute_result"
    }
   ],
   "source": [
    "die_df['O-E'] = die_df['Observed'] - die_df['Expected']\n",
    "die_df"
   ]
  },
  {
   "cell_type": "code",
   "execution_count": 102,
   "metadata": {},
   "outputs": [
    {
     "data": {
      "text/html": [
       "<div>\n",
       "<style scoped>\n",
       "    .dataframe tbody tr th:only-of-type {\n",
       "        vertical-align: middle;\n",
       "    }\n",
       "\n",
       "    .dataframe tbody tr th {\n",
       "        vertical-align: top;\n",
       "    }\n",
       "\n",
       "    .dataframe thead th {\n",
       "        text-align: right;\n",
       "    }\n",
       "</style>\n",
       "<table border=\"1\" class=\"dataframe\">\n",
       "  <thead>\n",
       "    <tr style=\"text-align: right;\">\n",
       "      <th></th>\n",
       "      <th>Expected</th>\n",
       "      <th>Observed</th>\n",
       "      <th>O-E</th>\n",
       "      <th>(O-E)^2</th>\n",
       "    </tr>\n",
       "    <tr>\n",
       "      <th>.Number</th>\n",
       "      <th></th>\n",
       "      <th></th>\n",
       "      <th></th>\n",
       "      <th></th>\n",
       "    </tr>\n",
       "  </thead>\n",
       "  <tbody>\n",
       "    <tr>\n",
       "      <th>1</th>\n",
       "      <td>100</td>\n",
       "      <td>111</td>\n",
       "      <td>11</td>\n",
       "      <td>121</td>\n",
       "    </tr>\n",
       "    <tr>\n",
       "      <th>2</th>\n",
       "      <td>100</td>\n",
       "      <td>90</td>\n",
       "      <td>-10</td>\n",
       "      <td>100</td>\n",
       "    </tr>\n",
       "    <tr>\n",
       "      <th>3</th>\n",
       "      <td>100</td>\n",
       "      <td>81</td>\n",
       "      <td>-19</td>\n",
       "      <td>361</td>\n",
       "    </tr>\n",
       "    <tr>\n",
       "      <th>4</th>\n",
       "      <td>100</td>\n",
       "      <td>102</td>\n",
       "      <td>2</td>\n",
       "      <td>4</td>\n",
       "    </tr>\n",
       "    <tr>\n",
       "      <th>5</th>\n",
       "      <td>100</td>\n",
       "      <td>124</td>\n",
       "      <td>24</td>\n",
       "      <td>576</td>\n",
       "    </tr>\n",
       "    <tr>\n",
       "      <th>6</th>\n",
       "      <td>100</td>\n",
       "      <td>92</td>\n",
       "      <td>-8</td>\n",
       "      <td>64</td>\n",
       "    </tr>\n",
       "  </tbody>\n",
       "</table>\n",
       "</div>"
      ],
      "text/plain": [
       "         Expected  Observed  O-E  (O-E)^2\n",
       ".Number                                  \n",
       "1             100       111   11      121\n",
       "2             100        90  -10      100\n",
       "3             100        81  -19      361\n",
       "4             100       102    2        4\n",
       "5             100       124   24      576\n",
       "6             100        92   -8       64"
      ]
     },
     "execution_count": 102,
     "metadata": {},
     "output_type": "execute_result"
    }
   ],
   "source": [
    "die_df['(O-E)^2'] = die_df['O-E']**2\n",
    "die_df"
   ]
  },
  {
   "cell_type": "code",
   "execution_count": 103,
   "metadata": {},
   "outputs": [
    {
     "data": {
      "text/html": [
       "<div>\n",
       "<style scoped>\n",
       "    .dataframe tbody tr th:only-of-type {\n",
       "        vertical-align: middle;\n",
       "    }\n",
       "\n",
       "    .dataframe tbody tr th {\n",
       "        vertical-align: top;\n",
       "    }\n",
       "\n",
       "    .dataframe thead th {\n",
       "        text-align: right;\n",
       "    }\n",
       "</style>\n",
       "<table border=\"1\" class=\"dataframe\">\n",
       "  <thead>\n",
       "    <tr style=\"text-align: right;\">\n",
       "      <th></th>\n",
       "      <th>Expected</th>\n",
       "      <th>Observed</th>\n",
       "      <th>O-E</th>\n",
       "      <th>(O-E)^2</th>\n",
       "      <th>(O-E)^2/E</th>\n",
       "    </tr>\n",
       "    <tr>\n",
       "      <th>.Number</th>\n",
       "      <th></th>\n",
       "      <th></th>\n",
       "      <th></th>\n",
       "      <th></th>\n",
       "      <th></th>\n",
       "    </tr>\n",
       "  </thead>\n",
       "  <tbody>\n",
       "    <tr>\n",
       "      <th>1</th>\n",
       "      <td>100</td>\n",
       "      <td>111</td>\n",
       "      <td>11</td>\n",
       "      <td>121</td>\n",
       "      <td>1.21</td>\n",
       "    </tr>\n",
       "    <tr>\n",
       "      <th>2</th>\n",
       "      <td>100</td>\n",
       "      <td>90</td>\n",
       "      <td>-10</td>\n",
       "      <td>100</td>\n",
       "      <td>1.00</td>\n",
       "    </tr>\n",
       "    <tr>\n",
       "      <th>3</th>\n",
       "      <td>100</td>\n",
       "      <td>81</td>\n",
       "      <td>-19</td>\n",
       "      <td>361</td>\n",
       "      <td>3.61</td>\n",
       "    </tr>\n",
       "    <tr>\n",
       "      <th>4</th>\n",
       "      <td>100</td>\n",
       "      <td>102</td>\n",
       "      <td>2</td>\n",
       "      <td>4</td>\n",
       "      <td>0.04</td>\n",
       "    </tr>\n",
       "    <tr>\n",
       "      <th>5</th>\n",
       "      <td>100</td>\n",
       "      <td>124</td>\n",
       "      <td>24</td>\n",
       "      <td>576</td>\n",
       "      <td>5.76</td>\n",
       "    </tr>\n",
       "    <tr>\n",
       "      <th>6</th>\n",
       "      <td>100</td>\n",
       "      <td>92</td>\n",
       "      <td>-8</td>\n",
       "      <td>64</td>\n",
       "      <td>0.64</td>\n",
       "    </tr>\n",
       "  </tbody>\n",
       "</table>\n",
       "</div>"
      ],
      "text/plain": [
       "         Expected  Observed  O-E  (O-E)^2  (O-E)^2/E\n",
       ".Number                                             \n",
       "1             100       111   11      121       1.21\n",
       "2             100        90  -10      100       1.00\n",
       "3             100        81  -19      361       3.61\n",
       "4             100       102    2        4       0.04\n",
       "5             100       124   24      576       5.76\n",
       "6             100        92   -8       64       0.64"
      ]
     },
     "execution_count": 103,
     "metadata": {},
     "output_type": "execute_result"
    }
   ],
   "source": [
    "die_df['(O-E)^2/E'] = die_df['(O-E)^2'] / die_df['Expected']\n",
    "die_df"
   ]
  },
  {
   "cell_type": "code",
   "execution_count": 105,
   "metadata": {},
   "outputs": [
    {
     "data": {
      "text/html": [
       "<div>\n",
       "<style scoped>\n",
       "    .dataframe tbody tr th:only-of-type {\n",
       "        vertical-align: middle;\n",
       "    }\n",
       "\n",
       "    .dataframe tbody tr th {\n",
       "        vertical-align: top;\n",
       "    }\n",
       "\n",
       "    .dataframe thead th {\n",
       "        text-align: right;\n",
       "    }\n",
       "</style>\n",
       "<table border=\"1\" class=\"dataframe\">\n",
       "  <thead>\n",
       "    <tr style=\"text-align: right;\">\n",
       "      <th></th>\n",
       "      <th>Expected</th>\n",
       "      <th>Observed</th>\n",
       "      <th>O-E</th>\n",
       "      <th>(O-E)^2</th>\n",
       "      <th>(O-E)^2/E</th>\n",
       "    </tr>\n",
       "    <tr>\n",
       "      <th>.Number</th>\n",
       "      <th></th>\n",
       "      <th></th>\n",
       "      <th></th>\n",
       "      <th></th>\n",
       "      <th></th>\n",
       "    </tr>\n",
       "  </thead>\n",
       "  <tbody>\n",
       "    <tr>\n",
       "      <th>1</th>\n",
       "      <td>100</td>\n",
       "      <td>111</td>\n",
       "      <td>11</td>\n",
       "      <td>121</td>\n",
       "      <td>1.21</td>\n",
       "    </tr>\n",
       "    <tr>\n",
       "      <th>2</th>\n",
       "      <td>100</td>\n",
       "      <td>90</td>\n",
       "      <td>-10</td>\n",
       "      <td>100</td>\n",
       "      <td>1.00</td>\n",
       "    </tr>\n",
       "    <tr>\n",
       "      <th>3</th>\n",
       "      <td>100</td>\n",
       "      <td>81</td>\n",
       "      <td>-19</td>\n",
       "      <td>361</td>\n",
       "      <td>3.61</td>\n",
       "    </tr>\n",
       "    <tr>\n",
       "      <th>4</th>\n",
       "      <td>100</td>\n",
       "      <td>102</td>\n",
       "      <td>2</td>\n",
       "      <td>4</td>\n",
       "      <td>0.04</td>\n",
       "    </tr>\n",
       "    <tr>\n",
       "      <th>5</th>\n",
       "      <td>100</td>\n",
       "      <td>124</td>\n",
       "      <td>24</td>\n",
       "      <td>576</td>\n",
       "      <td>5.76</td>\n",
       "    </tr>\n",
       "    <tr>\n",
       "      <th>6</th>\n",
       "      <td>100</td>\n",
       "      <td>92</td>\n",
       "      <td>-8</td>\n",
       "      <td>64</td>\n",
       "      <td>0.64</td>\n",
       "    </tr>\n",
       "    <tr>\n",
       "      <th>Total</th>\n",
       "      <td>600</td>\n",
       "      <td>600</td>\n",
       "      <td>-</td>\n",
       "      <td>$\\chi^2$</td>\n",
       "      <td>12.26</td>\n",
       "    </tr>\n",
       "  </tbody>\n",
       "</table>\n",
       "</div>"
      ],
      "text/plain": [
       "         Expected  Observed  O-E   (O-E)^2  (O-E)^2/E\n",
       ".Number                                              \n",
       "1             100       111   11       121       1.21\n",
       "2             100        90  -10       100       1.00\n",
       "3             100        81  -19       361       3.61\n",
       "4             100       102    2         4       0.04\n",
       "5             100       124   24       576       5.76\n",
       "6             100        92   -8        64       0.64\n",
       "Total         600       600    -  $\\chi^2$      12.26"
      ]
     },
     "execution_count": 105,
     "metadata": {},
     "output_type": "execute_result"
    }
   ],
   "source": [
    "die_df.loc['Total'] = [600,600,'-',r'$\\chi^2$', 12.26]\n",
    "die_df"
   ]
  },
  {
   "cell_type": "markdown",
   "metadata": {},
   "source": [
    "Therefore since 12.26 > 11.07, we REJECT $H_O$"
   ]
  },
  {
   "cell_type": "markdown",
   "metadata": {},
   "source": [
    "# Chi-Square Test of Independence\n",
    "The Chi-square can be thought of as a test of independence\n",
    "- Are these two variable \"statistically\" independent or related?\n",
    "- It Offers us nothing more than: relationship or no relationship\n",
    "\n",
    "Hypothesis:\n",
    "- Null $H_O$: The two categorical variables are independent\n",
    "- Alternative $H_1$: The two categorical variables are related\n",
    "\n",
    "Observed frequency vs. Expected frequency\n",
    "- Is this variation between the observed and expected frequencies minor enough to be within what we may expect due to chance alone?\n",
    "\n",
    "Contingency Tables\n",
    "- One variable along the top; the other down the left side\n",
    "- Two Tables: Observations Contingency Table and an Expected Contingency Table \n",
    "    \n",
    "Degrees of Freedom\n",
    "- (#columns - 1) * (#rows - 1) = degrees of freedom"
   ]
  },
  {
   "cell_type": "code",
   "execution_count": null,
   "metadata": {},
   "outputs": [],
   "source": []
  }
 ],
 "metadata": {
  "kernelspec": {
   "display_name": "Python 3",
   "language": "python",
   "name": "python3"
  },
  "language_info": {
   "codemirror_mode": {
    "name": "ipython",
    "version": 3
   },
   "file_extension": ".py",
   "mimetype": "text/x-python",
   "name": "python",
   "nbconvert_exporter": "python",
   "pygments_lexer": "ipython3",
   "version": "3.6.4"
  }
 },
 "nbformat": 4,
 "nbformat_minor": 2
}
