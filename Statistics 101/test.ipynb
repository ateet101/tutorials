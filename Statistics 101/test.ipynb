{
 "cells": [
  {
   "cell_type": "code",
   "execution_count": 1,
   "metadata": {},
   "outputs": [],
   "source": [
    "import pandas as pd\n",
    "import seaborn as sns\n",
    "import numpy as np\n",
    "import math\n",
    "import matplotlib.pyplot as plt\n",
    "from random import randint\n",
    "import scipy.stats as ss\n",
    "#from scipy.stats import norm, kurtosis, skew\n",
    "import itertools as itt\n",
    "sns.set(rc={'figure.figsize':(11.7,8.27)})\n",
    "import plots"
   ]
  },
  {
   "cell_type": "code",
   "execution_count": 57,
   "metadata": {},
   "outputs": [
    {
     "data": {
      "image/png": "[encoded data removed]",
      "text/plain": [
       "<Figure size 432x288 with 2 Axes>"
      ]
     },
     "metadata": {},
     "output_type": "display_data"
    }
   ],
   "source": [
    "mu=0\n",
    "sigma= 1.1\n",
    "x = np.linspace(-4, 4, 5000)\n",
    "y = ss.norm.pdf(x, mu, sigma)\n",
    "\n",
    "fig = plt.figure()\n",
    "ax1 = fig.add_subplot(2,1,1)\n",
    "ax2 = fig.add_subplot(2,1,2)\n",
    "\n",
    "def team(ax):\n",
    "    mu=0\n",
    "    sigma= 1.1\n",
    "    x = np.linspace(-4, 4, 5000)\n",
    "    y = ss.norm.pdf(x, mu, sigma)\n",
    "    between = np.where(np.round(x) == -2)[0][313]\n",
    "    between1 = np.where(np.round(x) == 2)[0][313]\n",
    "    ax.plot(x,y)\n",
    "    ax.fill_between(x[between:between1], 0, y[between:between1])\n",
    "team(ax2)"
   ]
  },
  {
   "cell_type": "code",
   "execution_count": null,
   "metadata": {},
   "outputs": [],
   "source": []
  },
  {
   "cell_type": "code",
   "execution_count": 55,
   "metadata": {},
   "outputs": [],
   "source": [
    "    def compute(lower, middle, high):\n",
    "        between = []\n",
    "        color = []\n",
    "        mu = 0\n",
    "        sigma = 1.1\n",
    "        x = np.linspace(-4, 4, 5000)\n",
    "        y = ss.norm.pdf(x, mu, sigma)\n",
    "        between.append(np.where(np.round(x) == middle[0])[0][313])\n",
    "        between.append(np.where(np.round(x) == middle[1])[0][313])\n",
    "        color.append(np.where(np.round(x) == lower[0])[0][0])\n",
    "        color.append(np.where(np.round(x) == lower[1])[0][313])\n",
    "        color.append(np.where(np.round(x) == high[0])[0][313])\n",
    "        color.append(np.where(np.round(x) == high[1])[0][-1])\n",
    "        return x, y, between, color\n"
   ]
  },
  {
   "cell_type": "code",
   "execution_count": 56,
   "metadata": {},
   "outputs": [
    {
     "data": {
      "image/png": "[encoded data removed]",
      "text/plain": [
       "<Figure size 432x288 with 1 Axes>"
      ]
     },
     "metadata": {},
     "output_type": "display_data"
    }
   ],
   "source": [
    "fig1 = plt.figure()\n",
    "ax4 = fig1.add_subplot(2,1,1)\n",
    "\n",
    "def add_plots(ax, low, middle, high):\n",
    "    x, y ,color_in, color_out =compute(low, middle, high)\n",
    "    ax.fill_between(x[color_in[0]:color_in[1]], 0, y[color_in[0]:color_in[1]], facecolor = 'blue')\n",
    "    ax.fill_between(x[color_out[0]:color_out[1]], 0, y[color_out[0]:color_out[1]], facecolor ='green')\n",
    "    ax.fill_between(x[color_out[2]:color_out[3]], 0, y[color_out[2]:color_out[3]], facecolor ='green')\n",
    "    return ax.plot(x,y)"
   ]
  },
  {
   "cell_type": "code",
   "execution_count": 54,
   "metadata": {},
   "outputs": [
    {
     "data": {
      "text/plain": [
       "[<matplotlib.lines.Line2D at 0x7fecdca8d198>]"
      ]
     },
     "execution_count": 54,
     "metadata": {},
     "output_type": "execute_result"
    }
   ],
   "source": [
    "add_plots(ax4, [-3,-2], [-2,2], [2,3])"
   ]
  },
  {
   "cell_type": "code",
   "execution_count": 45,
   "metadata": {},
   "outputs": [
    {
     "data": {
      "text/plain": [
       "<matplotlib.axes._subplots.AxesSubplot at 0x7fecdcb9b978>"
      ]
     },
     "execution_count": 45,
     "metadata": {},
     "output_type": "execute_result"
    },
    {
     "data": {
      "image/png": "[encoded data removed]",
      "text/plain": [
       "<Figure size 432x288 with 2 Axes>"
      ]
     },
     "metadata": {},
     "output_type": "display_data"
    }
   ],
   "source": [
    "fig = plt.figure()\n",
    "ax1 = fig.add_subplot(2,1,1)\n",
    "ax2 = fig.add_subplot(2,1,2)\n",
    "\n",
    "def team(ax):\n",
    "    mu=0\n",
    "    sigma= 1.1\n",
    "    x = np.linspace(-4, 4, 5000)\n",
    "    y = ss.norm.pdf(x, mu, sigma)\n",
    "    between = np.where(np.round(x) == -2)[0][313]\n",
    "    between1 = np.where(np.round(x) == 2)[0][313]\n",
    "    ax.plot(x,y)\n",
    "    ax.fill_between(x[between:between1], 0, y[between:between1])\n",
    "    return ax\n",
    "team(ax2)"
   ]
  },
  {
   "cell_type": "code",
   "execution_count": null,
   "metadata": {},
   "outputs": [],
   "source": []
  },
  {
   "cell_type": "code",
   "execution_count": null,
   "metadata": {},
   "outputs": [],
   "source": []
  }
 ],
 "metadata": {
  "kernelspec": {
   "display_name": "Python 3",
   "language": "python",
   "name": "python3"
  },
  "language_info": {
   "codemirror_mode": {
    "name": "ipython",
    "version": 3
   },
   "file_extension": ".py",
   "mimetype": "text/x-python",
   "name": "python",
   "nbconvert_exporter": "python",
   "pygments_lexer": "ipython3",
   "version": "3.6.4"
  }
 },
 "nbformat": 4,
 "nbformat_minor": 2
}
