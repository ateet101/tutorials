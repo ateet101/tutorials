{
 "cells": [
  {
   "cell_type": "code",
   "execution_count": 11,
   "metadata": {
    "collapsed": false
   },
   "outputs": [
    {
     "data": {
      "text/plain": [
       "['1994,1,1,6,8096',\n",
       " '1994,1,2,7,7772',\n",
       " '1994,1,3,1,10142',\n",
       " '1994,1,4,2,11248',\n",
       " '1994,1,5,3,11053']"
      ]
     },
     "execution_count": 11,
     "metadata": {},
     "output_type": "execute_result"
    }
   ],
   "source": [
    "f = open(\"US_births_1994-2003_CDC_NCHS.csv\",'r')\n",
    "file = f.read()\n",
    "split1 = file.split('\\n')\n",
    "split1[:6]\n",
    "string_list = split1[1:len(split1)]\n",
    "string_list[:5]"
   ]
  },
  {
   "cell_type": "code",
   "execution_count": 65,
   "metadata": {
    "collapsed": false
   },
   "outputs": [
    {
     "data": {
      "text/plain": [
       "[[1994, 1, 1, 6, 8096],\n",
       " [1994, 1, 2, 7, 7772],\n",
       " [1994, 1, 3, 1, 10142],\n",
       " [1994, 1, 4, 2, 11248],\n",
       " [1994, 1, 5, 3, 11053],\n",
       " [1994, 1, 6, 4, 11406],\n",
       " [1994, 1, 7, 5, 11251],\n",
       " [1994, 1, 8, 6, 8653],\n",
       " [1994, 1, 9, 7, 7910],\n",
       " [1994, 1, 10, 1, 10498],\n",
       " [1994, 1, 11, 2, 11706],\n",
       " [1994, 1, 12, 3, 11567],\n",
       " [1994, 1, 13, 4, 11212],\n",
       " [1994, 1, 14, 5, 11570],\n",
       " [1994, 1, 15, 6, 8660],\n",
       " [1994, 1, 16, 7, 8123],\n",
       " [1994, 1, 17, 1, 10567],\n",
       " [1994, 1, 18, 2, 11541],\n",
       " [1994, 1, 19, 3, 11257],\n",
       " [1994, 1, 20, 4, 11682],\n",
       " [1994, 1, 21, 5, 11811],\n",
       " [1994, 1, 22, 6, 8833],\n",
       " [1994, 1, 23, 7, 8310],\n",
       " [1994, 1, 24, 1, 11125],\n",
       " [1994, 1, 25, 2, 11981],\n",
       " [1994, 1, 26, 3, 11514],\n",
       " [1994, 1, 27, 4, 11702],\n",
       " [1994, 1, 28, 5, 11666],\n",
       " [1994, 1, 29, 6, 8988],\n",
       " [1994, 1, 30, 7, 8096],\n",
       " [1994, 1, 31, 1, 10765],\n",
       " [1994, 2, 1, 2, 11755],\n",
       " [1994, 2, 2, 3, 11483],\n",
       " [1994, 2, 3, 4, 11523],\n",
       " [1994, 2, 4, 5, 11677],\n",
       " [1994, 2, 5, 6, 8991],\n",
       " [1994, 2, 6, 7, 8309],\n",
       " [1994, 2, 7, 1, 10984],\n",
       " [1994, 2, 8, 2, 12152],\n",
       " [1994, 2, 9, 3, 11515]]"
      ]
     },
     "execution_count": 65,
     "metadata": {},
     "output_type": "execute_result"
    }
   ],
   "source": [
    "def read_csv(filename):\n",
    "    string_data = open(filename).read()\n",
    "    string_list = string_data.split(\"\\n\")[1:]\n",
    "    final_list = []\n",
    "    \n",
    "    for row in string_list:\n",
    "        string_fields = row.split(\",\")\n",
    "        int_fields = []\n",
    "        for value in string_fields:\n",
    "            int_fields.append(int(value))\n",
    "        final_list.append(int_fields)\n",
    "    return final_list\n",
    "        \n",
    "cdc_list = read_csv(\"US_births_1994-2003_CDC_NCHS.csv\")\n",
    "\n",
    "cdc_list[:40]"
   ]
  },
  {
   "cell_type": "code",
   "execution_count": 10,
   "metadata": {
    "collapsed": false
   },
   "outputs": [
    {
     "data": {
      "text/plain": [
       "{1: 3232517,\n",
       " 2: 3018140,\n",
       " 3: 3322069,\n",
       " 4: 3185314,\n",
       " 5: 3350907,\n",
       " 6: 3296530,\n",
       " 7: 3498783,\n",
       " 8: 3525858,\n",
       " 9: 3439698,\n",
       " 10: 3378814,\n",
       " 11: 3171647,\n",
       " 12: 3301860}"
      ]
     },
     "execution_count": 10,
     "metadata": {},
     "output_type": "execute_result"
    }
   ],
   "source": [
    "def months_births(lists):\n",
    "    births_per_month = {}\n",
    "    for item in lists:\n",
    "        month = int(item[1])\n",
    "        birth = int(item[4])\n",
    "        if month in births_per_month:\n",
    "            births_per_month[month] = births_per_month[month] + birth\n",
    "        else:\n",
    "            births_per_month[month] = birth\n",
    "    return births_per_month\n",
    "\n",
    "cdc_month_births = months_births(cdc_list)\n",
    "cdc_month_births"
   ]
  },
  {
   "cell_type": "code",
   "execution_count": 13,
   "metadata": {
    "collapsed": false
   },
   "outputs": [
    {
     "data": {
      "text/plain": [
       "{1: 5789166,\n",
       " 2: 6446196,\n",
       " 3: 6322855,\n",
       " 4: 6288429,\n",
       " 5: 6233657,\n",
       " 6: 4562111,\n",
       " 7: 4079723}"
      ]
     },
     "execution_count": 13,
     "metadata": {},
     "output_type": "execute_result"
    }
   ],
   "source": [
    "def dow_births(lists):\n",
    "    births_per_month = {}\n",
    "    for item in lists:\n",
    "        week = int(item[3])\n",
    "        birth = int(item[4])\n",
    "        if week in births_per_month:\n",
    "            births_per_month[week] = births_per_month[week] + birth\n",
    "        else:\n",
    "            births_per_month[week] = birth\n",
    "    return births_per_month\n",
    "\n",
    "cdc_day_births = dow_births(cdc_list)\n",
    "cdc_day_births"
   ]
  },
  {
   "cell_type": "code",
   "execution_count": 32,
   "metadata": {
    "collapsed": false
   },
   "outputs": [
    {
     "data": {
      "text/plain": [
       "{1: 5789166,\n",
       " 2: 6446196,\n",
       " 3: 6322855,\n",
       " 4: 6288429,\n",
       " 5: 6233657,\n",
       " 6: 4562111,\n",
       " 7: 4079723}"
      ]
     },
     "execution_count": 32,
     "metadata": {},
     "output_type": "execute_result"
    }
   ],
   "source": [
    "def calc_counts(lists, index):\n",
    "    births_per_month = {}\n",
    "    for item in lists:\n",
    "        week = int(item[index])\n",
    "        birth = int(item[4])\n",
    "        if week in births_per_month:\n",
    "            births_per_month[week] = births_per_month[week] + birth\n",
    "        else:\n",
    "            births_per_month[week] = birth\n",
    "    return births_per_month\n",
    "\n",
    "cdc_year_births = calc_counts(cdc_list,0)\n",
    "cdc_month_births = calc_counts(cdc_list,1)\n",
    "cdc_dom_births = calc_counts(cdc_list,2)\n",
    "cdc_dow_births = calc_counts(cdc_list,3)\n",
    "cdc_dow_births"
   ]
  },
  {
   "cell_type": "code",
   "execution_count": 31,
   "metadata": {
    "collapsed": false
   },
   "outputs": [
    {
     "name": "stdout",
     "output_type": "stream",
     "text": [
      "6446196 4079723\n"
     ]
    }
   ],
   "source": [
    "def min_max(lists):\n",
    "    maximum = 0\n",
    "    minimum = lists[1]\n",
    "    for key,val in lists.items():\n",
    "        if val  < minimum:\n",
    "            minimum = val\n",
    "        elif val > maximum:\n",
    "            maximum = val\n",
    "    return maximum, minimum\n",
    "\n",
    "maximum, minimum = min_max(cdc_dow_births)\n",
    "print(maximum, minimum)\n"
   ]
  },
  {
   "cell_type": "code",
   "execution_count": 67,
   "metadata": {
    "collapsed": false
   },
   "outputs": [
    {
     "name": "stdout",
     "output_type": "stream",
     "text": [
      "[747, 8843, 8096]\n"
     ]
    },
    {
     "data": {
      "text/plain": [
       "747"
      ]
     },
     "execution_count": 67,
     "metadata": {},
     "output_type": "execute_result"
    }
   ],
   "source": [
    "def birth_difference(lists, start, end):\n",
    "    cdc_list = read_csv(lists)\n",
    "    maximum = 0\n",
    "    minimum = 0\n",
    "    for row in cdc_list:\n",
    "        #print(row[0]==start)\n",
    "        #print(row[2]==1)\n",
    "        #print([row[0]==start,row[2]==1,row[4]])\n",
    "        #print([row[0]==end,row[2]==1,row[4]])\n",
    "        year = row[0]\n",
    "        month = row[1]\n",
    "        date_of_month = row[2]\n",
    "        if (year == start[0]) & (month == start[1]) & (date_of_month == start[2]):\n",
    "            minimum = row[4]\n",
    "        if (year == end[0]) & (month == end[1]) & (date_of_month == end[2]):\n",
    "            maximum = row[4]\n",
    "    print([maximum-minimum,maximum, minimum])\n",
    "    return maximum - minimum\n",
    "\n",
    "diff = birth_difference(\"US_births_1994-2003_CDC_NCHS.csv\",[1994,1,1],[2000,1,1])\n",
    "diff"
   ]
  },
  {
   "cell_type": "code",
   "execution_count": null,
   "metadata": {
    "collapsed": true
   },
   "outputs": [],
   "source": []
  }
 ],
 "metadata": {
  "anaconda-cloud": {},
  "kernelspec": {
   "display_name": "Python 3",
   "language": "python",
   "name": "python3"
  },
  "language_info": {
   "codemirror_mode": {
    "name": "ipython",
    "version": 3
   },
   "file_extension": ".py",
   "mimetype": "text/x-python",
   "name": "python",
   "nbconvert_exporter": "python",
   "pygments_lexer": "ipython3",
   "version": "3.4.3"
  }
 },
 "nbformat": 4,
 "nbformat_minor": 1
}
