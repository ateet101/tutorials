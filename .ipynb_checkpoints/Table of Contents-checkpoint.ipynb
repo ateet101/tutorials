{
 "cells": [
  {
   "cell_type": "markdown",
   "metadata": {},
   "source": [
    "# INTRODUCTION TO PYTHON TUTORIALS"
   ]
  },
  {
   "cell_type": "markdown",
   "metadata": {},
   "source": [
    "Python is a great language for manipulation data and completing mathematical algorithms.  It has capabilities such as Calculus and Linear Algebra Computation, Data Analysis, and Data Modeling/Predicting. Python comes with a lot of built in libaries, but we will be using third party libaries that you can install to work with Python.\n",
    "\n",
    "Their are several Python editors and IDEs to download.  I like to use Sublime Text as my Python editor, but you can use anyone that I also recommend below:\n",
    "\n",
    "<ol>\n",
    "<li>Sublime Text</li>\n",
    "<li>PyCharm</li>\n",
    "<li>Spyder</li>\n",
    "</ol>\n",
    "\n",
    "## Libraries used for this Series\n",
    "\n",
    "<ol>\n",
    "<li>Pandas - Provides R like data structures and a high level API to work with data</li>\n",
    "<li>Numpy - Provides fast numerical computing such as arrays and linear algebra</li>\n",
    "<li>Scipy - For scientific computing such as drawing from distributions</li>\n",
    "<li>Sympy -Python library for symbolic computation. It provides computer algebra capabilities</li>\n",
    "<li>Matplotlib - For plotting in 2D or 3D</li>\n",
    "<li>Seaborn - To make your plots look better</li>\n",
    "<li>Scikit-Learn - For machine learning; great documentation and tutorials</li>\n",
    "<li>Statsmodels - For more traditional statistics</li>\n",
    "</ol>\n",
    "\n",
    "## Tutorials Overview\n",
    "This tutorial will start from the theorys and concepts of Calculus, Linear Algebra, and finally Data Analysis.  These tutorials will have many visual representations completed with the matplotlib libary to help understand the subject material\n",
    "\n",
    "## Table of Contents\n",
    "<ol>\n",
    "    <li>Python Basics for Plotting</li>\n",
    "    <li>Calculus</li>\n",
    "        <ol type=\"a\">\n",
    "            <li><a href = \"https://github.com/ateet101/tutorials/blob/master/Mathematics/Calculus%20-%20The%20Derivative.ipynb\">Theory of Derivatives</a></li>\n",
    "            <li>Theory of Integrals</li>\n",
    "        </ol>\n",
    "       <li>Linear Algebra</li>\n",
    "         <ol type=\"a\">\n",
    "            <li><a href = \"https://github.com/ateet101/tutorials/blob/master/Mathematics/Vectors%2C%20Vector%20Addition%20and%20Multiplication.ipynb\">Basics of Vectors</a></li>\n",
    "<li><a href = \"https://github.com/ateet101/tutorials/blob/master/Mathematics/Linear%20Combination%2C%20Span%2C%20and%20Basis.ipynb\">Linear combinations, span, and basis vectors</a></li>\n",
    "<li><a href = \"https://github.com/ateet101/tutorials/blob/master/Mathematics/Linear%20Transformations.ipynb\">Linear transformations and matrices</a></li>\n",
    "<li><a href = \"https://github.com/ateet101/tutorials/blob/master/Mathematics/Matrix%20Multiplication%20.ipynb\">Matrix multiplication</a></li>\n",
    "<li><a href = \"https://github.com/ateet101/tutorials/blob/master/Mathematics/Determinant.ipynb\">The Determinant</a></li>\n",
    "<li><a href = \"\">Inverse matrices, column space and null space</a></li>\n",
    "<li><a href = \"\">Dot Product and Cross Product</a></li>\n",
    "<li><a href = \"\">Change of Basis</a></li>\n",
    "<li><a href = \"\">EigenValue and EigenVectors</a></li>\n",
    "</ol>\n",
    "<li>Data Analysis</li>\n",
    "    <ol>\n",
    "        <li><a href = \"\">Inverse matrices, column space and null space</a></li>\n",
    "    </ol>\n",
    "    <li>Projects</li>\n",
    "    <ol>\n",
    "    <li><a href = \"\">Inverse matrices, column space and null space</a></li>\n",
    "    <li><a href = \"\">Inverse matrices, column space and null space</a></li>\n",
    "    </ol>\n",
    "</ol>"
   ]
  },
  {
   "cell_type": "markdown",
   "metadata": {
    "collapsed": true
   },
   "source": []
  }
 ],
 "metadata": {
  "kernelspec": {
   "display_name": "Python 3",
   "language": "python",
   "name": "python3"
  },
  "language_info": {
   "codemirror_mode": {
    "name": "ipython",
    "version": 3
   },
   "file_extension": ".py",
   "mimetype": "text/x-python",
   "name": "python",
   "nbconvert_exporter": "python",
   "pygments_lexer": "ipython3",
   "version": "3.6.4"
  }
 },
 "nbformat": 4,
 "nbformat_minor": 2
}
